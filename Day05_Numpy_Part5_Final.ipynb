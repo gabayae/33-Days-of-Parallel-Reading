{
  "nbformat": 4,
  "nbformat_minor": 0,
  "metadata": {
    "kernelspec": {
      "display_name": "Python 3",
      "language": "python",
      "name": "python3"
    },
    "language_info": {
      "codemirror_mode": {
        "name": "ipython",
        "version": 3
      },
      "file_extension": ".py",
      "mimetype": "text/x-python",
      "name": "python",
      "nbconvert_exporter": "python",
      "pygments_lexer": "ipython3",
      "version": "3.8.10"
    },
    "colab": {
      "name": "Day05-Numpy-Part5-Final.ipynb",
      "provenance": [],
      "include_colab_link": true
    }
  },
  "cells": [
    {
      "cell_type": "markdown",
      "metadata": {
        "id": "view-in-github",
        "colab_type": "text"
      },
      "source": [
        "<a href=\"https://colab.research.google.com/github/gabayae/33-Days-of-Parallel-Reading/blob/main/Day05_Numpy_Part5_Final.ipynb\" target=\"_parent\"><img src=\"https://colab.research.google.com/assets/colab-badge.svg\" alt=\"Open In Colab\"/></a>"
      ]
    },
    {
      "cell_type": "markdown",
      "metadata": {
        "id": "cUyJAOgCsaBa"
      },
      "source": [
        "#    <center> <b> <span style=\"color:orange;\" >  `33 Days of Parallel Reading` </span> </b></center>\n",
        "\n",
        "\n",
        "## <center> <b> <span style=\"color:orange;\"> An initiation to Machine Learning </span> </b></center>\n",
        "\n",
        "### <center> <b> <span style=\"color:blue;\"> A comprehensive guide to Numpy for Data manipulation </span> </b></center>\n",
        "\n",
        "\n",
        "\n",
        "\n",
        "#### Author: [Yaé Ulrich Gaba](https://github.com/gabayae)\n",
        "\n",
        "#### Link to the notebook on the repo: [A comprehensive guide to Numpy](https://github.com/gabayae/-66DaysOfData-KennethJee/edit/main/README.md)"
      ]
    },
    {
      "cell_type": "markdown",
      "metadata": {
        "id": "cG1lDeBDsaBg"
      },
      "source": [
        "## ToC \n",
        "\n",
        "- [NumPy](#NumPy)  \n",
        "  - [Overview](#Overview)  \n",
        "  - [Getting Started](#Getting-Started)\n",
        "    - [Load packages](#Load-packages)\n",
        "    - [Introduction to Numpy](Introduction-to-Numpy)\n",
        "  - [NumPy Arrays](#NumPy-Arrays) \n",
        "    - [NumPy Arrays from Python Lists](#NumPy-Arrays-from-Python-Lists)\n",
        "    - [NumPy Arrays using the function arange()](#NumPy-Arrays-using-the-function-arange())\n",
        "    - [NumPy Arrays using the function linspace()](#NumPy-Arrays-using-the-function-linspace())\n",
        "    - [NumPy Array Attributes](#NumPy-Array-Attributes)\n",
        "    - [Some Numpy Special Arrays](#Some-Numpy-Special-Arrays)\n",
        "    - [NumPy Arrays using the function empty()](#NumPy-Arrays-using-the-function-empty())\n",
        "  - [Operations on Arrays](#Operations-on-Arrays)\n",
        "    - [Array Concatenation and Splitting](#Array-Concatenation-and-Splitting)\n",
        "    - [Numpy Arrays Universal Functions](NumPy-Arrays-Universal-Functions)\n",
        "    - [Aggregation Functions](#Aggregation-Functions)\n",
        "    - [Broadcasting](#Broadcasting)\n",
        "    - [Boolean Masks](#Boolean-masks)\n",
        "  - [Additional Functionality](#Additional-Functionality)\n",
        "    - [Vectorization](#Vectorization)\n",
        "    - [Linear Algebra Using Numpy](#Linear-Algebra-Using-Numpy)\n",
        "    - [Loading and Saving Data in Binary Files](#Loading-and-Saving-Data-in-Binary-Files)\n",
        "  - [Going deeper](#Going-deeper)   "
      ]
    },
    {
      "cell_type": "markdown",
      "metadata": {
        "id": "AX346Ph7saBh"
      },
      "source": [
        "## Overview\n",
        "\n",
        "\n",
        "Data manipulation in Python is nearly synonymous with NumPy array manipulation: even newer tools like Pandas ([next lesson]()) are built around the NumPy array. This notebook will present several examples of using NumPy array manipulation to access data and subarrays, and to split, reshape, and join the arrays. Get to know them well!\n",
        "\n",
        "[NumPy](https://en.wikipedia.org/wiki/NumPy) (pronounced /ˈnʌmpaɪ/ (NUM-py) or sometimes /ˈnʌmpi/ (NUM-pee)) is a library for the Python programming language, adding support for large, multi-dimensional arrays and matrices, along with a large collection of high-level mathematical functions to operate on these arrays.\n",
        "\n",
        "[NumPy](https://en.wikipedia.org/wiki/NumPy) is a first-rate library for numerical programming\":\n",
        "\n",
        "- Widely used in academia, finance and industry.  \n",
        "- Mature, fast, stable and under continuous development.  \n",
        "\n",
        "[Here](https://numpy.org/) is the official **Numpy** webpage."
      ]
    },
    {
      "cell_type": "markdown",
      "metadata": {
        "id": "zZzeThN9saBi"
      },
      "source": [
        "## Getting Started\n",
        "\n",
        "### The NumPy Installation\n",
        "\n",
        "Generally, this module is present as a basic package in most Python distributions;\n",
        "however, if not, you can install it later.\n",
        "\n",
        " 1. On Linux (Ubuntu and Debian), use:\n",
        " \n",
        "                                  sudo apt-get install python-numpy\n",
        "\n",
        " 2. On Linux (Fedora)\n",
        "  \n",
        "                                  sudo yum install numpy scipy\n",
        "                                  \n",
        " 3. On Windows with Anaconda, use:\n",
        " \n",
        "                                  conda install numpy\n",
        "\n",
        "\n",
        "\n",
        "\n",
        "### Load packages\n",
        "\n",
        "In order to be able to use numpy we need to import the library using the special word `import`. Also, to avoid typing `numpy` every time we want to use one if its functions we can provide an alias using the special word `as`:"
      ]
    },
    {
      "cell_type": "code",
      "metadata": {
        "id": "uCGxFjAssaBk"
      },
      "source": [
        "import numpy as np"
      ],
      "execution_count": null,
      "outputs": []
    },
    {
      "cell_type": "markdown",
      "metadata": {
        "id": "PIz9rRRIsaBm"
      },
      "source": [
        "### Introduction to Numpy\n",
        "\n",
        "Now, we have access to all the functions available in `numpy` by typing `np.name_of_function`. For example, the equivalent of `1 + 1` in Python can be done in `numpy`:"
      ]
    },
    {
      "cell_type": "code",
      "metadata": {
        "id": "ETaZdC1ssaBm"
      },
      "source": [
        "np.add(1,1)"
      ],
      "execution_count": null,
      "outputs": []
    },
    {
      "cell_type": "markdown",
      "metadata": {
        "id": "C9RvDjvgsaBn"
      },
      "source": [
        "Although this might not at first seem very useful, even simple operations like this one can be much quicker in `numpy` than in standard Python when using lots of numbers (large arrays).\n",
        "\n",
        "To access the documentation explaining how a function is used, its input parameters and output format we can press `Shift+Tab` after the function name. Try this in the cell below"
      ]
    },
    {
      "cell_type": "code",
      "metadata": {
        "id": "J2R93YutsaBo"
      },
      "source": [
        "np.add"
      ],
      "execution_count": null,
      "outputs": []
    },
    {
      "cell_type": "markdown",
      "metadata": {
        "id": "OwxCmyXKsaBp"
      },
      "source": [
        "## NumPy Arrays\n",
        "\n",
        "The core concept in numpy is the `array` which is equivalent to lists of numbers but can be multidimensional. \n",
        "The essential problem that NumPy solves is fast array processing. The most important structure that NumPy defines is an array data type formally called a [numpy.ndarray](http://docs.scipy.org/doc/numpy/reference/arrays.ndarray.html). NumPy arrays power a large proportion of the scientific Python ecosystem. Let us list ways of creating Numpy arrays one by one, with Examples.\n",
        "\n",
        "\n"
      ]
    },
    {
      "cell_type": "markdown",
      "metadata": {
        "id": "iopyS1u8saBq"
      },
      "source": [
        "### NumPy Arrays from Python Lists"
      ]
    },
    {
      "cell_type": "code",
      "metadata": {
        "id": "s6gg-HgqsaBq"
      },
      "source": [
        "# making a python list li\n",
        "li = [8,5,6,9,4,2]\n",
        "\n",
        "\n",
        "# creating array out of it\n",
        "numpy_array_from_list = np.array(li)\n",
        "\n",
        "# printing the array\n",
        "print(numpy_array_from_list)\n"
      ],
      "execution_count": null,
      "outputs": []
    },
    {
      "cell_type": "code",
      "metadata": {
        "id": "lSZns4JbsaBr"
      },
      "source": [
        "# checking the type of numpy_array_from_list\n",
        "type(numpy_array_from_list)"
      ],
      "execution_count": null,
      "outputs": []
    },
    {
      "cell_type": "markdown",
      "metadata": {
        "id": "CIC0evmAsaBr"
      },
      "source": [
        "We can also pass a list manually without explicitly defining it."
      ]
    },
    {
      "cell_type": "code",
      "metadata": {
        "id": "frN9pqtWsaBr"
      },
      "source": [
        "numpy_array_from_list1 = np.array([5,7,4,1,5,6])\n",
        "print(numpy_array_from_list1)"
      ],
      "execution_count": null,
      "outputs": []
    },
    {
      "cell_type": "code",
      "metadata": {
        "id": "1-uUZLIdsaBr"
      },
      "source": [
        "type(numpy_array_from_list1)"
      ],
      "execution_count": null,
      "outputs": []
    },
    {
      "cell_type": "markdown",
      "metadata": {
        "id": "eh_U4ZPtsaBs"
      },
      "source": [
        "Other arguments which are optional can also be included while creating the Numpy arrays. One of the optional parameter, that you might find useful is:\n",
        "\n",
        "<b> <span style=\"color:brown;\" >  dtype </span> </b>: This argument specifies the data-type of the array being created. Since, unlike lists, all the elements in the Numpy array are of the same data-type. The datatypes ranging from float to complex, all are acceptable.\n",
        "\n",
        "Let us see with an example:"
      ]
    },
    {
      "cell_type": "code",
      "metadata": {
        "id": "1BAklGRnsaBt"
      },
      "source": [
        "numpy_array_float = np.array([1,8,5,59,8,98], dtype = 'float')\n",
        "print(numpy_array_float)\n",
        "\n",
        "\n",
        "print(\"======================================\")\n",
        "\n",
        "# let's try Numpy array with string as input\n",
        "str = ['the','air','after','summer','rain']\n",
        "numpy_array_str = np.array(str, dtype = 'str')\n",
        "print(numpy_array_str)\n",
        "\n",
        "\n",
        "# In a similar manner, other data-types can also be used to create a Numpy array."
      ],
      "execution_count": null,
      "outputs": []
    },
    {
      "cell_type": "markdown",
      "metadata": {
        "id": "nMCrppDFsaBu"
      },
      "source": [
        "A short documentation about the `np.array` function can be found by doing `np.array?`"
      ]
    },
    {
      "cell_type": "code",
      "metadata": {
        "id": "hntguipRsaBu"
      },
      "source": [
        "#np.array?  # Uncomment to run the cell."
      ],
      "execution_count": null,
      "outputs": []
    },
    {
      "cell_type": "markdown",
      "metadata": {
        "id": "-ZT-r4E4saBu"
      },
      "source": [
        "### NumPy Arrays using the function arange()\n",
        "\n",
        "The `arange()` function is one of the Numpy's most used method for creating an array within a specified range. The first argument takes the **starting point** of the array you want to create, second is the **stop point** and the third is the **step** (just like python list slicing function). The last argument is again *dtype*, which is optional: `arange(start, end, step, dtype)`"
      ]
    },
    {
      "cell_type": "code",
      "metadata": {
        "id": "KDHXOhsOsaBu"
      },
      "source": [
        "# creating an array starting from 0 ending with 10 \n",
        "# and increasing with a step of 2\n",
        "arange_array1 = np.arange(0,11,2)   # writing 11 instead of 10 since range is exclusive\n",
        "print(\"First array:\", arange_array1)\n",
        "print(\"======================================\")\n",
        "\n",
        "\n",
        "# array starting from 50 going till 120 with step of 4\n",
        "arange_array2 = np.arange(50,121,4)\n",
        "print(\"Second Array:\", arange_array2)\n",
        "print(\"======================================\")\n",
        "\n",
        "\n",
        "# starting from 0(by default), stopping at 14(don't forget 15 is exclusive), step=1(by default)\n",
        "arange_array3 = np.arange(15) \n",
        "print(\"Third Array:\", arange_array3)\n",
        "print(\"======================================\")\n",
        "\n",
        "\n",
        "# okay now lets print backward counting: 20 to 1\n",
        "arange_array4 = np.arange(20,0,-1)\n",
        "print(\"Reverse Array:\", arange_array4)\n"
      ],
      "execution_count": null,
      "outputs": []
    },
    {
      "cell_type": "markdown",
      "metadata": {
        "id": "rNpVKuxssaBv"
      },
      "source": [
        "### NumPy Arrays using the function linspace()\n",
        "\n",
        "Like the `arange()` function, the `linspace()` function can also be used to create Numpy array. In the `arange()` function, we had control over where to start the Numpy array from, where to stop and step points but with `linspace()` we can maintain a proper linear stepping or spacing between array elements value while generating the array. The `linspace()` function takes arguments: **start index**, **end index** and the **number of elements** to be outputted. These number of elements would be linearly spaced in the range mentioned: `linspace(start_index, end_index, num_of_elements)`. Now let's take a code example,\n"
      ]
    },
    {
      "cell_type": "code",
      "metadata": {
        "id": "k3algux1saBv"
      },
      "source": [
        "# printing arr consisting of 10 values in between \n",
        "# range 15, 75 spaced appropriately.\n",
        "arr = np.linspace(15, 75, 10)     \n",
        "print(\"First Array\\n\", arr)\n",
        "\n",
        "print(\"=========================================================\")\n",
        "\n",
        "# properly spaced array of 25 elements\n",
        "arr1 = np.linspace(50,100,25)   \n",
        "print(\"Second Array\\n\", arr1)"
      ],
      "execution_count": null,
      "outputs": []
    },
    {
      "cell_type": "markdown",
      "metadata": {
        "id": "IyWEkRptsaBw"
      },
      "source": [
        "### NumPy Array Attributes\n",
        "\n",
        "Before we continue in showing other ways of generating Numpy arrays, let's discuss some useful array attributes. We'll start by defining three random arrays, a one-dimensional, two-dimensional, and three-dimensional array. We'll use NumPy's random number generator, which we will seed with a set value in order to ensure that the same random arrays are generated each time this code is run:"
      ]
    },
    {
      "cell_type": "code",
      "metadata": {
        "id": "6_x4ZDiusaBw"
      },
      "source": [
        "np.random.seed(0)  # seed for reproducibility\n",
        "\n",
        "x1 = np.random.randint(10, size=6)  # One-dimensional array\n",
        "x2 = np.random.randint(10, size=(3, 4))  # Two-dimensional array\n",
        "x3 = np.random.randint(10, size=(3, 4, 5))  # Three-dimensional array"
      ],
      "execution_count": null,
      "outputs": []
    },
    {
      "cell_type": "markdown",
      "metadata": {
        "id": "DICjL5NQsaBx"
      },
      "source": [
        "Each array has attributes `ndim` (the number of dimensions), `shape` (the size of each dimension), and `size` (the total size of the array):"
      ]
    },
    {
      "cell_type": "code",
      "metadata": {
        "id": "48K3J4m8saBx"
      },
      "source": [
        "print(\"x3 ndim: \", x3.ndim)\n",
        "print(\"x3 shape:\", x3.shape)\n",
        "print(\"x3 size: \", x3.size)"
      ],
      "execution_count": null,
      "outputs": []
    },
    {
      "cell_type": "markdown",
      "metadata": {
        "id": "QxRLm7E0saBx"
      },
      "source": [
        "Another useful attribute is the `dtype`, the data type of the array (which we already discussed)."
      ]
    },
    {
      "cell_type": "code",
      "metadata": {
        "id": "ahXfEbeOsaBx"
      },
      "source": [
        "print(\"dtype:\", x3.dtype)"
      ],
      "execution_count": null,
      "outputs": []
    },
    {
      "cell_type": "markdown",
      "metadata": {
        "id": "ZxubFAOisaBy"
      },
      "source": [
        "Other attributes include ``itemsize``, which lists the size (in bytes) of each array element, and ``nbytes``, which lists the total size (in bytes) of the array:"
      ]
    },
    {
      "cell_type": "code",
      "metadata": {
        "id": "dWu67AbfsaBy"
      },
      "source": [
        "print(\"itemsize:\", x3.itemsize, \"bytes\")\n",
        "print(\"nbytes:\", x3.nbytes, \"bytes\")"
      ],
      "execution_count": null,
      "outputs": []
    },
    {
      "cell_type": "markdown",
      "metadata": {
        "id": "J-baOsC0saBz"
      },
      "source": [
        "In general, we expect that ``nbytes`` is equal to ``itemsize`` times ``size``."
      ]
    },
    {
      "cell_type": "markdown",
      "metadata": {
        "id": "-I-lr8bVsaBz"
      },
      "source": [
        "#### Array Indexing: Accessing Single Elements\n",
        "\n",
        "If you are familiar with Python's standard list indexing, indexing in NumPy will feel quite familiar.\n",
        "In a one-dimensional array, the $i^{th}$ value (counting from zero) can be accessed by specifying the desired index in square brackets, just as with Python lists:"
      ]
    },
    {
      "cell_type": "code",
      "metadata": {
        "id": "knn0r-V4saBz"
      },
      "source": [
        "x1"
      ],
      "execution_count": null,
      "outputs": []
    },
    {
      "cell_type": "code",
      "metadata": {
        "id": "rMYfRa8asaB0"
      },
      "source": [
        "print(x1[0])\n",
        "print(\"-----------\")\n",
        "\n",
        "\n",
        "print(x1[4])\n",
        "print(\"-----------\")\n",
        "\n",
        "    \n",
        "    \n",
        "\n",
        "print(x1[-1])\n",
        "print(\"-----------\")\n",
        "\n",
        "\n",
        "    \n",
        "    \n",
        "    \n",
        "print(x1[-2])\n",
        "print(\"-----------\")\n",
        "\n",
        "    "
      ],
      "execution_count": null,
      "outputs": []
    },
    {
      "cell_type": "markdown",
      "metadata": {
        "id": "_F4VBh5lsaB0"
      },
      "source": [
        "In a multi-dimensional array, items can be accessed using a comma-separated tuple of indices:"
      ]
    },
    {
      "cell_type": "code",
      "metadata": {
        "id": "BzPGYCBDsaB0"
      },
      "source": [
        "x2"
      ],
      "execution_count": null,
      "outputs": []
    },
    {
      "cell_type": "code",
      "metadata": {
        "id": "A5t43d4EsaB0"
      },
      "source": [
        "print(x2[0,0])\n",
        "print(\"-----------\")\n",
        "\n",
        "\n",
        "print(x2[2,0])\n",
        "print(\"-----------\")\n",
        "\n",
        "    \n",
        "    \n",
        "\n",
        "print(x2[2,-1])\n",
        "print(\"-----------\")\n",
        "\n",
        "\n",
        "    \n",
        "    \n",
        "    \n",
        "print(x2[-2])\n",
        "print(\"-----------\")"
      ],
      "execution_count": null,
      "outputs": []
    },
    {
      "cell_type": "markdown",
      "metadata": {
        "id": "X070LoLzsaB1"
      },
      "source": [
        "Values can also be modified using any of the above index notation:"
      ]
    },
    {
      "cell_type": "code",
      "metadata": {
        "id": "-0XSgsEXsaB1"
      },
      "source": [
        "x2[0, 0] = 12\n",
        "x2"
      ],
      "execution_count": null,
      "outputs": []
    },
    {
      "cell_type": "markdown",
      "metadata": {
        "id": "_av9C1X_saB1"
      },
      "source": [
        "Keep in mind that, unlike Python lists, NumPy arrays have a fixed type.\n",
        "This means, for example, that if you attempt to insert a floating-point value to an integer array, the value will be silently truncated. Don't be caught unaware by this behavior!"
      ]
    },
    {
      "cell_type": "code",
      "metadata": {
        "id": "uS2mlEfysaB2"
      },
      "source": [
        "x1[0] = 3.14159  # this will be truncated!\n",
        "x1"
      ],
      "execution_count": null,
      "outputs": []
    },
    {
      "cell_type": "markdown",
      "metadata": {
        "id": "VjZqyrGMsaB2"
      },
      "source": [
        "#### Array Slicing: Accessing Subarrays\n",
        "\n",
        "Just as we can use square brackets to access individual array elements, we can also use them to access subarrays with the *slice* notation, marked by the colon (``:``) character.\n",
        "The NumPy slicing syntax follows that of the standard Python list; to access a slice of an array ``x``, use this:\n",
        "``` python\n",
        "x[start:stop:step]\n",
        "```\n",
        "If any of these are unspecified, they default to the values ``start=0``, ``stop=``*``size of dimension``*, ``step=1``.\n",
        "We'll take a look at accessing sub-arrays in one dimension and in multiple dimensions."
      ]
    },
    {
      "cell_type": "markdown",
      "metadata": {
        "id": "UtKKBYQqsaB3"
      },
      "source": [
        "##### One-dimensional subarrays"
      ]
    },
    {
      "cell_type": "code",
      "metadata": {
        "id": "9SarVf2ksaB3"
      },
      "source": [
        "x = np.arange(10)\n",
        "x"
      ],
      "execution_count": null,
      "outputs": []
    },
    {
      "cell_type": "code",
      "metadata": {
        "id": "fYY5PDadsaB3"
      },
      "source": [
        "x[:5]  # first five elements"
      ],
      "execution_count": null,
      "outputs": []
    },
    {
      "cell_type": "code",
      "metadata": {
        "id": "c1g-60VgsaB3"
      },
      "source": [
        "x[5:]  # elements after index 5"
      ],
      "execution_count": null,
      "outputs": []
    },
    {
      "cell_type": "code",
      "metadata": {
        "id": "U7x3mDz_saB3"
      },
      "source": [
        "x[4:7]  # middle sub-array"
      ],
      "execution_count": null,
      "outputs": []
    },
    {
      "cell_type": "code",
      "metadata": {
        "id": "-ygznaOrsaB3"
      },
      "source": [
        "x[::2]  # every other element"
      ],
      "execution_count": null,
      "outputs": []
    },
    {
      "cell_type": "code",
      "metadata": {
        "id": "FtcQpiVbsaB5"
      },
      "source": [
        "x[1::2]  # every other element, starting at index 1"
      ],
      "execution_count": null,
      "outputs": []
    },
    {
      "cell_type": "markdown",
      "metadata": {
        "id": "sysNb2ntsaB5"
      },
      "source": [
        "A potentially confusing case is when the ``step`` value is negative.\n",
        "In this case, the defaults for ``start`` and ``stop`` are swapped.\n",
        "This becomes a convenient way to reverse an array:"
      ]
    },
    {
      "cell_type": "code",
      "metadata": {
        "id": "dmlviS30saB5"
      },
      "source": [
        "x[::-1]  # all elements, reversed"
      ],
      "execution_count": null,
      "outputs": []
    },
    {
      "cell_type": "code",
      "metadata": {
        "id": "WFJWE5ehsaB5"
      },
      "source": [
        "x[5::-2]  # reversed every other from index 5"
      ],
      "execution_count": null,
      "outputs": []
    },
    {
      "cell_type": "code",
      "metadata": {
        "id": "pxdC6vhXsaB6"
      },
      "source": [
        "##### Multi-dimensional subarrays\n",
        "\n",
        "Multi-dimensional slices work in the same way, with multiple slices separated by commas.\n",
        "For example:"
      ],
      "execution_count": null,
      "outputs": []
    },
    {
      "cell_type": "code",
      "metadata": {
        "id": "bPU9XHs_saB6"
      },
      "source": [
        "x2"
      ],
      "execution_count": null,
      "outputs": []
    },
    {
      "cell_type": "code",
      "metadata": {
        "id": "3ck-r4DEsaB6"
      },
      "source": [
        "x2[:2, :3]  # two rows, three columns"
      ],
      "execution_count": null,
      "outputs": []
    },
    {
      "cell_type": "code",
      "metadata": {
        "id": "41fLqZ-osaB6"
      },
      "source": [
        "x2[:3, ::2]  # all rows, every other column"
      ],
      "execution_count": null,
      "outputs": []
    },
    {
      "cell_type": "markdown",
      "metadata": {
        "id": "B2Kw9ptFsaB7"
      },
      "source": [
        "Finally, subarray dimensions can even be reversed together:"
      ]
    },
    {
      "cell_type": "code",
      "metadata": {
        "id": "Wlb6ykknsaB7"
      },
      "source": [
        "x2[::-1, ::-1]"
      ],
      "execution_count": null,
      "outputs": []
    },
    {
      "cell_type": "markdown",
      "metadata": {
        "id": "s0slDQkusaB7"
      },
      "source": [
        "#### Accessing array rows and columns\n",
        "\n",
        "One commonly needed routine is accessing of single rows or columns of an array.\n",
        "This can be done by combining indexing and slicing, using an empty slice marked by a single colon (``:``):"
      ]
    },
    {
      "cell_type": "code",
      "metadata": {
        "id": "1UJZ1BEpsaB7"
      },
      "source": [
        "print(x2[:, 0])  # first column of x2"
      ],
      "execution_count": null,
      "outputs": []
    },
    {
      "cell_type": "code",
      "metadata": {
        "id": "MHvs9UlosaB7"
      },
      "source": [
        "print(x2[0, :])  # first row of x2"
      ],
      "execution_count": null,
      "outputs": []
    },
    {
      "cell_type": "markdown",
      "metadata": {
        "id": "FkIvPYVhsaB8"
      },
      "source": [
        "In the case of row access, the empty slice can be omitted for a more compact syntax:"
      ]
    },
    {
      "cell_type": "code",
      "metadata": {
        "id": "_UkQ1pILsaB8"
      },
      "source": [
        "print(x2[0])  # equivalent to x2[0, :]"
      ],
      "execution_count": null,
      "outputs": []
    },
    {
      "cell_type": "markdown",
      "metadata": {
        "id": "SxQk2PU_saB8"
      },
      "source": [
        "#### Subarrays as no-copy views\n",
        "\n",
        "One important–and extremely useful–thing to know about array slices is that they return *views* rather than *copies* of the array data.\n",
        "This is one area in which NumPy array slicing differs from Python list slicing: in lists, slices will be copies.\n",
        "Consider our two-dimensional array from before:"
      ]
    },
    {
      "cell_type": "code",
      "metadata": {
        "id": "grkNcHPpsaB8"
      },
      "source": [
        "print(x2)"
      ],
      "execution_count": null,
      "outputs": []
    },
    {
      "cell_type": "markdown",
      "metadata": {
        "id": "1Zwnd4N8saB9"
      },
      "source": [
        "Let's extract a $2 \\times 2$ subarray from this:"
      ]
    },
    {
      "cell_type": "code",
      "metadata": {
        "id": "_p76NaRRsaB9"
      },
      "source": [
        "x2_sub = x2[:2, :2]\n",
        "print(x2_sub)"
      ],
      "execution_count": null,
      "outputs": []
    },
    {
      "cell_type": "markdown",
      "metadata": {
        "id": "cgS23HK5saB9"
      },
      "source": [
        "Now if we modify this subarray, we'll see that the original array is changed! Observe:"
      ]
    },
    {
      "cell_type": "code",
      "metadata": {
        "id": "1Y2onyA-saB9"
      },
      "source": [
        "x2_sub[0, 0] = 99\n",
        "print(x2_sub)"
      ],
      "execution_count": null,
      "outputs": []
    },
    {
      "cell_type": "code",
      "metadata": {
        "id": "Hsu05ppfsaB-"
      },
      "source": [
        "print(x2)"
      ],
      "execution_count": null,
      "outputs": []
    },
    {
      "cell_type": "markdown",
      "metadata": {
        "id": "ednl-LDSsaB-"
      },
      "source": [
        "This default behavior is actually quite useful: it means that when we work with large datasets, we can access and process pieces of these datasets without the need to copy the underlying data buffer."
      ]
    },
    {
      "cell_type": "markdown",
      "metadata": {
        "id": "Fa4OU_KfsaB-"
      },
      "source": [
        "#### Creating copies of arrays\n",
        "\n",
        "Despite the nice features of array views, it is sometimes useful to instead explicitly copy the data within an array or a subarray. This can be most easily done with the ``copy()`` method:"
      ]
    },
    {
      "cell_type": "code",
      "metadata": {
        "id": "mlmKusVwsaB-"
      },
      "source": [
        "x2_sub_copy = x2[:2, :2].copy()\n",
        "print(x2_sub_copy)"
      ],
      "execution_count": null,
      "outputs": []
    },
    {
      "cell_type": "markdown",
      "metadata": {
        "id": "n5lQMrh_saB-"
      },
      "source": [
        "If we now modify this subarray, the original array is not touched:"
      ]
    },
    {
      "cell_type": "code",
      "metadata": {
        "id": "epSRiOGksaB_"
      },
      "source": [
        "x2_sub_copy[0, 0] = 42\n",
        "print(x2_sub_copy)"
      ],
      "execution_count": null,
      "outputs": []
    },
    {
      "cell_type": "code",
      "metadata": {
        "id": "fDCWGxqRsaB_"
      },
      "source": [
        "print(x2)"
      ],
      "execution_count": null,
      "outputs": []
    },
    {
      "cell_type": "markdown",
      "metadata": {
        "id": "vFRaRo9osaB_"
      },
      "source": [
        "#### Reshaping of Arrays\n",
        "\n",
        "Another useful type of operation is reshaping of arrays.\n",
        "The most flexible way of doing this is with the ``reshape`` method.\n",
        "For example, if you want to put the numbers 1 through 9 in a $3 \\times 3$ grid, you can do the following:"
      ]
    },
    {
      "cell_type": "code",
      "metadata": {
        "id": "iXgk3vyRsaB_"
      },
      "source": [
        "grid = np.arange(1, 10).reshape((3, 3))\n",
        "print(grid)"
      ],
      "execution_count": null,
      "outputs": []
    },
    {
      "cell_type": "markdown",
      "metadata": {
        "id": "Xr6W3URUsaCA"
      },
      "source": [
        "Note that for this to work, the size of the initial array must match the size of the reshaped array. \n",
        "Where possible, the ``reshape`` method will use a no-copy view of the initial array, but with non-contiguous memory buffers this is not always the case.\n",
        "\n",
        "Another common reshaping pattern is the conversion of a one-dimensional array into a two-dimensional row or column matrix.\n",
        "This can be done with the ``reshape`` method, or more easily done by making use of the ``newaxis`` keyword within a slice operation:"
      ]
    },
    {
      "cell_type": "code",
      "metadata": {
        "id": "9cvngwMBsaCA"
      },
      "source": [
        "x = np.array([1, 2, 3])\n",
        "\n",
        "# row vector via reshape\n",
        "x.reshape((1, 3))"
      ],
      "execution_count": null,
      "outputs": []
    },
    {
      "cell_type": "code",
      "metadata": {
        "id": "F7CCQbBVsaCA"
      },
      "source": [
        "# row vector via newaxis\n",
        "x[np.newaxis, :]"
      ],
      "execution_count": null,
      "outputs": []
    },
    {
      "cell_type": "code",
      "metadata": {
        "id": "1X7hDnkasaCA"
      },
      "source": [
        "# column vector via reshape\n",
        "x.reshape((3, 1))"
      ],
      "execution_count": null,
      "outputs": []
    },
    {
      "cell_type": "code",
      "metadata": {
        "id": "A6RUbh8ssaCB"
      },
      "source": [
        "# column vector via newaxis\n",
        "x[:, np.newaxis]"
      ],
      "execution_count": null,
      "outputs": []
    },
    {
      "cell_type": "markdown",
      "metadata": {
        "id": "cu_P3scdsaCB"
      },
      "source": [
        "### Some Numpy Special Arrays"
      ]
    },
    {
      "cell_type": "markdown",
      "metadata": {
        "id": "FQNPHwugsaCC"
      },
      "source": [
        "#### Numpy Zeros: numpy.zeros()\n",
        "\n",
        "Numpy zeros function returns a numpy array of only zeros with specified shape and data type.\n",
        "Syntax\n",
        "\n",
        "                                zeros(shape, dtype=float, order='C')\n",
        "                         \n",
        "   1. shape – This is the shape of the required array, input has to be an int or a tuple of int.\n",
        "   2. dtype (optional) – This is the required data type of the array, by default it is float.\n",
        "   3. order (optional) – This specifies how the array will be stored in the memory. It can be either ‘C’ for row-major or ‘F’ for column-major. By default, it is ‘C’.\n",
        "                      "
      ]
    },
    {
      "cell_type": "code",
      "metadata": {
        "id": "ilFeTyrwsaCC"
      },
      "source": [
        "\n",
        "# Notice that we did not specify the data type, so by default, it assumed float.\n",
        "# 1-D Array\n",
        "np_1d_zero_array = np.zeros(4)\n",
        "\n",
        "print('Output- ')\n",
        "print(np_1d_zero_array)\n",
        "print('Shape- ', np_1d_zero_array.shape)\n",
        "print('Data type -', np_1d_zero_array.dtype)\n",
        "\n",
        "\n",
        "\n",
        "print(\"======================================================\")\n",
        "\n",
        "\n",
        "# 2-D Array\n",
        "np_2d_zero_array = np.zeros((4,2))\n",
        "\n",
        "print('Output- ')\n",
        "print(np_2d_zero_array)\n",
        "print('Shape- ', np_2d_zero_array.shape)\n",
        "print('Data type -', np_2d_zero_array.dtype)\n",
        "\n",
        "\n",
        "print(\"======================================================\")\n",
        "\n",
        "\n",
        "\n",
        "# 3-D Array\n",
        "np_3d_zero_array = np.zeros((4,2,3), int)\n",
        "\n",
        "print('Output- ')\n",
        "print(np_3d_zero_array)\n",
        "print('Shape- ', np_3d_zero_array.shape)\n",
        "print('Data type -', np_3d_zero_array.dtype)"
      ],
      "execution_count": null,
      "outputs": []
    },
    {
      "cell_type": "markdown",
      "metadata": {
        "id": "33KBJyo6saCC"
      },
      "source": [
        "#### Numpy Ones: numpy.ones()\n",
        "\n",
        "This is very similar to Numpy Zero. Here Numpy zeros function returns a numpy array of only ones with specified shape and data type.\n",
        "\n",
        "Syntax\n",
        "\n",
        "                              ones(shape, dtype=float, order=’C’)"
      ]
    },
    {
      "cell_type": "code",
      "metadata": {
        "id": "FlIALrwjsaCC"
      },
      "source": [
        "# 1-D Array\n",
        "np_1d_ones_array = np.ones(4,int)\n",
        "\n",
        "print('Output- ')\n",
        "print(np_1d_ones_array)\n",
        "print('Shape- ', np_1d_ones_array.shape)\n",
        "print('Data type -', np_1d_ones_array.dtype)\n",
        "\n",
        "\n",
        "print(\"======================================================\")\n",
        "\n",
        "\n",
        "# 2-D Array\n",
        "np_2d_ones_array = np.ones((4,2))\n",
        "\n",
        "print('Output- ')\n",
        "print(np_2d_ones_array)\n",
        "print('Shape- ', np_2d_ones_array.shape)\n",
        "print('Data type -', np_2d_ones_array.dtype)\n",
        "\n",
        "\n",
        "\n",
        "\n",
        "# 3-D Array\n",
        "np_3d_ones_array = np.ones((4,2,3))\n",
        "\n",
        "print('Output- ')\n",
        "print(np_3d_ones_array)\n",
        "print('Shape- ', np_3d_ones_array.shape)\n",
        "print('Data type -', np_3d_ones_array.dtype)"
      ],
      "execution_count": null,
      "outputs": []
    },
    {
      "cell_type": "markdown",
      "metadata": {
        "id": "jtkV1YELsaCC"
      },
      "source": [
        "#### Numpy Eye: numpy.eye()\n",
        "\n",
        "Numpy eye function helps to create a 2-D array where the diagonal has all ones and zeros elsewhere.\n",
        "Syntax\n",
        "\n",
        "                            eye(N, M=None, k=0, dtype='float', order='C')\n",
        "                            \n",
        "   1. N – It is the number of rows in the array. It has to be int.\n",
        "   2. M (optional) – It is the number of columns in the array. If not specified then it will default to N.\n",
        "   3. K (optional) – It denotes the position of diagonal ones. By default is zero i.e. in middle. A positive value denotes upper diagonal and negative value lower diagonal.\n",
        "   4. dtype (optional) – This is the required data type of the array, by default it is float.\n",
        "   5. order (optional) – This specifies how the array will be stored in the memory. It can be either ‘C’ for row-major or ‘F’ for column-major. By default, it is ‘C’.                       "
      ]
    },
    {
      "cell_type": "code",
      "metadata": {
        "id": "MGhUWxNvsaCD"
      },
      "source": [
        "np_identity_matrix_oder_4 = np.eye(4)\n",
        "\n",
        "print('Output- ')\n",
        "print(np_identity_matrix_oder_4)\n",
        "print('Shape- ', np_identity_matrix_oder_4.shape)\n",
        "print('Data type -', np_identity_matrix_oder_4.dtype)"
      ],
      "execution_count": null,
      "outputs": []
    },
    {
      "cell_type": "markdown",
      "metadata": {
        "id": "rFp7j26ksaCE"
      },
      "source": [
        "##### Miscellaneous Examples of Numpy Eye"
      ]
    },
    {
      "cell_type": "code",
      "metadata": {
        "id": "xBci0JUxsaCE"
      },
      "source": [
        "\n",
        "np.eye(4, 5)"
      ],
      "execution_count": null,
      "outputs": []
    },
    {
      "cell_type": "code",
      "metadata": {
        "id": "O9pcHAGJsaCE"
      },
      "source": [
        "np.eye(4, 5, k = 2)"
      ],
      "execution_count": null,
      "outputs": []
    },
    {
      "cell_type": "markdown",
      "metadata": {
        "id": "_Fzp7ksisaCF"
      },
      "source": [
        "### NumPy Arrays using the function empty()\n",
        "\n",
        "The `empty()` function is used to create arrays when we don't really have any values to create an array. What it does is, it takes the shape of the array as desired and the array is then filled with random values. The trick here is that without even using the random module we are able to build an array full of random values: `empty(shape, dtype)`"
      ]
    },
    {
      "cell_type": "code",
      "metadata": {
        "id": "kh--To3usaCF"
      },
      "source": [
        "# arr of shape (5,2) with datatype=float filled with random values\n",
        "empty_arr = np.empty((5,2), dtype=float) \n",
        "print(\"Array with Float values\\n\", empty_arr)\n",
        "print(\"======================================\")\n",
        "\n",
        "\n",
        "\n",
        "# observe what happens when executed\n",
        "empty_arr1 = np.empty((4,4), dtype=int) \n",
        "print(\"Second Array \\n\", empty_arr1)"
      ],
      "execution_count": null,
      "outputs": []
    },
    {
      "cell_type": "markdown",
      "metadata": {
        "id": "3BHW4LpesaCG"
      },
      "source": [
        "## Operations on Arrays\n",
        "\n",
        "### Array Concatenation and Splitting\n",
        "\n",
        "All of the preceding routines worked on single arrays. It's also possible to combine multiple arrays into one, and to conversely split a single array into multiple arrays. We'll take a look at those operations here.\n",
        "\n",
        "#### Concatenation of arrays\n",
        "\n",
        "Concatenation, or joining of two arrays in NumPy, is primarily accomplished using the routines ``np.concatenate``, ``np.vstack``, and ``np.hstack``.\n",
        "``np.concatenate`` takes a tuple or list of arrays as its first argument, as we can see here:"
      ]
    },
    {
      "cell_type": "code",
      "metadata": {
        "id": "ZNmRe_wMsaCH"
      },
      "source": [
        "x = np.array([1, 2, 3])\n",
        "y = np.array([3, 2, 1])\n",
        "print(np.concatenate([x, y]))\n",
        "\n",
        "print(\"========================================\")\n",
        "\n",
        "# You can also concatenate more than two arrays at once:\n",
        "z = [99, 99, 99]\n",
        "print(np.concatenate([x, y, z]))\n",
        "print(\"========================================\")\n",
        "\n",
        "\n",
        "\n",
        "#It can also be used for two-dimensional arrays:\n",
        "grid = np.array([[1, 2, 3],[4, 5, 6]])\n",
        "\n",
        "# concatenate along the first axis\n",
        "print(np.concatenate([grid, grid]))\n",
        "print(\"========================================\")\n",
        "\n",
        "\n",
        "# concatenate along the second axis (zero-indexed)\n",
        "print(np.concatenate([grid, grid], axis=1))"
      ],
      "execution_count": null,
      "outputs": []
    },
    {
      "cell_type": "markdown",
      "metadata": {
        "id": "4GqB5rAfsaCH"
      },
      "source": [
        "For working with arrays of mixed dimensions, it can be clearer to use the ``np.vstack`` (vertical stack) and ``np.hstack`` (horizontal stack) functions:"
      ]
    },
    {
      "cell_type": "code",
      "metadata": {
        "id": "aJyF0LGRsaCI"
      },
      "source": [
        "x = np.array([1, 2, 3])\n",
        "grid = np.array([[9, 8, 7],\n",
        "                 [6, 5, 4]])\n",
        "\n",
        "# vertically stack the arrays\n",
        "np.vstack([x, grid])"
      ],
      "execution_count": null,
      "outputs": []
    },
    {
      "cell_type": "code",
      "metadata": {
        "id": "eOvTLQdYsaCJ"
      },
      "source": [
        "# horizontally stack the arrays\n",
        "y = np.array([[99],\n",
        "              [99]])\n",
        "np.hstack([grid, y])"
      ],
      "execution_count": null,
      "outputs": []
    },
    {
      "cell_type": "markdown",
      "metadata": {
        "id": "SV9a97kTsaCJ"
      },
      "source": [
        "#### Splitting of arrays\n",
        "\n",
        "The opposite of concatenation is splitting, which is implemented by the functions ``np.split``, ``np.hsplit``, and ``np.vsplit``.  For each of these, we can pass a list of indices giving the split points:"
      ]
    },
    {
      "cell_type": "code",
      "metadata": {
        "id": "1X8IXTpasaCJ"
      },
      "source": [
        "x = [1, 2, 3, 99, 99, 3, 2, 1]\n",
        "x1, x2, x3 = np.split(x, [3, 5])\n",
        "print(x1, x2, x3)"
      ],
      "execution_count": null,
      "outputs": []
    },
    {
      "cell_type": "markdown",
      "metadata": {
        "id": "8Kuj25DUsaCJ"
      },
      "source": [
        "Notice that *N* split-points, leads to *N + 1* subarrays.\n",
        "The related functions ``np.hsplit`` and ``np.vsplit`` are similar:"
      ]
    },
    {
      "cell_type": "code",
      "metadata": {
        "id": "e2lNIBWFsaCJ"
      },
      "source": [
        "grid = np.arange(16).reshape((4, 4))\n",
        "grid"
      ],
      "execution_count": null,
      "outputs": []
    },
    {
      "cell_type": "code",
      "metadata": {
        "id": "qwLDq-9UsaCK"
      },
      "source": [
        "upper, lower = np.vsplit(grid, [2])\n",
        "print(upper)\n",
        "print(lower)"
      ],
      "execution_count": null,
      "outputs": []
    },
    {
      "cell_type": "code",
      "metadata": {
        "id": "0UkPYtyPsaCK"
      },
      "source": [
        "left, right = np.hsplit(grid, [2])\n",
        "print(left)\n",
        "print(right)"
      ],
      "execution_count": null,
      "outputs": []
    },
    {
      "cell_type": "markdown",
      "metadata": {
        "id": "MzvvOFVAsaCK"
      },
      "source": [
        "Similarly, ``np.dsplit`` will split arrays along the third axis."
      ]
    },
    {
      "cell_type": "markdown",
      "metadata": {
        "id": "XaqBXPOQsaCK"
      },
      "source": [
        "### Numpy Arrays Universal Functions \n",
        "\n",
        "Computation on NumPy arrays can be very fast, or it can be very slow.\n",
        "The key to making it fast is to use *vectorized* operations, generally implemented through NumPy's *universal functions* (ufuncs).\n",
        "This section motivates the need for NumPy's ufuncs, which can be used to make repeated calculations on array elements much more efficient.\n",
        "It then introduces many of the most common and useful arithmetic ufuncs available in the NumPy package.\n",
        "\n",
        "#### Array arithmetic\n",
        "\n",
        "NumPy's ufuncs feel very natural to use because they make use of Python's native arithmetic operators.\n",
        "The standard addition, subtraction, multiplication, and division can all be used:"
      ]
    },
    {
      "cell_type": "code",
      "metadata": {
        "id": "jRixuDAKsaCL"
      },
      "source": [
        "x = np.arange(4)\n",
        "print(\"x     =\", x)\n",
        "print(\"x + 5 =\", x + 5)\n",
        "print(\"x - 5 =\", x - 5)\n",
        "print(\"x * 2 =\", x * 2)\n",
        "print(\"x / 2 =\", x / 2)\n",
        "print(\"x // 2 =\", x // 2)  # floor division"
      ],
      "execution_count": null,
      "outputs": []
    },
    {
      "cell_type": "code",
      "metadata": {
        "id": "VggTnX3bsaCL"
      },
      "source": [
        "# There is also a unary ufunc for negation, \n",
        "# and a ``**`` operator for exponentiation, \n",
        "# and a ``%`` operator for modulus\n",
        "\n",
        "print(\"-x     = \", -x)\n",
        "print(\"x ** 2 = \", x ** 2)\n",
        "print(\"x % 2  = \", x % 2)"
      ],
      "execution_count": null,
      "outputs": []
    },
    {
      "cell_type": "code",
      "metadata": {
        "id": "soL_4GLusaCL"
      },
      "source": [
        "# In addition, these can be strung together however you wish,\n",
        "# and the standard order of operations is respected:\n",
        "\n",
        "-(0.5*x + 1) ** 2"
      ],
      "execution_count": null,
      "outputs": []
    },
    {
      "cell_type": "code",
      "metadata": {
        "id": "Asxqmw3nsaCL"
      },
      "source": [
        "#Each of these arithmetic operations are simply convenient wrappers around specific functions built into NumPy; \n",
        "# for example, the ``+`` operator is a wrapper for the ``add`` function\n",
        "np.add(x, 2)"
      ],
      "execution_count": null,
      "outputs": []
    },
    {
      "cell_type": "markdown",
      "metadata": {
        "id": "1xxQ0KeGsaCL"
      },
      "source": [
        "The following table lists the arithmetic operators implemented in NumPy:\n",
        "\n",
        "| Operator\t    | Equivalent ufunc    | Description                           |\n",
        "|---------------|---------------------|---------------------------------------|\n",
        "|``+``          |``np.add``           |Addition (e.g., ``1 + 1 = 2``)         |\n",
        "|``-``          |``np.subtract``      |Subtraction (e.g., ``3 - 2 = 1``)      |\n",
        "|``-``          |``np.negative``      |Unary negation (e.g., ``-2``)          |\n",
        "|``*``          |``np.multiply``      |Multiplication (e.g., ``2 * 3 = 6``)   |\n",
        "|``/``          |``np.divide``        |Division (e.g., ``3 / 2 = 1.5``)       |\n",
        "|``//``         |``np.floor_divide``  |Floor division (e.g., ``3 // 2 = 1``)  |\n",
        "|``**``         |``np.power``         |Exponentiation (e.g., ``2 ** 3 = 8``)  |\n",
        "|``%``          |``np.mod``           |Modulus/remainder (e.g., ``9 % 4 = 1``)|\n",
        "\n",
        "Additionally there are Boolean/bitwise operators; we will explore these in [Comparisons, Masks, and Boolean Logic]()."
      ]
    },
    {
      "cell_type": "markdown",
      "metadata": {
        "id": "tyIi0tbisaCL"
      },
      "source": [
        "#### Absolute value\n",
        "\n",
        "Just as NumPy understands Python's built-in arithmetic operators, it also understands Python's built-in absolute value function:"
      ]
    },
    {
      "cell_type": "code",
      "metadata": {
        "id": "bT1apg7DsaCL"
      },
      "source": [
        "x = np.array([-2, -1, 0, 1, 2])\n",
        "abs(x)"
      ],
      "execution_count": null,
      "outputs": []
    },
    {
      "cell_type": "code",
      "metadata": {
        "id": "TRn9yiLesaCM"
      },
      "source": [
        "# The corresponding NumPy ufunc is ``np.absolute``, which is also available under the alias ``np.abs``:"
      ],
      "execution_count": null,
      "outputs": []
    },
    {
      "cell_type": "code",
      "metadata": {
        "id": "hTs3GcA_saCM"
      },
      "source": [
        "print(np.absolute(x))\n",
        "\n",
        "print(\"===============================\")\n",
        "\n",
        "\n",
        "print(np.absolute(x))"
      ],
      "execution_count": null,
      "outputs": []
    },
    {
      "cell_type": "code",
      "metadata": {
        "id": "JMmiY_hIsaCM"
      },
      "source": [
        "# This ufunc can also handle complex data, in which the absolute value returns the magnitude:\n",
        "x = np.array([3 - 4j, 4 - 3j, 2 + 0j, 0 + 1j])\n",
        "np.abs(x)"
      ],
      "execution_count": null,
      "outputs": []
    },
    {
      "cell_type": "markdown",
      "metadata": {
        "id": "Px3ngYNjsaCM"
      },
      "source": [
        "#### Trigonometric functions\n",
        "\n",
        "NumPy provides a large number of useful ufuncs, and some of the most useful for the data scientist are the trigonometric functions.\n",
        "We'll start by defining an array of angles:"
      ]
    },
    {
      "cell_type": "code",
      "metadata": {
        "id": "0A_4YYb_saCO"
      },
      "source": [
        "theta = np.linspace(0, np.pi, 3)\n",
        "print(\"theta      = \", theta)\n",
        "print(\"sin(theta) = \", np.sin(theta))\n",
        "print(\"cos(theta) = \", np.cos(theta))\n",
        "print(\"tan(theta) = \", np.tan(theta))"
      ],
      "execution_count": null,
      "outputs": []
    },
    {
      "cell_type": "code",
      "metadata": {
        "id": "Fwwsv5MfsaCO"
      },
      "source": [
        "# The values are computed to within machine precision, which is why values \n",
        "# that should be zero do not always hit exactly zero. \n",
        "#Inverse trigonometric functions are also available:\n",
        "x = [-1, 0, 1]\n",
        "print(\"x         = \", x)\n",
        "print(\"arcsin(x) = \", np.arcsin(x))\n",
        "print(\"arccos(x) = \", np.arccos(x))\n",
        "print(\"arctan(x) = \", np.arctan(x))"
      ],
      "execution_count": null,
      "outputs": []
    },
    {
      "cell_type": "markdown",
      "metadata": {
        "id": "n7FKd09bsaCO"
      },
      "source": [
        "#### Exponents and logarithms\n",
        "\n",
        "Another common type of operation available in a NumPy ufunc are the exponentials:"
      ]
    },
    {
      "cell_type": "code",
      "metadata": {
        "id": "v3gwILJjsaCP"
      },
      "source": [
        "x = [1, 2, 3]\n",
        "print(\"x     =\", x)\n",
        "print(\"e^x   =\", np.exp(x))\n",
        "print(\"2^x   =\", np.exp2(x))\n",
        "print(\"3^x   =\", np.power(3, x))"
      ],
      "execution_count": null,
      "outputs": []
    },
    {
      "cell_type": "markdown",
      "metadata": {
        "id": "FHki0g_4saCP"
      },
      "source": [
        "The inverse of the exponentials, the logarithms, are also available.\n",
        "The basic ``np.log`` gives the natural logarithm; if you prefer to compute the base-2 logarithm or the base-10 logarithm, these are available as well:"
      ]
    },
    {
      "cell_type": "code",
      "metadata": {
        "id": "K-aGcemvsaCP"
      },
      "source": [
        "x = [1, 2, 4, 10]\n",
        "print(\"x        =\", x)\n",
        "print(\"ln(x)    =\", np.log(x))\n",
        "print(\"log2(x)  =\", np.log2(x))\n",
        "print(\"log10(x) =\", np.log10(x))"
      ],
      "execution_count": null,
      "outputs": []
    },
    {
      "cell_type": "markdown",
      "metadata": {
        "id": "lO6pTxLAsaCP"
      },
      "source": [
        "#### Ufuncs: Learning More\n",
        "\n",
        "More information on universal functions (including the full list of available functions) can be found on the [NumPy](http://www.numpy.org) and [SciPy](http://www.scipy.org) documentation websites.\n",
        "\n",
        "Recall that you can also access information directly from within IPython by importing the packages and using IPython's tab-completion and help (``?``) functionality"
      ]
    },
    {
      "cell_type": "markdown",
      "metadata": {
        "id": "RDQNsbdEsaCQ"
      },
      "source": [
        "### Aggregation Functions\n",
        "\n",
        "Often when faced with a large amount of data, a first step is to compute summary statistics for the data in question.\n",
        "Perhaps the most common summary statistics are the mean and standard deviation, which allow you to summarize the \"typical\" values in a dataset, but other aggregates are useful as well (the sum, product, median, minimum and maximum, quantiles, etc.).\n",
        "\n",
        "NumPy has fast built-in aggregation functions for working on arrays; we'll discuss and demonstrate some of them here."
      ]
    },
    {
      "cell_type": "markdown",
      "metadata": {
        "id": "TX6I_96nsaCQ"
      },
      "source": [
        "#### Summing the Values in an Array\n",
        "\n",
        "As a quick example, consider computing the sum of all values in an array.\n",
        "Python itself can do this using the built-in ``sum`` function:"
      ]
    },
    {
      "cell_type": "code",
      "metadata": {
        "id": "0X4Ydeq1saCQ",
        "outputId": "70f29449-0aeb-4c45-8de0-dfb057d75a40"
      },
      "source": [
        "L = np.random.random(100)\n",
        "sum(L)"
      ],
      "execution_count": null,
      "outputs": [
        {
          "data": {
            "text/plain": [
              "50.176289586629856"
            ]
          },
          "execution_count": 15,
          "metadata": {},
          "output_type": "execute_result"
        }
      ]
    },
    {
      "cell_type": "code",
      "metadata": {
        "id": "bMuzhQ2UsaCS",
        "outputId": "4d9d7f61-736b-45cf-e133-d8268f2542c9"
      },
      "source": [
        "# The syntax is quite similar to that of NumPy's ``sum`` function, \n",
        "# and the result is the same in the simplest case:\n",
        "np.sum(L)"
      ],
      "execution_count": null,
      "outputs": [
        {
          "data": {
            "text/plain": [
              "50.17628958662988"
            ]
          },
          "execution_count": 18,
          "metadata": {},
          "output_type": "execute_result"
        }
      ]
    },
    {
      "cell_type": "markdown",
      "metadata": {
        "id": "GCNsRZR3saCT"
      },
      "source": [
        "However, because it executes the operation in compiled code, NumPy's version of the operation is computed much more quickly:"
      ]
    },
    {
      "cell_type": "code",
      "metadata": {
        "id": "knuwpMGPsaCT",
        "outputId": "4aa16d7e-3f66-4e18-b210-6fbabab54a57"
      },
      "source": [
        "big_array = np.random.rand(1000000)\n",
        "%timeit sum(big_array)\n",
        "%timeit np.sum(big_array)"
      ],
      "execution_count": null,
      "outputs": [
        {
          "name": "stdout",
          "output_type": "stream",
          "text": [
            "10 loops, best of 5: 73.8 ms per loop\n",
            "1000 loops, best of 5: 468 µs per loop\n"
          ]
        }
      ]
    },
    {
      "cell_type": "markdown",
      "metadata": {
        "id": "FBwOwTaqsaCT"
      },
      "source": [
        "One has to be careful, though: the ``sum`` function and the ``np.sum`` function are not identical, and this can  sometimes lead to confusion!\n",
        "In particular, we point out that their optional arguments have different meanings. Moreover ``np.sum`` is aware of multiple array dimensions."
      ]
    },
    {
      "cell_type": "code",
      "metadata": {
        "collapsed": true,
        "id": "Y_h6RB_gsaCU",
        "outputId": "f25955f2-f113-4620-a79d-bf03a51dcb6f"
      },
      "source": [
        "help(sum(big_array))"
      ],
      "execution_count": null,
      "outputs": [
        {
          "name": "stdout",
          "output_type": "stream",
          "text": [
            "Help on float64 object:\n",
            "\n",
            "class float64(floating, builtins.float)\n",
            " |  float64(x=0, /)\n",
            " |  \n",
            " |  Double-precision floating-point number type, compatible with Python `float`\n",
            " |  and C ``double``.\n",
            " |  \n",
            " |  :Character code: ``'d'``\n",
            " |  :Canonical name: `numpy.double`\n",
            " |  :Alias: `numpy.float_`\n",
            " |  :Alias on this platform (Linux x86_64): `numpy.float64`: 64-bit precision floating-point number type: sign bit, 11 bits exponent, 52 bits mantissa.\n",
            " |  \n",
            " |  Method resolution order:\n",
            " |      float64\n",
            " |      floating\n",
            " |      inexact\n",
            " |      number\n",
            " |      generic\n",
            " |      builtins.float\n",
            " |      builtins.object\n",
            " |  \n",
            " |  Methods defined here:\n",
            " |  \n",
            " |  __abs__(self, /)\n",
            " |      abs(self)\n",
            " |  \n",
            " |  __add__(self, value, /)\n",
            " |      Return self+value.\n",
            " |  \n",
            " |  __bool__(self, /)\n",
            " |      self != 0\n",
            " |  \n",
            " |  __divmod__(self, value, /)\n",
            " |      Return divmod(self, value).\n",
            " |  \n",
            " |  __eq__(self, value, /)\n",
            " |      Return self==value.\n",
            " |  \n",
            " |  __float__(self, /)\n",
            " |      float(self)\n",
            " |  \n",
            " |  __floordiv__(self, value, /)\n",
            " |      Return self//value.\n",
            " |  \n",
            " |  __ge__(self, value, /)\n",
            " |      Return self>=value.\n",
            " |  \n",
            " |  __gt__(self, value, /)\n",
            " |      Return self>value.\n",
            " |  \n",
            " |  __hash__(self, /)\n",
            " |      Return hash(self).\n",
            " |  \n",
            " |  __int__(self, /)\n",
            " |      int(self)\n",
            " |  \n",
            " |  __le__(self, value, /)\n",
            " |      Return self<=value.\n",
            " |  \n",
            " |  __lt__(self, value, /)\n",
            " |      Return self<value.\n",
            " |  \n",
            " |  __mod__(self, value, /)\n",
            " |      Return self%value.\n",
            " |  \n",
            " |  __mul__(self, value, /)\n",
            " |      Return self*value.\n",
            " |  \n",
            " |  __ne__(self, value, /)\n",
            " |      Return self!=value.\n",
            " |  \n",
            " |  __neg__(self, /)\n",
            " |      -self\n",
            " |  \n",
            " |  __pos__(self, /)\n",
            " |      +self\n",
            " |  \n",
            " |  __pow__(self, value, mod=None, /)\n",
            " |      Return pow(self, value, mod).\n",
            " |  \n",
            " |  __radd__(self, value, /)\n",
            " |      Return value+self.\n",
            " |  \n",
            " |  __rdivmod__(self, value, /)\n",
            " |      Return divmod(value, self).\n",
            " |  \n",
            " |  __repr__(self, /)\n",
            " |      Return repr(self).\n",
            " |  \n",
            " |  __rfloordiv__(self, value, /)\n",
            " |      Return value//self.\n",
            " |  \n",
            " |  __rmod__(self, value, /)\n",
            " |      Return value%self.\n",
            " |  \n",
            " |  __rmul__(self, value, /)\n",
            " |      Return value*self.\n",
            " |  \n",
            " |  __rpow__(self, value, mod=None, /)\n",
            " |      Return pow(value, self, mod).\n",
            " |  \n",
            " |  __rsub__(self, value, /)\n",
            " |      Return value-self.\n",
            " |  \n",
            " |  __rtruediv__(self, value, /)\n",
            " |      Return value/self.\n",
            " |  \n",
            " |  __str__(self, /)\n",
            " |      Return str(self).\n",
            " |  \n",
            " |  __sub__(self, value, /)\n",
            " |      Return self-value.\n",
            " |  \n",
            " |  __truediv__(self, value, /)\n",
            " |      Return self/value.\n",
            " |  \n",
            " |  as_integer_ratio(...)\n",
            " |      double.as_integer_ratio() -> (int, int)\n",
            " |      \n",
            " |      Return a pair of integers, whose ratio is exactly equal to the original\n",
            " |      floating point number, and with a positive denominator.\n",
            " |      Raise `OverflowError` on infinities and a `ValueError` on NaNs.\n",
            " |      \n",
            " |      >>> np.double(10.0).as_integer_ratio()\n",
            " |      (10, 1)\n",
            " |      >>> np.double(0.0).as_integer_ratio()\n",
            " |      (0, 1)\n",
            " |      >>> np.double(-.25).as_integer_ratio()\n",
            " |      (-1, 4)\n",
            " |  \n",
            " |  ----------------------------------------------------------------------\n",
            " |  Static methods defined here:\n",
            " |  \n",
            " |  __new__(*args, **kwargs) from builtins.type\n",
            " |      Create and return a new object.  See help(type) for accurate signature.\n",
            " |  \n",
            " |  ----------------------------------------------------------------------\n",
            " |  Methods inherited from floating:\n",
            " |  \n",
            " |  __round__(...)\n",
            " |  \n",
            " |  ----------------------------------------------------------------------\n",
            " |  Methods inherited from generic:\n",
            " |  \n",
            " |  __and__(self, value, /)\n",
            " |      Return self&value.\n",
            " |  \n",
            " |  __array__(...)\n",
            " |      sc.__array__(dtype) return 0-dim array from scalar with specified dtype\n",
            " |  \n",
            " |  __array_wrap__(...)\n",
            " |      sc.__array_wrap__(obj) return scalar from array\n",
            " |  \n",
            " |  __copy__(...)\n",
            " |  \n",
            " |  __deepcopy__(...)\n",
            " |  \n",
            " |  __format__(...)\n",
            " |      NumPy array scalar formatter\n",
            " |  \n",
            " |  __getitem__(self, key, /)\n",
            " |      Return self[key].\n",
            " |  \n",
            " |  __invert__(self, /)\n",
            " |      ~self\n",
            " |  \n",
            " |  __lshift__(self, value, /)\n",
            " |      Return self<<value.\n",
            " |  \n",
            " |  __or__(self, value, /)\n",
            " |      Return self|value.\n",
            " |  \n",
            " |  __rand__(self, value, /)\n",
            " |      Return value&self.\n",
            " |  \n",
            " |  __reduce__(...)\n",
            " |      Helper for pickle.\n",
            " |  \n",
            " |  __rlshift__(self, value, /)\n",
            " |      Return value<<self.\n",
            " |  \n",
            " |  __ror__(self, value, /)\n",
            " |      Return value|self.\n",
            " |  \n",
            " |  __rrshift__(self, value, /)\n",
            " |      Return value>>self.\n",
            " |  \n",
            " |  __rshift__(self, value, /)\n",
            " |      Return self>>value.\n",
            " |  \n",
            " |  __rxor__(self, value, /)\n",
            " |      Return value^self.\n",
            " |  \n",
            " |  __setstate__(...)\n",
            " |  \n",
            " |  __sizeof__(...)\n",
            " |      Size of object in memory, in bytes.\n",
            " |  \n",
            " |  __xor__(self, value, /)\n",
            " |      Return self^value.\n",
            " |  \n",
            " |  all(...)\n",
            " |      Scalar method identical to the corresponding array attribute.\n",
            " |      \n",
            " |      Please see `ndarray.all`.\n",
            " |  \n",
            " |  any(...)\n",
            " |      Scalar method identical to the corresponding array attribute.\n",
            " |      \n",
            " |      Please see `ndarray.any`.\n",
            " |  \n",
            " |  argmax(...)\n",
            " |      Scalar method identical to the corresponding array attribute.\n",
            " |      \n",
            " |      Please see `ndarray.argmax`.\n",
            " |  \n",
            " |  argmin(...)\n",
            " |      Scalar method identical to the corresponding array attribute.\n",
            " |      \n",
            " |      Please see `ndarray.argmin`.\n",
            " |  \n",
            " |  argsort(...)\n",
            " |      Scalar method identical to the corresponding array attribute.\n",
            " |      \n",
            " |      Please see `ndarray.argsort`.\n",
            " |  \n",
            " |  astype(...)\n",
            " |      Scalar method identical to the corresponding array attribute.\n",
            " |      \n",
            " |      Please see `ndarray.astype`.\n",
            " |  \n",
            " |  byteswap(...)\n",
            " |      Scalar method identical to the corresponding array attribute.\n",
            " |      \n",
            " |      Please see `ndarray.byteswap`.\n",
            " |  \n",
            " |  choose(...)\n",
            " |      Scalar method identical to the corresponding array attribute.\n",
            " |      \n",
            " |      Please see `ndarray.choose`.\n",
            " |  \n",
            " |  clip(...)\n",
            " |      Scalar method identical to the corresponding array attribute.\n",
            " |      \n",
            " |      Please see `ndarray.clip`.\n",
            " |  \n",
            " |  compress(...)\n",
            " |      Scalar method identical to the corresponding array attribute.\n",
            " |      \n",
            " |      Please see `ndarray.compress`.\n",
            " |  \n",
            " |  conj(...)\n",
            " |  \n",
            " |  conjugate(...)\n",
            " |      Scalar method identical to the corresponding array attribute.\n",
            " |      \n",
            " |      Please see `ndarray.conjugate`.\n",
            " |  \n",
            " |  copy(...)\n",
            " |      Scalar method identical to the corresponding array attribute.\n",
            " |      \n",
            " |      Please see `ndarray.copy`.\n",
            " |  \n",
            " |  cumprod(...)\n",
            " |      Scalar method identical to the corresponding array attribute.\n",
            " |      \n",
            " |      Please see `ndarray.cumprod`.\n",
            " |  \n",
            " |  cumsum(...)\n",
            " |      Scalar method identical to the corresponding array attribute.\n",
            " |      \n",
            " |      Please see `ndarray.cumsum`.\n",
            " |  \n",
            " |  diagonal(...)\n",
            " |      Scalar method identical to the corresponding array attribute.\n",
            " |      \n",
            " |      Please see `ndarray.diagonal`.\n",
            " |  \n",
            " |  dump(...)\n",
            " |      Scalar method identical to the corresponding array attribute.\n",
            " |      \n",
            " |      Please see `ndarray.dump`.\n",
            " |  \n",
            " |  dumps(...)\n",
            " |      Scalar method identical to the corresponding array attribute.\n",
            " |      \n",
            " |      Please see `ndarray.dumps`.\n",
            " |  \n",
            " |  fill(...)\n",
            " |      Scalar method identical to the corresponding array attribute.\n",
            " |      \n",
            " |      Please see `ndarray.fill`.\n",
            " |  \n",
            " |  flatten(...)\n",
            " |      Scalar method identical to the corresponding array attribute.\n",
            " |      \n",
            " |      Please see `ndarray.flatten`.\n",
            " |  \n",
            " |  getfield(...)\n",
            " |      Scalar method identical to the corresponding array attribute.\n",
            " |      \n",
            " |      Please see `ndarray.getfield`.\n",
            " |  \n",
            " |  item(...)\n",
            " |      Scalar method identical to the corresponding array attribute.\n",
            " |      \n",
            " |      Please see `ndarray.item`.\n",
            " |  \n",
            " |  itemset(...)\n",
            " |      Scalar method identical to the corresponding array attribute.\n",
            " |      \n",
            " |      Please see `ndarray.itemset`.\n",
            " |  \n",
            " |  max(...)\n",
            " |      Scalar method identical to the corresponding array attribute.\n",
            " |      \n",
            " |      Please see `ndarray.max`.\n",
            " |  \n",
            " |  mean(...)\n",
            " |      Scalar method identical to the corresponding array attribute.\n",
            " |      \n",
            " |      Please see `ndarray.mean`.\n",
            " |  \n",
            " |  min(...)\n",
            " |      Scalar method identical to the corresponding array attribute.\n",
            " |      \n",
            " |      Please see `ndarray.min`.\n",
            " |  \n",
            " |  newbyteorder(...)\n",
            " |      newbyteorder(new_order='S', /)\n",
            " |      \n",
            " |      Return a new `dtype` with a different byte order.\n",
            " |      \n",
            " |      Changes are also made in all fields and sub-arrays of the data type.\n",
            " |      \n",
            " |      The `new_order` code can be any from the following:\n",
            " |      \n",
            " |      * 'S' - swap dtype from current to opposite endian\n",
            " |      * {'<', 'little'} - little endian\n",
            " |      * {'>', 'big'} - big endian\n",
            " |      * '=' - native order\n",
            " |      * {'|', 'I'} - ignore (no change to byte order)\n",
            " |      \n",
            " |      Parameters\n",
            " |      ----------\n",
            " |      new_order : str, optional\n",
            " |          Byte order to force; a value from the byte order specifications\n",
            " |          above.  The default value ('S') results in swapping the current\n",
            " |          byte order.\n",
            " |      \n",
            " |      \n",
            " |      Returns\n",
            " |      -------\n",
            " |      new_dtype : dtype\n",
            " |          New `dtype` object with the given change to the byte order.\n",
            " |  \n",
            " |  nonzero(...)\n",
            " |      Scalar method identical to the corresponding array attribute.\n",
            " |      \n",
            " |      Please see `ndarray.nonzero`.\n",
            " |  \n",
            " |  prod(...)\n",
            " |      Scalar method identical to the corresponding array attribute.\n",
            " |      \n",
            " |      Please see `ndarray.prod`.\n",
            " |  \n",
            " |  ptp(...)\n",
            " |      Scalar method identical to the corresponding array attribute.\n",
            " |      \n",
            " |      Please see `ndarray.ptp`.\n",
            " |  \n",
            " |  put(...)\n",
            " |      Scalar method identical to the corresponding array attribute.\n",
            " |      \n",
            " |      Please see `ndarray.put`.\n",
            " |  \n",
            " |  ravel(...)\n",
            " |      Scalar method identical to the corresponding array attribute.\n",
            " |      \n",
            " |      Please see `ndarray.ravel`.\n",
            " |  \n",
            " |  repeat(...)\n",
            " |      Scalar method identical to the corresponding array attribute.\n",
            " |      \n",
            " |      Please see `ndarray.repeat`.\n",
            " |  \n",
            " |  reshape(...)\n",
            " |      Scalar method identical to the corresponding array attribute.\n",
            " |      \n",
            " |      Please see `ndarray.reshape`.\n",
            " |  \n",
            " |  resize(...)\n",
            " |      Scalar method identical to the corresponding array attribute.\n",
            " |      \n",
            " |      Please see `ndarray.resize`.\n",
            " |  \n",
            " |  round(...)\n",
            " |      Scalar method identical to the corresponding array attribute.\n",
            " |      \n",
            " |      Please see `ndarray.round`.\n",
            " |  \n",
            " |  searchsorted(...)\n",
            " |      Scalar method identical to the corresponding array attribute.\n",
            " |      \n",
            " |      Please see `ndarray.searchsorted`.\n",
            " |  \n",
            " |  setfield(...)\n",
            " |      Scalar method identical to the corresponding array attribute.\n",
            " |      \n",
            " |      Please see `ndarray.setfield`.\n",
            " |  \n",
            " |  setflags(...)\n",
            " |      Scalar method identical to the corresponding array attribute.\n",
            " |      \n",
            " |      Please see `ndarray.setflags`.\n",
            " |  \n",
            " |  sort(...)\n",
            " |      Scalar method identical to the corresponding array attribute.\n",
            " |      \n",
            " |      Please see `ndarray.sort`.\n",
            " |  \n",
            " |  squeeze(...)\n",
            " |      Scalar method identical to the corresponding array attribute.\n",
            " |      \n",
            " |      Please see `ndarray.squeeze`.\n",
            " |  \n",
            " |  std(...)\n",
            " |      Scalar method identical to the corresponding array attribute.\n",
            " |      \n",
            " |      Please see `ndarray.std`.\n",
            " |  \n",
            " |  sum(...)\n",
            " |      Scalar method identical to the corresponding array attribute.\n",
            " |      \n",
            " |      Please see `ndarray.sum`.\n",
            " |  \n",
            " |  swapaxes(...)\n",
            " |      Scalar method identical to the corresponding array attribute.\n",
            " |      \n",
            " |      Please see `ndarray.swapaxes`.\n",
            " |  \n",
            " |  take(...)\n",
            " |      Scalar method identical to the corresponding array attribute.\n",
            " |      \n",
            " |      Please see `ndarray.take`.\n",
            " |  \n",
            " |  tobytes(...)\n",
            " |  \n",
            " |  tofile(...)\n",
            " |      Scalar method identical to the corresponding array attribute.\n",
            " |      \n",
            " |      Please see `ndarray.tofile`.\n",
            " |  \n",
            " |  tolist(...)\n",
            " |      Scalar method identical to the corresponding array attribute.\n",
            " |      \n",
            " |      Please see `ndarray.tolist`.\n",
            " |  \n",
            " |  tostring(...)\n",
            " |      Scalar method identical to the corresponding array attribute.\n",
            " |      \n",
            " |      Please see `ndarray.tostring`.\n",
            " |  \n",
            " |  trace(...)\n",
            " |      Scalar method identical to the corresponding array attribute.\n",
            " |      \n",
            " |      Please see `ndarray.trace`.\n",
            " |  \n",
            " |  transpose(...)\n",
            " |      Scalar method identical to the corresponding array attribute.\n",
            " |      \n",
            " |      Please see `ndarray.transpose`.\n",
            " |  \n",
            " |  var(...)\n",
            " |      Scalar method identical to the corresponding array attribute.\n",
            " |      \n",
            " |      Please see `ndarray.var`.\n",
            " |  \n",
            " |  view(...)\n",
            " |      Scalar method identical to the corresponding array attribute.\n",
            " |      \n",
            " |      Please see `ndarray.view`.\n",
            " |  \n",
            " |  ----------------------------------------------------------------------\n",
            " |  Data descriptors inherited from generic:\n",
            " |  \n",
            " |  T\n",
            " |      Scalar attribute identical to the corresponding array attribute.\n",
            " |      \n",
            " |      Please see `ndarray.T`.\n",
            " |  \n",
            " |  __array_interface__\n",
            " |      Array protocol: Python side\n",
            " |  \n",
            " |  __array_priority__\n",
            " |      Array priority.\n",
            " |  \n",
            " |  __array_struct__\n",
            " |      Array protocol: struct\n",
            " |  \n",
            " |  base\n",
            " |      Scalar attribute identical to the corresponding array attribute.\n",
            " |      \n",
            " |      Please see `ndarray.base`.\n",
            " |  \n",
            " |  data\n",
            " |      Pointer to start of data.\n",
            " |  \n",
            " |  dtype\n",
            " |      Get array data-descriptor.\n",
            " |  \n",
            " |  flags\n",
            " |      The integer value of flags.\n",
            " |  \n",
            " |  flat\n",
            " |      A 1-D view of the scalar.\n",
            " |  \n",
            " |  imag\n",
            " |      The imaginary part of the scalar.\n",
            " |  \n",
            " |  itemsize\n",
            " |      The length of one element in bytes.\n",
            " |  \n",
            " |  nbytes\n",
            " |      The length of the scalar in bytes.\n",
            " |  \n",
            " |  ndim\n",
            " |      The number of array dimensions.\n",
            " |  \n",
            " |  real\n",
            " |      The real part of the scalar.\n",
            " |  \n",
            " |  shape\n",
            " |      Tuple of array dimensions.\n",
            " |  \n",
            " |  size\n",
            " |      The number of elements in the gentype.\n",
            " |  \n",
            " |  strides\n",
            " |      Tuple of bytes steps in each dimension.\n",
            " |  \n",
            " |  ----------------------------------------------------------------------\n",
            " |  Methods inherited from builtins.float:\n",
            " |  \n",
            " |  __getattribute__(self, name, /)\n",
            " |      Return getattr(self, name).\n",
            " |  \n",
            " |  __getnewargs__(self, /)\n",
            " |  \n",
            " |  __trunc__(self, /)\n",
            " |      Return the Integral closest to x between 0 and x.\n",
            " |  \n",
            " |  hex(self, /)\n",
            " |      Return a hexadecimal representation of a floating-point number.\n",
            " |      \n",
            " |      >>> (-0.1).hex()\n",
            " |      '-0x1.999999999999ap-4'\n",
            " |      >>> 3.14159.hex()\n",
            " |      '0x1.921f9f01b866ep+1'\n",
            " |  \n",
            " |  is_integer(self, /)\n",
            " |      Return True if the float is an integer.\n",
            " |  \n",
            " |  ----------------------------------------------------------------------\n",
            " |  Class methods inherited from builtins.float:\n",
            " |  \n",
            " |  __getformat__(typestr, /) from builtins.type\n",
            " |      You probably don't want to use this function.\n",
            " |      \n",
            " |        typestr\n",
            " |          Must be 'double' or 'float'.\n",
            " |      \n",
            " |      It exists mainly to be used in Python's test suite.\n",
            " |      \n",
            " |      This function returns whichever of 'unknown', 'IEEE, big-endian' or 'IEEE,\n",
            " |      little-endian' best describes the format of floating point numbers used by the\n",
            " |      C type named by typestr.\n",
            " |  \n",
            " |  __set_format__(typestr, fmt, /) from builtins.type\n",
            " |      You probably don't want to use this function.\n",
            " |      \n",
            " |        typestr\n",
            " |          Must be 'double' or 'float'.\n",
            " |        fmt\n",
            " |          Must be one of 'unknown', 'IEEE, big-endian' or 'IEEE, little-endian',\n",
            " |          and in addition can only be one of the latter two if it appears to\n",
            " |          match the underlying C reality.\n",
            " |      \n",
            " |      It exists mainly to be used in Python's test suite.\n",
            " |      \n",
            " |      Override the automatic determination of C-level floating point type.\n",
            " |      This affects how floats are converted to and from binary strings.\n",
            " |  \n",
            " |  fromhex(string, /) from builtins.type\n",
            " |      Create a floating-point number from a hexadecimal string.\n",
            " |      \n",
            " |      >>> float.fromhex('0x1.ffffp10')\n",
            " |      2047.984375\n",
            " |      >>> float.fromhex('-0x1p-1074')\n",
            " |      -5e-324\n",
            "\n"
          ]
        }
      ]
    },
    {
      "cell_type": "code",
      "metadata": {
        "collapsed": true,
        "id": "52vZr1UnsaCU",
        "outputId": "def3a185-803c-4690-ec07-a7d69bfbd373"
      },
      "source": [
        "help(np.sum(big_array))"
      ],
      "execution_count": null,
      "outputs": [
        {
          "name": "stdout",
          "output_type": "stream",
          "text": [
            "Help on float64 object:\n",
            "\n",
            "class float64(floating, builtins.float)\n",
            " |  float64(x=0, /)\n",
            " |  \n",
            " |  Double-precision floating-point number type, compatible with Python `float`\n",
            " |  and C ``double``.\n",
            " |  \n",
            " |  :Character code: ``'d'``\n",
            " |  :Canonical name: `numpy.double`\n",
            " |  :Alias: `numpy.float_`\n",
            " |  :Alias on this platform (Linux x86_64): `numpy.float64`: 64-bit precision floating-point number type: sign bit, 11 bits exponent, 52 bits mantissa.\n",
            " |  \n",
            " |  Method resolution order:\n",
            " |      float64\n",
            " |      floating\n",
            " |      inexact\n",
            " |      number\n",
            " |      generic\n",
            " |      builtins.float\n",
            " |      builtins.object\n",
            " |  \n",
            " |  Methods defined here:\n",
            " |  \n",
            " |  __abs__(self, /)\n",
            " |      abs(self)\n",
            " |  \n",
            " |  __add__(self, value, /)\n",
            " |      Return self+value.\n",
            " |  \n",
            " |  __bool__(self, /)\n",
            " |      self != 0\n",
            " |  \n",
            " |  __divmod__(self, value, /)\n",
            " |      Return divmod(self, value).\n",
            " |  \n",
            " |  __eq__(self, value, /)\n",
            " |      Return self==value.\n",
            " |  \n",
            " |  __float__(self, /)\n",
            " |      float(self)\n",
            " |  \n",
            " |  __floordiv__(self, value, /)\n",
            " |      Return self//value.\n",
            " |  \n",
            " |  __ge__(self, value, /)\n",
            " |      Return self>=value.\n",
            " |  \n",
            " |  __gt__(self, value, /)\n",
            " |      Return self>value.\n",
            " |  \n",
            " |  __hash__(self, /)\n",
            " |      Return hash(self).\n",
            " |  \n",
            " |  __int__(self, /)\n",
            " |      int(self)\n",
            " |  \n",
            " |  __le__(self, value, /)\n",
            " |      Return self<=value.\n",
            " |  \n",
            " |  __lt__(self, value, /)\n",
            " |      Return self<value.\n",
            " |  \n",
            " |  __mod__(self, value, /)\n",
            " |      Return self%value.\n",
            " |  \n",
            " |  __mul__(self, value, /)\n",
            " |      Return self*value.\n",
            " |  \n",
            " |  __ne__(self, value, /)\n",
            " |      Return self!=value.\n",
            " |  \n",
            " |  __neg__(self, /)\n",
            " |      -self\n",
            " |  \n",
            " |  __pos__(self, /)\n",
            " |      +self\n",
            " |  \n",
            " |  __pow__(self, value, mod=None, /)\n",
            " |      Return pow(self, value, mod).\n",
            " |  \n",
            " |  __radd__(self, value, /)\n",
            " |      Return value+self.\n",
            " |  \n",
            " |  __rdivmod__(self, value, /)\n",
            " |      Return divmod(value, self).\n",
            " |  \n",
            " |  __repr__(self, /)\n",
            " |      Return repr(self).\n",
            " |  \n",
            " |  __rfloordiv__(self, value, /)\n",
            " |      Return value//self.\n",
            " |  \n",
            " |  __rmod__(self, value, /)\n",
            " |      Return value%self.\n",
            " |  \n",
            " |  __rmul__(self, value, /)\n",
            " |      Return value*self.\n",
            " |  \n",
            " |  __rpow__(self, value, mod=None, /)\n",
            " |      Return pow(value, self, mod).\n",
            " |  \n",
            " |  __rsub__(self, value, /)\n",
            " |      Return value-self.\n",
            " |  \n",
            " |  __rtruediv__(self, value, /)\n",
            " |      Return value/self.\n",
            " |  \n",
            " |  __str__(self, /)\n",
            " |      Return str(self).\n",
            " |  \n",
            " |  __sub__(self, value, /)\n",
            " |      Return self-value.\n",
            " |  \n",
            " |  __truediv__(self, value, /)\n",
            " |      Return self/value.\n",
            " |  \n",
            " |  as_integer_ratio(...)\n",
            " |      double.as_integer_ratio() -> (int, int)\n",
            " |      \n",
            " |      Return a pair of integers, whose ratio is exactly equal to the original\n",
            " |      floating point number, and with a positive denominator.\n",
            " |      Raise `OverflowError` on infinities and a `ValueError` on NaNs.\n",
            " |      \n",
            " |      >>> np.double(10.0).as_integer_ratio()\n",
            " |      (10, 1)\n",
            " |      >>> np.double(0.0).as_integer_ratio()\n",
            " |      (0, 1)\n",
            " |      >>> np.double(-.25).as_integer_ratio()\n",
            " |      (-1, 4)\n",
            " |  \n",
            " |  ----------------------------------------------------------------------\n",
            " |  Static methods defined here:\n",
            " |  \n",
            " |  __new__(*args, **kwargs) from builtins.type\n",
            " |      Create and return a new object.  See help(type) for accurate signature.\n",
            " |  \n",
            " |  ----------------------------------------------------------------------\n",
            " |  Methods inherited from floating:\n",
            " |  \n",
            " |  __round__(...)\n",
            " |  \n",
            " |  ----------------------------------------------------------------------\n",
            " |  Methods inherited from generic:\n",
            " |  \n",
            " |  __and__(self, value, /)\n",
            " |      Return self&value.\n",
            " |  \n",
            " |  __array__(...)\n",
            " |      sc.__array__(dtype) return 0-dim array from scalar with specified dtype\n",
            " |  \n",
            " |  __array_wrap__(...)\n",
            " |      sc.__array_wrap__(obj) return scalar from array\n",
            " |  \n",
            " |  __copy__(...)\n",
            " |  \n",
            " |  __deepcopy__(...)\n",
            " |  \n",
            " |  __format__(...)\n",
            " |      NumPy array scalar formatter\n",
            " |  \n",
            " |  __getitem__(self, key, /)\n",
            " |      Return self[key].\n",
            " |  \n",
            " |  __invert__(self, /)\n",
            " |      ~self\n",
            " |  \n",
            " |  __lshift__(self, value, /)\n",
            " |      Return self<<value.\n",
            " |  \n",
            " |  __or__(self, value, /)\n",
            " |      Return self|value.\n",
            " |  \n",
            " |  __rand__(self, value, /)\n",
            " |      Return value&self.\n",
            " |  \n",
            " |  __reduce__(...)\n",
            " |      Helper for pickle.\n",
            " |  \n",
            " |  __rlshift__(self, value, /)\n",
            " |      Return value<<self.\n",
            " |  \n",
            " |  __ror__(self, value, /)\n",
            " |      Return value|self.\n",
            " |  \n",
            " |  __rrshift__(self, value, /)\n",
            " |      Return value>>self.\n",
            " |  \n",
            " |  __rshift__(self, value, /)\n",
            " |      Return self>>value.\n",
            " |  \n",
            " |  __rxor__(self, value, /)\n",
            " |      Return value^self.\n",
            " |  \n",
            " |  __setstate__(...)\n",
            " |  \n",
            " |  __sizeof__(...)\n",
            " |      Size of object in memory, in bytes.\n",
            " |  \n",
            " |  __xor__(self, value, /)\n",
            " |      Return self^value.\n",
            " |  \n",
            " |  all(...)\n",
            " |      Scalar method identical to the corresponding array attribute.\n",
            " |      \n",
            " |      Please see `ndarray.all`.\n",
            " |  \n",
            " |  any(...)\n",
            " |      Scalar method identical to the corresponding array attribute.\n",
            " |      \n",
            " |      Please see `ndarray.any`.\n",
            " |  \n",
            " |  argmax(...)\n",
            " |      Scalar method identical to the corresponding array attribute.\n",
            " |      \n",
            " |      Please see `ndarray.argmax`.\n",
            " |  \n",
            " |  argmin(...)\n",
            " |      Scalar method identical to the corresponding array attribute.\n",
            " |      \n",
            " |      Please see `ndarray.argmin`.\n",
            " |  \n",
            " |  argsort(...)\n",
            " |      Scalar method identical to the corresponding array attribute.\n",
            " |      \n",
            " |      Please see `ndarray.argsort`.\n",
            " |  \n",
            " |  astype(...)\n",
            " |      Scalar method identical to the corresponding array attribute.\n",
            " |      \n",
            " |      Please see `ndarray.astype`.\n",
            " |  \n",
            " |  byteswap(...)\n",
            " |      Scalar method identical to the corresponding array attribute.\n",
            " |      \n",
            " |      Please see `ndarray.byteswap`.\n",
            " |  \n",
            " |  choose(...)\n",
            " |      Scalar method identical to the corresponding array attribute.\n",
            " |      \n",
            " |      Please see `ndarray.choose`.\n",
            " |  \n",
            " |  clip(...)\n",
            " |      Scalar method identical to the corresponding array attribute.\n",
            " |      \n",
            " |      Please see `ndarray.clip`.\n",
            " |  \n",
            " |  compress(...)\n",
            " |      Scalar method identical to the corresponding array attribute.\n",
            " |      \n",
            " |      Please see `ndarray.compress`.\n",
            " |  \n",
            " |  conj(...)\n",
            " |  \n",
            " |  conjugate(...)\n",
            " |      Scalar method identical to the corresponding array attribute.\n",
            " |      \n",
            " |      Please see `ndarray.conjugate`.\n",
            " |  \n",
            " |  copy(...)\n",
            " |      Scalar method identical to the corresponding array attribute.\n",
            " |      \n",
            " |      Please see `ndarray.copy`.\n",
            " |  \n",
            " |  cumprod(...)\n",
            " |      Scalar method identical to the corresponding array attribute.\n",
            " |      \n",
            " |      Please see `ndarray.cumprod`.\n",
            " |  \n",
            " |  cumsum(...)\n",
            " |      Scalar method identical to the corresponding array attribute.\n",
            " |      \n",
            " |      Please see `ndarray.cumsum`.\n",
            " |  \n",
            " |  diagonal(...)\n",
            " |      Scalar method identical to the corresponding array attribute.\n",
            " |      \n",
            " |      Please see `ndarray.diagonal`.\n",
            " |  \n",
            " |  dump(...)\n",
            " |      Scalar method identical to the corresponding array attribute.\n",
            " |      \n",
            " |      Please see `ndarray.dump`.\n",
            " |  \n",
            " |  dumps(...)\n",
            " |      Scalar method identical to the corresponding array attribute.\n",
            " |      \n",
            " |      Please see `ndarray.dumps`.\n",
            " |  \n",
            " |  fill(...)\n",
            " |      Scalar method identical to the corresponding array attribute.\n",
            " |      \n",
            " |      Please see `ndarray.fill`.\n",
            " |  \n",
            " |  flatten(...)\n",
            " |      Scalar method identical to the corresponding array attribute.\n",
            " |      \n",
            " |      Please see `ndarray.flatten`.\n",
            " |  \n",
            " |  getfield(...)\n",
            " |      Scalar method identical to the corresponding array attribute.\n",
            " |      \n",
            " |      Please see `ndarray.getfield`.\n",
            " |  \n",
            " |  item(...)\n",
            " |      Scalar method identical to the corresponding array attribute.\n",
            " |      \n",
            " |      Please see `ndarray.item`.\n",
            " |  \n",
            " |  itemset(...)\n",
            " |      Scalar method identical to the corresponding array attribute.\n",
            " |      \n",
            " |      Please see `ndarray.itemset`.\n",
            " |  \n",
            " |  max(...)\n",
            " |      Scalar method identical to the corresponding array attribute.\n",
            " |      \n",
            " |      Please see `ndarray.max`.\n",
            " |  \n",
            " |  mean(...)\n",
            " |      Scalar method identical to the corresponding array attribute.\n",
            " |      \n",
            " |      Please see `ndarray.mean`.\n",
            " |  \n",
            " |  min(...)\n",
            " |      Scalar method identical to the corresponding array attribute.\n",
            " |      \n",
            " |      Please see `ndarray.min`.\n",
            " |  \n",
            " |  newbyteorder(...)\n",
            " |      newbyteorder(new_order='S', /)\n",
            " |      \n",
            " |      Return a new `dtype` with a different byte order.\n",
            " |      \n",
            " |      Changes are also made in all fields and sub-arrays of the data type.\n",
            " |      \n",
            " |      The `new_order` code can be any from the following:\n",
            " |      \n",
            " |      * 'S' - swap dtype from current to opposite endian\n",
            " |      * {'<', 'little'} - little endian\n",
            " |      * {'>', 'big'} - big endian\n",
            " |      * '=' - native order\n",
            " |      * {'|', 'I'} - ignore (no change to byte order)\n",
            " |      \n",
            " |      Parameters\n",
            " |      ----------\n",
            " |      new_order : str, optional\n",
            " |          Byte order to force; a value from the byte order specifications\n",
            " |          above.  The default value ('S') results in swapping the current\n",
            " |          byte order.\n",
            " |      \n",
            " |      \n",
            " |      Returns\n",
            " |      -------\n",
            " |      new_dtype : dtype\n",
            " |          New `dtype` object with the given change to the byte order.\n",
            " |  \n",
            " |  nonzero(...)\n",
            " |      Scalar method identical to the corresponding array attribute.\n",
            " |      \n",
            " |      Please see `ndarray.nonzero`.\n",
            " |  \n",
            " |  prod(...)\n",
            " |      Scalar method identical to the corresponding array attribute.\n",
            " |      \n",
            " |      Please see `ndarray.prod`.\n",
            " |  \n",
            " |  ptp(...)\n",
            " |      Scalar method identical to the corresponding array attribute.\n",
            " |      \n",
            " |      Please see `ndarray.ptp`.\n",
            " |  \n",
            " |  put(...)\n",
            " |      Scalar method identical to the corresponding array attribute.\n",
            " |      \n",
            " |      Please see `ndarray.put`.\n",
            " |  \n",
            " |  ravel(...)\n",
            " |      Scalar method identical to the corresponding array attribute.\n",
            " |      \n",
            " |      Please see `ndarray.ravel`.\n",
            " |  \n",
            " |  repeat(...)\n",
            " |      Scalar method identical to the corresponding array attribute.\n",
            " |      \n",
            " |      Please see `ndarray.repeat`.\n",
            " |  \n",
            " |  reshape(...)\n",
            " |      Scalar method identical to the corresponding array attribute.\n",
            " |      \n",
            " |      Please see `ndarray.reshape`.\n",
            " |  \n",
            " |  resize(...)\n",
            " |      Scalar method identical to the corresponding array attribute.\n",
            " |      \n",
            " |      Please see `ndarray.resize`.\n",
            " |  \n",
            " |  round(...)\n",
            " |      Scalar method identical to the corresponding array attribute.\n",
            " |      \n",
            " |      Please see `ndarray.round`.\n",
            " |  \n",
            " |  searchsorted(...)\n",
            " |      Scalar method identical to the corresponding array attribute.\n",
            " |      \n",
            " |      Please see `ndarray.searchsorted`.\n",
            " |  \n",
            " |  setfield(...)\n",
            " |      Scalar method identical to the corresponding array attribute.\n",
            " |      \n",
            " |      Please see `ndarray.setfield`.\n",
            " |  \n",
            " |  setflags(...)\n",
            " |      Scalar method identical to the corresponding array attribute.\n",
            " |      \n",
            " |      Please see `ndarray.setflags`.\n",
            " |  \n",
            " |  sort(...)\n",
            " |      Scalar method identical to the corresponding array attribute.\n",
            " |      \n",
            " |      Please see `ndarray.sort`.\n",
            " |  \n",
            " |  squeeze(...)\n",
            " |      Scalar method identical to the corresponding array attribute.\n",
            " |      \n",
            " |      Please see `ndarray.squeeze`.\n",
            " |  \n",
            " |  std(...)\n",
            " |      Scalar method identical to the corresponding array attribute.\n",
            " |      \n",
            " |      Please see `ndarray.std`.\n",
            " |  \n",
            " |  sum(...)\n",
            " |      Scalar method identical to the corresponding array attribute.\n",
            " |      \n",
            " |      Please see `ndarray.sum`.\n",
            " |  \n",
            " |  swapaxes(...)\n",
            " |      Scalar method identical to the corresponding array attribute.\n",
            " |      \n",
            " |      Please see `ndarray.swapaxes`.\n",
            " |  \n",
            " |  take(...)\n",
            " |      Scalar method identical to the corresponding array attribute.\n",
            " |      \n",
            " |      Please see `ndarray.take`.\n",
            " |  \n",
            " |  tobytes(...)\n",
            " |  \n",
            " |  tofile(...)\n",
            " |      Scalar method identical to the corresponding array attribute.\n",
            " |      \n",
            " |      Please see `ndarray.tofile`.\n",
            " |  \n",
            " |  tolist(...)\n",
            " |      Scalar method identical to the corresponding array attribute.\n",
            " |      \n",
            " |      Please see `ndarray.tolist`.\n",
            " |  \n",
            " |  tostring(...)\n",
            " |      Scalar method identical to the corresponding array attribute.\n",
            " |      \n",
            " |      Please see `ndarray.tostring`.\n",
            " |  \n",
            " |  trace(...)\n",
            " |      Scalar method identical to the corresponding array attribute.\n",
            " |      \n",
            " |      Please see `ndarray.trace`.\n",
            " |  \n",
            " |  transpose(...)\n",
            " |      Scalar method identical to the corresponding array attribute.\n",
            " |      \n",
            " |      Please see `ndarray.transpose`.\n",
            " |  \n",
            " |  var(...)\n",
            " |      Scalar method identical to the corresponding array attribute.\n",
            " |      \n",
            " |      Please see `ndarray.var`.\n",
            " |  \n",
            " |  view(...)\n",
            " |      Scalar method identical to the corresponding array attribute.\n",
            " |      \n",
            " |      Please see `ndarray.view`.\n",
            " |  \n",
            " |  ----------------------------------------------------------------------\n",
            " |  Data descriptors inherited from generic:\n",
            " |  \n",
            " |  T\n",
            " |      Scalar attribute identical to the corresponding array attribute.\n",
            " |      \n",
            " |      Please see `ndarray.T`.\n",
            " |  \n",
            " |  __array_interface__\n",
            " |      Array protocol: Python side\n",
            " |  \n",
            " |  __array_priority__\n",
            " |      Array priority.\n",
            " |  \n",
            " |  __array_struct__\n",
            " |      Array protocol: struct\n",
            " |  \n",
            " |  base\n",
            " |      Scalar attribute identical to the corresponding array attribute.\n",
            " |      \n",
            " |      Please see `ndarray.base`.\n",
            " |  \n",
            " |  data\n",
            " |      Pointer to start of data.\n",
            " |  \n",
            " |  dtype\n",
            " |      Get array data-descriptor.\n",
            " |  \n",
            " |  flags\n",
            " |      The integer value of flags.\n",
            " |  \n",
            " |  flat\n",
            " |      A 1-D view of the scalar.\n",
            " |  \n",
            " |  imag\n",
            " |      The imaginary part of the scalar.\n",
            " |  \n",
            " |  itemsize\n",
            " |      The length of one element in bytes.\n",
            " |  \n",
            " |  nbytes\n",
            " |      The length of the scalar in bytes.\n",
            " |  \n",
            " |  ndim\n",
            " |      The number of array dimensions.\n",
            " |  \n",
            " |  real\n",
            " |      The real part of the scalar.\n",
            " |  \n",
            " |  shape\n",
            " |      Tuple of array dimensions.\n",
            " |  \n",
            " |  size\n",
            " |      The number of elements in the gentype.\n",
            " |  \n",
            " |  strides\n",
            " |      Tuple of bytes steps in each dimension.\n",
            " |  \n",
            " |  ----------------------------------------------------------------------\n",
            " |  Methods inherited from builtins.float:\n",
            " |  \n",
            " |  __getattribute__(self, name, /)\n",
            " |      Return getattr(self, name).\n",
            " |  \n",
            " |  __getnewargs__(self, /)\n",
            " |  \n",
            " |  __trunc__(self, /)\n",
            " |      Return the Integral closest to x between 0 and x.\n",
            " |  \n",
            " |  hex(self, /)\n",
            " |      Return a hexadecimal representation of a floating-point number.\n",
            " |      \n",
            " |      >>> (-0.1).hex()\n",
            " |      '-0x1.999999999999ap-4'\n",
            " |      >>> 3.14159.hex()\n",
            " |      '0x1.921f9f01b866ep+1'\n",
            " |  \n",
            " |  is_integer(self, /)\n",
            " |      Return True if the float is an integer.\n",
            " |  \n",
            " |  ----------------------------------------------------------------------\n",
            " |  Class methods inherited from builtins.float:\n",
            " |  \n",
            " |  __getformat__(typestr, /) from builtins.type\n",
            " |      You probably don't want to use this function.\n",
            " |      \n",
            " |        typestr\n",
            " |          Must be 'double' or 'float'.\n",
            " |      \n",
            " |      It exists mainly to be used in Python's test suite.\n",
            " |      \n",
            " |      This function returns whichever of 'unknown', 'IEEE, big-endian' or 'IEEE,\n",
            " |      little-endian' best describes the format of floating point numbers used by the\n",
            " |      C type named by typestr.\n",
            " |  \n",
            " |  __set_format__(typestr, fmt, /) from builtins.type\n",
            " |      You probably don't want to use this function.\n",
            " |      \n",
            " |        typestr\n",
            " |          Must be 'double' or 'float'.\n",
            " |        fmt\n",
            " |          Must be one of 'unknown', 'IEEE, big-endian' or 'IEEE, little-endian',\n",
            " |          and in addition can only be one of the latter two if it appears to\n",
            " |          match the underlying C reality.\n",
            " |      \n",
            " |      It exists mainly to be used in Python's test suite.\n",
            " |      \n",
            " |      Override the automatic determination of C-level floating point type.\n",
            " |      This affects how floats are converted to and from binary strings.\n",
            " |  \n",
            " |  fromhex(string, /) from builtins.type\n",
            " |      Create a floating-point number from a hexadecimal string.\n",
            " |      \n",
            " |      >>> float.fromhex('0x1.ffffp10')\n",
            " |      2047.984375\n",
            " |      >>> float.fromhex('-0x1p-1074')\n",
            " |      -5e-324\n",
            "\n"
          ]
        }
      ]
    },
    {
      "cell_type": "markdown",
      "metadata": {
        "id": "wVn2L8F_saCV"
      },
      "source": [
        "#### Minimum and Maximum\n",
        "\n",
        "Similarly, Python has built-in ``min`` and ``max`` functions, used to find the minimum value and maximum value of any given array:"
      ]
    },
    {
      "cell_type": "code",
      "metadata": {
        "id": "vcpzXsZCsaCV",
        "outputId": "6e167a37-d94e-4844-b448-ea06c45b73c5"
      },
      "source": [
        "min(big_array), max(big_array)"
      ],
      "execution_count": null,
      "outputs": [
        {
          "data": {
            "text/plain": [
              "(8.468384048443411e-07, 0.9999990171899601)"
            ]
          },
          "execution_count": 7,
          "metadata": {},
          "output_type": "execute_result"
        }
      ]
    },
    {
      "cell_type": "code",
      "metadata": {
        "id": "L4cEC4SDsaCV",
        "outputId": "b58dc99d-2ccd-4633-d691-fcf309b3abb0"
      },
      "source": [
        "# NumPy's corresponding functions have similar syntax, and again operate much more quickly:\n",
        "np.min(big_array), np.max(big_array)"
      ],
      "execution_count": null,
      "outputs": [
        {
          "data": {
            "text/plain": [
              "(8.468384048443411e-07, 0.9999990171899601)"
            ]
          },
          "execution_count": 8,
          "metadata": {},
          "output_type": "execute_result"
        }
      ]
    },
    {
      "cell_type": "code",
      "metadata": {
        "id": "GdEnleMEsaCW",
        "outputId": "5313e7df-7d0d-422c-9e48-e7660e91d4ac"
      },
      "source": [
        "%timeit min(big_array), max(big_array)\n",
        "%timeit np.min(big_array), np.max(big_array)"
      ],
      "execution_count": null,
      "outputs": [
        {
          "name": "stdout",
          "output_type": "stream",
          "text": [
            "10 loops, best of 5: 98.4 ms per loop\n",
            "1000 loops, best of 5: 969 µs per loop\n"
          ]
        }
      ]
    },
    {
      "cell_type": "markdown",
      "metadata": {
        "id": "0RrrGI1QsaCW"
      },
      "source": [
        "For ``min``, ``max``, ``sum``, and several other NumPy aggregates, a shorter syntax is to use methods of the array object itself:"
      ]
    },
    {
      "cell_type": "code",
      "metadata": {
        "id": "xNSMf2VlsaCW"
      },
      "source": [
        "print(big_array.min(), big_array.max(), big_array.sum())"
      ],
      "execution_count": null,
      "outputs": []
    },
    {
      "cell_type": "markdown",
      "metadata": {
        "id": "PhTHJXAnsaCW"
      },
      "source": [
        "Whenever possible, make sure that you are using the NumPy version of these aggregates when operating on NumPy arrays!"
      ]
    },
    {
      "cell_type": "markdown",
      "metadata": {
        "id": "g0kPNVAksaCW"
      },
      "source": [
        "#### Multi dimensional aggregates\n",
        "\n",
        "One common type of aggregation operation is an aggregate along a row or column.\n",
        "Say you have some data stored in a two-dimensional array:"
      ]
    },
    {
      "cell_type": "code",
      "metadata": {
        "id": "i65GfWtdsaCY",
        "outputId": "89583e12-0866-4a24-c5eb-3ebcb323f268"
      },
      "source": [
        "M = np.random.random((3, 4))\n",
        "print(M)"
      ],
      "execution_count": null,
      "outputs": [
        {
          "name": "stdout",
          "output_type": "stream",
          "text": [
            "[[0.44209757 0.91942494 0.83201555 0.30769922]\n",
            " [0.42760658 0.84775688 0.83452449 0.68836531]\n",
            " [0.24172318 0.60199487 0.80726053 0.61015885]]\n"
          ]
        }
      ]
    },
    {
      "cell_type": "markdown",
      "metadata": {
        "id": "VvzntVzZsaCY"
      },
      "source": [
        "By default, each NumPy aggregation function will return the aggregate over the entire array:"
      ]
    },
    {
      "cell_type": "code",
      "metadata": {
        "id": "ETfsE0vIsaCY",
        "outputId": "73bf5cde-08f6-4532-c6ac-b83746e21f1a"
      },
      "source": [
        "M.sum()"
      ],
      "execution_count": null,
      "outputs": [
        {
          "data": {
            "text/plain": [
              "7.560627968990415"
            ]
          },
          "execution_count": 21,
          "metadata": {},
          "output_type": "execute_result"
        }
      ]
    },
    {
      "cell_type": "markdown",
      "metadata": {
        "id": "VFD-aWMrsaCZ"
      },
      "source": [
        "It is possible, for aggregation functions, to add an argument specifying the axis along which the aggregate is computed. For example, we can find the minimum value within each column by specifying axis=0:\n"
      ]
    },
    {
      "cell_type": "code",
      "metadata": {
        "id": "t6MOCwUAsaCa",
        "outputId": "892bca5a-3b03-4fc2-d4e2-16912e91ccb7"
      },
      "source": [
        "M.min(axis=0)"
      ],
      "execution_count": null,
      "outputs": [
        {
          "data": {
            "text/plain": [
              "array([0.24172318, 0.60199487, 0.80726053, 0.30769922])"
            ]
          },
          "execution_count": 22,
          "metadata": {},
          "output_type": "execute_result"
        }
      ]
    },
    {
      "cell_type": "markdown",
      "metadata": {
        "id": "EvLDl6OcsaCa"
      },
      "source": [
        "The function returns four values, corresponding to the four columns of numbers.You could test the similar axis specification with the `max` aggregate."
      ]
    },
    {
      "cell_type": "markdown",
      "metadata": {
        "id": "nVZhh1gCsaCb"
      },
      "source": [
        "The way the axis is specified here can be confusing to users coming from other languages.\n",
        "The ``axis`` keyword specifies the *dimension of the array that will be collapsed*, rather than the dimension that will be returned.\n",
        "So specifying ``axis=0`` means that the first axis will be collapsed: for two-dimensional arrays, this means that values within each column will be aggregated."
      ]
    },
    {
      "cell_type": "markdown",
      "metadata": {
        "id": "fhGWL_bQsaCb"
      },
      "source": [
        "#### Other aggregation functions\n",
        "\n",
        "NumPy provides many other aggregation functions. The following table provides a list of useful aggregation functions available in NumPy:\n",
        "\n",
        "|Function Name      |   NaN-safe Version  | Description                                   |\n",
        "|-------------------|---------------------|-----------------------------------------------|\n",
        "| ``np.sum``        | ``np.nansum``       | Compute sum of elements                       |\n",
        "| ``np.prod``       | ``np.nanprod``      | Compute product of elements                   |\n",
        "| ``np.mean``       | ``np.nanmean``      | Compute mean of elements                      |\n",
        "| ``np.std``        | ``np.nanstd``       | Compute standard deviation                    |\n",
        "| ``np.var``        | ``np.nanvar``       | Compute variance                              |\n",
        "| ``np.min``        | ``np.nanmin``       | Find minimum value                            |\n",
        "| ``np.max``        | ``np.nanmax``       | Find maximum value                            |\n",
        "| ``np.argmin``     | ``np.nanargmin``    | Find index of minimum value                   |\n",
        "| ``np.argmax``     | ``np.nanargmax``    | Find index of maximum value                   |\n",
        "| ``np.median``     | ``np.nanmedian``    | Compute median of elements                    |\n",
        "| ``np.percentile`` | ``np.nanpercentile``| Compute rank-based statistics of elements     |\n",
        "| ``np.any``        | N/A                 | Evaluate whether any elements are true        |\n",
        "| ``np.all``        | N/A                 | Evaluate whether all elements are true        |"
      ]
    },
    {
      "cell_type": "markdown",
      "metadata": {
        "id": "iPIgRvTUsaCc"
      },
      "source": [
        "#### Example: What is the Average Height of a list of heights?"
      ]
    },
    {
      "cell_type": "code",
      "metadata": {
        "id": "jYqDgQGEsaCc"
      },
      "source": [
        "heights = np.array([189,170,189,163, 183, 171, 185, 168, 173, 183, 173, 173, 175, 178, 183, 193, 178, 173,\n",
        " 174, 183, 183, 168, 170, 178, 182, 180, 183, 178, 182, 188, 175, 179, 183, 193, 182, 183,\n",
        " 177, 185, 188, 188, 182, 185])"
      ],
      "execution_count": null,
      "outputs": []
    },
    {
      "cell_type": "markdown",
      "metadata": {
        "id": "UUFOjRy5saCc"
      },
      "source": [
        "Now that we have this data array, we can compute a variety of summary statistics:"
      ]
    },
    {
      "cell_type": "code",
      "metadata": {
        "id": "TICP9mshsaCc",
        "outputId": "b6998f6c-228d-4038-f2bb-3348abc5c290"
      },
      "source": [
        "print(\"Mean height:       \", heights.mean())\n",
        "print(\"Standard deviation:\", heights.std())\n",
        "print(\"Minimum height:    \", heights.min())\n",
        "print(\"Maximum height:    \", heights.max())"
      ],
      "execution_count": null,
      "outputs": [
        {
          "name": "stdout",
          "output_type": "stream",
          "text": [
            "Mean height:        179.73809523809524\n",
            "Standard deviation: 6.931843442745892\n",
            "Minimum height:     163\n",
            "Maximum height:     193\n"
          ]
        }
      ]
    },
    {
      "cell_type": "code",
      "metadata": {
        "id": "tYTCGqP1saCd",
        "outputId": "46f9f524-054e-4d46-b96c-d750b1966660"
      },
      "source": [
        "# We may also wish to compute quantiles:\n",
        "\n",
        "print(\"25th percentile:   \", np.percentile(heights, 25))\n",
        "print(\"Median:            \", np.median(heights))\n",
        "print(\"75th percentile:   \", np.percentile(heights, 75))"
      ],
      "execution_count": null,
      "outputs": [
        {
          "name": "stdout",
          "output_type": "stream",
          "text": [
            "25th percentile:    174.25\n",
            "Median:             182.0\n",
            "75th percentile:    183.0\n"
          ]
        }
      ]
    },
    {
      "cell_type": "markdown",
      "metadata": {
        "id": "HjK7mIhmsaCd"
      },
      "source": [
        "We see that the median height is $182$ cm, or just shy of six feet.\n",
        "Sometimes it's more useful to have a visual representation of the data, which we can accomplish using tool Matplotlib (we'll discuss Matplotlib more fully towards the end of this week). For example, this code generates the following chart:"
      ]
    },
    {
      "cell_type": "code",
      "metadata": {
        "id": "Z1I7FHiJsaCe",
        "outputId": "2ce6ca73-7220-45b3-c90c-0b09e6f20a8d"
      },
      "source": [
        "import matplotlib.pyplot as plt\n",
        "import seaborn; seaborn.set()  # set plot style\n",
        "plt.hist(heights)\n",
        "plt.title('Height Distribution')\n",
        "plt.xlabel('height (cm)')\n",
        "plt.ylabel('number');"
      ],
      "execution_count": null,
      "outputs": [
        {
          "data": {
            "image/png": "[encoded data removed]",
            "text/plain": [
              "<Figure size 432x288 with 1 Axes>"
            ]
          },
          "metadata": {},
          "output_type": "display_data"
        }
      ]
    },
    {
      "cell_type": "markdown",
      "metadata": {
        "id": "UOEw1XYqsaCe"
      },
      "source": [
        "#### Short Exercise \n",
        "\n",
        "First, lets make a common array to work with.\n",
        "```python\n",
        "import numpy as np\n",
        "np.random.seed(21) # This guarantees the code will generate the same set of random numbers whenever executed\n",
        "random_integers = np.random.randint(1,high=500000, size=(20, 5))\n",
        "random_integers\n",
        "```\n",
        "  1. What is the average value of the second column?\n",
        "  2. What is the average value of the first 5 rows of the third and fourth columns?\n"
      ]
    },
    {
      "cell_type": "markdown",
      "metadata": {
        "id": "vBfj4IBOsaCe"
      },
      "source": [
        "### Broadcasting\n",
        "\n",
        "NumPy's universal functions can be used to *vectorize* operations and thereby remove slow Python loops.\n",
        "Another means of vectorizing operations is to use NumPy's *broadcasting* functionality.\n",
        "Broadcasting is simply a set of rules for applying binary ufuncs (e.g., addition, subtraction, multiplication, etc.) on arrays of different sizes."
      ]
    },
    {
      "cell_type": "code",
      "metadata": {
        "id": "mu39QU5ZsaCe",
        "outputId": "96a5dcfc-7094-4858-afa5-8ab31c9ad36d"
      },
      "source": [
        "# Recall that for arrays of the same size, binary operations \n",
        "# are performed on an element-by-element basis:\n",
        "\n",
        "a = np.array([0, 1, 2])\n",
        "b = np.array([5, 5, 5])\n",
        "a + b"
      ],
      "execution_count": null,
      "outputs": [
        {
          "data": {
            "text/plain": [
              "array([5, 6, 7])"
            ]
          },
          "execution_count": 10,
          "metadata": {},
          "output_type": "execute_result"
        }
      ]
    },
    {
      "cell_type": "markdown",
      "metadata": {
        "id": "UBrkcm7YsaCf"
      },
      "source": [
        "Broadcasting allows these types of binary operations to be performed on arrays of different sizes–for example, we can just as easily add a scalar (think of it as a zero-dimensional array) to an array:"
      ]
    },
    {
      "cell_type": "code",
      "metadata": {
        "id": "NFA_IUujsaCf",
        "outputId": "4bbbc68b-999e-42d5-9e7f-6fdba42eb555"
      },
      "source": [
        "a + 5"
      ],
      "execution_count": null,
      "outputs": [
        {
          "data": {
            "text/plain": [
              "array([5, 6, 7])"
            ]
          },
          "execution_count": 11,
          "metadata": {},
          "output_type": "execute_result"
        }
      ]
    },
    {
      "cell_type": "markdown",
      "metadata": {
        "id": "9nAKNxmzsaCg"
      },
      "source": [
        "We can think of this as an operation that stretches or duplicates the value ``5`` into the array ``[5, 5, 5]``, and adds the results. We can similarly extend this to arrays of higher dimension. Observe the result when we add a one-dimensional array to a two-dimensional array:"
      ]
    },
    {
      "cell_type": "code",
      "metadata": {
        "id": "cPmLLmKCsaCg",
        "outputId": "7d01b1f9-4c53-43a4-cc18-b7cbfbf17d70"
      },
      "source": [
        "M = np.ones((3, 3))\n",
        "M"
      ],
      "execution_count": null,
      "outputs": [
        {
          "data": {
            "text/plain": [
              "array([[1., 1., 1.],\n",
              "       [1., 1., 1.],\n",
              "       [1., 1., 1.]])"
            ]
          },
          "execution_count": 12,
          "metadata": {},
          "output_type": "execute_result"
        }
      ]
    },
    {
      "cell_type": "code",
      "metadata": {
        "id": "ThcjLn58saCg",
        "outputId": "45fc7776-230d-4d18-946f-9d02cb64841c"
      },
      "source": [
        "M + a"
      ],
      "execution_count": null,
      "outputs": [
        {
          "data": {
            "text/plain": [
              "array([[1., 2., 3.],\n",
              "       [1., 2., 3.],\n",
              "       [1., 2., 3.]])"
            ]
          },
          "execution_count": 13,
          "metadata": {},
          "output_type": "execute_result"
        }
      ]
    },
    {
      "cell_type": "markdown",
      "metadata": {
        "id": "mceJ5Zc5saCh"
      },
      "source": [
        "Here the one-dimensional array ``a`` is stretched, or broadcast across the second dimension in order to match the shape of ``M``.\n",
        "\n",
        "While these examples are relatively easy to understand, more complicated cases can involve broadcasting of both arrays. Consider the following example:"
      ]
    },
    {
      "cell_type": "code",
      "metadata": {
        "id": "jS0IEusvsaCh",
        "outputId": "0ee276d3-93bd-4d5c-bba5-047e7bb55192"
      },
      "source": [
        "a = np.arange(3)\n",
        "b = np.arange(3)[:, np.newaxis]\n",
        "\n",
        "print(a)\n",
        "print(b)"
      ],
      "execution_count": null,
      "outputs": [
        {
          "name": "stdout",
          "output_type": "stream",
          "text": [
            "[0 1 2]\n",
            "[[0]\n",
            " [1]\n",
            " [2]]\n"
          ]
        }
      ]
    },
    {
      "cell_type": "code",
      "metadata": {
        "id": "Ijx8WKDSsaCi",
        "outputId": "9f8aff0d-faf3-4710-826f-1cd32e547f7e"
      },
      "source": [
        "a + b"
      ],
      "execution_count": null,
      "outputs": [
        {
          "data": {
            "text/plain": [
              "array([[0, 1, 2],\n",
              "       [1, 2, 3],\n",
              "       [2, 3, 4]])"
            ]
          },
          "execution_count": 15,
          "metadata": {},
          "output_type": "execute_result"
        }
      ]
    },
    {
      "cell_type": "markdown",
      "metadata": {
        "id": "SU3PrKRZsaCi"
      },
      "source": [
        "Just as before we stretched or broadcasted one value to match the shape of the other, here we've stretched *both* ``a`` and ``b`` to match a common shape, and the result is a two-dimensional array!\n",
        "The geometry of these examples is visualized in the following figure \n",
        "\n",
        "<img src=\"https://jakevdp.github.io/PythonDataScienceHandbook/figures/02.05-broadcasting.png\">\n",
        "\n",
        "The light boxes represent the broadcasted values"
      ]
    },
    {
      "cell_type": "markdown",
      "metadata": {
        "id": "UkaXj1QPsaCi"
      },
      "source": [
        "There are a few rules attached to this *broadcasting* idea. Broadcasting in NumPy follows a strict set of rules to determine the interaction between the two arrays:\n",
        "\n",
        "- Rule 1: If the two arrays differ in their number of dimensions, the shape of the one with fewer dimensions is *padded* with ones on its leading (left) side.\n",
        "- Rule 2: If the shape of the two arrays does not match in any dimension, the array with shape equal to 1 in that dimension is stretched to match the other shape.\n",
        "- Rule 3: If in any dimension the sizes disagree and neither is equal to 1, an error is raised.\n",
        "\n",
        "To make these rules clear, let's consider a few examples in detail.\n",
        "\n",
        "#### Broadcasting example 1\n",
        "\n",
        "Let's look at adding a two-dimensional array to a one-dimensional array:"
      ]
    },
    {
      "cell_type": "code",
      "metadata": {
        "id": "_VdCm3LUsaCi"
      },
      "source": [
        "M = np.ones((2, 3))\n",
        "a = np.arange(3)"
      ],
      "execution_count": null,
      "outputs": []
    },
    {
      "cell_type": "markdown",
      "metadata": {
        "id": "1Ra9noZFsaCi"
      },
      "source": [
        "Let's consider an operation on these two arrays. The shape of the arrays are\n",
        "\n",
        "- ``M.shape = (2, 3)``\n",
        "- ``a.shape = (3,)``\n",
        "\n",
        "We see by rule 1 that the array ``a`` has fewer dimensions, so we pad it on the left with ones:\n",
        "\n",
        "- ``M.shape -> (2, 3)``\n",
        "- ``a.shape -> (1, 3)``\n",
        "\n",
        "By rule 2, we now see that the first dimension disagrees, so we stretch this dimension to match:\n",
        "\n",
        "- ``M.shape -> (2, 3)``\n",
        "- ``a.shape -> (2, 3)``\n",
        "\n",
        "The shapes match, and we see that the final shape will be ``(2, 3)``:"
      ]
    },
    {
      "cell_type": "code",
      "metadata": {
        "id": "TZbzyFdxsaCi",
        "outputId": "3b3bb932-ec56-43c3-af0b-302d9a926f64"
      },
      "source": [
        "M + a"
      ],
      "execution_count": null,
      "outputs": [
        {
          "data": {
            "text/plain": [
              "array([[1., 2., 3.],\n",
              "       [1., 2., 3.]])"
            ]
          },
          "execution_count": 17,
          "metadata": {},
          "output_type": "execute_result"
        }
      ]
    },
    {
      "cell_type": "markdown",
      "metadata": {
        "id": "E5ykXCTZsaCj"
      },
      "source": [
        "#### Broadcasting example 2\n",
        "\n",
        "Let's take a look at an example where both arrays need to be broadcast:"
      ]
    },
    {
      "cell_type": "code",
      "metadata": {
        "id": "56msDHSWsaCk"
      },
      "source": [
        "a = np.arange(3).reshape((3, 1))\n",
        "b = np.arange(3)"
      ],
      "execution_count": null,
      "outputs": []
    },
    {
      "cell_type": "markdown",
      "metadata": {
        "id": "ugws4QGbsaCk"
      },
      "source": [
        "Again, we'll start by writing out the shape of the arrays:\n",
        "\n",
        "- ``a.shape = (3, 1)``\n",
        "- ``b.shape = (3,)``\n",
        "\n",
        "Rule 1 says we must pad the shape of ``b`` with ones:\n",
        "\n",
        "- ``a.shape -> (3, 1)``\n",
        "- ``b.shape -> (1, 3)``\n",
        "\n",
        "And rule 2 tells us that we upgrade each of these ones to match the corresponding size of the other array:\n",
        "\n",
        "- ``a.shape -> (3, 3)``\n",
        "- ``b.shape -> (3, 3)``\n",
        "\n",
        "Because the result matches, these shapes are compatible. We can see this here:"
      ]
    },
    {
      "cell_type": "code",
      "metadata": {
        "id": "3SQryh9dsaCk",
        "outputId": "7d3e3fb8-88e0-41b4-9bb7-22ad3a4fb898"
      },
      "source": [
        "a + b"
      ],
      "execution_count": null,
      "outputs": [
        {
          "data": {
            "text/plain": [
              "array([[0, 1, 2],\n",
              "       [1, 2, 3],\n",
              "       [2, 3, 4]])"
            ]
          },
          "execution_count": 19,
          "metadata": {},
          "output_type": "execute_result"
        }
      ]
    },
    {
      "cell_type": "markdown",
      "metadata": {
        "id": "BG3U_40csaCl"
      },
      "source": [
        "#### Broadcasting example 3\n",
        "\n",
        "Now let's take a look at an example in which the two arrays are not compatible:"
      ]
    },
    {
      "cell_type": "code",
      "metadata": {
        "id": "5LM_3H9WsaCl"
      },
      "source": [
        "M = np.ones((3, 2))\n",
        "a = np.arange(3)"
      ],
      "execution_count": null,
      "outputs": []
    },
    {
      "cell_type": "markdown",
      "metadata": {
        "id": "X9TD5kU_saCl"
      },
      "source": [
        "This is just a slightly different situation than in the first example: the matrix ``M`` is transposed.\n",
        "How does this affect the calculation? The shape of the arrays are\n",
        "\n",
        "- ``M.shape = (3, 2)``\n",
        "- ``a.shape = (3,)``\n",
        "\n",
        "Again, rule 1 tells us that we must pad the shape of ``a`` with ones:\n",
        "\n",
        "- ``M.shape -> (3, 2)``\n",
        "- ``a.shape -> (1, 3)``\n",
        "\n",
        "By rule 2, the first dimension of ``a`` is stretched to match that of ``M``:\n",
        "\n",
        "- ``M.shape -> (3, 2)``\n",
        "- ``a.shape -> (3, 3)``\n",
        "\n",
        "Now we hit rule 3–the final shapes do not match, so these two arrays are incompatible, as we can observe by attempting this operation:"
      ]
    },
    {
      "cell_type": "code",
      "metadata": {
        "id": "y1EzdoZBsaCl",
        "outputId": "63c75316-e8c8-4242-df16-db99393a943f"
      },
      "source": [
        "M + a"
      ],
      "execution_count": null,
      "outputs": [
        {
          "ename": "ValueError",
          "evalue": "operands could not be broadcast together with shapes (3,2) (3,) ",
          "output_type": "error",
          "traceback": [
            "\u001b[0;31m---------------------------------------------------------------------------\u001b[0m",
            "\u001b[0;31mValueError\u001b[0m                                Traceback (most recent call last)",
            "\u001b[0;32m<ipython-input-21-8cac1d547906>\u001b[0m in \u001b[0;36m<module>\u001b[0;34m()\u001b[0m\n\u001b[0;32m----> 1\u001b[0;31m \u001b[0mM\u001b[0m \u001b[0;34m+\u001b[0m \u001b[0ma\u001b[0m\u001b[0;34m\u001b[0m\u001b[0;34m\u001b[0m\u001b[0m\n\u001b[0m",
            "\u001b[0;31mValueError\u001b[0m: operands could not be broadcast together with shapes (3,2) (3,) "
          ]
        }
      ]
    },
    {
      "cell_type": "markdown",
      "metadata": {
        "id": "CCdxx_s7saCm"
      },
      "source": [
        "Note the potential confusion here: you could imagine making ``a`` and ``M`` compatible by, say, padding ``a``'s shape with ones on the right rather than the left.\n",
        "But this is not how the broadcasting rules work!\n",
        "That sort of flexibility might be useful in some cases, but it would lead to potential areas of ambiguity.\n",
        "If right-side padding is what you'd like, you can do this explicitly by reshaping the array (we'll use the ``np.newaxis`` keyword. "
      ]
    },
    {
      "cell_type": "code",
      "metadata": {
        "id": "5y36LHElsaCm",
        "outputId": "e03538d1-a4be-4094-ad19-b7c3a544d192"
      },
      "source": [
        "a[:, np.newaxis].shape"
      ],
      "execution_count": null,
      "outputs": [
        {
          "data": {
            "text/plain": [
              "(3, 1)"
            ]
          },
          "execution_count": 22,
          "metadata": {},
          "output_type": "execute_result"
        }
      ]
    },
    {
      "cell_type": "code",
      "metadata": {
        "id": "AwUCBeD7saCm",
        "outputId": "e5c4bf7f-29d5-44c4-a919-755884874865"
      },
      "source": [
        "M + a[:, np.newaxis]"
      ],
      "execution_count": null,
      "outputs": [
        {
          "data": {
            "text/plain": [
              "array([[1., 1.],\n",
              "       [2., 2.],\n",
              "       [3., 3.]])"
            ]
          },
          "execution_count": 23,
          "metadata": {},
          "output_type": "execute_result"
        }
      ]
    },
    {
      "cell_type": "markdown",
      "metadata": {
        "id": "iytQJ1AbsaCn"
      },
      "source": [
        "Also note that while we've been focusing on the ``+`` operator here, these broadcasting rules apply to *any* binary ``ufunc``.\n",
        "For example, here is the ``logaddexp(a, b)`` function, which computes ``log(exp(a) + exp(b))`` with more precision than the naive approach:"
      ]
    },
    {
      "cell_type": "code",
      "metadata": {
        "id": "MGNQqQOnsaCn",
        "outputId": "bf02438b-addb-48f0-8a2b-dc72c907ad6f"
      },
      "source": [
        "np.logaddexp(M, a[:, np.newaxis])"
      ],
      "execution_count": null,
      "outputs": [
        {
          "data": {
            "text/plain": [
              "array([[1.31326169, 1.31326169],\n",
              "       [1.69314718, 1.69314718],\n",
              "       [2.31326169, 2.31326169]])"
            ]
          },
          "execution_count": 24,
          "metadata": {},
          "output_type": "execute_result"
        }
      ]
    },
    {
      "cell_type": "markdown",
      "metadata": {
        "id": "jM0pprgcsaCn"
      },
      "source": [
        "We saw that ufuncs allow a NumPy user to remove the need to explicitly write slow Python loops. Broadcasting extends this ability.\n",
        "One commonly seen example is when *centering an array* of data.\n",
        "Imagine you have an array of 10 observations, each of which consists of 3 values.\n",
        "We'll store this in a $10 \\times 3$ array:"
      ]
    },
    {
      "cell_type": "code",
      "metadata": {
        "id": "EQR3nALhsaCn"
      },
      "source": [
        "X = np.random.random((10, 3))"
      ],
      "execution_count": null,
      "outputs": []
    },
    {
      "cell_type": "code",
      "metadata": {
        "id": "bPl6jZENsaCo",
        "outputId": "e2100fb8-6abb-4597-fbb3-0496723ed3c0"
      },
      "source": [
        "# We can compute the mean of each feature using the ``mean`` aggregate across the \n",
        "#first dimension:\n",
        "Xmean = X.mean(0)\n",
        "print(Xmean)\n",
        "\n",
        "\n",
        "# And now we can center the ``X`` array by subtracting the mean (this is a broadcasting operation):\n",
        "X_centered = X - Xmean\n",
        "\n",
        "# we can check that the centered array has near zero mean:\n",
        "# To within machine precision, the mean is now zero.\n",
        "X_centered.mean(0)"
      ],
      "execution_count": null,
      "outputs": [
        {
          "name": "stdout",
          "output_type": "stream",
          "text": [
            "[0.54186648 0.28211685 0.56875068]\n"
          ]
        },
        {
          "data": {
            "text/plain": [
              "array([-5.55111512e-17, -1.11022302e-17, -3.33066907e-17])"
            ]
          },
          "execution_count": 26,
          "metadata": {},
          "output_type": "execute_result"
        }
      ]
    },
    {
      "cell_type": "markdown",
      "metadata": {
        "id": "nMOL-2aosaCo"
      },
      "source": [
        "Another place that broadcasting is very useful is in displaying images based on two-dimensional functions.\n",
        "If we want to define a function $z = f(x, y)$, broadcasting can be used to compute the function across the grid:"
      ]
    },
    {
      "cell_type": "code",
      "metadata": {
        "id": "R_KeNm4rsaCo",
        "outputId": "e1031fad-773a-4bcd-d386-4e400489a7f4"
      },
      "source": [
        "# x and y have 50 steps from 0 to 5\n",
        "x = np.linspace(0, 5, 50)\n",
        "y = np.linspace(0, 5, 50)[:, np.newaxis]\n",
        "\n",
        "z = np.sin(x) ** 10 + np.cos(10 + y * x) * np.cos(x)\n",
        "\n",
        "# We have used Matplotlib to plot this two-dimensional array (these tools will be discussed in full later)\n",
        "import matplotlib.pyplot as plt\n",
        "plt.imshow(z, origin='lower', extent=[0, 5, 0, 5], cmap='viridis')\n",
        "plt.colorbar();\n",
        "\n",
        "#The result is a compelling visualization of the two-dimensional function."
      ],
      "execution_count": null,
      "outputs": [
        {
          "data": {
            "image/png": "[encoded data removed]",
            "text/plain": [
              "<Figure size 432x288 with 2 Axes>"
            ]
          },
          "metadata": {
            "needs_background": "light"
          },
          "output_type": "display_data"
        }
      ]
    },
    {
      "cell_type": "markdown",
      "metadata": {
        "id": "WYkgFpymsaCp"
      },
      "source": [
        "### Boolean Masks\n",
        "This section covers the use of Boolean masks to examine and manipulate values within NumPy arrays.\n",
        "Masking comes up when you want to extract, modify, count, or otherwise manipulate values in an array based on some criterion: for example, you might wish to count all values greater than a certain value, or perhaps remove all outliers that are above some threshold.\n",
        "In NumPy, Boolean masking is often the most efficient way to accomplish these types of tasks."
      ]
    },
    {
      "cell_type": "markdown",
      "metadata": {
        "id": "UYcFnVOUsaCp"
      },
      "source": [
        "In the sections addressing `Universal Functions`(02.03-Computation-on-arrays-ufuncs.ipynb) we introduced ufuncs, and focused in particular on arithmetic operators. We saw that using ``+``, ``-``, ``*``, ``/``, and others on arrays leads to element-wise operations.\n",
        "NumPy also implements comparison operators such as ``<`` (less than) and ``>`` (greater than) as element-wise ufuncs.\n",
        "The result of these comparison operators is always an array with a Boolean data type.\n",
        "All six of the standard comparison operations are available:"
      ]
    },
    {
      "cell_type": "code",
      "metadata": {
        "id": "qXkL7-WNsaCp"
      },
      "source": [
        "x = np.array([1, 2, 3, 4, 5])"
      ],
      "execution_count": null,
      "outputs": []
    },
    {
      "cell_type": "code",
      "metadata": {
        "id": "OryAAB4_saCp",
        "outputId": "f5f60a18-c866-4fac-9112-7445ecaa9209"
      },
      "source": [
        "x < 3  # less than "
      ],
      "execution_count": null,
      "outputs": [
        {
          "data": {
            "text/plain": [
              "array([ True,  True, False, False, False])"
            ]
          },
          "execution_count": 3,
          "metadata": {},
          "output_type": "execute_result"
        }
      ]
    },
    {
      "cell_type": "code",
      "metadata": {
        "id": "6JtoK0xbsaCq",
        "outputId": "996b9e15-c275-41f2-8f57-980b75ecf929"
      },
      "source": [
        "x > 3  # greater than"
      ],
      "execution_count": null,
      "outputs": [
        {
          "data": {
            "text/plain": [
              "array([False, False, False,  True,  True])"
            ]
          },
          "execution_count": 4,
          "metadata": {},
          "output_type": "execute_result"
        }
      ]
    },
    {
      "cell_type": "code",
      "metadata": {
        "id": "l7q8SeRKsaCq",
        "outputId": "41e4d407-a779-46cf-dc05-1a9c9e70510c"
      },
      "source": [
        "x <= 3  # less than or equal"
      ],
      "execution_count": null,
      "outputs": [
        {
          "data": {
            "text/plain": [
              "array([ True,  True,  True, False, False])"
            ]
          },
          "execution_count": 5,
          "metadata": {},
          "output_type": "execute_result"
        }
      ]
    },
    {
      "cell_type": "code",
      "metadata": {
        "id": "LjrfHAhwsaCr"
      },
      "source": [
        "# x >= 3  # less than or equal   # Uncomment and tun the cell."
      ],
      "execution_count": null,
      "outputs": []
    },
    {
      "cell_type": "code",
      "metadata": {
        "id": "7zWKbDn9saCr",
        "outputId": "30bf7bd9-ac27-4298-efc2-d7e99426d17a"
      },
      "source": [
        "x == 3  # equal"
      ],
      "execution_count": null,
      "outputs": [
        {
          "data": {
            "text/plain": [
              "array([False, False,  True, False, False])"
            ]
          },
          "execution_count": 7,
          "metadata": {},
          "output_type": "execute_result"
        }
      ]
    },
    {
      "cell_type": "code",
      "metadata": {
        "id": "d2928vAfsaCr"
      },
      "source": [
        "# x != 3  # not equal    # Uncomment and tun the cell."
      ],
      "execution_count": null,
      "outputs": []
    },
    {
      "cell_type": "code",
      "metadata": {
        "id": "ip4dXeLlsaCr"
      },
      "source": [
        "#It is also possible to do an element-wise comparison of two arrays, \n",
        "# and to include compound expressions:"
      ],
      "execution_count": null,
      "outputs": []
    },
    {
      "cell_type": "code",
      "metadata": {
        "id": "seJzZ2CAsaCr",
        "outputId": "de7cbe19-b484-4247-d481-1e3fef84b86f"
      },
      "source": [
        "(2 * x) == (x ** 2)"
      ],
      "execution_count": null,
      "outputs": [
        {
          "data": {
            "text/plain": [
              "array([False,  True, False, False, False])"
            ]
          },
          "execution_count": 10,
          "metadata": {},
          "output_type": "execute_result"
        }
      ]
    },
    {
      "cell_type": "markdown",
      "metadata": {
        "id": "IGEVpwhFsaCr"
      },
      "source": [
        "As in the case of arithmetic operators, the comparison operators are implemented as ufuncs in NumPy; for example, when you write ``x < 3``, internally NumPy uses ``np.less(x, 3)``.\n",
        "    A summary of the comparison operators and their equivalent ufunc is shown here:\n",
        "\n",
        "| Operator\t    | Equivalent ufunc    || Operator\t   | Equivalent ufunc    |\n",
        "|---------------|---------------------||---------------|---------------------|\n",
        "|``==``         |``np.equal``         ||``!=``         |``np.not_equal``     |\n",
        "|``<``          |``np.less``          ||``<=``         |``np.less_equal``    |\n",
        "|``>``          |``np.greater``       ||``>=``         |``np.greater_equal`` |"
      ]
    },
    {
      "cell_type": "markdown",
      "metadata": {
        "id": "ExqyqF8LsaCt"
      },
      "source": [
        "Just as in the case of arithmetic ufuncs, these will work on arrays of any size and shape.\n",
        "Here is a two-dimensional example:"
      ]
    },
    {
      "cell_type": "code",
      "metadata": {
        "id": "gEaWntEtsaCt",
        "outputId": "88ae5208-330d-470f-a1fb-dbee749e8605"
      },
      "source": [
        "rng = np.random.RandomState(0)\n",
        "x = rng.randint(10, size=(3, 4))\n",
        "x"
      ],
      "execution_count": null,
      "outputs": [
        {
          "data": {
            "text/plain": [
              "array([[5, 0, 3, 3],\n",
              "       [7, 9, 3, 5],\n",
              "       [2, 4, 7, 6]])"
            ]
          },
          "execution_count": 11,
          "metadata": {},
          "output_type": "execute_result"
        }
      ]
    },
    {
      "cell_type": "code",
      "metadata": {
        "id": "0jGQHsZ3saCt",
        "outputId": "58f54d58-a5ed-4eea-f364-52553f134230"
      },
      "source": [
        "x < 6"
      ],
      "execution_count": null,
      "outputs": [
        {
          "data": {
            "text/plain": [
              "array([[ True,  True,  True,  True],\n",
              "       [False, False,  True,  True],\n",
              "       [ True,  True, False, False]])"
            ]
          },
          "execution_count": 12,
          "metadata": {},
          "output_type": "execute_result"
        }
      ]
    },
    {
      "cell_type": "markdown",
      "metadata": {
        "id": "yTbyCABQsaCt"
      },
      "source": [
        "In each case, the result is a Boolean array, and NumPy provides a number of straightforward patterns for working with these Boolean results."
      ]
    },
    {
      "cell_type": "markdown",
      "metadata": {
        "id": "fpnE7qH6saCt"
      },
      "source": [
        "#### Working with Boolean Arrays\n",
        "\n",
        "Given a Boolean array, there are a host of useful operations you can do.\n",
        "We'll work with ``x``, the two-dimensional array we created earlier."
      ]
    },
    {
      "cell_type": "code",
      "metadata": {
        "id": "KwqzSUOEsaCt",
        "outputId": "84c54b6b-3d98-436e-f8a4-01b706309949"
      },
      "source": [
        "print(x)"
      ],
      "execution_count": null,
      "outputs": [
        {
          "name": "stdout",
          "output_type": "stream",
          "text": [
            "[[5 0 3 3]\n",
            " [7 9 3 5]\n",
            " [2 4 7 6]]\n"
          ]
        }
      ]
    },
    {
      "cell_type": "markdown",
      "metadata": {
        "id": "zH3_zY-fsaCt"
      },
      "source": [
        "To count the number of ``True`` entries in a Boolean array, ``np.count_nonzero`` is useful:"
      ]
    },
    {
      "cell_type": "code",
      "metadata": {
        "id": "poejSpX3saCu",
        "outputId": "4a82bde4-5034-4d81-c262-d0ebadff7439"
      },
      "source": [
        "# how many values less than 6?\n",
        "np.count_nonzero(x < 6)"
      ],
      "execution_count": null,
      "outputs": [
        {
          "data": {
            "text/plain": [
              "8"
            ]
          },
          "execution_count": 14,
          "metadata": {},
          "output_type": "execute_result"
        }
      ]
    },
    {
      "cell_type": "code",
      "metadata": {
        "id": "ogyNvjyOsaCv",
        "outputId": "b9c43701-e4fa-4115-861a-aa70c1590322"
      },
      "source": [
        "# Another way to get at this information is to use np.sum; in this case, \n",
        "# False is interpreted as 0, and True is interpreted as 1:\n",
        "np.sum(x < 6)"
      ],
      "execution_count": null,
      "outputs": [
        {
          "data": {
            "text/plain": [
              "8"
            ]
          },
          "execution_count": 15,
          "metadata": {},
          "output_type": "execute_result"
        }
      ]
    },
    {
      "cell_type": "markdown",
      "metadata": {
        "id": "MMnNOLEksaCv"
      },
      "source": [
        "The benefit of ``sum()`` is that like with other NumPy aggregation functions,  this summation can be done along rows or columns as well:"
      ]
    },
    {
      "cell_type": "code",
      "metadata": {
        "id": "EA6ItKOOsaCv",
        "outputId": "e6719038-1f78-4038-84a6-06a9af70ae0f"
      },
      "source": [
        "# how many values less than 6 in each row?\n",
        "np.sum(x < 6, axis=1)"
      ],
      "execution_count": null,
      "outputs": [
        {
          "data": {
            "text/plain": [
              "array([4, 2, 2])"
            ]
          },
          "execution_count": 16,
          "metadata": {},
          "output_type": "execute_result"
        }
      ]
    },
    {
      "cell_type": "markdown",
      "metadata": {
        "id": "6M-Ognn3saCw"
      },
      "source": [
        "This counts the number of values less than 6 in each row of the matrix. If we're interested in quickly checking whether any or all the values are true, we can use ``np.any`` or ``np.all``:"
      ]
    },
    {
      "cell_type": "code",
      "metadata": {
        "id": "vWdFJMDWsaCw",
        "outputId": "72979a1c-5a55-486c-a34e-4324ee21f65a"
      },
      "source": [
        "# are there any values greater than 8?\n",
        "np.any(x > 8)"
      ],
      "execution_count": null,
      "outputs": [
        {
          "data": {
            "text/plain": [
              "True"
            ]
          },
          "execution_count": 17,
          "metadata": {},
          "output_type": "execute_result"
        }
      ]
    },
    {
      "cell_type": "code",
      "metadata": {
        "id": "KUC-zEifsaCw",
        "outputId": "2e9af2fa-6270-4bb3-d0fc-9f21d7a6fda3"
      },
      "source": [
        "# are there any values less than zero?\n",
        "np.any(x < 0)"
      ],
      "execution_count": null,
      "outputs": [
        {
          "data": {
            "text/plain": [
              "False"
            ]
          },
          "execution_count": 18,
          "metadata": {},
          "output_type": "execute_result"
        }
      ]
    },
    {
      "cell_type": "code",
      "metadata": {
        "id": "05mHiCwysaCw",
        "outputId": "5d2a4e2e-71bc-4ef7-fe5b-679dbdfb2e55"
      },
      "source": [
        "# are all values less than 10?\n",
        "np.all(x < 10)"
      ],
      "execution_count": null,
      "outputs": [
        {
          "data": {
            "text/plain": [
              "True"
            ]
          },
          "execution_count": 19,
          "metadata": {},
          "output_type": "execute_result"
        }
      ]
    },
    {
      "cell_type": "code",
      "metadata": {
        "id": "MjfiF6eRsaCx",
        "outputId": "d04ccd9b-0fa3-491d-c0b2-acb03315714c"
      },
      "source": [
        "# are all values equal to 6?\n",
        "np.all(x == 6)"
      ],
      "execution_count": null,
      "outputs": [
        {
          "data": {
            "text/plain": [
              "False"
            ]
          },
          "execution_count": 20,
          "metadata": {},
          "output_type": "execute_result"
        }
      ]
    },
    {
      "cell_type": "markdown",
      "metadata": {
        "id": "bVS6I-yksaCx"
      },
      "source": [
        "``np.all`` and ``np.any`` can be used along particular axes as well. For example:"
      ]
    },
    {
      "cell_type": "code",
      "metadata": {
        "id": "E_YcQsfbsaCx",
        "outputId": "32256071-284b-4c6b-801b-6785dabb28e0"
      },
      "source": [
        "# are all values in each row less than 8?\n",
        "np.all(x < 8, axis=1)\n",
        "\n",
        "# Here all the elements in the first and third rows are less than 8, \n",
        "# while this is not the case for the second row.\n"
      ],
      "execution_count": null,
      "outputs": [
        {
          "data": {
            "text/plain": [
              "array([ True, False,  True])"
            ]
          },
          "execution_count": 21,
          "metadata": {},
          "output_type": "execute_result"
        }
      ]
    },
    {
      "cell_type": "markdown",
      "metadata": {
        "id": "HIs9rxdZsaCy"
      },
      "source": [
        "#### Boolean Arrays as Masks\n",
        "\n",
        "A more powerful pattern is to use Boolean arrays as masks, to select particular subsets of the data themselves.\n",
        "Returning to our ``x`` array from before, suppose we want an array of all values in the array that are less than, say, 5:"
      ]
    },
    {
      "cell_type": "code",
      "metadata": {
        "id": "srTSFFI8saCy",
        "outputId": "d4d42ffd-3bd7-4a1f-b4d4-b4a72729db88"
      },
      "source": [
        "x"
      ],
      "execution_count": null,
      "outputs": [
        {
          "data": {
            "text/plain": [
              "array([[5, 0, 3, 3],\n",
              "       [7, 9, 3, 5],\n",
              "       [2, 4, 7, 6]])"
            ]
          },
          "execution_count": 22,
          "metadata": {},
          "output_type": "execute_result"
        }
      ]
    },
    {
      "cell_type": "code",
      "metadata": {
        "id": "IM06e0_hsaCz",
        "outputId": "fb6bebef-bf62-4310-b1e7-6a12664601f2"
      },
      "source": [
        "# We can obtain a Boolean array for this condition easily, as we've already seen:\n",
        "x < 5"
      ],
      "execution_count": null,
      "outputs": [
        {
          "data": {
            "text/plain": [
              "array([[False,  True,  True,  True],\n",
              "       [False, False,  True, False],\n",
              "       [ True,  True, False, False]])"
            ]
          },
          "execution_count": 23,
          "metadata": {},
          "output_type": "execute_result"
        }
      ]
    },
    {
      "cell_type": "markdown",
      "metadata": {
        "id": "ESkIuUgKsaCz"
      },
      "source": [
        "Now to *select* these values from the array, we can simply index on this Boolean array; this is known as a *masking* operation:"
      ]
    },
    {
      "cell_type": "code",
      "metadata": {
        "id": "yf4rIBOzsaC0",
        "outputId": "b027e3f7-3800-4d89-d7a4-7c6439273bc5"
      },
      "source": [
        "x[x < 5]"
      ],
      "execution_count": null,
      "outputs": [
        {
          "data": {
            "text/plain": [
              "array([0, 3, 3, 3, 2, 4])"
            ]
          },
          "execution_count": 24,
          "metadata": {},
          "output_type": "execute_result"
        }
      ]
    },
    {
      "cell_type": "markdown",
      "metadata": {
        "id": "8LNcsJzqsaC1"
      },
      "source": [
        "What is returned is a one-dimensional array filled with all the values that meet this condition; in other words, all the values in positions at which the mask array is ``True``. We are then free to operate on these values as we wish."
      ]
    },
    {
      "cell_type": "markdown",
      "metadata": {
        "id": "kHxVQKqlsaC1"
      },
      "source": [
        "## Additional Functionality\n",
        "\n",
        "\n",
        "\n",
        "### Vectorization\n",
        "\n",
        "`Vectorization`, along with the **broadcasting**, is the basis of the internal implementation\n",
        "of NumPy. The application of **vectorization** leads to\n",
        "a more concise and readable code, and you can say that it will appear more “Pythonic”\n",
        "in its appearance. For example, NumPy allows you to express the multiplication\n",
        "of two arrays as shown:\n",
        "$$a * b$$\n",
        "Or even two matrices:\n",
        "$$A * B.$$\n",
        "\n",
        "In other languages, such operations would be expressed with many nested loops and\n",
        "the for construct. For example, the first operation would be expressed in the following way:\n",
        "\n",
        "\n",
        "  `for (i = 0; i < rows; i++){\n",
        "  c[i] = a[i]*b[i];\n",
        "}`\n",
        "\n",
        "While the product of matrices would be expressed as follows:\n",
        "\n",
        "`for( i=0; i < rows; i++){\n",
        "   for(j=0; j < columns; j++){\n",
        "      c[i][j] = a[i][j]*b[i][j];\n",
        "   }\n",
        "}\n",
        "`\n"
      ]
    },
    {
      "cell_type": "markdown",
      "metadata": {
        "id": "zAFMBB8wsaC1"
      },
      "source": [
        "\n",
        "### Linear Algebra Using Numpy\n",
        "\n",
        "Linear algebra is an integral part of the domain of Machine Learning. Most of the algorithms we will deal with can be concisely expressed using the operations of linear algebra. One of the most widely used operations in linear algebra is the dot product. This can be performed on two compatible `ndarrays` by using the `dot` function."
      ]
    },
    {
      "cell_type": "code",
      "metadata": {
        "id": "CZ4TqIkQsaC1",
        "outputId": "9682a254-8c98-4ca9-9108-2103e7478fc7"
      },
      "source": [
        "A = np.array([[1,2,3],[4,5,6],[7,8,9]])\n",
        "B = np.array([[9,8,7],[6,5,4],[1,2,3]])\n",
        "A.dot(B)"
      ],
      "execution_count": null,
      "outputs": [
        {
          "data": {
            "text/plain": [
              "array([[ 24,  24,  24],\n",
              "       [ 72,  69,  66],\n",
              "       [120, 114, 108]])"
            ]
          },
          "execution_count": 28,
          "metadata": {},
          "output_type": "execute_result"
        }
      ]
    },
    {
      "cell_type": "markdown",
      "metadata": {
        "id": "zhxypreFsaC2"
      },
      "source": [
        "With Anaconda’s scientific Python package based around Python 3.5 and above,\n",
        "one can use the `@` symbol for matrix multiplication, as follows:"
      ]
    },
    {
      "cell_type": "code",
      "metadata": {
        "id": "yNQkf2QtsaC2",
        "outputId": "d6d163fe-7281-4c32-895c-92ca119aea77"
      },
      "source": [
        "A = np.ones((2, 2))\n",
        "B = np.ones((2, 2))\n",
        "A @ B"
      ],
      "execution_count": null,
      "outputs": [
        {
          "data": {
            "text/plain": [
              "array([[2., 2.],\n",
              "       [2., 2.]])"
            ]
          },
          "execution_count": 25,
          "metadata": {},
          "output_type": "execute_result"
        }
      ]
    },
    {
      "cell_type": "markdown",
      "metadata": {
        "id": "0sLI9pSVsaC2"
      },
      "source": [
        "Another popular matrix operation is transpose of a matrix. This can be easily achieved by using the `T` function"
      ]
    },
    {
      "cell_type": "code",
      "metadata": {
        "id": "AQC1J0wIsaC2",
        "outputId": "790cef85-2606-4637-8c99-86485ccfa295"
      },
      "source": [
        "A = np.arange(15).reshape(3,5)\n",
        "A.T"
      ],
      "execution_count": null,
      "outputs": [
        {
          "data": {
            "text/plain": [
              "array([[ 0,  5, 10],\n",
              "       [ 1,  6, 11],\n",
              "       [ 2,  7, 12],\n",
              "       [ 3,  8, 13],\n",
              "       [ 4,  9, 14]])"
            ]
          },
          "execution_count": 29,
          "metadata": {},
          "output_type": "execute_result"
        }
      ]
    },
    {
      "cell_type": "markdown",
      "metadata": {
        "id": "LIGk2adKsaC2"
      },
      "source": [
        "Oftentimes, we need to find out decomposition of a matrix into its constituents factors. This is called matrix factorization. This can be achieved by the appropriate functions. A popular matrix factorization method is `SVD factorization`, which returns decomposition of a matrix into three different matrices. This can be done using `linalg.svd` function."
      ]
    },
    {
      "cell_type": "code",
      "metadata": {
        "id": "W4x7dvxHsaC2",
        "outputId": "735fe106-46b2-4be2-9ab5-5d0f0c6c08bc"
      },
      "source": [
        "np.linalg.svd(A)"
      ],
      "execution_count": null,
      "outputs": [
        {
          "data": {
            "text/plain": [
              "(array([[-0.15425367,  0.89974393,  0.40824829],\n",
              "        [-0.50248417,  0.28432901, -0.81649658],\n",
              "        [-0.85071468, -0.3310859 ,  0.40824829]]),\n",
              " array([3.17420265e+01, 2.72832424e+00, 8.10792259e-16]),\n",
              " array([[-0.34716018, -0.39465093, -0.44214167, -0.48963242, -0.53712316],\n",
              "        [-0.69244481, -0.37980343, -0.06716206,  0.24547932,  0.55812069],\n",
              "        [ 0.49916309, -0.8355069 ,  0.19887686,  0.1121146 ,  0.02535234],\n",
              "        [-0.30036899, -0.03396104,  0.33716014,  0.62903881, -0.63186892],\n",
              "        [-0.24620048, -0.02783651,  0.80422076, -0.54013007,  0.0099463 ]]))"
            ]
          },
          "execution_count": 30,
          "metadata": {},
          "output_type": "execute_result"
        }
      ]
    },
    {
      "cell_type": "markdown",
      "metadata": {
        "id": "XvIiGmGFsaC3"
      },
      "source": [
        "Linear algebra is often also used to solve a system of equations. Using the matrix notation of system of equations and the provided function of numpy, we can easily solve such a system of equation. Consider the system of equations:\n",
        "\n",
        "\n",
        "\\begin{cases} 7x + 5y -3z = 16 \\\\ 3x - 5y + 2z = -8  \\\\ 5x + 3y - 7z = 0 \\end{cases} \n",
        "\n",
        "This can be represented as two matrices: the coefficient matrix (a in the example) and the constants vector (b in the example)."
      ]
    },
    {
      "cell_type": "code",
      "metadata": {
        "id": "D9YF_rR3saC3",
        "outputId": "9cadc114-b370-49b4-fe3a-cb33bd322a86"
      },
      "source": [
        "a = np.array([[7,5,-3], [3,-5,2],[5,3,-7]])\n",
        "b = np.array([16,-8,0])\n",
        "x = np.linalg.solve(a, b)\n",
        "x"
      ],
      "execution_count": null,
      "outputs": [
        {
          "data": {
            "text/plain": [
              "array([1., 3., 2.])"
            ]
          },
          "execution_count": 31,
          "metadata": {},
          "output_type": "execute_result"
        }
      ]
    },
    {
      "cell_type": "markdown",
      "metadata": {
        "id": "U6Rv2uCvsaC3"
      },
      "source": [
        "We can also check if the solution is correct using the `np.allclose` function."
      ]
    },
    {
      "cell_type": "code",
      "metadata": {
        "id": "OZP_tAPEsaC3",
        "outputId": "ae4c418f-5b4a-4591-a34d-04b22b913718"
      },
      "source": [
        "np.allclose(np.dot(a, x), b)"
      ],
      "execution_count": null,
      "outputs": [
        {
          "data": {
            "text/plain": [
              "True"
            ]
          },
          "execution_count": 32,
          "metadata": {},
          "output_type": "execute_result"
        }
      ]
    },
    {
      "cell_type": "markdown",
      "metadata": {
        "id": "yiI1HzzvsaC5"
      },
      "source": [
        "Similarly, functions are there for finding the inverse of a matrix, eigen vectors and eigen values of a matrix, norm of a matrix, determinant of a matrix, and so on. Take a look at the details of the function implemented at [numpy.linalg](https://docs.scipy.org/doc/numpy/reference/routines.linalg.html)."
      ]
    },
    {
      "cell_type": "markdown",
      "metadata": {
        "id": "EKvI6pFSsaC5"
      },
      "source": [
        "### Loading and Saving Data in Binary Files\n",
        "NumPy provides a pair of functions called `save()` and `load()` that enable you to save\n",
        "and then later retrieve data stored in binary format.\n",
        "Once you have an array to save, for example, one that contains the results of your\n",
        "data analysis processing, you simply call the `save()` function and specify as arguments\n",
        "the name of the file and the array. The file will automatically be given the `.npy` extension."
      ]
    },
    {
      "cell_type": "code",
      "metadata": {
        "id": "4Ej-cuTEsaC5"
      },
      "source": [
        "data=([[ 86466285,  76943895,  22678279],\n",
        "       [ 12452825,  54751384,  6499123],\n",
        "       [ 6216566,  85045125,  92093862],\n",
        "       [ 58401239,  93455057,  28972379]])"
      ],
      "execution_count": null,
      "outputs": []
    },
    {
      "cell_type": "code",
      "metadata": {
        "id": "TkeEktQ_saC5"
      },
      "source": [
        "np.save('saved_data',data)"
      ],
      "execution_count": null,
      "outputs": []
    },
    {
      "cell_type": "markdown",
      "metadata": {
        "id": "nYWAVcxnsaC6"
      },
      "source": [
        "When you need to recover the data stored in a `.npy` file, you use the `load()` function\n",
        "by specifying the filename as the argument, this time adding the extension `.npy` ."
      ]
    },
    {
      "cell_type": "code",
      "metadata": {
        "id": "F6eWGBU5saC6",
        "outputId": "38d46f73-1699-4751-d83d-fdf2f2a55686"
      },
      "source": [
        "loaded_data = np.load('saved_data.npy')\n",
        "loaded_data "
      ],
      "execution_count": null,
      "outputs": [
        {
          "data": {
            "text/plain": [
              "array([[86466285, 76943895, 22678279],\n",
              "       [12452825, 54751384,  6499123],\n",
              "       [ 6216566, 85045125, 92093862],\n",
              "       [58401239, 93455057, 28972379]])"
            ]
          },
          "execution_count": 8,
          "metadata": {},
          "output_type": "execute_result"
        }
      ]
    },
    {
      "cell_type": "markdown",
      "metadata": {
        "id": "jJfNHLLzsaC6"
      },
      "source": [
        "\n",
        "    \n",
        "### Going deeper\n",
        "\n",
        "In this tutorial, you discovered the fundamentals of `Numpy` for `Practical Machine\n",
        "Learning`. If you have practised along with me, you should know what you need for the next step. There is much more one can say about this powerful `Python library` and if you are looking to go deeper, the following are great ressources:\n",
        "\n",
        "#### Books\n",
        " 1. [Python for Data Analysis, 2017](http://amzn.to/2B1sfXi)\n",
        "\n",
        " 2. [Guide to NumPy, 2015](http://amzn.to/2j3kEzd)   \n",
        "\n",
        "\n",
        "####  References\n",
        "\n",
        " 1. [NumPy Reference](https://docs.scipy.org/doc/numpy-1.13.0/reference/)\n",
        " \n",
        " 2. [The N-dimensional array](https://docs.scipy.org/doc/numpy-1.13.0/reference/arrays.ndarray.html)\n",
        " \n",
        " 3. [Array creation routines](https://docs.scipy.org/doc/numpy-1.13.0/reference/routines.array-creation.html)\n",
        " \n",
        " 4. [The official NumPy documentation](http://docs.scipy.org/doc/numpy/reference/)\n",
        " \n",
        " 5. [More than 15 jupyter notebooks to learn Numpy](https://www.kaggle.com/getting-started/115421)\n",
        "     \n",
        " 6. [Python Data Science Handbook](https://colab.research.google.com/github/jakevdp/PythonDataScienceHandbook/blob/master/notebooks/Index.ipynb#scrollTo=NUnISkrldkYn)\n",
        "     \n",
        " 7. [Introduction to Numpy](https://github.com/edyoda/data-science-complete-tutorial/blob/master/1.%20NumPy.ipynb)\n",
        "     \n",
        " 8. [Python-numpy-tutorial](https://github.com/cs231n/cs231n.github.io/blob/master/python-numpy-tutorial.md)\n",
        "     \n",
        " 9. [NumpyPandas-course](https://github.com/guiwitz/NumpyPandas_course)\n",
        " \n",
        " "
      ]
    }
  ]
}