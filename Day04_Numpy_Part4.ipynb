{
  "nbformat": 4,
  "nbformat_minor": 0,
  "metadata": {
    "kernelspec": {
      "display_name": "Python 3",
      "language": "python",
      "name": "python3"
    },
    "language_info": {
      "codemirror_mode": {
        "name": "ipython",
        "version": 3
      },
      "file_extension": ".py",
      "mimetype": "text/x-python",
      "name": "python",
      "nbconvert_exporter": "python",
      "pygments_lexer": "ipython3",
      "version": "3.8.10"
    },
    "colab": {
      "name": "Day04-Numpy-Part4.ipynb",
      "provenance": [],
      "include_colab_link": true
    }
  },
  "cells": [
    {
      "cell_type": "markdown",
      "metadata": {
        "id": "view-in-github",
        "colab_type": "text"
      },
      "source": [
        "<a href=\"https://colab.research.google.com/github/gabayae/33-Days-of-Parallel-Reading/blob/main/Day04_Numpy_Part4.ipynb\" target=\"_parent\"><img src=\"https://colab.research.google.com/assets/colab-badge.svg\" alt=\"Open In Colab\"/></a>"
      ]
    },
    {
      "cell_type": "markdown",
      "metadata": {
        "id": "l-ef20Zez0lM"
      },
      "source": [
        "#    <center> <b> <span style=\"color:orange;\" >  `33 Days of Parallel Reading` </span> </b></center>\n",
        "\n",
        "\n",
        "## <center> <b> <span style=\"color:orange;\"> An initiation to Machine Learning </span> </b></center>\n",
        "\n",
        "### <center> <b> <span style=\"color:blue;\"> A comprehensive guide to Numpy for Data manipulation </span> </b></center>\n",
        "\n",
        "\n",
        "\n",
        "\n",
        "#### Author: [Yaé Ulrich Gaba](https://github.com/gabayae)\n",
        "\n",
        "#### Link to the notebook on the repo: [A comprehensive guide to Numpy](https://github.com/gabayae/-66DaysOfData-KennethJee/edit/main/README.md)"
      ]
    },
    {
      "cell_type": "markdown",
      "metadata": {
        "id": "BDhv-I6xz0lR"
      },
      "source": [
        "## ToC \n",
        "\n",
        "- [NumPy](#NumPy)  \n",
        "  - [Overview](#Overview)  \n",
        "  - [Getting Started](#Getting-Started)\n",
        "    - [Load packages](#Load-packages)\n",
        "    - [Introduction to Numpy](Introduction-to-Numpy)\n",
        "  - [NumPy Arrays](#NumPy-Arrays) \n",
        "    - [NumPy Arrays from Python Lists](#NumPy-Arrays-from-Python-Lists)\n",
        "    - [NumPy Arrays using the function arange()](#NumPy-Arrays-using-the-function-arange())\n",
        "    - [NumPy Arrays using the function linspace()](#NumPy-Arrays-using-the-function-linspace())\n",
        "    - [NumPy Array Attributes](#NumPy-Array-Attributes)\n",
        "    - [Some Numpy Special Arrays](#Some-Numpy-Special-Arrays)\n",
        "    - [NumPy Arrays using the function empty()](#NumPy-Arrays-using-the-function-empty())\n",
        "  - [Operations on Arrays](#Operations-on-Arrays)\n",
        "    - [Array Concatenation and Splitting](#Array-Concatenation-and-Splitting)\n",
        "    - [Numpy Arrays Universal Functions](NumPy-Arrays-Universal-Functions)\n",
        "    - [Aggregation Functions](#Aggregation-Functions)\n",
        "    - [Broadcasting](#Broadcasting)\n",
        "    - [Boolean Masks](#Boolean-masks)\n",
        "  - [Additional Functionality](#Additional-Functionality)\n",
        "    - [Linear Algebra Using Numpy](#Linear-Algebra-Using-Numpy)"
      ]
    },
    {
      "cell_type": "markdown",
      "metadata": {
        "id": "oUjeQ2tvz0lT"
      },
      "source": [
        "## Overview\n",
        "\n",
        "\n",
        "Data manipulation in Python is nearly synonymous with NumPy array manipulation: even newer tools like Pandas ([next lesson]()) are built around the NumPy array. This notebook will present several examples of using NumPy array manipulation to access data and subarrays, and to split, reshape, and join the arrays. Get to know them well!\n",
        "\n",
        "[NumPy](https://en.wikipedia.org/wiki/NumPy) (pronounced /ˈnʌmpaɪ/ (NUM-py) or sometimes /ˈnʌmpi/ (NUM-pee)) is a library for the Python programming language, adding support for large, multi-dimensional arrays and matrices, along with a large collection of high-level mathematical functions to operate on these arrays.\n",
        "\n",
        "[NumPy](https://en.wikipedia.org/wiki/NumPy) is a first-rate library for numerical programming\n",
        "\n",
        "- Widely used in academia, finance and industry.  \n",
        "- Mature, fast, stable and under continuous development.  "
      ]
    },
    {
      "cell_type": "markdown",
      "metadata": {
        "id": "SGOZGzo2z0lU"
      },
      "source": [
        "## Getting Started\n",
        "\n",
        "### Load packages\n",
        "\n",
        "In order to be able to use numpy we need to import the library using the special word `import`. Also, to avoid typing `numpy` every time we want to use one if its functions we can provide an alias using the special word `as`:"
      ]
    },
    {
      "cell_type": "code",
      "metadata": {
        "id": "EZW416-Kz0lV"
      },
      "source": [
        "import numpy as np"
      ],
      "execution_count": null,
      "outputs": []
    },
    {
      "cell_type": "markdown",
      "metadata": {
        "id": "JSuZctviz0lX"
      },
      "source": [
        "### Introduction to Numpy\n",
        "\n",
        "Now, we have access to all the functions available in `numpy` by typing `np.name_of_function`. For example, the equivalent of `1 + 1` in Python can be done in `numpy`:"
      ]
    },
    {
      "cell_type": "code",
      "metadata": {
        "id": "vTn0dQdAz0lY",
        "outputId": "e659ca3b-4a50-4ca9-fdfc-c7df5b7a8117"
      },
      "source": [
        "np.add(1,1)"
      ],
      "execution_count": null,
      "outputs": [
        {
          "data": {
            "text/plain": [
              "2"
            ]
          },
          "execution_count": 2,
          "metadata": {},
          "output_type": "execute_result"
        }
      ]
    },
    {
      "cell_type": "markdown",
      "metadata": {
        "id": "huGzfRJWz0la"
      },
      "source": [
        "Although this might not at first seem very useful, even simple operations like this one can be much quicker in `numpy` than in standard Python when using lots of numbers (large arrays).\n",
        "\n",
        "To access the documentation explaining how a function is used, its input parameters and output format we can press `Shift+Tab` after the function name. Try this in the cell below"
      ]
    },
    {
      "cell_type": "code",
      "metadata": {
        "id": "9NBUM46Wz0lb",
        "outputId": "017627bc-9e8a-42f9-e207-501f50540c32"
      },
      "source": [
        "np.add"
      ],
      "execution_count": null,
      "outputs": [
        {
          "data": {
            "text/plain": [
              "<ufunc 'add'>"
            ]
          },
          "execution_count": 3,
          "metadata": {},
          "output_type": "execute_result"
        }
      ]
    },
    {
      "cell_type": "markdown",
      "metadata": {
        "id": "ARMBGmVyz0lc"
      },
      "source": [
        "## NumPy Arrays\n",
        "\n",
        "The core concept in numpy is the `array` which is equivalent to lists of numbers but can be multidimensional. \n",
        "The essential problem that NumPy solves is fast array processing. The most important structure that NumPy defines is an array data type formally called a [numpy.ndarray](http://docs.scipy.org/doc/numpy/reference/arrays.ndarray.html). NumPy arrays power a large proportion of the scientific Python ecosystem. Let us list ways of creating Numpy arrays one by one, with Examples.\n",
        "\n",
        "\n"
      ]
    },
    {
      "cell_type": "markdown",
      "metadata": {
        "id": "kBKT-JSvz0lc"
      },
      "source": [
        "### NumPy Arrays from Python Lists"
      ]
    },
    {
      "cell_type": "code",
      "metadata": {
        "id": "_jwKLPzJz0le",
        "outputId": "31f2af3c-a43e-45b3-e7c4-a376b0f5f3d4"
      },
      "source": [
        "# making a python list li\n",
        "li = [8,5,6,9,4,2]\n",
        "\n",
        "\n",
        "# creating array out of it\n",
        "numpy_array_from_list = np.array(li)\n",
        "\n",
        "# printing the array\n",
        "print(numpy_array_from_list)\n"
      ],
      "execution_count": null,
      "outputs": [
        {
          "name": "stdout",
          "output_type": "stream",
          "text": [
            "[8 5 6 9 4 2]\n"
          ]
        }
      ]
    },
    {
      "cell_type": "code",
      "metadata": {
        "id": "ifFuq4rCz0le",
        "outputId": "f335682c-23e7-464e-b922-538d2a1a1226"
      },
      "source": [
        "# checking the type of numpy_array_from_list\n",
        "type(numpy_array_from_list)"
      ],
      "execution_count": null,
      "outputs": [
        {
          "data": {
            "text/plain": [
              "numpy.ndarray"
            ]
          },
          "execution_count": 5,
          "metadata": {},
          "output_type": "execute_result"
        }
      ]
    },
    {
      "cell_type": "markdown",
      "metadata": {
        "id": "dvaPpihFz0lf"
      },
      "source": [
        "We can also pass a list manually without explicitly defining it."
      ]
    },
    {
      "cell_type": "code",
      "metadata": {
        "id": "lmnClWnlz0lf",
        "outputId": "b5ca1ca6-d318-4344-e9a5-b35e7a05beae"
      },
      "source": [
        "numpy_array_from_list1 = np.array([5,7,4,1,5,6])\n",
        "print(numpy_array_from_list1)"
      ],
      "execution_count": null,
      "outputs": [
        {
          "name": "stdout",
          "output_type": "stream",
          "text": [
            "[5 7 4 1 5 6]\n"
          ]
        }
      ]
    },
    {
      "cell_type": "code",
      "metadata": {
        "id": "Sg_eR8nlz0lg",
        "outputId": "acd632af-5d9f-4b3a-de4b-c6afae9133b8"
      },
      "source": [
        "type(numpy_array_from_list1)"
      ],
      "execution_count": null,
      "outputs": [
        {
          "data": {
            "text/plain": [
              "numpy.ndarray"
            ]
          },
          "execution_count": 7,
          "metadata": {},
          "output_type": "execute_result"
        }
      ]
    },
    {
      "cell_type": "markdown",
      "metadata": {
        "id": "Jhh5fF4dz0lg"
      },
      "source": [
        "Other arguments which are optional can also be included while creating the Numpy arrays. One of the optional parameter, that you might find useful is:\n",
        "\n",
        "<b> <span style=\"color:brown;\" >  dtype </span> </b>: This argument specifies the data-type of the array being created. Since, unlike lists, all the elements in the Numpy array are of the same data-type. The datatypes ranging from float to complex, all are acceptable.\n",
        "\n",
        "Let us see with an example:"
      ]
    },
    {
      "cell_type": "code",
      "metadata": {
        "id": "Tcf0A9y5z0lh",
        "outputId": "6138f6c7-e238-4936-dcd1-8745d9de322a"
      },
      "source": [
        "numpy_array_float = np.array([1,8,5,59,8,98], dtype = 'float')\n",
        "print(numpy_array_float)\n",
        "\n",
        "\n",
        "print(\"======================================\")\n",
        "\n",
        "# let's try Numpy array with string as input\n",
        "str = ['the','air','after','summer','rain']\n",
        "numpy_array_str = np.array(str, dtype = 'str')\n",
        "print(numpy_array_str)\n",
        "\n",
        "\n",
        "# In a similar manner, other data-types can also be used to create a Numpy array."
      ],
      "execution_count": null,
      "outputs": [
        {
          "name": "stdout",
          "output_type": "stream",
          "text": [
            "[ 1.  8.  5. 59.  8. 98.]\n",
            "======================================\n",
            "['the' 'air' 'after' 'summer' 'rain']\n"
          ]
        }
      ]
    },
    {
      "cell_type": "markdown",
      "metadata": {
        "id": "qBz8y4fjz0li"
      },
      "source": [
        "A short documentation about the `np.array` function can be found by doing `np.array?`"
      ]
    },
    {
      "cell_type": "code",
      "metadata": {
        "id": "TaZEMUiyz0li"
      },
      "source": [
        "#np.array?  # Uncomment to run the cell."
      ],
      "execution_count": null,
      "outputs": []
    },
    {
      "cell_type": "markdown",
      "metadata": {
        "id": "FG2Hxgpiz0lj"
      },
      "source": [
        "### NumPy Arrays using the function arange()\n",
        "\n",
        "The `arange()` function is one of the Numpy's most used method for creating an array within a specified range. The first argument takes the **starting point** of the array you want to create, second is the **stop point** and the third is the **step** (just like python list slicing function). The last argument is again *dtype*, which is optional: `arange(start, end, step, dtype)`"
      ]
    },
    {
      "cell_type": "code",
      "metadata": {
        "id": "IEPVu6fOz0lj",
        "outputId": "6c41b07d-f234-4bcd-f079-6b1d66e9fff2"
      },
      "source": [
        "# creating an array starting from 0 ending with 10 \n",
        "# and increasing with a step of 2\n",
        "arange_array1 = np.arange(0,11,2)   # writing 11 instead of 10 since range is exclusive\n",
        "print(\"First array:\", arange_array1)\n",
        "print(\"======================================\")\n",
        "\n",
        "\n",
        "# array starting from 50 going till 120 with step of 4\n",
        "arange_array2 = np.arange(50,121,4)\n",
        "print(\"Second Array:\", arange_array2)\n",
        "print(\"======================================\")\n",
        "\n",
        "\n",
        "# starting from 0(by default), stopping at 14(don't forget 15 is exclusive), step=1(by default)\n",
        "arange_array3 = np.arange(15) \n",
        "print(\"Third Array:\", arange_array3)\n",
        "print(\"======================================\")\n",
        "\n",
        "\n",
        "# okay now lets print backward counting: 20 to 1\n",
        "arange_array4 = np.arange(20,0,-1)\n",
        "print(\"Reverse Array:\", arange_array4)\n"
      ],
      "execution_count": null,
      "outputs": [
        {
          "name": "stdout",
          "output_type": "stream",
          "text": [
            "First array: [ 0  2  4  6  8 10]\n",
            "======================================\n",
            "Second Array: [ 50  54  58  62  66  70  74  78  82  86  90  94  98 102 106 110 114 118]\n",
            "======================================\n",
            "Third Array: [ 0  1  2  3  4  5  6  7  8  9 10 11 12 13 14]\n",
            "======================================\n",
            "Reverse Array: [20 19 18 17 16 15 14 13 12 11 10  9  8  7  6  5  4  3  2  1]\n"
          ]
        }
      ]
    },
    {
      "cell_type": "markdown",
      "metadata": {
        "id": "E2KMlEkqz0lk"
      },
      "source": [
        "### NumPy Arrays using the function linspace()\n",
        "\n",
        "Like the `arange()` function, the `linspace()` function can also be used to create Numpy array. In the `arange()` function, we had control over where to start the Numpy array from, where to stop and step points but with `linspace()` we can maintain a proper linear stepping or spacing between array elements value while generating the array. The `linspace()` function takes arguments: **start index**, **end index** and the **number of elements** to be outputted. These number of elements would be linearly spaced in the range mentioned: `linspace(start_index, end_index, num_of_elements)`. Now let's take a code example,\n"
      ]
    },
    {
      "cell_type": "code",
      "metadata": {
        "id": "f2PoSvzvz0lk",
        "outputId": "9b811589-d3b3-4dde-a087-d1a44987a916"
      },
      "source": [
        "# printing arr consisting of 10 values in between \n",
        "# range 15, 75 spaced appropriately.\n",
        "arr = np.linspace(15, 75, 10)     \n",
        "print(\"First Array\\n\", arr)\n",
        "\n",
        "print(\"=========================================================\")\n",
        "\n",
        "# properly spaced array of 25 elements\n",
        "arr1 = np.linspace(50,100,25)   \n",
        "print(\"Second Array\\n\", arr1)"
      ],
      "execution_count": null,
      "outputs": [
        {
          "name": "stdout",
          "output_type": "stream",
          "text": [
            "First Array\n",
            " [15.         21.66666667 28.33333333 35.         41.66666667 48.33333333\n",
            " 55.         61.66666667 68.33333333 75.        ]\n",
            "=========================================================\n",
            "Second Array\n",
            " [ 50.          52.08333333  54.16666667  56.25        58.33333333\n",
            "  60.41666667  62.5         64.58333333  66.66666667  68.75\n",
            "  70.83333333  72.91666667  75.          77.08333333  79.16666667\n",
            "  81.25        83.33333333  85.41666667  87.5         89.58333333\n",
            "  91.66666667  93.75        95.83333333  97.91666667 100.        ]\n"
          ]
        }
      ]
    },
    {
      "cell_type": "markdown",
      "metadata": {
        "id": "1hDtpJmcz0ll"
      },
      "source": [
        "### NumPy Array Attributes\n",
        "\n",
        "Before we continue in showing other ways of generating Numpy arrays, let's discuss some useful array attributes. We'll start by defining three random arrays, a one-dimensional, two-dimensional, and three-dimensional array. We'll use NumPy's random number generator, which we will seed with a set value in order to ensure that the same random arrays are generated each time this code is run:"
      ]
    },
    {
      "cell_type": "code",
      "metadata": {
        "id": "f4OabE_Nz0ll"
      },
      "source": [
        "np.random.seed(0)  # seed for reproducibility\n",
        "\n",
        "x1 = np.random.randint(10, size=6)  # One-dimensional array\n",
        "x2 = np.random.randint(10, size=(3, 4))  # Two-dimensional array\n",
        "x3 = np.random.randint(10, size=(3, 4, 5))  # Three-dimensional array"
      ],
      "execution_count": null,
      "outputs": []
    },
    {
      "cell_type": "markdown",
      "metadata": {
        "id": "8WGRVC4Lz0lm"
      },
      "source": [
        "Each array has attributes `ndim` (the number of dimensions), `shape` (the size of each dimension), and `size` (the total size of the array):"
      ]
    },
    {
      "cell_type": "code",
      "metadata": {
        "id": "-pvwZk3Lz0lm",
        "outputId": "ccfd2ed7-5d39-4d6e-ce04-ff5d3258f573"
      },
      "source": [
        "print(\"x3 ndim: \", x3.ndim)\n",
        "print(\"x3 shape:\", x3.shape)\n",
        "print(\"x3 size: \", x3.size)"
      ],
      "execution_count": null,
      "outputs": [
        {
          "name": "stdout",
          "output_type": "stream",
          "text": [
            "x3 ndim:  3\n",
            "x3 shape: (3, 4, 5)\n",
            "x3 size:  60\n"
          ]
        }
      ]
    },
    {
      "cell_type": "markdown",
      "metadata": {
        "id": "SJoj989ez0lm"
      },
      "source": [
        "Another useful attribute is the `dtype`, the data type of the array (which we already discussed)."
      ]
    },
    {
      "cell_type": "code",
      "metadata": {
        "id": "-i_-EFljz0ln",
        "outputId": "17af418f-405f-4c3b-ffe8-9de550818727"
      },
      "source": [
        "print(\"dtype:\", x3.dtype)"
      ],
      "execution_count": null,
      "outputs": [
        {
          "name": "stdout",
          "output_type": "stream",
          "text": [
            "dtype: int64\n"
          ]
        }
      ]
    },
    {
      "cell_type": "markdown",
      "metadata": {
        "id": "oPMGE9b1z0lo"
      },
      "source": [
        "Other attributes include ``itemsize``, which lists the size (in bytes) of each array element, and ``nbytes``, which lists the total size (in bytes) of the array:"
      ]
    },
    {
      "cell_type": "code",
      "metadata": {
        "id": "Ilcv6K61z0lo",
        "outputId": "b6ef05da-ccd6-4e31-cfd6-78365aef9bd3"
      },
      "source": [
        "print(\"itemsize:\", x3.itemsize, \"bytes\")\n",
        "print(\"nbytes:\", x3.nbytes, \"bytes\")"
      ],
      "execution_count": null,
      "outputs": [
        {
          "name": "stdout",
          "output_type": "stream",
          "text": [
            "itemsize: 8 bytes\n",
            "nbytes: 480 bytes\n"
          ]
        }
      ]
    },
    {
      "cell_type": "markdown",
      "metadata": {
        "id": "pgg8HlC4z0lq"
      },
      "source": [
        "In general, we expect that ``nbytes`` is equal to ``itemsize`` times ``size``."
      ]
    },
    {
      "cell_type": "markdown",
      "metadata": {
        "id": "NvAGzD1hz0lq"
      },
      "source": [
        "#### Array Indexing: Accessing Single Elements\n",
        "\n",
        "If you are familiar with Python's standard list indexing, indexing in NumPy will feel quite familiar.\n",
        "In a one-dimensional array, the $i^{th}$ value (counting from zero) can be accessed by specifying the desired index in square brackets, just as with Python lists:"
      ]
    },
    {
      "cell_type": "code",
      "metadata": {
        "id": "RMurJGHfz0lq",
        "outputId": "8aa2b80e-96f3-4e82-856b-178599870e37"
      },
      "source": [
        "x1"
      ],
      "execution_count": null,
      "outputs": [
        {
          "data": {
            "text/plain": [
              "array([5, 0, 3, 3, 7, 9])"
            ]
          },
          "execution_count": 16,
          "metadata": {},
          "output_type": "execute_result"
        }
      ]
    },
    {
      "cell_type": "code",
      "metadata": {
        "id": "zNQ-6Fgtz0lq",
        "outputId": "22cb72b6-8742-4555-e12d-2caf767e78ab"
      },
      "source": [
        "print(x1[0])\n",
        "print(\"-----------\")\n",
        "\n",
        "\n",
        "print(x1[4])\n",
        "print(\"-----------\")\n",
        "\n",
        "    \n",
        "    \n",
        "\n",
        "print(x1[-1])\n",
        "print(\"-----------\")\n",
        "\n",
        "\n",
        "    \n",
        "    \n",
        "    \n",
        "print(x1[-2])\n",
        "print(\"-----------\")\n",
        "\n",
        "    "
      ],
      "execution_count": null,
      "outputs": [
        {
          "name": "stdout",
          "output_type": "stream",
          "text": [
            "5\n",
            "-----------\n",
            "7\n",
            "-----------\n",
            "9\n",
            "-----------\n",
            "7\n",
            "-----------\n"
          ]
        }
      ]
    },
    {
      "cell_type": "markdown",
      "metadata": {
        "id": "HeiE2qwSz0lq"
      },
      "source": [
        "In a multi-dimensional array, items can be accessed using a comma-separated tuple of indices:"
      ]
    },
    {
      "cell_type": "code",
      "metadata": {
        "id": "rQCH20kqz0lr",
        "outputId": "aa30a46e-4b8e-42a1-c194-eef60882caeb"
      },
      "source": [
        "x2"
      ],
      "execution_count": null,
      "outputs": [
        {
          "data": {
            "text/plain": [
              "array([[3, 5, 2, 4],\n",
              "       [7, 6, 8, 8],\n",
              "       [1, 6, 7, 7]])"
            ]
          },
          "execution_count": 18,
          "metadata": {},
          "output_type": "execute_result"
        }
      ]
    },
    {
      "cell_type": "code",
      "metadata": {
        "id": "edf7bNQBz0ls",
        "outputId": "2f4c1aed-6bcf-475e-cea4-b4d05732cd33"
      },
      "source": [
        "print(x2[0,0])\n",
        "print(\"-----------\")\n",
        "\n",
        "\n",
        "print(x2[2,0])\n",
        "print(\"-----------\")\n",
        "\n",
        "    \n",
        "    \n",
        "\n",
        "print(x2[2,-1])\n",
        "print(\"-----------\")\n",
        "\n",
        "\n",
        "    \n",
        "    \n",
        "    \n",
        "print(x2[-2])\n",
        "print(\"-----------\")"
      ],
      "execution_count": null,
      "outputs": [
        {
          "name": "stdout",
          "output_type": "stream",
          "text": [
            "3\n",
            "-----------\n",
            "1\n",
            "-----------\n",
            "7\n",
            "-----------\n",
            "[7 6 8 8]\n",
            "-----------\n"
          ]
        }
      ]
    },
    {
      "cell_type": "markdown",
      "metadata": {
        "id": "eo-zddyKz0ls"
      },
      "source": [
        "Values can also be modified using any of the above index notation:"
      ]
    },
    {
      "cell_type": "code",
      "metadata": {
        "id": "VitlTlS0z0ls",
        "outputId": "d3b9b194-169a-453e-b911-7290aa85c7e2"
      },
      "source": [
        "x2[0, 0] = 12\n",
        "x2"
      ],
      "execution_count": null,
      "outputs": [
        {
          "data": {
            "text/plain": [
              "array([[12,  5,  2,  4],\n",
              "       [ 7,  6,  8,  8],\n",
              "       [ 1,  6,  7,  7]])"
            ]
          },
          "execution_count": 20,
          "metadata": {},
          "output_type": "execute_result"
        }
      ]
    },
    {
      "cell_type": "markdown",
      "metadata": {
        "id": "_xlJBimaz0lt"
      },
      "source": [
        "Keep in mind that, unlike Python lists, NumPy arrays have a fixed type.\n",
        "This means, for example, that if you attempt to insert a floating-point value to an integer array, the value will be silently truncated. Don't be caught unaware by this behavior!"
      ]
    },
    {
      "cell_type": "code",
      "metadata": {
        "id": "tssgxlUWz0lt",
        "outputId": "d156f3eb-531d-4e9b-814c-0a715e3f0ece"
      },
      "source": [
        "x1[0] = 3.14159  # this will be truncated!\n",
        "x1"
      ],
      "execution_count": null,
      "outputs": [
        {
          "data": {
            "text/plain": [
              "array([3, 0, 3, 3, 7, 9])"
            ]
          },
          "execution_count": 21,
          "metadata": {},
          "output_type": "execute_result"
        }
      ]
    },
    {
      "cell_type": "markdown",
      "metadata": {
        "id": "ShfRdHMez0lt"
      },
      "source": [
        "#### Array Slicing: Accessing Subarrays\n",
        "\n",
        "Just as we can use square brackets to access individual array elements, we can also use them to access subarrays with the *slice* notation, marked by the colon (``:``) character.\n",
        "The NumPy slicing syntax follows that of the standard Python list; to access a slice of an array ``x``, use this:\n",
        "``` python\n",
        "x[start:stop:step]\n",
        "```\n",
        "If any of these are unspecified, they default to the values ``start=0``, ``stop=``*``size of dimension``*, ``step=1``.\n",
        "We'll take a look at accessing sub-arrays in one dimension and in multiple dimensions."
      ]
    },
    {
      "cell_type": "markdown",
      "metadata": {
        "id": "pCFgFOk8z0lu"
      },
      "source": [
        "##### One-dimensional subarrays"
      ]
    },
    {
      "cell_type": "code",
      "metadata": {
        "id": "aunYFiFEz0lu",
        "outputId": "f81ef950-95c0-43ba-e8ab-90b035f987fe"
      },
      "source": [
        "x = np.arange(10)\n",
        "x"
      ],
      "execution_count": null,
      "outputs": [
        {
          "data": {
            "text/plain": [
              "array([0, 1, 2, 3, 4, 5, 6, 7, 8, 9])"
            ]
          },
          "execution_count": 22,
          "metadata": {},
          "output_type": "execute_result"
        }
      ]
    },
    {
      "cell_type": "code",
      "metadata": {
        "id": "9Kloaeakz0lu",
        "outputId": "d22b6f15-0bfd-4c4e-ef47-d5335447ce0d"
      },
      "source": [
        "x[:5]  # first five elements"
      ],
      "execution_count": null,
      "outputs": [
        {
          "data": {
            "text/plain": [
              "array([0, 1, 2, 3, 4])"
            ]
          },
          "execution_count": 23,
          "metadata": {},
          "output_type": "execute_result"
        }
      ]
    },
    {
      "cell_type": "code",
      "metadata": {
        "id": "qmjIElELz0lv",
        "outputId": "8282b8a9-9a80-4887-92e2-f6f5b05ba0f0"
      },
      "source": [
        "x[5:]  # elements after index 5"
      ],
      "execution_count": null,
      "outputs": [
        {
          "data": {
            "text/plain": [
              "array([5, 6, 7, 8, 9])"
            ]
          },
          "execution_count": 24,
          "metadata": {},
          "output_type": "execute_result"
        }
      ]
    },
    {
      "cell_type": "code",
      "metadata": {
        "id": "rY39yVkNz0lv",
        "outputId": "0ef3e8ef-378c-4087-b95a-ae618220c64d"
      },
      "source": [
        "x[4:7]  # middle sub-array"
      ],
      "execution_count": null,
      "outputs": [
        {
          "data": {
            "text/plain": [
              "array([4, 5, 6])"
            ]
          },
          "execution_count": 25,
          "metadata": {},
          "output_type": "execute_result"
        }
      ]
    },
    {
      "cell_type": "code",
      "metadata": {
        "id": "Oxz12mOTz0lw",
        "outputId": "4aa0ea2f-c921-430e-f681-87ef67c2257f"
      },
      "source": [
        "x[::2]  # every other element"
      ],
      "execution_count": null,
      "outputs": [
        {
          "data": {
            "text/plain": [
              "array([0, 2, 4, 6, 8])"
            ]
          },
          "execution_count": 26,
          "metadata": {},
          "output_type": "execute_result"
        }
      ]
    },
    {
      "cell_type": "code",
      "metadata": {
        "id": "ndCilJgez0lw",
        "outputId": "9010c667-62a4-4cfa-ad8b-d23eca2445b5"
      },
      "source": [
        "x[1::2]  # every other element, starting at index 1"
      ],
      "execution_count": null,
      "outputs": [
        {
          "data": {
            "text/plain": [
              "array([1, 3, 5, 7, 9])"
            ]
          },
          "execution_count": 27,
          "metadata": {},
          "output_type": "execute_result"
        }
      ]
    },
    {
      "cell_type": "markdown",
      "metadata": {
        "id": "XkExsqS6z0lx"
      },
      "source": [
        "A potentially confusing case is when the ``step`` value is negative.\n",
        "In this case, the defaults for ``start`` and ``stop`` are swapped.\n",
        "This becomes a convenient way to reverse an array:"
      ]
    },
    {
      "cell_type": "code",
      "metadata": {
        "id": "_MLyBW5Lz0ly",
        "outputId": "f9d0346d-a42f-4d85-b098-5bdeec8b22ff"
      },
      "source": [
        "x[::-1]  # all elements, reversed"
      ],
      "execution_count": null,
      "outputs": [
        {
          "data": {
            "text/plain": [
              "array([9, 8, 7, 6, 5, 4, 3, 2, 1, 0])"
            ]
          },
          "execution_count": 28,
          "metadata": {},
          "output_type": "execute_result"
        }
      ]
    },
    {
      "cell_type": "code",
      "metadata": {
        "id": "XknGJK-Nz0ly",
        "outputId": "aaea2846-1d34-4180-9f36-9c62c193a115"
      },
      "source": [
        "x[5::-2]  # reversed every other from index 5"
      ],
      "execution_count": null,
      "outputs": [
        {
          "data": {
            "text/plain": [
              "array([5, 3, 1])"
            ]
          },
          "execution_count": 29,
          "metadata": {},
          "output_type": "execute_result"
        }
      ]
    },
    {
      "cell_type": "markdown",
      "metadata": {
        "id": "lc_jK_yDz0ly"
      },
      "source": [
        "##### Multi-dimensional subarrays\n",
        "\n",
        "Multi-dimensional slices work in the same way, with multiple slices separated by commas.\n",
        "For example:"
      ]
    },
    {
      "cell_type": "code",
      "metadata": {
        "id": "OB2Ld2cFz0ly",
        "outputId": "26e475ed-27da-405e-e83f-98f8ea888a49"
      },
      "source": [
        "x2"
      ],
      "execution_count": null,
      "outputs": [
        {
          "data": {
            "text/plain": [
              "array([[12,  5,  2,  4],\n",
              "       [ 7,  6,  8,  8],\n",
              "       [ 1,  6,  7,  7]])"
            ]
          },
          "execution_count": 32,
          "metadata": {},
          "output_type": "execute_result"
        }
      ]
    },
    {
      "cell_type": "code",
      "metadata": {
        "id": "eyKeNYs9z0ly",
        "outputId": "121f9d8c-eade-416f-b53a-5a34c1eae3cc"
      },
      "source": [
        "x2[:2, :3]  # two rows, three columns"
      ],
      "execution_count": null,
      "outputs": [
        {
          "data": {
            "text/plain": [
              "array([[12,  5,  2],\n",
              "       [ 7,  6,  8]])"
            ]
          },
          "execution_count": 33,
          "metadata": {},
          "output_type": "execute_result"
        }
      ]
    },
    {
      "cell_type": "code",
      "metadata": {
        "id": "n5VgOjmJz0lz",
        "outputId": "63e696ef-41e1-4b5f-842f-b30689b95001"
      },
      "source": [
        "x2[:3, ::2]  # all rows, every other column"
      ],
      "execution_count": null,
      "outputs": [
        {
          "data": {
            "text/plain": [
              "array([[12,  2],\n",
              "       [ 7,  8],\n",
              "       [ 1,  7]])"
            ]
          },
          "execution_count": 34,
          "metadata": {},
          "output_type": "execute_result"
        }
      ]
    },
    {
      "cell_type": "markdown",
      "metadata": {
        "id": "6W9ocqQzz0lz"
      },
      "source": [
        "Finally, subarray dimensions can even be reversed together:"
      ]
    },
    {
      "cell_type": "code",
      "metadata": {
        "id": "xyGWpBrsz0l0",
        "outputId": "dc052270-2f09-4ae9-9afb-e8c268445fe7"
      },
      "source": [
        "x2[::-1, ::-1]"
      ],
      "execution_count": null,
      "outputs": [
        {
          "data": {
            "text/plain": [
              "array([[ 7,  7,  6,  1],\n",
              "       [ 8,  8,  6,  7],\n",
              "       [ 4,  2,  5, 12]])"
            ]
          },
          "execution_count": 35,
          "metadata": {},
          "output_type": "execute_result"
        }
      ]
    },
    {
      "cell_type": "markdown",
      "metadata": {
        "id": "QGGH5LJyz0l0"
      },
      "source": [
        "#### Accessing array rows and columns\n",
        "\n",
        "One commonly needed routine is accessing of single rows or columns of an array.\n",
        "This can be done by combining indexing and slicing, using an empty slice marked by a single colon (``:``):"
      ]
    },
    {
      "cell_type": "code",
      "metadata": {
        "id": "hzHuVYz9z0l0",
        "outputId": "31fa1429-090f-4d8b-f16c-7b799b669a06"
      },
      "source": [
        "print(x2[:, 0])  # first column of x2"
      ],
      "execution_count": null,
      "outputs": [
        {
          "name": "stdout",
          "output_type": "stream",
          "text": [
            "[12  7  1]\n"
          ]
        }
      ]
    },
    {
      "cell_type": "code",
      "metadata": {
        "id": "nOXVKHcJz0l1",
        "outputId": "2d98f626-d3e7-428f-faa3-2982b719b6c1"
      },
      "source": [
        "print(x2[0, :])  # first row of x2"
      ],
      "execution_count": null,
      "outputs": [
        {
          "name": "stdout",
          "output_type": "stream",
          "text": [
            "[12  5  2  4]\n"
          ]
        }
      ]
    },
    {
      "cell_type": "markdown",
      "metadata": {
        "id": "T2AO-g_wz0l2"
      },
      "source": [
        "In the case of row access, the empty slice can be omitted for a more compact syntax:"
      ]
    },
    {
      "cell_type": "code",
      "metadata": {
        "id": "nHSCunO6z0l2",
        "outputId": "43f632f1-71a8-4cc2-9d60-f5c54f34248f"
      },
      "source": [
        "print(x2[0])  # equivalent to x2[0, :]"
      ],
      "execution_count": null,
      "outputs": [
        {
          "name": "stdout",
          "output_type": "stream",
          "text": [
            "[12  5  2  4]\n"
          ]
        }
      ]
    },
    {
      "cell_type": "markdown",
      "metadata": {
        "id": "8p1k8PYCz0l2"
      },
      "source": [
        "#### Subarrays as no-copy views\n",
        "\n",
        "One important–and extremely useful–thing to know about array slices is that they return *views* rather than *copies* of the array data.\n",
        "This is one area in which NumPy array slicing differs from Python list slicing: in lists, slices will be copies.\n",
        "Consider our two-dimensional array from before:"
      ]
    },
    {
      "cell_type": "code",
      "metadata": {
        "id": "9cUO6W1pz0l2",
        "outputId": "6535cb86-e2f4-4a73-f5c3-4b08088328f9"
      },
      "source": [
        "print(x2)"
      ],
      "execution_count": null,
      "outputs": [
        {
          "name": "stdout",
          "output_type": "stream",
          "text": [
            "[[12  5  2  4]\n",
            " [ 7  6  8  8]\n",
            " [ 1  6  7  7]]\n"
          ]
        }
      ]
    },
    {
      "cell_type": "markdown",
      "metadata": {
        "id": "TEAmbyGpz0l2"
      },
      "source": [
        "Let's extract a $2 \\times 2$ subarray from this:"
      ]
    },
    {
      "cell_type": "code",
      "metadata": {
        "id": "TrPcUdDzz0l3",
        "outputId": "aed25c83-d85a-4e6e-ef03-32bb8443a472"
      },
      "source": [
        "x2_sub = x2[:2, :2]\n",
        "print(x2_sub)"
      ],
      "execution_count": null,
      "outputs": [
        {
          "name": "stdout",
          "output_type": "stream",
          "text": [
            "[[12  5]\n",
            " [ 7  6]]\n"
          ]
        }
      ]
    },
    {
      "cell_type": "markdown",
      "metadata": {
        "id": "aAp_JnHUz0l3"
      },
      "source": [
        "Now if we modify this subarray, we'll see that the original array is changed! Observe:"
      ]
    },
    {
      "cell_type": "code",
      "metadata": {
        "id": "AdB9c0SOz0l3",
        "outputId": "63de5387-41d2-4b5b-d9e1-02dfffa889d5"
      },
      "source": [
        "x2_sub[0, 0] = 99\n",
        "print(x2_sub)"
      ],
      "execution_count": null,
      "outputs": [
        {
          "name": "stdout",
          "output_type": "stream",
          "text": [
            "[[99  5]\n",
            " [ 7  6]]\n"
          ]
        }
      ]
    },
    {
      "cell_type": "code",
      "metadata": {
        "id": "CFb9YOyUz0l4",
        "outputId": "fdb99d8b-e869-42a9-89f3-5178b4dd8565"
      },
      "source": [
        "print(x2)"
      ],
      "execution_count": null,
      "outputs": [
        {
          "name": "stdout",
          "output_type": "stream",
          "text": [
            "[[99  5  2  4]\n",
            " [ 7  6  8  8]\n",
            " [ 1  6  7  7]]\n"
          ]
        }
      ]
    },
    {
      "cell_type": "markdown",
      "metadata": {
        "id": "wmpG70mZz0l4"
      },
      "source": [
        "This default behavior is actually quite useful: it means that when we work with large datasets, we can access and process pieces of these datasets without the need to copy the underlying data buffer."
      ]
    },
    {
      "cell_type": "markdown",
      "metadata": {
        "id": "Ilu4DFDHz0l4"
      },
      "source": [
        "#### Creating copies of arrays\n",
        "\n",
        "Despite the nice features of array views, it is sometimes useful to instead explicitly copy the data within an array or a subarray. This can be most easily done with the ``copy()`` method:"
      ]
    },
    {
      "cell_type": "code",
      "metadata": {
        "id": "yl_qZLDBz0l5",
        "outputId": "4583f75d-d045-4cd9-cdbb-bc81ceffec65"
      },
      "source": [
        "x2_sub_copy = x2[:2, :2].copy()\n",
        "print(x2_sub_copy)"
      ],
      "execution_count": null,
      "outputs": [
        {
          "name": "stdout",
          "output_type": "stream",
          "text": [
            "[[99  5]\n",
            " [ 7  6]]\n"
          ]
        }
      ]
    },
    {
      "cell_type": "markdown",
      "metadata": {
        "id": "g0S8f_Adz0l6"
      },
      "source": [
        "If we now modify this subarray, the original array is not touched:"
      ]
    },
    {
      "cell_type": "code",
      "metadata": {
        "id": "4gDAaAC7z0l6",
        "outputId": "7e166bd3-b27c-4819-b638-b7ae17580f25"
      },
      "source": [
        "x2_sub_copy[0, 0] = 42\n",
        "print(x2_sub_copy)"
      ],
      "execution_count": null,
      "outputs": [
        {
          "name": "stdout",
          "output_type": "stream",
          "text": [
            "[[42  5]\n",
            " [ 7  6]]\n"
          ]
        }
      ]
    },
    {
      "cell_type": "code",
      "metadata": {
        "id": "GStL3hi_z0l6",
        "outputId": "bde0c54a-8e12-46b8-f109-9904a073b992"
      },
      "source": [
        "print(x2)"
      ],
      "execution_count": null,
      "outputs": [
        {
          "name": "stdout",
          "output_type": "stream",
          "text": [
            "[[99  5  2  4]\n",
            " [ 7  6  8  8]\n",
            " [ 1  6  7  7]]\n"
          ]
        }
      ]
    },
    {
      "cell_type": "markdown",
      "metadata": {
        "id": "k0W_RyYtz0l7"
      },
      "source": [
        "#### Reshaping of Arrays\n",
        "\n",
        "Another useful type of operation is reshaping of arrays.\n",
        "The most flexible way of doing this is with the ``reshape`` method.\n",
        "For example, if you want to put the numbers 1 through 9 in a $3 \\times 3$ grid, you can do the following:"
      ]
    },
    {
      "cell_type": "code",
      "metadata": {
        "id": "PLgIKOT7z0l7",
        "outputId": "e8993bbe-6535-4f72-d1df-7dffacbc4c49"
      },
      "source": [
        "grid = np.arange(1, 10).reshape((3, 3))\n",
        "print(grid)"
      ],
      "execution_count": null,
      "outputs": [
        {
          "name": "stdout",
          "output_type": "stream",
          "text": [
            "[[1 2 3]\n",
            " [4 5 6]\n",
            " [7 8 9]]\n"
          ]
        }
      ]
    },
    {
      "cell_type": "markdown",
      "metadata": {
        "id": "lPxci8vAz0mE"
      },
      "source": [
        "Note that for this to work, the size of the initial array must match the size of the reshaped array. \n",
        "Where possible, the ``reshape`` method will use a no-copy view of the initial array, but with non-contiguous memory buffers this is not always the case.\n",
        "\n",
        "Another common reshaping pattern is the conversion of a one-dimensional array into a two-dimensional row or column matrix.\n",
        "This can be done with the ``reshape`` method, or more easily done by making use of the ``newaxis`` keyword within a slice operation:"
      ]
    },
    {
      "cell_type": "code",
      "metadata": {
        "id": "eXXLqowNz0mF",
        "outputId": "36f54691-8f7b-419c-b07f-48a5d46090a6"
      },
      "source": [
        "x = np.array([1, 2, 3])\n",
        "\n",
        "# row vector via reshape\n",
        "x.reshape((1, 3))"
      ],
      "execution_count": null,
      "outputs": [
        {
          "data": {
            "text/plain": [
              "array([[1, 2, 3]])"
            ]
          },
          "execution_count": 47,
          "metadata": {},
          "output_type": "execute_result"
        }
      ]
    },
    {
      "cell_type": "code",
      "metadata": {
        "id": "PATtD4-gz0mF",
        "outputId": "111e5fce-eee8-4cae-9234-e29a1d8f36b4"
      },
      "source": [
        "# row vector via newaxis\n",
        "x[np.newaxis, :]"
      ],
      "execution_count": null,
      "outputs": [
        {
          "data": {
            "text/plain": [
              "array([[1, 2, 3]])"
            ]
          },
          "execution_count": 48,
          "metadata": {},
          "output_type": "execute_result"
        }
      ]
    },
    {
      "cell_type": "code",
      "metadata": {
        "id": "jnGQ-JxBz0mF",
        "outputId": "490d2e40-a57a-4bf8-9ada-0f4dc2b8b2a8"
      },
      "source": [
        "# column vector via reshape\n",
        "x.reshape((3, 1))"
      ],
      "execution_count": null,
      "outputs": [
        {
          "data": {
            "text/plain": [
              "array([[1],\n",
              "       [2],\n",
              "       [3]])"
            ]
          },
          "execution_count": 49,
          "metadata": {},
          "output_type": "execute_result"
        }
      ]
    },
    {
      "cell_type": "code",
      "metadata": {
        "id": "IsP1-kOez0mG",
        "outputId": "15b0df01-3b5f-4828-fff9-6b804005e162"
      },
      "source": [
        "# column vector via newaxis\n",
        "x[:, np.newaxis]"
      ],
      "execution_count": null,
      "outputs": [
        {
          "data": {
            "text/plain": [
              "array([[1],\n",
              "       [2],\n",
              "       [3]])"
            ]
          },
          "execution_count": 50,
          "metadata": {},
          "output_type": "execute_result"
        }
      ]
    },
    {
      "cell_type": "markdown",
      "metadata": {
        "id": "-CA5uDjYz0mG"
      },
      "source": [
        "### Some Numpy Special Arrays"
      ]
    },
    {
      "cell_type": "markdown",
      "metadata": {
        "id": "F0O93fwXz0mG"
      },
      "source": [
        "#### Numpy Zeros: numpy.zeros()\n",
        "\n",
        "Numpy zeros function returns a numpy array of only zeros with specified shape and data type.\n",
        "Syntax\n",
        "\n",
        "                                zeros(shape, dtype=float, order='C')\n",
        "                         \n",
        "   1. shape – This is the shape of the required array, input has to be an int or a tuple of int.\n",
        "   2. dtype (optional) – This is the required data type of the array, by default it is float.\n",
        "   3. order (optional) – This specifies how the array will be stored in the memory. It can be either ‘C’ for row-major or ‘F’ for column-major. By default, it is ‘C’.\n",
        "                      "
      ]
    },
    {
      "cell_type": "code",
      "metadata": {
        "id": "zy3bn9Xvz0mG",
        "outputId": "da3f95ff-e48b-43fd-d107-323398bf80e2"
      },
      "source": [
        "\n",
        "# Notice that we did not specify the data type, so by default, it assumed float.\n",
        "# 1-D Array\n",
        "np_1d_zero_array = np.zeros(4)\n",
        "\n",
        "print('Output- ')\n",
        "print(np_1d_zero_array)\n",
        "print('Shape- ', np_1d_zero_array.shape)\n",
        "print('Data type -', np_1d_zero_array.dtype)\n",
        "\n",
        "\n",
        "\n",
        "print(\"======================================================\")\n",
        "\n",
        "\n",
        "# 2-D Array\n",
        "np_2d_zero_array = np.zeros((4,2))\n",
        "\n",
        "print('Output- ')\n",
        "print(np_2d_zero_array)\n",
        "print('Shape- ', np_2d_zero_array.shape)\n",
        "print('Data type -', np_2d_zero_array.dtype)\n",
        "\n",
        "\n",
        "print(\"======================================================\")\n",
        "\n",
        "\n",
        "\n",
        "# 3-D Array\n",
        "np_3d_zero_array = np.zeros((4,2,3), int)\n",
        "\n",
        "print('Output- ')\n",
        "print(np_3d_zero_array)\n",
        "print('Shape- ', np_3d_zero_array.shape)\n",
        "print('Data type -', np_3d_zero_array.dtype)"
      ],
      "execution_count": null,
      "outputs": [
        {
          "name": "stdout",
          "output_type": "stream",
          "text": [
            "Output- \n",
            "[0. 0. 0. 0.]\n",
            "Shape-  (4,)\n",
            "Data type - float64\n",
            "======================================================\n",
            "Output- \n",
            "[[0. 0.]\n",
            " [0. 0.]\n",
            " [0. 0.]\n",
            " [0. 0.]]\n",
            "Shape-  (4, 2)\n",
            "Data type - float64\n",
            "======================================================\n",
            "Output- \n",
            "[[[0 0 0]\n",
            "  [0 0 0]]\n",
            "\n",
            " [[0 0 0]\n",
            "  [0 0 0]]\n",
            "\n",
            " [[0 0 0]\n",
            "  [0 0 0]]\n",
            "\n",
            " [[0 0 0]\n",
            "  [0 0 0]]]\n",
            "Shape-  (4, 2, 3)\n",
            "Data type - int64\n"
          ]
        }
      ]
    },
    {
      "cell_type": "markdown",
      "metadata": {
        "id": "oUeuyHOlz0mH"
      },
      "source": [
        "#### Numpy Ones: numpy.ones()\n",
        "\n",
        "This is very similar to Numpy Zero. Here Numpy zeros function returns a numpy array of only ones with specified shape and data type.\n",
        "\n",
        "Syntax\n",
        "\n",
        "                              ones(shape, dtype=float, order=’C’)"
      ]
    },
    {
      "cell_type": "code",
      "metadata": {
        "id": "K4S_YXY4z0mH",
        "outputId": "18b63f85-8e3e-4970-b0fc-9298cc071a64"
      },
      "source": [
        "# 1-D Array\n",
        "np_1d_ones_array = np.ones(4,int)\n",
        "\n",
        "print('Output- ')\n",
        "print(np_1d_ones_array)\n",
        "print('Shape- ', np_1d_ones_array.shape)\n",
        "print('Data type -', np_1d_ones_array.dtype)\n",
        "\n",
        "\n",
        "print(\"======================================================\")\n",
        "\n",
        "\n",
        "# 2-D Array\n",
        "np_2d_ones_array = np.ones((4,2))\n",
        "\n",
        "print('Output- ')\n",
        "print(np_2d_ones_array)\n",
        "print('Shape- ', np_2d_ones_array.shape)\n",
        "print('Data type -', np_2d_ones_array.dtype)\n",
        "\n",
        "\n",
        "\n",
        "\n",
        "# 3-D Array\n",
        "np_3d_ones_array = np.ones((4,2,3))\n",
        "\n",
        "print('Output- ')\n",
        "print(np_3d_ones_array)\n",
        "print('Shape- ', np_3d_ones_array.shape)\n",
        "print('Data type -', np_3d_ones_array.dtype)"
      ],
      "execution_count": null,
      "outputs": [
        {
          "name": "stdout",
          "output_type": "stream",
          "text": [
            "Output- \n",
            "[1 1 1 1]\n",
            "Shape-  (4,)\n",
            "Data type - int64\n",
            "======================================================\n",
            "Output- \n",
            "[[1. 1.]\n",
            " [1. 1.]\n",
            " [1. 1.]\n",
            " [1. 1.]]\n",
            "Shape-  (4, 2)\n",
            "Data type - float64\n",
            "Output- \n",
            "[[[1. 1. 1.]\n",
            "  [1. 1. 1.]]\n",
            "\n",
            " [[1. 1. 1.]\n",
            "  [1. 1. 1.]]\n",
            "\n",
            " [[1. 1. 1.]\n",
            "  [1. 1. 1.]]\n",
            "\n",
            " [[1. 1. 1.]\n",
            "  [1. 1. 1.]]]\n",
            "Shape-  (4, 2, 3)\n",
            "Data type - float64\n"
          ]
        }
      ]
    },
    {
      "cell_type": "markdown",
      "metadata": {
        "id": "oUh2J9Tlz0mI"
      },
      "source": [
        "#### Numpy Eye: numpy.eye()\n",
        "\n",
        "Numpy eye function helps to create a 2-D array where the diagonal has all ones and zeros elsewhere.\n",
        "Syntax\n",
        "\n",
        "                            eye(N, M=None, k=0, dtype='float', order='C')\n",
        "                            \n",
        "   1. N – It is the number of rows in the array. It has to be int.\n",
        "   2. M (optional) – It is the number of columns in the array. If not specified then it will default to N.\n",
        "   3. K (optional) – It denotes the position of diagonal ones. By default is zero i.e. in middle. A positive value denotes upper diagonal and negative value lower diagonal.\n",
        "   4. dtype (optional) – This is the required data type of the array, by default it is float.\n",
        "   5. order (optional) – This specifies how the array will be stored in the memory. It can be either ‘C’ for row-major or ‘F’ for column-major. By default, it is ‘C’.                       "
      ]
    },
    {
      "cell_type": "code",
      "metadata": {
        "id": "k1XU7CoHz0mJ",
        "outputId": "c890b9f6-d976-4e55-bc19-4247cc70e89d"
      },
      "source": [
        "np_identity_matrix_oder_4 = np.eye(4)\n",
        "\n",
        "print('Output- ')\n",
        "print(np_identity_matrix_oder_4)\n",
        "print('Shape- ', np_identity_matrix_oder_4.shape)\n",
        "print('Data type -', np_identity_matrix_oder_4.dtype)"
      ],
      "execution_count": null,
      "outputs": [
        {
          "name": "stdout",
          "output_type": "stream",
          "text": [
            "Output- \n",
            "[[1. 0. 0. 0.]\n",
            " [0. 1. 0. 0.]\n",
            " [0. 0. 1. 0.]\n",
            " [0. 0. 0. 1.]]\n",
            "Shape-  (4, 4)\n",
            "Data type - float64\n"
          ]
        }
      ]
    },
    {
      "cell_type": "markdown",
      "metadata": {
        "id": "owmyNlQez0mJ"
      },
      "source": [
        "##### Miscellaneous Examples of Numpy Eye"
      ]
    },
    {
      "cell_type": "code",
      "metadata": {
        "id": "Tr5U4hmTz0mJ",
        "outputId": "ea03ef00-d718-4757-804b-f3b93ad035ce"
      },
      "source": [
        "\n",
        "np.eye(4, 5)"
      ],
      "execution_count": null,
      "outputs": [
        {
          "data": {
            "text/plain": [
              "array([[1., 0., 0., 0., 0.],\n",
              "       [0., 1., 0., 0., 0.],\n",
              "       [0., 0., 1., 0., 0.],\n",
              "       [0., 0., 0., 1., 0.]])"
            ]
          },
          "execution_count": 54,
          "metadata": {},
          "output_type": "execute_result"
        }
      ]
    },
    {
      "cell_type": "code",
      "metadata": {
        "id": "W822ta_Tz0mK",
        "outputId": "a76559d8-e40d-4582-a6a8-82a527061936"
      },
      "source": [
        "np.eye(4, 5, k = 2)"
      ],
      "execution_count": null,
      "outputs": [
        {
          "data": {
            "text/plain": [
              "array([[0., 0., 1., 0., 0.],\n",
              "       [0., 0., 0., 1., 0.],\n",
              "       [0., 0., 0., 0., 1.],\n",
              "       [0., 0., 0., 0., 0.]])"
            ]
          },
          "execution_count": 55,
          "metadata": {},
          "output_type": "execute_result"
        }
      ]
    },
    {
      "cell_type": "markdown",
      "metadata": {
        "id": "lFERKTczz0mK"
      },
      "source": [
        "### NumPy Arrays using the function empty()\n",
        "\n",
        "The `empty()` function is used to create arrays when we don't really have any values to create an array. What it does is, it takes the shape of the array as desired and the array is then filled with random values. The trick here is that without even using the random module we are able to build an array full of random values: `empty(shape, dtype)`"
      ]
    },
    {
      "cell_type": "code",
      "metadata": {
        "id": "sGr72XFhz0mK",
        "outputId": "6ad7d499-cc89-45ef-9a19-0545e8fcf4df"
      },
      "source": [
        "# arr of shape (5,2) with datatype=float filled with random values\n",
        "empty_arr = np.empty((5,2), dtype=float) \n",
        "print(\"Array with Float values\\n\", empty_arr)\n",
        "print(\"======================================\")\n",
        "\n",
        "\n",
        "\n",
        "# observe what happens when executed\n",
        "empty_arr1 = np.empty((4,4), dtype=int) \n",
        "print(\"Second Array \\n\", empty_arr1)"
      ],
      "execution_count": null,
      "outputs": [
        {
          "name": "stdout",
          "output_type": "stream",
          "text": [
            "Array with Float values\n",
            " [[15.         21.66666667]\n",
            " [28.33333333 35.        ]\n",
            " [41.66666667 48.33333333]\n",
            " [55.         61.66666667]\n",
            " [68.33333333 75.        ]]\n",
            "======================================\n",
            "Second Array \n",
            " [[4607182418800017408                   0                   0\n",
            "                    0]\n",
            " [                  0 4607182418800017408                   0\n",
            "                    0]\n",
            " [                  0                   0 4607182418800017408\n",
            "                    0]\n",
            " [                  0                   0                   0\n",
            "  4607182418800017408]]\n"
          ]
        }
      ]
    },
    {
      "cell_type": "markdown",
      "metadata": {
        "id": "akhU-w6oz0mL"
      },
      "source": [
        "## Operations on Arrays\n",
        "\n",
        "### Array Concatenation and Splitting\n",
        "\n",
        "All of the preceding routines worked on single arrays. It's also possible to combine multiple arrays into one, and to conversely split a single array into multiple arrays. We'll take a look at those operations here.\n",
        "\n",
        "#### Concatenation of arrays\n",
        "\n",
        "Concatenation, or joining of two arrays in NumPy, is primarily accomplished using the routines ``np.concatenate``, ``np.vstack``, and ``np.hstack``.\n",
        "``np.concatenate`` takes a tuple or list of arrays as its first argument, as we can see here:"
      ]
    },
    {
      "cell_type": "code",
      "metadata": {
        "id": "RMGEZEgbz0mM",
        "outputId": "12692542-fc6c-4ac2-c6de-bbb169b5a5ec"
      },
      "source": [
        "x = np.array([1, 2, 3])\n",
        "y = np.array([3, 2, 1])\n",
        "print(np.concatenate([x, y]))\n",
        "\n",
        "print(\"========================================\")\n",
        "\n",
        "# You can also concatenate more than two arrays at once:\n",
        "z = [99, 99, 99]\n",
        "print(np.concatenate([x, y, z]))\n",
        "print(\"========================================\")\n",
        "\n",
        "\n",
        "\n",
        "#It can also be used for two-dimensional arrays:\n",
        "grid = np.array([[1, 2, 3],[4, 5, 6]])\n",
        "\n",
        "# concatenate along the first axis\n",
        "print(np.concatenate([grid, grid]))\n",
        "print(\"========================================\")\n",
        "\n",
        "\n",
        "# concatenate along the second axis (zero-indexed)\n",
        "print(np.concatenate([grid, grid], axis=1))"
      ],
      "execution_count": null,
      "outputs": [
        {
          "name": "stdout",
          "output_type": "stream",
          "text": [
            "[1 2 3 3 2 1]\n",
            "========================================\n",
            "[ 1  2  3  3  2  1 99 99 99]\n",
            "========================================\n",
            "[[1 2 3]\n",
            " [4 5 6]\n",
            " [1 2 3]\n",
            " [4 5 6]]\n",
            "========================================\n",
            "[[1 2 3 1 2 3]\n",
            " [4 5 6 4 5 6]]\n"
          ]
        }
      ]
    },
    {
      "cell_type": "markdown",
      "metadata": {
        "id": "rHrAU-Sdz0mN"
      },
      "source": [
        "For working with arrays of mixed dimensions, it can be clearer to use the ``np.vstack`` (vertical stack) and ``np.hstack`` (horizontal stack) functions:"
      ]
    },
    {
      "cell_type": "code",
      "metadata": {
        "id": "hOMnO_H8z0mO",
        "outputId": "0c864c92-73b1-4efb-f85a-eef8d7d205e5"
      },
      "source": [
        "x = np.array([1, 2, 3])\n",
        "grid = np.array([[9, 8, 7],\n",
        "                 [6, 5, 4]])\n",
        "\n",
        "# vertically stack the arrays\n",
        "np.vstack([x, grid])"
      ],
      "execution_count": null,
      "outputs": [
        {
          "data": {
            "text/plain": [
              "array([[1, 2, 3],\n",
              "       [9, 8, 7],\n",
              "       [6, 5, 4]])"
            ]
          },
          "execution_count": 58,
          "metadata": {},
          "output_type": "execute_result"
        }
      ]
    },
    {
      "cell_type": "code",
      "metadata": {
        "id": "1teMo_BWz0mO",
        "outputId": "217c343a-2af6-401d-dd71-64be4746caf1"
      },
      "source": [
        "# horizontally stack the arrays\n",
        "y = np.array([[99],\n",
        "              [99]])\n",
        "np.hstack([grid, y])"
      ],
      "execution_count": null,
      "outputs": [
        {
          "data": {
            "text/plain": [
              "array([[ 9,  8,  7, 99],\n",
              "       [ 6,  5,  4, 99]])"
            ]
          },
          "execution_count": 59,
          "metadata": {},
          "output_type": "execute_result"
        }
      ]
    },
    {
      "cell_type": "markdown",
      "metadata": {
        "id": "sYX0pDGaz0mP"
      },
      "source": [
        "#### Splitting of arrays\n",
        "\n",
        "The opposite of concatenation is splitting, which is implemented by the functions ``np.split``, ``np.hsplit``, and ``np.vsplit``.  For each of these, we can pass a list of indices giving the split points:"
      ]
    },
    {
      "cell_type": "code",
      "metadata": {
        "id": "9GSqrSwvz0mP",
        "outputId": "237e180f-bdfe-43fc-ab8c-123869537371"
      },
      "source": [
        "x = [1, 2, 3, 99, 99, 3, 2, 1]\n",
        "x1, x2, x3 = np.split(x, [3, 5])\n",
        "print(x1, x2, x3)"
      ],
      "execution_count": null,
      "outputs": [
        {
          "name": "stdout",
          "output_type": "stream",
          "text": [
            "[1 2 3] [99 99] [3 2 1]\n"
          ]
        }
      ]
    },
    {
      "cell_type": "markdown",
      "metadata": {
        "id": "s46s1K_bz0mQ"
      },
      "source": [
        "Notice that *N* split-points, leads to *N + 1* subarrays.\n",
        "The related functions ``np.hsplit`` and ``np.vsplit`` are similar:"
      ]
    },
    {
      "cell_type": "code",
      "metadata": {
        "id": "tT3p2nAyz0mQ",
        "outputId": "13fb6875-aa65-4249-c0d2-faccb7f42949"
      },
      "source": [
        "grid = np.arange(16).reshape((4, 4))\n",
        "grid"
      ],
      "execution_count": null,
      "outputs": [
        {
          "data": {
            "text/plain": [
              "array([[ 0,  1,  2,  3],\n",
              "       [ 4,  5,  6,  7],\n",
              "       [ 8,  9, 10, 11],\n",
              "       [12, 13, 14, 15]])"
            ]
          },
          "execution_count": 61,
          "metadata": {},
          "output_type": "execute_result"
        }
      ]
    },
    {
      "cell_type": "code",
      "metadata": {
        "id": "ufuzxc2Dz0mQ",
        "outputId": "0f76601f-a07b-4cb4-a296-b2c1fd7c8e1c"
      },
      "source": [
        "upper, lower = np.vsplit(grid, [2])\n",
        "print(upper)\n",
        "print(lower)"
      ],
      "execution_count": null,
      "outputs": [
        {
          "name": "stdout",
          "output_type": "stream",
          "text": [
            "[[0 1 2 3]\n",
            " [4 5 6 7]]\n",
            "[[ 8  9 10 11]\n",
            " [12 13 14 15]]\n"
          ]
        }
      ]
    },
    {
      "cell_type": "code",
      "metadata": {
        "id": "XkrX3p7jz0mR",
        "outputId": "2139b129-1853-4f1d-ff04-5024a2026203"
      },
      "source": [
        "left, right = np.hsplit(grid, [2])\n",
        "print(left)\n",
        "print(right)"
      ],
      "execution_count": null,
      "outputs": [
        {
          "name": "stdout",
          "output_type": "stream",
          "text": [
            "[[ 0  1]\n",
            " [ 4  5]\n",
            " [ 8  9]\n",
            " [12 13]]\n",
            "[[ 2  3]\n",
            " [ 6  7]\n",
            " [10 11]\n",
            " [14 15]]\n"
          ]
        }
      ]
    },
    {
      "cell_type": "markdown",
      "metadata": {
        "id": "TWDDQh46z0mR"
      },
      "source": [
        "Similarly, ``np.dsplit`` will split arrays along the third axis."
      ]
    },
    {
      "cell_type": "markdown",
      "metadata": {
        "id": "MvMHtguez0mS"
      },
      "source": [
        "### Numpy Arrays Universal Functions \n",
        "\n",
        "Computation on NumPy arrays can be very fast, or it can be very slow.\n",
        "The key to making it fast is to use *vectorized* operations, generally implemented through NumPy's *universal functions* (ufuncs).\n",
        "This section motivates the need for NumPy's ufuncs, which can be used to make repeated calculations on array elements much more efficient.\n",
        "It then introduces many of the most common and useful arithmetic ufuncs available in the NumPy package.\n",
        "\n",
        "#### Array arithmetic\n",
        "\n",
        "NumPy's ufuncs feel very natural to use because they make use of Python's native arithmetic operators.\n",
        "The standard addition, subtraction, multiplication, and division can all be used:"
      ]
    },
    {
      "cell_type": "code",
      "metadata": {
        "id": "WPecNSLtz0mS",
        "outputId": "15891818-f361-42e8-b5e9-efc723026eec"
      },
      "source": [
        "x = np.arange(4)\n",
        "print(\"x     =\", x)\n",
        "print(\"x + 5 =\", x + 5)\n",
        "print(\"x - 5 =\", x - 5)\n",
        "print(\"x * 2 =\", x * 2)\n",
        "print(\"x / 2 =\", x / 2)\n",
        "print(\"x // 2 =\", x // 2)  # floor division"
      ],
      "execution_count": null,
      "outputs": [
        {
          "name": "stdout",
          "output_type": "stream",
          "text": [
            "x     = [0 1 2 3]\n",
            "x + 5 = [5 6 7 8]\n",
            "x - 5 = [-5 -4 -3 -2]\n",
            "x * 2 = [0 2 4 6]\n",
            "x / 2 = [0.  0.5 1.  1.5]\n",
            "x // 2 = [0 0 1 1]\n"
          ]
        }
      ]
    },
    {
      "cell_type": "code",
      "metadata": {
        "id": "Zdh-UnYXz0mS",
        "outputId": "3483da7b-7997-4b9d-902d-8b79fa7b35c9"
      },
      "source": [
        "# There is also a unary ufunc for negation, \n",
        "# and a ``**`` operator for exponentiation, \n",
        "# and a ``%`` operator for modulus\n",
        "\n",
        "print(\"-x     = \", -x)\n",
        "print(\"x ** 2 = \", x ** 2)\n",
        "print(\"x % 2  = \", x % 2)"
      ],
      "execution_count": null,
      "outputs": [
        {
          "name": "stdout",
          "output_type": "stream",
          "text": [
            "-x     =  [ 0 -1 -2 -3]\n",
            "x ** 2 =  [0 1 4 9]\n",
            "x % 2  =  [0 1 0 1]\n"
          ]
        }
      ]
    },
    {
      "cell_type": "code",
      "metadata": {
        "id": "IcI4ly4_z0mS",
        "outputId": "0a673fbc-ca93-4904-9f17-c7deeb797baa"
      },
      "source": [
        "# In addition, these can be strung together however you wish,\n",
        "# and the standard order of operations is respected:\n",
        "\n",
        "-(0.5*x + 1) ** 2"
      ],
      "execution_count": null,
      "outputs": [
        {
          "data": {
            "text/plain": [
              "array([-1.  , -2.25, -4.  , -6.25])"
            ]
          },
          "execution_count": 66,
          "metadata": {},
          "output_type": "execute_result"
        }
      ]
    },
    {
      "cell_type": "code",
      "metadata": {
        "id": "PO-2E5tKz0mT",
        "outputId": "f0b1ad06-0c82-4053-c221-9be122eea9c3"
      },
      "source": [
        "#Each of these arithmetic operations are simply convenient wrappers around specific functions built into NumPy; \n",
        "# for example, the ``+`` operator is a wrapper for the ``add`` function\n",
        "np.add(x, 2)"
      ],
      "execution_count": null,
      "outputs": [
        {
          "data": {
            "text/plain": [
              "array([2, 3, 4, 5])"
            ]
          },
          "execution_count": 67,
          "metadata": {},
          "output_type": "execute_result"
        }
      ]
    },
    {
      "cell_type": "markdown",
      "metadata": {
        "id": "4_zhXhslz0mT"
      },
      "source": [
        "The following table lists the arithmetic operators implemented in NumPy:\n",
        "\n",
        "| Operator\t    | Equivalent ufunc    | Description                           |\n",
        "|---------------|---------------------|---------------------------------------|\n",
        "|``+``          |``np.add``           |Addition (e.g., ``1 + 1 = 2``)         |\n",
        "|``-``          |``np.subtract``      |Subtraction (e.g., ``3 - 2 = 1``)      |\n",
        "|``-``          |``np.negative``      |Unary negation (e.g., ``-2``)          |\n",
        "|``*``          |``np.multiply``      |Multiplication (e.g., ``2 * 3 = 6``)   |\n",
        "|``/``          |``np.divide``        |Division (e.g., ``3 / 2 = 1.5``)       |\n",
        "|``//``         |``np.floor_divide``  |Floor division (e.g., ``3 // 2 = 1``)  |\n",
        "|``**``         |``np.power``         |Exponentiation (e.g., ``2 ** 3 = 8``)  |\n",
        "|``%``          |``np.mod``           |Modulus/remainder (e.g., ``9 % 4 = 1``)|\n",
        "\n",
        "Additionally there are Boolean/bitwise operators; we will explore these in [Comparisons, Masks, and Boolean Logic]()."
      ]
    },
    {
      "cell_type": "markdown",
      "metadata": {
        "id": "tLwMC6Nzz0mT"
      },
      "source": [
        "#### Absolute value\n",
        "\n",
        "Just as NumPy understands Python's built-in arithmetic operators, it also understands Python's built-in absolute value function:"
      ]
    },
    {
      "cell_type": "code",
      "metadata": {
        "id": "ukmBhI2Vz0mU",
        "outputId": "05b2a33c-3ad0-416c-950b-a959ccdfe71a"
      },
      "source": [
        "x = np.array([-2, -1, 0, 1, 2])\n",
        "abs(x)"
      ],
      "execution_count": null,
      "outputs": [
        {
          "data": {
            "text/plain": [
              "array([2, 1, 0, 1, 2])"
            ]
          },
          "execution_count": 68,
          "metadata": {},
          "output_type": "execute_result"
        }
      ]
    },
    {
      "cell_type": "code",
      "metadata": {
        "id": "cFFeIFHkz0mU"
      },
      "source": [
        ""
      ],
      "execution_count": null,
      "outputs": []
    },
    {
      "cell_type": "code",
      "metadata": {
        "id": "9s_h8LnJz0mU",
        "outputId": "1a54b7b2-e89f-458f-92bb-35e1b279c607"
      },
      "source": [
        "# The corresponding NumPy ufunc is ``np.absolute``, which is also available under the alias ``np.abs``:\n",
        "print(np.absolute(x))\n",
        "\n",
        "print(\"===============================\")\n",
        "\n",
        "\n",
        "print(np.absolute(x))"
      ],
      "execution_count": null,
      "outputs": [
        {
          "name": "stdout",
          "output_type": "stream",
          "text": [
            "[2 1 0 1 2]\n",
            "===============================\n",
            "[2 1 0 1 2]\n"
          ]
        }
      ]
    },
    {
      "cell_type": "code",
      "metadata": {
        "id": "B6DccqGDz0mU",
        "outputId": "5b598eb5-3694-4a78-a80c-07e6851b5121"
      },
      "source": [
        "# This ufunc can also handle complex data, in which the absolute value returns the magnitude:\n",
        "x = np.array([3 - 4j, 4 - 3j, 2 + 0j, 0 + 1j])\n",
        "np.abs(x)"
      ],
      "execution_count": null,
      "outputs": [
        {
          "data": {
            "text/plain": [
              "array([5., 5., 2., 1.])"
            ]
          },
          "execution_count": 71,
          "metadata": {},
          "output_type": "execute_result"
        }
      ]
    },
    {
      "cell_type": "markdown",
      "metadata": {
        "id": "FDkHPaQFz0mV"
      },
      "source": [
        "#### Trigonometric functions\n",
        "\n",
        "NumPy provides a large number of useful ufuncs, and some of the most useful for the data scientist are the trigonometric functions.\n",
        "We'll start by defining an array of angles:"
      ]
    },
    {
      "cell_type": "code",
      "metadata": {
        "id": "HPQcdAs1z0mV",
        "outputId": "5012f691-edb5-4d26-ee16-f81bb4d0de84"
      },
      "source": [
        "theta = np.linspace(0, np.pi, 3)\n",
        "print(\"theta      = \", theta)\n",
        "print(\"sin(theta) = \", np.sin(theta))\n",
        "print(\"cos(theta) = \", np.cos(theta))\n",
        "print(\"tan(theta) = \", np.tan(theta))"
      ],
      "execution_count": null,
      "outputs": [
        {
          "name": "stdout",
          "output_type": "stream",
          "text": [
            "theta      =  [0.         1.57079633 3.14159265]\n",
            "sin(theta) =  [0.0000000e+00 1.0000000e+00 1.2246468e-16]\n",
            "cos(theta) =  [ 1.000000e+00  6.123234e-17 -1.000000e+00]\n",
            "tan(theta) =  [ 0.00000000e+00  1.63312394e+16 -1.22464680e-16]\n"
          ]
        }
      ]
    },
    {
      "cell_type": "code",
      "metadata": {
        "id": "A3v26aQGz0mW",
        "outputId": "0c6f703f-7555-4648-9385-d80b79d7ff67"
      },
      "source": [
        "# The values are computed to within machine precision, which is why values \n",
        "# that should be zero do not always hit exactly zero. \n",
        "#Inverse trigonometric functions are also available:\n",
        "x = [-1, 0, 1]\n",
        "print(\"x         = \", x)\n",
        "print(\"arcsin(x) = \", np.arcsin(x))\n",
        "print(\"arccos(x) = \", np.arccos(x))\n",
        "print(\"arctan(x) = \", np.arctan(x))"
      ],
      "execution_count": null,
      "outputs": [
        {
          "name": "stdout",
          "output_type": "stream",
          "text": [
            "x         =  [-1, 0, 1]\n",
            "arcsin(x) =  [-1.57079633  0.          1.57079633]\n",
            "arccos(x) =  [3.14159265 1.57079633 0.        ]\n",
            "arctan(x) =  [-0.78539816  0.          0.78539816]\n"
          ]
        }
      ]
    },
    {
      "cell_type": "markdown",
      "metadata": {
        "id": "7Qg-R62rz0mW"
      },
      "source": [
        "#### Exponents and logarithms\n",
        "\n",
        "Another common type of operation available in a NumPy ufunc are the exponentials:"
      ]
    },
    {
      "cell_type": "code",
      "metadata": {
        "id": "YvIlE8pZz0mX",
        "outputId": "610d0d9d-aeee-4be8-9d84-b50570e77d3e"
      },
      "source": [
        "x = [1, 2, 3]\n",
        "print(\"x     =\", x)\n",
        "print(\"e^x   =\", np.exp(x))\n",
        "print(\"2^x   =\", np.exp2(x))\n",
        "print(\"3^x   =\", np.power(3, x))"
      ],
      "execution_count": null,
      "outputs": [
        {
          "name": "stdout",
          "output_type": "stream",
          "text": [
            "x     = [1, 2, 3]\n",
            "e^x   = [ 2.71828183  7.3890561  20.08553692]\n",
            "2^x   = [2. 4. 8.]\n",
            "3^x   = [ 3  9 27]\n"
          ]
        }
      ]
    },
    {
      "cell_type": "markdown",
      "metadata": {
        "id": "iLS_2BIfz0mX"
      },
      "source": [
        "The inverse of the exponentials, the logarithms, are also available.\n",
        "The basic ``np.log`` gives the natural logarithm; if you prefer to compute the base-2 logarithm or the base-10 logarithm, these are available as well:"
      ]
    },
    {
      "cell_type": "code",
      "metadata": {
        "id": "ubaiuopKz0mX",
        "outputId": "23bb59d5-1d2b-44f2-d456-824d829dff79"
      },
      "source": [
        "x = [1, 2, 4, 10]\n",
        "print(\"x        =\", x)\n",
        "print(\"ln(x)    =\", np.log(x))\n",
        "print(\"log2(x)  =\", np.log2(x))\n",
        "print(\"log10(x) =\", np.log10(x))"
      ],
      "execution_count": null,
      "outputs": [
        {
          "name": "stdout",
          "output_type": "stream",
          "text": [
            "x        = [1, 2, 4, 10]\n",
            "ln(x)    = [0.         0.69314718 1.38629436 2.30258509]\n",
            "log2(x)  = [0.         1.         2.         3.32192809]\n",
            "log10(x) = [0.         0.30103    0.60205999 1.        ]\n"
          ]
        }
      ]
    },
    {
      "cell_type": "markdown",
      "metadata": {
        "id": "RwxOf1-dz0mY"
      },
      "source": [
        "#### Ufuncs: Learning More\n",
        "\n",
        "More information on universal functions (including the full list of available functions) can be found on the [NumPy](http://www.numpy.org) and [SciPy](http://www.scipy.org) documentation websites.\n",
        "\n",
        "Recall that you can also access information directly from within IPython by importing the packages and using IPython's tab-completion and help (``?``) functionality"
      ]
    },
    {
      "cell_type": "markdown",
      "metadata": {
        "id": "dSE0wnG9z0mY"
      },
      "source": [
        "### Aggregation Functions\n",
        "\n",
        "Often when faced with a large amount of data, a first step is to compute summary statistics for the data in question.\n",
        "Perhaps the most common summary statistics are the mean and standard deviation, which allow you to summarize the \"typical\" values in a dataset, but other aggregates are useful as well (the sum, product, median, minimum and maximum, quantiles, etc.).\n",
        "\n",
        "NumPy has fast built-in aggregation functions for working on arrays; we'll discuss and demonstrate some of them here."
      ]
    },
    {
      "cell_type": "markdown",
      "metadata": {
        "id": "e_xVfYbIz0mY"
      },
      "source": [
        "#### Summing the Values in an Array\n",
        "\n",
        "As a quick example, consider computing the sum of all values in an array.\n",
        "Python itself can do this using the built-in ``sum`` function:"
      ]
    },
    {
      "cell_type": "code",
      "metadata": {
        "id": "YLG_SdGWz0mY",
        "outputId": "c7849348-293b-441d-d76e-134ca010079d"
      },
      "source": [
        "L = np.random.random(100)\n",
        "sum(L)"
      ],
      "execution_count": null,
      "outputs": [
        {
          "data": {
            "text/plain": [
              "52.12818058833704"
            ]
          },
          "execution_count": 76,
          "metadata": {},
          "output_type": "execute_result"
        }
      ]
    },
    {
      "cell_type": "code",
      "metadata": {
        "id": "Gmm6VyfSz0mZ",
        "outputId": "72766523-1e3a-4230-a78e-884e29df5df0"
      },
      "source": [
        "# The syntax is quite similar to that of NumPy's ``sum`` function, \n",
        "# and the result is the same in the simplest case:\n",
        "np.sum(L)"
      ],
      "execution_count": null,
      "outputs": [
        {
          "data": {
            "text/plain": [
              "52.12818058833702"
            ]
          },
          "execution_count": 77,
          "metadata": {},
          "output_type": "execute_result"
        }
      ]
    },
    {
      "cell_type": "markdown",
      "metadata": {
        "id": "PFEETu2Iz0ma"
      },
      "source": [
        "However, because it executes the operation in compiled code, NumPy's version of the operation is computed much more quickly:"
      ]
    },
    {
      "cell_type": "code",
      "metadata": {
        "id": "Lkaeqm0qz0ma",
        "outputId": "a9e8f816-d388-4ad8-87c6-3969eae7ad37"
      },
      "source": [
        "big_array = np.random.rand(1000000)\n",
        "%timeit sum(big_array)\n",
        "%timeit np.sum(big_array)"
      ],
      "execution_count": null,
      "outputs": [
        {
          "name": "stdout",
          "output_type": "stream",
          "text": [
            "142 ms ± 3.48 ms per loop (mean ± std. dev. of 7 runs, 10 loops each)\n",
            "495 µs ± 5.27 µs per loop (mean ± std. dev. of 7 runs, 1000 loops each)\n"
          ]
        }
      ]
    },
    {
      "cell_type": "markdown",
      "metadata": {
        "id": "EbHZOvc2z0ma"
      },
      "source": [
        "One has to be careful, though: the ``sum`` function and the ``np.sum`` function are not identical, and this can  sometimes lead to confusion!\n",
        "In particular, we point out that their optional arguments have different meanings. Moreover ``np.sum`` is aware of multiple array dimensions."
      ]
    },
    {
      "cell_type": "code",
      "metadata": {
        "collapsed": true,
        "id": "-XT75FVYz0ma",
        "outputId": "eb6f86da-d950-47f2-e5fc-2731dcf1b70c"
      },
      "source": [
        "help(sum(big_array))"
      ],
      "execution_count": null,
      "outputs": [
        {
          "name": "stdout",
          "output_type": "stream",
          "text": [
            "Help on float64 object:\n",
            "\n",
            "class float64(floating, builtins.float)\n",
            " |  float64(x=0, /)\n",
            " |  \n",
            " |  Double-precision floating-point number type, compatible with Python `float`\n",
            " |  and C ``double``.\n",
            " |  \n",
            " |  :Character code: ``'d'``\n",
            " |  :Canonical name: `numpy.double`\n",
            " |  :Alias: `numpy.float_`\n",
            " |  :Alias on this platform (Linux x86_64): `numpy.float64`: 64-bit precision floating-point number type: sign bit, 11 bits exponent, 52 bits mantissa.\n",
            " |  \n",
            " |  Method resolution order:\n",
            " |      float64\n",
            " |      floating\n",
            " |      inexact\n",
            " |      number\n",
            " |      generic\n",
            " |      builtins.float\n",
            " |      builtins.object\n",
            " |  \n",
            " |  Methods defined here:\n",
            " |  \n",
            " |  __abs__(self, /)\n",
            " |      abs(self)\n",
            " |  \n",
            " |  __add__(self, value, /)\n",
            " |      Return self+value.\n",
            " |  \n",
            " |  __bool__(self, /)\n",
            " |      self != 0\n",
            " |  \n",
            " |  __divmod__(self, value, /)\n",
            " |      Return divmod(self, value).\n",
            " |  \n",
            " |  __eq__(self, value, /)\n",
            " |      Return self==value.\n",
            " |  \n",
            " |  __float__(self, /)\n",
            " |      float(self)\n",
            " |  \n",
            " |  __floordiv__(self, value, /)\n",
            " |      Return self//value.\n",
            " |  \n",
            " |  __ge__(self, value, /)\n",
            " |      Return self>=value.\n",
            " |  \n",
            " |  __gt__(self, value, /)\n",
            " |      Return self>value.\n",
            " |  \n",
            " |  __hash__(self, /)\n",
            " |      Return hash(self).\n",
            " |  \n",
            " |  __int__(self, /)\n",
            " |      int(self)\n",
            " |  \n",
            " |  __le__(self, value, /)\n",
            " |      Return self<=value.\n",
            " |  \n",
            " |  __lt__(self, value, /)\n",
            " |      Return self<value.\n",
            " |  \n",
            " |  __mod__(self, value, /)\n",
            " |      Return self%value.\n",
            " |  \n",
            " |  __mul__(self, value, /)\n",
            " |      Return self*value.\n",
            " |  \n",
            " |  __ne__(self, value, /)\n",
            " |      Return self!=value.\n",
            " |  \n",
            " |  __neg__(self, /)\n",
            " |      -self\n",
            " |  \n",
            " |  __pos__(self, /)\n",
            " |      +self\n",
            " |  \n",
            " |  __pow__(self, value, mod=None, /)\n",
            " |      Return pow(self, value, mod).\n",
            " |  \n",
            " |  __radd__(self, value, /)\n",
            " |      Return value+self.\n",
            " |  \n",
            " |  __rdivmod__(self, value, /)\n",
            " |      Return divmod(value, self).\n",
            " |  \n",
            " |  __repr__(self, /)\n",
            " |      Return repr(self).\n",
            " |  \n",
            " |  __rfloordiv__(self, value, /)\n",
            " |      Return value//self.\n",
            " |  \n",
            " |  __rmod__(self, value, /)\n",
            " |      Return value%self.\n",
            " |  \n",
            " |  __rmul__(self, value, /)\n",
            " |      Return value*self.\n",
            " |  \n",
            " |  __rpow__(self, value, mod=None, /)\n",
            " |      Return pow(value, self, mod).\n",
            " |  \n",
            " |  __rsub__(self, value, /)\n",
            " |      Return value-self.\n",
            " |  \n",
            " |  __rtruediv__(self, value, /)\n",
            " |      Return value/self.\n",
            " |  \n",
            " |  __str__(self, /)\n",
            " |      Return str(self).\n",
            " |  \n",
            " |  __sub__(self, value, /)\n",
            " |      Return self-value.\n",
            " |  \n",
            " |  __truediv__(self, value, /)\n",
            " |      Return self/value.\n",
            " |  \n",
            " |  as_integer_ratio(...)\n",
            " |      double.as_integer_ratio() -> (int, int)\n",
            " |      \n",
            " |      Return a pair of integers, whose ratio is exactly equal to the original\n",
            " |      floating point number, and with a positive denominator.\n",
            " |      Raise `OverflowError` on infinities and a `ValueError` on NaNs.\n",
            " |      \n",
            " |      >>> np.double(10.0).as_integer_ratio()\n",
            " |      (10, 1)\n",
            " |      >>> np.double(0.0).as_integer_ratio()\n",
            " |      (0, 1)\n",
            " |      >>> np.double(-.25).as_integer_ratio()\n",
            " |      (-1, 4)\n",
            " |  \n",
            " |  ----------------------------------------------------------------------\n",
            " |  Static methods defined here:\n",
            " |  \n",
            " |  __new__(*args, **kwargs) from builtins.type\n",
            " |      Create and return a new object.  See help(type) for accurate signature.\n",
            " |  \n",
            " |  ----------------------------------------------------------------------\n",
            " |  Methods inherited from floating:\n",
            " |  \n",
            " |  __round__(...)\n",
            " |  \n",
            " |  ----------------------------------------------------------------------\n",
            " |  Methods inherited from generic:\n",
            " |  \n",
            " |  __and__(self, value, /)\n",
            " |      Return self&value.\n",
            " |  \n",
            " |  __array__(...)\n",
            " |      sc.__array__(dtype) return 0-dim array from scalar with specified dtype\n",
            " |  \n",
            " |  __array_wrap__(...)\n",
            " |      sc.__array_wrap__(obj) return scalar from array\n",
            " |  \n",
            " |  __copy__(...)\n",
            " |  \n",
            " |  __deepcopy__(...)\n",
            " |  \n",
            " |  __format__(...)\n",
            " |      NumPy array scalar formatter\n",
            " |  \n",
            " |  __getitem__(self, key, /)\n",
            " |      Return self[key].\n",
            " |  \n",
            " |  __invert__(self, /)\n",
            " |      ~self\n",
            " |  \n",
            " |  __lshift__(self, value, /)\n",
            " |      Return self<<value.\n",
            " |  \n",
            " |  __or__(self, value, /)\n",
            " |      Return self|value.\n",
            " |  \n",
            " |  __rand__(self, value, /)\n",
            " |      Return value&self.\n",
            " |  \n",
            " |  __reduce__(...)\n",
            " |      Helper for pickle.\n",
            " |  \n",
            " |  __rlshift__(self, value, /)\n",
            " |      Return value<<self.\n",
            " |  \n",
            " |  __ror__(self, value, /)\n",
            " |      Return value|self.\n",
            " |  \n",
            " |  __rrshift__(self, value, /)\n",
            " |      Return value>>self.\n",
            " |  \n",
            " |  __rshift__(self, value, /)\n",
            " |      Return self>>value.\n",
            " |  \n",
            " |  __rxor__(self, value, /)\n",
            " |      Return value^self.\n",
            " |  \n",
            " |  __setstate__(...)\n",
            " |  \n",
            " |  __sizeof__(...)\n",
            " |      Size of object in memory, in bytes.\n",
            " |  \n",
            " |  __xor__(self, value, /)\n",
            " |      Return self^value.\n",
            " |  \n",
            " |  all(...)\n",
            " |      Scalar method identical to the corresponding array attribute.\n",
            " |      \n",
            " |      Please see `ndarray.all`.\n",
            " |  \n",
            " |  any(...)\n",
            " |      Scalar method identical to the corresponding array attribute.\n",
            " |      \n",
            " |      Please see `ndarray.any`.\n",
            " |  \n",
            " |  argmax(...)\n",
            " |      Scalar method identical to the corresponding array attribute.\n",
            " |      \n",
            " |      Please see `ndarray.argmax`.\n",
            " |  \n",
            " |  argmin(...)\n",
            " |      Scalar method identical to the corresponding array attribute.\n",
            " |      \n",
            " |      Please see `ndarray.argmin`.\n",
            " |  \n",
            " |  argsort(...)\n",
            " |      Scalar method identical to the corresponding array attribute.\n",
            " |      \n",
            " |      Please see `ndarray.argsort`.\n",
            " |  \n",
            " |  astype(...)\n",
            " |      Scalar method identical to the corresponding array attribute.\n",
            " |      \n",
            " |      Please see `ndarray.astype`.\n",
            " |  \n",
            " |  byteswap(...)\n",
            " |      Scalar method identical to the corresponding array attribute.\n",
            " |      \n",
            " |      Please see `ndarray.byteswap`.\n",
            " |  \n",
            " |  choose(...)\n",
            " |      Scalar method identical to the corresponding array attribute.\n",
            " |      \n",
            " |      Please see `ndarray.choose`.\n",
            " |  \n",
            " |  clip(...)\n",
            " |      Scalar method identical to the corresponding array attribute.\n",
            " |      \n",
            " |      Please see `ndarray.clip`.\n",
            " |  \n",
            " |  compress(...)\n",
            " |      Scalar method identical to the corresponding array attribute.\n",
            " |      \n",
            " |      Please see `ndarray.compress`.\n",
            " |  \n",
            " |  conj(...)\n",
            " |  \n",
            " |  conjugate(...)\n",
            " |      Scalar method identical to the corresponding array attribute.\n",
            " |      \n",
            " |      Please see `ndarray.conjugate`.\n",
            " |  \n",
            " |  copy(...)\n",
            " |      Scalar method identical to the corresponding array attribute.\n",
            " |      \n",
            " |      Please see `ndarray.copy`.\n",
            " |  \n",
            " |  cumprod(...)\n",
            " |      Scalar method identical to the corresponding array attribute.\n",
            " |      \n",
            " |      Please see `ndarray.cumprod`.\n",
            " |  \n",
            " |  cumsum(...)\n",
            " |      Scalar method identical to the corresponding array attribute.\n",
            " |      \n",
            " |      Please see `ndarray.cumsum`.\n",
            " |  \n",
            " |  diagonal(...)\n",
            " |      Scalar method identical to the corresponding array attribute.\n",
            " |      \n",
            " |      Please see `ndarray.diagonal`.\n",
            " |  \n",
            " |  dump(...)\n",
            " |      Scalar method identical to the corresponding array attribute.\n",
            " |      \n",
            " |      Please see `ndarray.dump`.\n",
            " |  \n",
            " |  dumps(...)\n",
            " |      Scalar method identical to the corresponding array attribute.\n",
            " |      \n",
            " |      Please see `ndarray.dumps`.\n",
            " |  \n",
            " |  fill(...)\n",
            " |      Scalar method identical to the corresponding array attribute.\n",
            " |      \n",
            " |      Please see `ndarray.fill`.\n",
            " |  \n",
            " |  flatten(...)\n",
            " |      Scalar method identical to the corresponding array attribute.\n",
            " |      \n",
            " |      Please see `ndarray.flatten`.\n",
            " |  \n",
            " |  getfield(...)\n",
            " |      Scalar method identical to the corresponding array attribute.\n",
            " |      \n",
            " |      Please see `ndarray.getfield`.\n",
            " |  \n",
            " |  item(...)\n",
            " |      Scalar method identical to the corresponding array attribute.\n",
            " |      \n",
            " |      Please see `ndarray.item`.\n",
            " |  \n",
            " |  itemset(...)\n",
            " |      Scalar method identical to the corresponding array attribute.\n",
            " |      \n",
            " |      Please see `ndarray.itemset`.\n",
            " |  \n",
            " |  max(...)\n",
            " |      Scalar method identical to the corresponding array attribute.\n",
            " |      \n",
            " |      Please see `ndarray.max`.\n",
            " |  \n",
            " |  mean(...)\n",
            " |      Scalar method identical to the corresponding array attribute.\n",
            " |      \n",
            " |      Please see `ndarray.mean`.\n",
            " |  \n",
            " |  min(...)\n",
            " |      Scalar method identical to the corresponding array attribute.\n",
            " |      \n",
            " |      Please see `ndarray.min`.\n",
            " |  \n",
            " |  newbyteorder(...)\n",
            " |      newbyteorder(new_order='S', /)\n",
            " |      \n",
            " |      Return a new `dtype` with a different byte order.\n",
            " |      \n",
            " |      Changes are also made in all fields and sub-arrays of the data type.\n",
            " |      \n",
            " |      The `new_order` code can be any from the following:\n",
            " |      \n",
            " |      * 'S' - swap dtype from current to opposite endian\n",
            " |      * {'<', 'little'} - little endian\n",
            " |      * {'>', 'big'} - big endian\n",
            " |      * '=' - native order\n",
            " |      * {'|', 'I'} - ignore (no change to byte order)\n",
            " |      \n",
            " |      Parameters\n",
            " |      ----------\n",
            " |      new_order : str, optional\n",
            " |          Byte order to force; a value from the byte order specifications\n",
            " |          above.  The default value ('S') results in swapping the current\n",
            " |          byte order.\n",
            " |      \n",
            " |      \n",
            " |      Returns\n",
            " |      -------\n",
            " |      new_dtype : dtype\n",
            " |          New `dtype` object with the given change to the byte order.\n",
            " |  \n",
            " |  nonzero(...)\n",
            " |      Scalar method identical to the corresponding array attribute.\n",
            " |      \n",
            " |      Please see `ndarray.nonzero`.\n",
            " |  \n",
            " |  prod(...)\n",
            " |      Scalar method identical to the corresponding array attribute.\n",
            " |      \n",
            " |      Please see `ndarray.prod`.\n",
            " |  \n",
            " |  ptp(...)\n",
            " |      Scalar method identical to the corresponding array attribute.\n",
            " |      \n",
            " |      Please see `ndarray.ptp`.\n",
            " |  \n",
            " |  put(...)\n",
            " |      Scalar method identical to the corresponding array attribute.\n",
            " |      \n",
            " |      Please see `ndarray.put`.\n",
            " |  \n",
            " |  ravel(...)\n",
            " |      Scalar method identical to the corresponding array attribute.\n",
            " |      \n",
            " |      Please see `ndarray.ravel`.\n",
            " |  \n",
            " |  repeat(...)\n",
            " |      Scalar method identical to the corresponding array attribute.\n",
            " |      \n",
            " |      Please see `ndarray.repeat`.\n",
            " |  \n",
            " |  reshape(...)\n",
            " |      Scalar method identical to the corresponding array attribute.\n",
            " |      \n",
            " |      Please see `ndarray.reshape`.\n",
            " |  \n",
            " |  resize(...)\n",
            " |      Scalar method identical to the corresponding array attribute.\n",
            " |      \n",
            " |      Please see `ndarray.resize`.\n",
            " |  \n",
            " |  round(...)\n",
            " |      Scalar method identical to the corresponding array attribute.\n",
            " |      \n",
            " |      Please see `ndarray.round`.\n",
            " |  \n",
            " |  searchsorted(...)\n",
            " |      Scalar method identical to the corresponding array attribute.\n",
            " |      \n",
            " |      Please see `ndarray.searchsorted`.\n",
            " |  \n",
            " |  setfield(...)\n",
            " |      Scalar method identical to the corresponding array attribute.\n",
            " |      \n",
            " |      Please see `ndarray.setfield`.\n",
            " |  \n",
            " |  setflags(...)\n",
            " |      Scalar method identical to the corresponding array attribute.\n",
            " |      \n",
            " |      Please see `ndarray.setflags`.\n",
            " |  \n",
            " |  sort(...)\n",
            " |      Scalar method identical to the corresponding array attribute.\n",
            " |      \n",
            " |      Please see `ndarray.sort`.\n",
            " |  \n",
            " |  squeeze(...)\n",
            " |      Scalar method identical to the corresponding array attribute.\n",
            " |      \n",
            " |      Please see `ndarray.squeeze`.\n",
            " |  \n",
            " |  std(...)\n",
            " |      Scalar method identical to the corresponding array attribute.\n",
            " |      \n",
            " |      Please see `ndarray.std`.\n",
            " |  \n",
            " |  sum(...)\n",
            " |      Scalar method identical to the corresponding array attribute.\n",
            " |      \n",
            " |      Please see `ndarray.sum`.\n",
            " |  \n",
            " |  swapaxes(...)\n",
            " |      Scalar method identical to the corresponding array attribute.\n",
            " |      \n",
            " |      Please see `ndarray.swapaxes`.\n",
            " |  \n",
            " |  take(...)\n",
            " |      Scalar method identical to the corresponding array attribute.\n",
            " |      \n",
            " |      Please see `ndarray.take`.\n",
            " |  \n",
            " |  tobytes(...)\n",
            " |  \n",
            " |  tofile(...)\n",
            " |      Scalar method identical to the corresponding array attribute.\n",
            " |      \n",
            " |      Please see `ndarray.tofile`.\n",
            " |  \n",
            " |  tolist(...)\n",
            " |      Scalar method identical to the corresponding array attribute.\n",
            " |      \n",
            " |      Please see `ndarray.tolist`.\n",
            " |  \n",
            " |  tostring(...)\n",
            " |      Scalar method identical to the corresponding array attribute.\n",
            " |      \n",
            " |      Please see `ndarray.tostring`.\n",
            " |  \n",
            " |  trace(...)\n",
            " |      Scalar method identical to the corresponding array attribute.\n",
            " |      \n",
            " |      Please see `ndarray.trace`.\n",
            " |  \n",
            " |  transpose(...)\n",
            " |      Scalar method identical to the corresponding array attribute.\n",
            " |      \n",
            " |      Please see `ndarray.transpose`.\n",
            " |  \n",
            " |  var(...)\n",
            " |      Scalar method identical to the corresponding array attribute.\n",
            " |      \n",
            " |      Please see `ndarray.var`.\n",
            " |  \n",
            " |  view(...)\n",
            " |      Scalar method identical to the corresponding array attribute.\n",
            " |      \n",
            " |      Please see `ndarray.view`.\n",
            " |  \n",
            " |  ----------------------------------------------------------------------\n",
            " |  Data descriptors inherited from generic:\n",
            " |  \n",
            " |  T\n",
            " |      Scalar attribute identical to the corresponding array attribute.\n",
            " |      \n",
            " |      Please see `ndarray.T`.\n",
            " |  \n",
            " |  __array_interface__\n",
            " |      Array protocol: Python side\n",
            " |  \n",
            " |  __array_priority__\n",
            " |      Array priority.\n",
            " |  \n",
            " |  __array_struct__\n",
            " |      Array protocol: struct\n",
            " |  \n",
            " |  base\n",
            " |      Scalar attribute identical to the corresponding array attribute.\n",
            " |      \n",
            " |      Please see `ndarray.base`.\n",
            " |  \n",
            " |  data\n",
            " |      Pointer to start of data.\n",
            " |  \n",
            " |  dtype\n",
            " |      Get array data-descriptor.\n",
            " |  \n",
            " |  flags\n",
            " |      The integer value of flags.\n",
            " |  \n",
            " |  flat\n",
            " |      A 1-D view of the scalar.\n",
            " |  \n",
            " |  imag\n",
            " |      The imaginary part of the scalar.\n",
            " |  \n",
            " |  itemsize\n",
            " |      The length of one element in bytes.\n",
            " |  \n",
            " |  nbytes\n",
            " |      The length of the scalar in bytes.\n",
            " |  \n",
            " |  ndim\n",
            " |      The number of array dimensions.\n",
            " |  \n",
            " |  real\n",
            " |      The real part of the scalar.\n",
            " |  \n",
            " |  shape\n",
            " |      Tuple of array dimensions.\n",
            " |  \n",
            " |  size\n",
            " |      The number of elements in the gentype.\n",
            " |  \n",
            " |  strides\n",
            " |      Tuple of bytes steps in each dimension.\n",
            " |  \n",
            " |  ----------------------------------------------------------------------\n",
            " |  Methods inherited from builtins.float:\n",
            " |  \n",
            " |  __getattribute__(self, name, /)\n",
            " |      Return getattr(self, name).\n",
            " |  \n",
            " |  __getnewargs__(self, /)\n",
            " |  \n",
            " |  __trunc__(self, /)\n",
            " |      Return the Integral closest to x between 0 and x.\n",
            " |  \n",
            " |  hex(self, /)\n",
            " |      Return a hexadecimal representation of a floating-point number.\n",
            " |      \n",
            " |      >>> (-0.1).hex()\n",
            " |      '-0x1.999999999999ap-4'\n",
            " |      >>> 3.14159.hex()\n",
            " |      '0x1.921f9f01b866ep+1'\n",
            " |  \n",
            " |  is_integer(self, /)\n",
            " |      Return True if the float is an integer.\n",
            " |  \n",
            " |  ----------------------------------------------------------------------\n",
            " |  Class methods inherited from builtins.float:\n",
            " |  \n",
            " |  __getformat__(typestr, /) from builtins.type\n",
            " |      You probably don't want to use this function.\n",
            " |      \n",
            " |        typestr\n",
            " |          Must be 'double' or 'float'.\n",
            " |      \n",
            " |      It exists mainly to be used in Python's test suite.\n",
            " |      \n",
            " |      This function returns whichever of 'unknown', 'IEEE, big-endian' or 'IEEE,\n",
            " |      little-endian' best describes the format of floating point numbers used by the\n",
            " |      C type named by typestr.\n",
            " |  \n",
            " |  __set_format__(typestr, fmt, /) from builtins.type\n",
            " |      You probably don't want to use this function.\n",
            " |      \n",
            " |        typestr\n",
            " |          Must be 'double' or 'float'.\n",
            " |        fmt\n",
            " |          Must be one of 'unknown', 'IEEE, big-endian' or 'IEEE, little-endian',\n",
            " |          and in addition can only be one of the latter two if it appears to\n",
            " |          match the underlying C reality.\n",
            " |      \n",
            " |      It exists mainly to be used in Python's test suite.\n",
            " |      \n",
            " |      Override the automatic determination of C-level floating point type.\n",
            " |      This affects how floats are converted to and from binary strings.\n",
            " |  \n",
            " |  fromhex(string, /) from builtins.type\n",
            " |      Create a floating-point number from a hexadecimal string.\n",
            " |      \n",
            " |      >>> float.fromhex('0x1.ffffp10')\n",
            " |      2047.984375\n",
            " |      >>> float.fromhex('-0x1p-1074')\n",
            " |      -5e-324\n",
            "\n"
          ]
        }
      ]
    },
    {
      "cell_type": "code",
      "metadata": {
        "collapsed": true,
        "id": "ATQEFKCHz0ma",
        "outputId": "4be51b29-2262-4b8b-c8fa-2e3524f63d00"
      },
      "source": [
        "help(np.sum(big_array))"
      ],
      "execution_count": null,
      "outputs": [
        {
          "name": "stdout",
          "output_type": "stream",
          "text": [
            "Help on float64 object:\n",
            "\n",
            "class float64(floating, builtins.float)\n",
            " |  float64(x=0, /)\n",
            " |  \n",
            " |  Double-precision floating-point number type, compatible with Python `float`\n",
            " |  and C ``double``.\n",
            " |  \n",
            " |  :Character code: ``'d'``\n",
            " |  :Canonical name: `numpy.double`\n",
            " |  :Alias: `numpy.float_`\n",
            " |  :Alias on this platform (Linux x86_64): `numpy.float64`: 64-bit precision floating-point number type: sign bit, 11 bits exponent, 52 bits mantissa.\n",
            " |  \n",
            " |  Method resolution order:\n",
            " |      float64\n",
            " |      floating\n",
            " |      inexact\n",
            " |      number\n",
            " |      generic\n",
            " |      builtins.float\n",
            " |      builtins.object\n",
            " |  \n",
            " |  Methods defined here:\n",
            " |  \n",
            " |  __abs__(self, /)\n",
            " |      abs(self)\n",
            " |  \n",
            " |  __add__(self, value, /)\n",
            " |      Return self+value.\n",
            " |  \n",
            " |  __bool__(self, /)\n",
            " |      self != 0\n",
            " |  \n",
            " |  __divmod__(self, value, /)\n",
            " |      Return divmod(self, value).\n",
            " |  \n",
            " |  __eq__(self, value, /)\n",
            " |      Return self==value.\n",
            " |  \n",
            " |  __float__(self, /)\n",
            " |      float(self)\n",
            " |  \n",
            " |  __floordiv__(self, value, /)\n",
            " |      Return self//value.\n",
            " |  \n",
            " |  __ge__(self, value, /)\n",
            " |      Return self>=value.\n",
            " |  \n",
            " |  __gt__(self, value, /)\n",
            " |      Return self>value.\n",
            " |  \n",
            " |  __hash__(self, /)\n",
            " |      Return hash(self).\n",
            " |  \n",
            " |  __int__(self, /)\n",
            " |      int(self)\n",
            " |  \n",
            " |  __le__(self, value, /)\n",
            " |      Return self<=value.\n",
            " |  \n",
            " |  __lt__(self, value, /)\n",
            " |      Return self<value.\n",
            " |  \n",
            " |  __mod__(self, value, /)\n",
            " |      Return self%value.\n",
            " |  \n",
            " |  __mul__(self, value, /)\n",
            " |      Return self*value.\n",
            " |  \n",
            " |  __ne__(self, value, /)\n",
            " |      Return self!=value.\n",
            " |  \n",
            " |  __neg__(self, /)\n",
            " |      -self\n",
            " |  \n",
            " |  __pos__(self, /)\n",
            " |      +self\n",
            " |  \n",
            " |  __pow__(self, value, mod=None, /)\n",
            " |      Return pow(self, value, mod).\n",
            " |  \n",
            " |  __radd__(self, value, /)\n",
            " |      Return value+self.\n",
            " |  \n",
            " |  __rdivmod__(self, value, /)\n",
            " |      Return divmod(value, self).\n",
            " |  \n",
            " |  __repr__(self, /)\n",
            " |      Return repr(self).\n",
            " |  \n",
            " |  __rfloordiv__(self, value, /)\n",
            " |      Return value//self.\n",
            " |  \n",
            " |  __rmod__(self, value, /)\n",
            " |      Return value%self.\n",
            " |  \n",
            " |  __rmul__(self, value, /)\n",
            " |      Return value*self.\n",
            " |  \n",
            " |  __rpow__(self, value, mod=None, /)\n",
            " |      Return pow(value, self, mod).\n",
            " |  \n",
            " |  __rsub__(self, value, /)\n",
            " |      Return value-self.\n",
            " |  \n",
            " |  __rtruediv__(self, value, /)\n",
            " |      Return value/self.\n",
            " |  \n",
            " |  __str__(self, /)\n",
            " |      Return str(self).\n",
            " |  \n",
            " |  __sub__(self, value, /)\n",
            " |      Return self-value.\n",
            " |  \n",
            " |  __truediv__(self, value, /)\n",
            " |      Return self/value.\n",
            " |  \n",
            " |  as_integer_ratio(...)\n",
            " |      double.as_integer_ratio() -> (int, int)\n",
            " |      \n",
            " |      Return a pair of integers, whose ratio is exactly equal to the original\n",
            " |      floating point number, and with a positive denominator.\n",
            " |      Raise `OverflowError` on infinities and a `ValueError` on NaNs.\n",
            " |      \n",
            " |      >>> np.double(10.0).as_integer_ratio()\n",
            " |      (10, 1)\n",
            " |      >>> np.double(0.0).as_integer_ratio()\n",
            " |      (0, 1)\n",
            " |      >>> np.double(-.25).as_integer_ratio()\n",
            " |      (-1, 4)\n",
            " |  \n",
            " |  ----------------------------------------------------------------------\n",
            " |  Static methods defined here:\n",
            " |  \n",
            " |  __new__(*args, **kwargs) from builtins.type\n",
            " |      Create and return a new object.  See help(type) for accurate signature.\n",
            " |  \n",
            " |  ----------------------------------------------------------------------\n",
            " |  Methods inherited from floating:\n",
            " |  \n",
            " |  __round__(...)\n",
            " |  \n",
            " |  ----------------------------------------------------------------------\n",
            " |  Methods inherited from generic:\n",
            " |  \n",
            " |  __and__(self, value, /)\n",
            " |      Return self&value.\n",
            " |  \n",
            " |  __array__(...)\n",
            " |      sc.__array__(dtype) return 0-dim array from scalar with specified dtype\n",
            " |  \n",
            " |  __array_wrap__(...)\n",
            " |      sc.__array_wrap__(obj) return scalar from array\n",
            " |  \n",
            " |  __copy__(...)\n",
            " |  \n",
            " |  __deepcopy__(...)\n",
            " |  \n",
            " |  __format__(...)\n",
            " |      NumPy array scalar formatter\n",
            " |  \n",
            " |  __getitem__(self, key, /)\n",
            " |      Return self[key].\n",
            " |  \n",
            " |  __invert__(self, /)\n",
            " |      ~self\n",
            " |  \n",
            " |  __lshift__(self, value, /)\n",
            " |      Return self<<value.\n",
            " |  \n",
            " |  __or__(self, value, /)\n",
            " |      Return self|value.\n",
            " |  \n",
            " |  __rand__(self, value, /)\n",
            " |      Return value&self.\n",
            " |  \n",
            " |  __reduce__(...)\n",
            " |      Helper for pickle.\n",
            " |  \n",
            " |  __rlshift__(self, value, /)\n",
            " |      Return value<<self.\n",
            " |  \n",
            " |  __ror__(self, value, /)\n",
            " |      Return value|self.\n",
            " |  \n",
            " |  __rrshift__(self, value, /)\n",
            " |      Return value>>self.\n",
            " |  \n",
            " |  __rshift__(self, value, /)\n",
            " |      Return self>>value.\n",
            " |  \n",
            " |  __rxor__(self, value, /)\n",
            " |      Return value^self.\n",
            " |  \n",
            " |  __setstate__(...)\n",
            " |  \n",
            " |  __sizeof__(...)\n",
            " |      Size of object in memory, in bytes.\n",
            " |  \n",
            " |  __xor__(self, value, /)\n",
            " |      Return self^value.\n",
            " |  \n",
            " |  all(...)\n",
            " |      Scalar method identical to the corresponding array attribute.\n",
            " |      \n",
            " |      Please see `ndarray.all`.\n",
            " |  \n",
            " |  any(...)\n",
            " |      Scalar method identical to the corresponding array attribute.\n",
            " |      \n",
            " |      Please see `ndarray.any`.\n",
            " |  \n",
            " |  argmax(...)\n",
            " |      Scalar method identical to the corresponding array attribute.\n",
            " |      \n",
            " |      Please see `ndarray.argmax`.\n",
            " |  \n",
            " |  argmin(...)\n",
            " |      Scalar method identical to the corresponding array attribute.\n",
            " |      \n",
            " |      Please see `ndarray.argmin`.\n",
            " |  \n",
            " |  argsort(...)\n",
            " |      Scalar method identical to the corresponding array attribute.\n",
            " |      \n",
            " |      Please see `ndarray.argsort`.\n",
            " |  \n",
            " |  astype(...)\n",
            " |      Scalar method identical to the corresponding array attribute.\n",
            " |      \n",
            " |      Please see `ndarray.astype`.\n",
            " |  \n",
            " |  byteswap(...)\n",
            " |      Scalar method identical to the corresponding array attribute.\n",
            " |      \n",
            " |      Please see `ndarray.byteswap`.\n",
            " |  \n",
            " |  choose(...)\n",
            " |      Scalar method identical to the corresponding array attribute.\n",
            " |      \n",
            " |      Please see `ndarray.choose`.\n",
            " |  \n",
            " |  clip(...)\n",
            " |      Scalar method identical to the corresponding array attribute.\n",
            " |      \n",
            " |      Please see `ndarray.clip`.\n",
            " |  \n",
            " |  compress(...)\n",
            " |      Scalar method identical to the corresponding array attribute.\n",
            " |      \n",
            " |      Please see `ndarray.compress`.\n",
            " |  \n",
            " |  conj(...)\n",
            " |  \n",
            " |  conjugate(...)\n",
            " |      Scalar method identical to the corresponding array attribute.\n",
            " |      \n",
            " |      Please see `ndarray.conjugate`.\n",
            " |  \n",
            " |  copy(...)\n",
            " |      Scalar method identical to the corresponding array attribute.\n",
            " |      \n",
            " |      Please see `ndarray.copy`.\n",
            " |  \n",
            " |  cumprod(...)\n",
            " |      Scalar method identical to the corresponding array attribute.\n",
            " |      \n",
            " |      Please see `ndarray.cumprod`.\n",
            " |  \n",
            " |  cumsum(...)\n",
            " |      Scalar method identical to the corresponding array attribute.\n",
            " |      \n",
            " |      Please see `ndarray.cumsum`.\n",
            " |  \n",
            " |  diagonal(...)\n",
            " |      Scalar method identical to the corresponding array attribute.\n",
            " |      \n",
            " |      Please see `ndarray.diagonal`.\n",
            " |  \n",
            " |  dump(...)\n",
            " |      Scalar method identical to the corresponding array attribute.\n",
            " |      \n",
            " |      Please see `ndarray.dump`.\n",
            " |  \n",
            " |  dumps(...)\n",
            " |      Scalar method identical to the corresponding array attribute.\n",
            " |      \n",
            " |      Please see `ndarray.dumps`.\n",
            " |  \n",
            " |  fill(...)\n",
            " |      Scalar method identical to the corresponding array attribute.\n",
            " |      \n",
            " |      Please see `ndarray.fill`.\n",
            " |  \n",
            " |  flatten(...)\n",
            " |      Scalar method identical to the corresponding array attribute.\n",
            " |      \n",
            " |      Please see `ndarray.flatten`.\n",
            " |  \n",
            " |  getfield(...)\n",
            " |      Scalar method identical to the corresponding array attribute.\n",
            " |      \n",
            " |      Please see `ndarray.getfield`.\n",
            " |  \n",
            " |  item(...)\n",
            " |      Scalar method identical to the corresponding array attribute.\n",
            " |      \n",
            " |      Please see `ndarray.item`.\n",
            " |  \n",
            " |  itemset(...)\n",
            " |      Scalar method identical to the corresponding array attribute.\n",
            " |      \n",
            " |      Please see `ndarray.itemset`.\n",
            " |  \n",
            " |  max(...)\n",
            " |      Scalar method identical to the corresponding array attribute.\n",
            " |      \n",
            " |      Please see `ndarray.max`.\n",
            " |  \n",
            " |  mean(...)\n",
            " |      Scalar method identical to the corresponding array attribute.\n",
            " |      \n",
            " |      Please see `ndarray.mean`.\n",
            " |  \n",
            " |  min(...)\n",
            " |      Scalar method identical to the corresponding array attribute.\n",
            " |      \n",
            " |      Please see `ndarray.min`.\n",
            " |  \n",
            " |  newbyteorder(...)\n",
            " |      newbyteorder(new_order='S', /)\n",
            " |      \n",
            " |      Return a new `dtype` with a different byte order.\n",
            " |      \n",
            " |      Changes are also made in all fields and sub-arrays of the data type.\n",
            " |      \n",
            " |      The `new_order` code can be any from the following:\n",
            " |      \n",
            " |      * 'S' - swap dtype from current to opposite endian\n",
            " |      * {'<', 'little'} - little endian\n",
            " |      * {'>', 'big'} - big endian\n",
            " |      * '=' - native order\n",
            " |      * {'|', 'I'} - ignore (no change to byte order)\n",
            " |      \n",
            " |      Parameters\n",
            " |      ----------\n",
            " |      new_order : str, optional\n",
            " |          Byte order to force; a value from the byte order specifications\n",
            " |          above.  The default value ('S') results in swapping the current\n",
            " |          byte order.\n",
            " |      \n",
            " |      \n",
            " |      Returns\n",
            " |      -------\n",
            " |      new_dtype : dtype\n",
            " |          New `dtype` object with the given change to the byte order.\n",
            " |  \n",
            " |  nonzero(...)\n",
            " |      Scalar method identical to the corresponding array attribute.\n",
            " |      \n",
            " |      Please see `ndarray.nonzero`.\n",
            " |  \n",
            " |  prod(...)\n",
            " |      Scalar method identical to the corresponding array attribute.\n",
            " |      \n",
            " |      Please see `ndarray.prod`.\n",
            " |  \n",
            " |  ptp(...)\n",
            " |      Scalar method identical to the corresponding array attribute.\n",
            " |      \n",
            " |      Please see `ndarray.ptp`.\n",
            " |  \n",
            " |  put(...)\n",
            " |      Scalar method identical to the corresponding array attribute.\n",
            " |      \n",
            " |      Please see `ndarray.put`.\n",
            " |  \n",
            " |  ravel(...)\n",
            " |      Scalar method identical to the corresponding array attribute.\n",
            " |      \n",
            " |      Please see `ndarray.ravel`.\n",
            " |  \n",
            " |  repeat(...)\n",
            " |      Scalar method identical to the corresponding array attribute.\n",
            " |      \n",
            " |      Please see `ndarray.repeat`.\n",
            " |  \n",
            " |  reshape(...)\n",
            " |      Scalar method identical to the corresponding array attribute.\n",
            " |      \n",
            " |      Please see `ndarray.reshape`.\n",
            " |  \n",
            " |  resize(...)\n",
            " |      Scalar method identical to the corresponding array attribute.\n",
            " |      \n",
            " |      Please see `ndarray.resize`.\n",
            " |  \n",
            " |  round(...)\n",
            " |      Scalar method identical to the corresponding array attribute.\n",
            " |      \n",
            " |      Please see `ndarray.round`.\n",
            " |  \n",
            " |  searchsorted(...)\n",
            " |      Scalar method identical to the corresponding array attribute.\n",
            " |      \n",
            " |      Please see `ndarray.searchsorted`.\n",
            " |  \n",
            " |  setfield(...)\n",
            " |      Scalar method identical to the corresponding array attribute.\n",
            " |      \n",
            " |      Please see `ndarray.setfield`.\n",
            " |  \n",
            " |  setflags(...)\n",
            " |      Scalar method identical to the corresponding array attribute.\n",
            " |      \n",
            " |      Please see `ndarray.setflags`.\n",
            " |  \n",
            " |  sort(...)\n",
            " |      Scalar method identical to the corresponding array attribute.\n",
            " |      \n",
            " |      Please see `ndarray.sort`.\n",
            " |  \n",
            " |  squeeze(...)\n",
            " |      Scalar method identical to the corresponding array attribute.\n",
            " |      \n",
            " |      Please see `ndarray.squeeze`.\n",
            " |  \n",
            " |  std(...)\n",
            " |      Scalar method identical to the corresponding array attribute.\n",
            " |      \n",
            " |      Please see `ndarray.std`.\n",
            " |  \n",
            " |  sum(...)\n",
            " |      Scalar method identical to the corresponding array attribute.\n",
            " |      \n",
            " |      Please see `ndarray.sum`.\n",
            " |  \n",
            " |  swapaxes(...)\n",
            " |      Scalar method identical to the corresponding array attribute.\n",
            " |      \n",
            " |      Please see `ndarray.swapaxes`.\n",
            " |  \n",
            " |  take(...)\n",
            " |      Scalar method identical to the corresponding array attribute.\n",
            " |      \n",
            " |      Please see `ndarray.take`.\n",
            " |  \n",
            " |  tobytes(...)\n",
            " |  \n",
            " |  tofile(...)\n",
            " |      Scalar method identical to the corresponding array attribute.\n",
            " |      \n",
            " |      Please see `ndarray.tofile`.\n",
            " |  \n",
            " |  tolist(...)\n",
            " |      Scalar method identical to the corresponding array attribute.\n",
            " |      \n",
            " |      Please see `ndarray.tolist`.\n",
            " |  \n",
            " |  tostring(...)\n",
            " |      Scalar method identical to the corresponding array attribute.\n",
            " |      \n",
            " |      Please see `ndarray.tostring`.\n",
            " |  \n",
            " |  trace(...)\n",
            " |      Scalar method identical to the corresponding array attribute.\n",
            " |      \n",
            " |      Please see `ndarray.trace`.\n",
            " |  \n",
            " |  transpose(...)\n",
            " |      Scalar method identical to the corresponding array attribute.\n",
            " |      \n",
            " |      Please see `ndarray.transpose`.\n",
            " |  \n",
            " |  var(...)\n",
            " |      Scalar method identical to the corresponding array attribute.\n",
            " |      \n",
            " |      Please see `ndarray.var`.\n",
            " |  \n",
            " |  view(...)\n",
            " |      Scalar method identical to the corresponding array attribute.\n",
            " |      \n",
            " |      Please see `ndarray.view`.\n",
            " |  \n",
            " |  ----------------------------------------------------------------------\n",
            " |  Data descriptors inherited from generic:\n",
            " |  \n",
            " |  T\n",
            " |      Scalar attribute identical to the corresponding array attribute.\n",
            " |      \n",
            " |      Please see `ndarray.T`.\n",
            " |  \n",
            " |  __array_interface__\n",
            " |      Array protocol: Python side\n",
            " |  \n",
            " |  __array_priority__\n",
            " |      Array priority.\n",
            " |  \n",
            " |  __array_struct__\n",
            " |      Array protocol: struct\n",
            " |  \n",
            " |  base\n",
            " |      Scalar attribute identical to the corresponding array attribute.\n",
            " |      \n",
            " |      Please see `ndarray.base`.\n",
            " |  \n",
            " |  data\n",
            " |      Pointer to start of data.\n",
            " |  \n",
            " |  dtype\n",
            " |      Get array data-descriptor.\n",
            " |  \n",
            " |  flags\n",
            " |      The integer value of flags.\n",
            " |  \n",
            " |  flat\n",
            " |      A 1-D view of the scalar.\n",
            " |  \n",
            " |  imag\n",
            " |      The imaginary part of the scalar.\n",
            " |  \n",
            " |  itemsize\n",
            " |      The length of one element in bytes.\n",
            " |  \n",
            " |  nbytes\n",
            " |      The length of the scalar in bytes.\n",
            " |  \n",
            " |  ndim\n",
            " |      The number of array dimensions.\n",
            " |  \n",
            " |  real\n",
            " |      The real part of the scalar.\n",
            " |  \n",
            " |  shape\n",
            " |      Tuple of array dimensions.\n",
            " |  \n",
            " |  size\n",
            " |      The number of elements in the gentype.\n",
            " |  \n",
            " |  strides\n",
            " |      Tuple of bytes steps in each dimension.\n",
            " |  \n",
            " |  ----------------------------------------------------------------------\n",
            " |  Methods inherited from builtins.float:\n",
            " |  \n",
            " |  __getattribute__(self, name, /)\n",
            " |      Return getattr(self, name).\n",
            " |  \n",
            " |  __getnewargs__(self, /)\n",
            " |  \n",
            " |  __trunc__(self, /)\n",
            " |      Return the Integral closest to x between 0 and x.\n",
            " |  \n",
            " |  hex(self, /)\n",
            " |      Return a hexadecimal representation of a floating-point number.\n",
            " |      \n",
            " |      >>> (-0.1).hex()\n",
            " |      '-0x1.999999999999ap-4'\n",
            " |      >>> 3.14159.hex()\n",
            " |      '0x1.921f9f01b866ep+1'\n",
            " |  \n",
            " |  is_integer(self, /)\n",
            " |      Return True if the float is an integer.\n",
            " |  \n",
            " |  ----------------------------------------------------------------------\n",
            " |  Class methods inherited from builtins.float:\n",
            " |  \n",
            " |  __getformat__(typestr, /) from builtins.type\n",
            " |      You probably don't want to use this function.\n",
            " |      \n",
            " |        typestr\n",
            " |          Must be 'double' or 'float'.\n",
            " |      \n",
            " |      It exists mainly to be used in Python's test suite.\n",
            " |      \n",
            " |      This function returns whichever of 'unknown', 'IEEE, big-endian' or 'IEEE,\n",
            " |      little-endian' best describes the format of floating point numbers used by the\n",
            " |      C type named by typestr.\n",
            " |  \n",
            " |  __set_format__(typestr, fmt, /) from builtins.type\n",
            " |      You probably don't want to use this function.\n",
            " |      \n",
            " |        typestr\n",
            " |          Must be 'double' or 'float'.\n",
            " |        fmt\n",
            " |          Must be one of 'unknown', 'IEEE, big-endian' or 'IEEE, little-endian',\n",
            " |          and in addition can only be one of the latter two if it appears to\n",
            " |          match the underlying C reality.\n",
            " |      \n",
            " |      It exists mainly to be used in Python's test suite.\n",
            " |      \n",
            " |      Override the automatic determination of C-level floating point type.\n",
            " |      This affects how floats are converted to and from binary strings.\n",
            " |  \n",
            " |  fromhex(string, /) from builtins.type\n",
            " |      Create a floating-point number from a hexadecimal string.\n",
            " |      \n",
            " |      >>> float.fromhex('0x1.ffffp10')\n",
            " |      2047.984375\n",
            " |      >>> float.fromhex('-0x1p-1074')\n",
            " |      -5e-324\n",
            "\n"
          ]
        }
      ]
    },
    {
      "cell_type": "markdown",
      "metadata": {
        "id": "L6wOK5dDz0ma"
      },
      "source": [
        "#### Minimum and Maximum\n",
        "\n",
        "Similarly, Python has built-in ``min`` and ``max`` functions, used to find the minimum value and maximum value of any given array:"
      ]
    },
    {
      "cell_type": "code",
      "metadata": {
        "id": "r4mp8xmvz0mb",
        "outputId": "4f2c6163-02ac-4f92-eab4-e9dbf8ab2fa0"
      },
      "source": [
        "min(big_array), max(big_array)"
      ],
      "execution_count": null,
      "outputs": [
        {
          "data": {
            "text/plain": [
              "(1.4057692298008462e-06, 0.9999994392723005)"
            ]
          },
          "execution_count": 79,
          "metadata": {},
          "output_type": "execute_result"
        }
      ]
    },
    {
      "cell_type": "code",
      "metadata": {
        "id": "pphOo7eYz0mb",
        "outputId": "3883c61b-373a-4b02-adcf-5655f6f16a0e"
      },
      "source": [
        "# NumPy's corresponding functions have similar syntax, and again operate much more quickly:\n",
        "np.min(big_array), np.max(big_array)"
      ],
      "execution_count": null,
      "outputs": [
        {
          "data": {
            "text/plain": [
              "(1.4057692298008462e-06, 0.9999994392723005)"
            ]
          },
          "execution_count": 80,
          "metadata": {},
          "output_type": "execute_result"
        }
      ]
    },
    {
      "cell_type": "code",
      "metadata": {
        "id": "QTb5nmCBz0mb",
        "outputId": "11afc647-fc5c-4a16-e1df-10af7b28d7e2"
      },
      "source": [
        "%timeit min(big_array), max(big_array)\n",
        "%timeit np.min(big_array), np.max(big_array)"
      ],
      "execution_count": null,
      "outputs": [
        {
          "name": "stdout",
          "output_type": "stream",
          "text": [
            "172 ms ± 1.01 ms per loop (mean ± std. dev. of 7 runs, 10 loops each)\n",
            "1.04 ms ± 7.38 µs per loop (mean ± std. dev. of 7 runs, 1000 loops each)\n"
          ]
        }
      ]
    },
    {
      "cell_type": "markdown",
      "metadata": {
        "id": "1P2rlw2Zz0mb"
      },
      "source": [
        "For ``min``, ``max``, ``sum``, and several other NumPy aggregates, a shorter syntax is to use methods of the array object itself:"
      ]
    },
    {
      "cell_type": "code",
      "metadata": {
        "id": "sMwkJJUzz0md",
        "outputId": "9484f8a1-b948-44c9-8227-a9c7bd7392e1"
      },
      "source": [
        "print(big_array.min(), big_array.max(), big_array.sum())"
      ],
      "execution_count": null,
      "outputs": [
        {
          "name": "stdout",
          "output_type": "stream",
          "text": [
            "1.4057692298008462e-06 0.9999994392723005 500202.5348847683\n"
          ]
        }
      ]
    },
    {
      "cell_type": "markdown",
      "metadata": {
        "id": "ZdvGkPGxz0md"
      },
      "source": [
        "Whenever possible, make sure that you are using the NumPy version of these aggregates when operating on NumPy arrays!"
      ]
    },
    {
      "cell_type": "markdown",
      "metadata": {
        "id": "Y4qwdYi4z0md"
      },
      "source": [
        "#### Multi dimensional aggregates\n",
        "\n",
        "One common type of aggregation operation is an aggregate along a row or column.\n",
        "Say you have some data stored in a two-dimensional array:"
      ]
    },
    {
      "cell_type": "code",
      "metadata": {
        "id": "RgXVdftUz0md",
        "outputId": "954e2886-ef36-4956-9dbf-6cba0d9020cb"
      },
      "source": [
        "M = np.random.random((3, 4))\n",
        "print(M)"
      ],
      "execution_count": null,
      "outputs": [
        {
          "name": "stdout",
          "output_type": "stream",
          "text": [
            "[[0.50063048 0.07383653 0.49018646 0.72521956]\n",
            " [0.84926562 0.10226215 0.99559424 0.59250301]\n",
            " [0.53509    0.88518089 0.25518136 0.13130483]]\n"
          ]
        }
      ]
    },
    {
      "cell_type": "markdown",
      "metadata": {
        "id": "_P6_I1Ebz0md"
      },
      "source": [
        "By default, each NumPy aggregation function will return the aggregate over the entire array:"
      ]
    },
    {
      "cell_type": "code",
      "metadata": {
        "id": "FEKaG6R5z0md",
        "outputId": "bdc09578-2f75-431f-a05b-fa6bfccb4a05"
      },
      "source": [
        "M.sum()"
      ],
      "execution_count": null,
      "outputs": [
        {
          "data": {
            "text/plain": [
              "6.1362551272647154"
            ]
          },
          "execution_count": 84,
          "metadata": {},
          "output_type": "execute_result"
        }
      ]
    },
    {
      "cell_type": "markdown",
      "metadata": {
        "id": "8u9LURmVz0md"
      },
      "source": [
        "It is possible, for aggregation functions, to add an argument specifying the axis along which the aggregate is computed. For example, we can find the minimum value within each column by specifying axis=0:\n"
      ]
    },
    {
      "cell_type": "code",
      "metadata": {
        "id": "jnlFMdBBz0mf",
        "outputId": "d807b3be-2575-49ac-faf1-8bb2c6b99a1b"
      },
      "source": [
        "M.min(axis=0)"
      ],
      "execution_count": null,
      "outputs": [
        {
          "data": {
            "text/plain": [
              "array([0.50063048, 0.07383653, 0.25518136, 0.13130483])"
            ]
          },
          "execution_count": 85,
          "metadata": {},
          "output_type": "execute_result"
        }
      ]
    },
    {
      "cell_type": "markdown",
      "metadata": {
        "id": "9oJjtNsRz0mf"
      },
      "source": [
        "The function returns four values, corresponding to the four columns of numbers.You could test the similar axis specification with the `max` aggregate."
      ]
    },
    {
      "cell_type": "markdown",
      "metadata": {
        "id": "OWdu9gLyz0mf"
      },
      "source": [
        "The way the axis is specified here can be confusing to users coming from other languages.\n",
        "The ``axis`` keyword specifies the *dimension of the array that will be collapsed*, rather than the dimension that will be returned.\n",
        "So specifying ``axis=0`` means that the first axis will be collapsed: for two-dimensional arrays, this means that values within each column will be aggregated."
      ]
    },
    {
      "cell_type": "markdown",
      "metadata": {
        "id": "nxXvlA5Qz0mg"
      },
      "source": [
        "#### Other aggregation functions\n",
        "\n",
        "NumPy provides many other aggregation functions. The following table provides a list of useful aggregation functions available in NumPy:\n",
        "\n",
        "|Function Name      |   NaN-safe Version  | Description                                   |\n",
        "|-------------------|---------------------|-----------------------------------------------|\n",
        "| ``np.sum``        | ``np.nansum``       | Compute sum of elements                       |\n",
        "| ``np.prod``       | ``np.nanprod``      | Compute product of elements                   |\n",
        "| ``np.mean``       | ``np.nanmean``      | Compute mean of elements                      |\n",
        "| ``np.std``        | ``np.nanstd``       | Compute standard deviation                    |\n",
        "| ``np.var``        | ``np.nanvar``       | Compute variance                              |\n",
        "| ``np.min``        | ``np.nanmin``       | Find minimum value                            |\n",
        "| ``np.max``        | ``np.nanmax``       | Find maximum value                            |\n",
        "| ``np.argmin``     | ``np.nanargmin``    | Find index of minimum value                   |\n",
        "| ``np.argmax``     | ``np.nanargmax``    | Find index of maximum value                   |\n",
        "| ``np.median``     | ``np.nanmedian``    | Compute median of elements                    |\n",
        "| ``np.percentile`` | ``np.nanpercentile``| Compute rank-based statistics of elements     |\n",
        "| ``np.any``        | N/A                 | Evaluate whether any elements are true        |\n",
        "| ``np.all``        | N/A                 | Evaluate whether all elements are true        |"
      ]
    },
    {
      "cell_type": "markdown",
      "metadata": {
        "id": "-6nosNFXz0mh"
      },
      "source": [
        "#### Example: What is the Average Height of a list of heights?"
      ]
    },
    {
      "cell_type": "code",
      "metadata": {
        "id": "vqQ6goXzz0mh"
      },
      "source": [
        "heights = np.array([189,170,189,163, 183, 171, 185, 168, 173, 183, 173, 173, 175, 178, 183, 193, 178, 173,\n",
        " 174, 183, 183, 168, 170, 178, 182, 180, 183, 178, 182, 188, 175, 179, 183, 193, 182, 183,\n",
        " 177, 185, 188, 188, 182, 185])"
      ],
      "execution_count": null,
      "outputs": []
    },
    {
      "cell_type": "markdown",
      "metadata": {
        "id": "DNhsC-JXz0mh"
      },
      "source": [
        "Now that we have this data array, we can compute a variety of summary statistics:"
      ]
    },
    {
      "cell_type": "code",
      "metadata": {
        "id": "x5mFtHbzz0mh",
        "outputId": "ea239d48-487c-4603-f920-98d56fcb1b9d"
      },
      "source": [
        "print(\"Mean height:       \", heights.mean())\n",
        "print(\"Standard deviation:\", heights.std())\n",
        "print(\"Minimum height:    \", heights.min())\n",
        "print(\"Maximum height:    \", heights.max())"
      ],
      "execution_count": null,
      "outputs": [
        {
          "name": "stdout",
          "output_type": "stream",
          "text": [
            "Mean height:        179.73809523809524\n",
            "Standard deviation: 6.931843442745892\n",
            "Minimum height:     163\n",
            "Maximum height:     193\n"
          ]
        }
      ]
    },
    {
      "cell_type": "code",
      "metadata": {
        "id": "8IRuCpVDz0mi",
        "outputId": "42a8936a-d631-438c-cf84-7e7c12b541c2"
      },
      "source": [
        "# We may also wish to compute quantiles:\n",
        "\n",
        "print(\"25th percentile:   \", np.percentile(heights, 25))\n",
        "print(\"Median:            \", np.median(heights))\n",
        "print(\"75th percentile:   \", np.percentile(heights, 75))"
      ],
      "execution_count": null,
      "outputs": [
        {
          "name": "stdout",
          "output_type": "stream",
          "text": [
            "25th percentile:    174.25\n",
            "Median:             182.0\n",
            "75th percentile:    183.0\n"
          ]
        }
      ]
    },
    {
      "cell_type": "markdown",
      "metadata": {
        "id": "IxLBvIL7z0mi"
      },
      "source": [
        "We see that the median height is $182$ cm, or just shy of six feet.\n",
        "Sometimes it's more useful to have a visual representation of the data, which we can accomplish using tool Matplotlib (we'll discuss Matplotlib more fully towards the end of this week). For example, this code generates the following chart:"
      ]
    },
    {
      "cell_type": "code",
      "metadata": {
        "id": "lmjbrhlQz0mi",
        "outputId": "19ec079a-bda4-4db1-9f54-a4b8cc8f3f4a"
      },
      "source": [
        "import matplotlib.pyplot as plt\n",
        "import seaborn; seaborn.set()  # set plot style\n",
        "plt.hist(heights)\n",
        "plt.title('Height Distribution')\n",
        "plt.xlabel('height (cm)')\n",
        "plt.ylabel('number');"
      ],
      "execution_count": null,
      "outputs": [
        {
          "data": {
            "image/png": "[encoded data removed]",
            "text/plain": [
              "<Figure size 432x288 with 1 Axes>"
            ]
          },
          "metadata": {},
          "output_type": "display_data"
        }
      ]
    },
    {
      "cell_type": "markdown",
      "metadata": {
        "id": "R5-M5-LBz0mi"
      },
      "source": [
        "#### Short Exercise \n",
        "\n",
        "First, lets make a common array to work with.\n",
        "```python\n",
        "import numpy as np\n",
        "np.random.seed(21) # This guarantees the code will generate the same set of random numbers whenever executed\n",
        "random_integers = np.random.randint(1,high=500000, size=(20, 5))\n",
        "random_integers\n",
        "```\n",
        "  1. What is the average value of the second column?\n",
        "  2. What is the average value of the first 5 rows of the third and fourth columns?\n"
      ]
    },
    {
      "cell_type": "markdown",
      "metadata": {
        "id": "S7wfKwCsz0mj"
      },
      "source": [
        "### Broadcasting\n",
        "\n",
        "NumPy's universal functions can be used to *vectorize* operations and thereby remove slow Python loops.\n",
        "Another means of vectorizing operations is to use NumPy's *broadcasting* functionality.\n",
        "Broadcasting is simply a set of rules for applying binary ufuncs (e.g., addition, subtraction, multiplication, etc.) on arrays of different sizes."
      ]
    },
    {
      "cell_type": "code",
      "metadata": {
        "id": "nCZ2NYpqz0mj",
        "outputId": "18e788b3-62e9-497c-8b17-0cbdece502c5"
      },
      "source": [
        "# Recall that for arrays of the same size, binary operations \n",
        "# are performed on an element-by-element basis:\n",
        "\n",
        "a = np.array([0, 1, 2])\n",
        "b = np.array([5, 5, 5])\n",
        "a + b"
      ],
      "execution_count": null,
      "outputs": [
        {
          "data": {
            "text/plain": [
              "array([5, 6, 7])"
            ]
          },
          "execution_count": 91,
          "metadata": {},
          "output_type": "execute_result"
        }
      ]
    },
    {
      "cell_type": "markdown",
      "metadata": {
        "id": "f8UCOVeTz0mj"
      },
      "source": [
        "Broadcasting allows these types of binary operations to be performed on arrays of different sizes–for example, we can just as easily add a scalar (think of it as a zero-dimensional array) to an array:"
      ]
    },
    {
      "cell_type": "code",
      "metadata": {
        "id": "3Sarjcsmz0mk",
        "outputId": "842dc0b3-68f8-4c98-f1f3-11d61801d478"
      },
      "source": [
        "a + 5"
      ],
      "execution_count": null,
      "outputs": [
        {
          "data": {
            "text/plain": [
              "array([5, 6, 7])"
            ]
          },
          "execution_count": 92,
          "metadata": {},
          "output_type": "execute_result"
        }
      ]
    },
    {
      "cell_type": "markdown",
      "metadata": {
        "id": "lxSOvBrJz0mk"
      },
      "source": [
        "We can think of this as an operation that stretches or duplicates the value ``5`` into the array ``[5, 5, 5]``, and adds the results. We can similarly extend this to arrays of higher dimension. Observe the result when we add a one-dimensional array to a two-dimensional array:"
      ]
    },
    {
      "cell_type": "code",
      "metadata": {
        "id": "wWE7gds3z0mk",
        "outputId": "a1ff4536-059f-495e-e375-95a78e5048cf"
      },
      "source": [
        "M = np.ones((3, 3))\n",
        "M"
      ],
      "execution_count": null,
      "outputs": [
        {
          "data": {
            "text/plain": [
              "array([[1., 1., 1.],\n",
              "       [1., 1., 1.],\n",
              "       [1., 1., 1.]])"
            ]
          },
          "execution_count": 93,
          "metadata": {},
          "output_type": "execute_result"
        }
      ]
    },
    {
      "cell_type": "code",
      "metadata": {
        "id": "2CP19hZrz0mk",
        "outputId": "3b0fc4c8-54fe-4d97-acf9-da0c342ed512"
      },
      "source": [
        "M + a"
      ],
      "execution_count": null,
      "outputs": [
        {
          "data": {
            "text/plain": [
              "array([[1., 2., 3.],\n",
              "       [1., 2., 3.],\n",
              "       [1., 2., 3.]])"
            ]
          },
          "execution_count": 94,
          "metadata": {},
          "output_type": "execute_result"
        }
      ]
    },
    {
      "cell_type": "markdown",
      "metadata": {
        "id": "ZC4xwqMyz0ml"
      },
      "source": [
        "Here the one-dimensional array ``a`` is stretched, or broadcast across the second dimension in order to match the shape of ``M``.\n",
        "\n",
        "While these examples are relatively easy to understand, more complicated cases can involve broadcasting of both arrays. Consider the following example:"
      ]
    },
    {
      "cell_type": "code",
      "metadata": {
        "id": "hLgqFBfcz0ml",
        "outputId": "7d720d31-f6cb-4230-eb33-6b8a8df6c06a"
      },
      "source": [
        "a = np.arange(3)\n",
        "b = np.arange(3)[:, np.newaxis]\n",
        "\n",
        "print(a)\n",
        "print(b)"
      ],
      "execution_count": null,
      "outputs": [
        {
          "name": "stdout",
          "output_type": "stream",
          "text": [
            "[0 1 2]\n",
            "[[0]\n",
            " [1]\n",
            " [2]]\n"
          ]
        }
      ]
    },
    {
      "cell_type": "code",
      "metadata": {
        "id": "ySrJvbG4z0mm",
        "outputId": "7c8945b5-e058-4280-8727-63166e792ff3"
      },
      "source": [
        "a + b"
      ],
      "execution_count": null,
      "outputs": [
        {
          "data": {
            "text/plain": [
              "array([[0, 1, 2],\n",
              "       [1, 2, 3],\n",
              "       [2, 3, 4]])"
            ]
          },
          "execution_count": 96,
          "metadata": {},
          "output_type": "execute_result"
        }
      ]
    },
    {
      "cell_type": "markdown",
      "metadata": {
        "id": "_eyb-Folz0mn"
      },
      "source": [
        "Just as before we stretched or broadcasted one value to match the shape of the other, here we've stretched *both* ``a`` and ``b`` to match a common shape, and the result is a two-dimensional array!\n",
        "The geometry of these examples is visualized in the following figure \n",
        "\n",
        "<img src=\"https://jakevdp.github.io/PythonDataScienceHandbook/figures/02.05-broadcasting.png\">\n",
        "\n",
        "The light boxes represent the broadcasted values"
      ]
    },
    {
      "cell_type": "markdown",
      "metadata": {
        "id": "k41mnABTz0mn"
      },
      "source": [
        "There are a few rules attached to this *broadcasting* idea. Broadcasting in NumPy follows a strict set of rules to determine the interaction between the two arrays:\n",
        "\n",
        "- Rule 1: If the two arrays differ in their number of dimensions, the shape of the one with fewer dimensions is *padded* with ones on its leading (left) side.\n",
        "- Rule 2: If the shape of the two arrays does not match in any dimension, the array with shape equal to 1 in that dimension is stretched to match the other shape.\n",
        "- Rule 3: If in any dimension the sizes disagree and neither is equal to 1, an error is raised.\n",
        "\n",
        "To make these rules clear, let's consider a few examples in detail.\n",
        "\n",
        "#### Broadcasting example 1\n",
        "\n",
        "Let's look at adding a two-dimensional array to a one-dimensional array:"
      ]
    },
    {
      "cell_type": "code",
      "metadata": {
        "id": "uxbJrlS0z0mn"
      },
      "source": [
        "M = np.ones((2, 3))\n",
        "a = np.arange(3)"
      ],
      "execution_count": null,
      "outputs": []
    },
    {
      "cell_type": "markdown",
      "metadata": {
        "id": "yK5FkHxbz0mn"
      },
      "source": [
        "Let's consider an operation on these two arrays. The shape of the arrays are\n",
        "\n",
        "- ``M.shape = (2, 3)``\n",
        "- ``a.shape = (3,)``\n",
        "\n",
        "We see by rule 1 that the array ``a`` has fewer dimensions, so we pad it on the left with ones:\n",
        "\n",
        "- ``M.shape -> (2, 3)``\n",
        "- ``a.shape -> (1, 3)``\n",
        "\n",
        "By rule 2, we now see that the first dimension disagrees, so we stretch this dimension to match:\n",
        "\n",
        "- ``M.shape -> (2, 3)``\n",
        "- ``a.shape -> (2, 3)``\n",
        "\n",
        "The shapes match, and we see that the final shape will be ``(2, 3)``:"
      ]
    },
    {
      "cell_type": "code",
      "metadata": {
        "id": "TzZVY831z0mn",
        "outputId": "015dbca3-39b4-41c2-f572-64347a151ae0"
      },
      "source": [
        "M + a"
      ],
      "execution_count": null,
      "outputs": [
        {
          "data": {
            "text/plain": [
              "array([[1., 2., 3.],\n",
              "       [1., 2., 3.]])"
            ]
          },
          "execution_count": 98,
          "metadata": {},
          "output_type": "execute_result"
        }
      ]
    },
    {
      "cell_type": "markdown",
      "metadata": {
        "id": "v8xMZYqAz0mn"
      },
      "source": [
        "#### Broadcasting example 2\n",
        "\n",
        "Let's take a look at an example where both arrays need to be broadcast:"
      ]
    },
    {
      "cell_type": "code",
      "metadata": {
        "id": "Sj1NQb-xz0mn"
      },
      "source": [
        "a = np.arange(3).reshape((3, 1))\n",
        "b = np.arange(3)"
      ],
      "execution_count": null,
      "outputs": []
    },
    {
      "cell_type": "markdown",
      "metadata": {
        "id": "IjG9iWSPz0mn"
      },
      "source": [
        "Again, we'll start by writing out the shape of the arrays:\n",
        "\n",
        "- ``a.shape = (3, 1)``\n",
        "- ``b.shape = (3,)``\n",
        "\n",
        "Rule 1 says we must pad the shape of ``b`` with ones:\n",
        "\n",
        "- ``a.shape -> (3, 1)``\n",
        "- ``b.shape -> (1, 3)``\n",
        "\n",
        "And rule 2 tells us that we upgrade each of these ones to match the corresponding size of the other array:\n",
        "\n",
        "- ``a.shape -> (3, 3)``\n",
        "- ``b.shape -> (3, 3)``\n",
        "\n",
        "Because the result matches, these shapes are compatible. We can see this here:"
      ]
    },
    {
      "cell_type": "code",
      "metadata": {
        "id": "3xiREUChz0mo",
        "outputId": "036288f8-6932-414e-976a-3cf2a698c693"
      },
      "source": [
        "a + b"
      ],
      "execution_count": null,
      "outputs": [
        {
          "data": {
            "text/plain": [
              "array([[0, 1, 2],\n",
              "       [1, 2, 3],\n",
              "       [2, 3, 4]])"
            ]
          },
          "execution_count": 100,
          "metadata": {},
          "output_type": "execute_result"
        }
      ]
    },
    {
      "cell_type": "markdown",
      "metadata": {
        "id": "8q2lqey-z0mp"
      },
      "source": [
        "#### Broadcasting example 3\n",
        "\n",
        "Now let's take a look at an example in which the two arrays are not compatible:"
      ]
    },
    {
      "cell_type": "code",
      "metadata": {
        "id": "4cKKQKPEz0mp"
      },
      "source": [
        "M = np.ones((3, 2))\n",
        "a = np.arange(3)"
      ],
      "execution_count": null,
      "outputs": []
    },
    {
      "cell_type": "markdown",
      "metadata": {
        "id": "VpuHQFLjz0mp"
      },
      "source": [
        "This is just a slightly different situation than in the first example: the matrix ``M`` is transposed.\n",
        "How does this affect the calculation? The shape of the arrays are\n",
        "\n",
        "- ``M.shape = (3, 2)``\n",
        "- ``a.shape = (3,)``\n",
        "\n",
        "Again, rule 1 tells us that we must pad the shape of ``a`` with ones:\n",
        "\n",
        "- ``M.shape -> (3, 2)``\n",
        "- ``a.shape -> (1, 3)``\n",
        "\n",
        "By rule 2, the first dimension of ``a`` is stretched to match that of ``M``:\n",
        "\n",
        "- ``M.shape -> (3, 2)``\n",
        "- ``a.shape -> (3, 3)``\n",
        "\n",
        "Now we hit rule 3–the final shapes do not match, so these two arrays are incompatible, as we can observe by attempting this operation:"
      ]
    },
    {
      "cell_type": "code",
      "metadata": {
        "id": "h0vGCkNIz0mp",
        "outputId": "446abd23-1b96-4620-9e47-583023fb013b"
      },
      "source": [
        "M + a"
      ],
      "execution_count": null,
      "outputs": [
        {
          "ename": "ValueError",
          "evalue": "operands could not be broadcast together with shapes (3,2) (3,) ",
          "output_type": "error",
          "traceback": [
            "\u001b[0;31m---------------------------------------------------------------------------\u001b[0m",
            "\u001b[0;31mValueError\u001b[0m                                Traceback (most recent call last)",
            "\u001b[0;32m<ipython-input-102-8cac1d547906>\u001b[0m in \u001b[0;36m<module>\u001b[0;34m\u001b[0m\n\u001b[0;32m----> 1\u001b[0;31m \u001b[0mM\u001b[0m \u001b[0;34m+\u001b[0m \u001b[0ma\u001b[0m\u001b[0;34m\u001b[0m\u001b[0;34m\u001b[0m\u001b[0m\n\u001b[0m",
            "\u001b[0;31mValueError\u001b[0m: operands could not be broadcast together with shapes (3,2) (3,) "
          ]
        }
      ]
    },
    {
      "cell_type": "markdown",
      "metadata": {
        "id": "n4JVwd2Kz0mp"
      },
      "source": [
        "Note the potential confusion here: you could imagine making ``a`` and ``M`` compatible by, say, padding ``a``'s shape with ones on the right rather than the left.\n",
        "But this is not how the broadcasting rules work!\n",
        "That sort of flexibility might be useful in some cases, but it would lead to potential areas of ambiguity.\n",
        "If right-side padding is what you'd like, you can do this explicitly by reshaping the array (we'll use the ``np.newaxis`` keyword. "
      ]
    },
    {
      "cell_type": "code",
      "metadata": {
        "id": "GwF9v6sBz0mp",
        "outputId": "29bddda5-79fc-493e-9fa7-68cf0f91168d"
      },
      "source": [
        "a[:, np.newaxis].shape"
      ],
      "execution_count": null,
      "outputs": [
        {
          "data": {
            "text/plain": [
              "(3, 1)"
            ]
          },
          "execution_count": 103,
          "metadata": {},
          "output_type": "execute_result"
        }
      ]
    },
    {
      "cell_type": "code",
      "metadata": {
        "id": "0UWB96ATz0mr",
        "outputId": "6cd2023f-65d0-4c9f-c79a-10668171684e"
      },
      "source": [
        "M + a[:, np.newaxis]"
      ],
      "execution_count": null,
      "outputs": [
        {
          "data": {
            "text/plain": [
              "array([[1., 1.],\n",
              "       [2., 2.],\n",
              "       [3., 3.]])"
            ]
          },
          "execution_count": 104,
          "metadata": {},
          "output_type": "execute_result"
        }
      ]
    },
    {
      "cell_type": "markdown",
      "metadata": {
        "id": "Lc1wGnSjz0mr"
      },
      "source": [
        "Also note that while we've been focusing on the ``+`` operator here, these broadcasting rules apply to *any* binary ``ufunc``.\n",
        "For example, here is the ``logaddexp(a, b)`` function, which computes ``log(exp(a) + exp(b))`` with more precision than the naive approach:"
      ]
    },
    {
      "cell_type": "code",
      "metadata": {
        "id": "P7CcEjfhz0mr",
        "outputId": "5f8e542f-6343-4290-c7f3-4c8cccbc60d6"
      },
      "source": [
        "np.logaddexp(M, a[:, np.newaxis])"
      ],
      "execution_count": null,
      "outputs": [
        {
          "data": {
            "text/plain": [
              "array([[1.31326169, 1.31326169],\n",
              "       [1.69314718, 1.69314718],\n",
              "       [2.31326169, 2.31326169]])"
            ]
          },
          "execution_count": 105,
          "metadata": {},
          "output_type": "execute_result"
        }
      ]
    },
    {
      "cell_type": "markdown",
      "metadata": {
        "id": "qdVYX77Vz0mr"
      },
      "source": [
        "We saw that ufuncs allow a NumPy user to remove the need to explicitly write slow Python loops. Broadcasting extends this ability.\n",
        "One commonly seen example is when *centering an array* of data.\n",
        "Imagine you have an array of 10 observations, each of which consists of 3 values.\n",
        "We'll store this in a $10 \\times 3$ array:"
      ]
    },
    {
      "cell_type": "code",
      "metadata": {
        "id": "eIbLruddz0mr"
      },
      "source": [
        "X = np.random.random((10, 3))"
      ],
      "execution_count": null,
      "outputs": []
    },
    {
      "cell_type": "code",
      "metadata": {
        "id": "wKzd4Uu8z0ms",
        "outputId": "a577c7b0-a638-49c4-df7c-e7036b44cc5e"
      },
      "source": [
        "# We can compute the mean of each feature using the ``mean`` aggregate across the \n",
        "#first dimension:\n",
        "Xmean = X.mean(0)\n",
        "print(Xmean)\n",
        "\n",
        "\n",
        "# And now we can center the ``X`` array by subtracting the mean (this is a broadcasting operation):\n",
        "X_centered = X - Xmean\n",
        "\n",
        "# we can check that the centered array has near zero mean:\n",
        "# To within machine precision, the mean is now zero.\n",
        "X_centered.mean(0)"
      ],
      "execution_count": null,
      "outputs": [
        {
          "name": "stdout",
          "output_type": "stream",
          "text": [
            "[0.48773885 0.42332575 0.50590496]\n"
          ]
        },
        {
          "data": {
            "text/plain": [
              "array([ 5.55111512e-18, -4.44089210e-17,  8.88178420e-17])"
            ]
          },
          "execution_count": 107,
          "metadata": {},
          "output_type": "execute_result"
        }
      ]
    },
    {
      "cell_type": "markdown",
      "metadata": {
        "id": "lM34LEWYz0ms"
      },
      "source": [
        "Another place that broadcasting is very useful is in displaying images based on two-dimensional functions.\n",
        "If we want to define a function $z = f(x, y)$, broadcasting can be used to compute the function across the grid:"
      ]
    },
    {
      "cell_type": "code",
      "metadata": {
        "id": "ylzgv_goz0ms",
        "outputId": "4ed51684-bc61-4433-ae28-037a3d9c1f4b"
      },
      "source": [
        "# x and y have 50 steps from 0 to 5\n",
        "x = np.linspace(0, 5, 50)\n",
        "y = np.linspace(0, 5, 50)[:, np.newaxis]\n",
        "\n",
        "z = np.sin(x) ** 10 + np.cos(10 + y * x) * np.cos(x)\n",
        "\n",
        "# We have used Matplotlib to plot this two-dimensional array (these tools will be discussed in full later)\n",
        "import matplotlib.pyplot as plt\n",
        "plt.imshow(z, origin='lower', extent=[0, 5, 0, 5], cmap='viridis')\n",
        "plt.colorbar();\n",
        "\n",
        "#The result is a compelling visualization of the two-dimensional function."
      ],
      "execution_count": null,
      "outputs": [
        {
          "data": {
            "image/png": "[encoded data removed]",
            "text/plain": [
              "<Figure size 432x288 with 2 Axes>"
            ]
          },
          "metadata": {},
          "output_type": "display_data"
        }
      ]
    },
    {
      "cell_type": "markdown",
      "metadata": {
        "id": "C_A-EGg3z0mt"
      },
      "source": [
        "### Boolean Masks\n",
        "This section covers the use of Boolean masks to examine and manipulate values within NumPy arrays.\n",
        "Masking comes up when you want to extract, modify, count, or otherwise manipulate values in an array based on some criterion: for example, you might wish to count all values greater than a certain value, or perhaps remove all outliers that are above some threshold.\n",
        "In NumPy, Boolean masking is often the most efficient way to accomplish these types of tasks."
      ]
    },
    {
      "cell_type": "markdown",
      "metadata": {
        "id": "81SDoIgIz0mt"
      },
      "source": [
        "In the sections addressing `Universal Functions`(02.03-Computation-on-arrays-ufuncs.ipynb) we introduced ufuncs, and focused in particular on arithmetic operators. We saw that using ``+``, ``-``, ``*``, ``/``, and others on arrays leads to element-wise operations.\n",
        "NumPy also implements comparison operators such as ``<`` (less than) and ``>`` (greater than) as element-wise ufuncs.\n",
        "The result of these comparison operators is always an array with a Boolean data type.\n",
        "All six of the standard comparison operations are available:"
      ]
    },
    {
      "cell_type": "code",
      "metadata": {
        "id": "v5ZycZSXz0mt"
      },
      "source": [
        "x = np.array([1, 2, 3, 4, 5])"
      ],
      "execution_count": null,
      "outputs": []
    },
    {
      "cell_type": "code",
      "metadata": {
        "id": "lFhDdVbUz0mu",
        "outputId": "cc02ae24-c370-4dc6-d7a3-3e4b078c29ef"
      },
      "source": [
        "x < 3  # less than "
      ],
      "execution_count": null,
      "outputs": [
        {
          "data": {
            "text/plain": [
              "array([ True,  True, False, False, False])"
            ]
          },
          "execution_count": 110,
          "metadata": {},
          "output_type": "execute_result"
        }
      ]
    },
    {
      "cell_type": "code",
      "metadata": {
        "id": "GYk3y7N2z0mu",
        "outputId": "d84aa6e2-29b9-48d0-af15-0b9e77edf2a7"
      },
      "source": [
        "x > 3  # greater than"
      ],
      "execution_count": null,
      "outputs": [
        {
          "data": {
            "text/plain": [
              "array([False, False, False,  True,  True])"
            ]
          },
          "execution_count": 111,
          "metadata": {},
          "output_type": "execute_result"
        }
      ]
    },
    {
      "cell_type": "code",
      "metadata": {
        "id": "HRnSHSF1z0mv",
        "outputId": "ccda0a99-8305-42e9-b684-f87af6daf139"
      },
      "source": [
        "x <= 3  # less than or equal"
      ],
      "execution_count": null,
      "outputs": [
        {
          "data": {
            "text/plain": [
              "array([ True,  True,  True, False, False])"
            ]
          },
          "execution_count": 112,
          "metadata": {},
          "output_type": "execute_result"
        }
      ]
    },
    {
      "cell_type": "code",
      "metadata": {
        "id": "BIE8pOGHz0mv"
      },
      "source": [
        "# x >= 3  # less than or equal   # Uncomment and tun the cell."
      ],
      "execution_count": null,
      "outputs": []
    },
    {
      "cell_type": "code",
      "metadata": {
        "id": "Fuy8By8Xz0mv",
        "outputId": "2708a464-e8fd-4f05-ed78-841cd2e94ba9"
      },
      "source": [
        "x == 3  # equal"
      ],
      "execution_count": null,
      "outputs": [
        {
          "data": {
            "text/plain": [
              "array([False, False,  True, False, False])"
            ]
          },
          "execution_count": 114,
          "metadata": {},
          "output_type": "execute_result"
        }
      ]
    },
    {
      "cell_type": "code",
      "metadata": {
        "id": "NJNYAGfiz0mw"
      },
      "source": [
        "# x != 3  # not equal    # Uncomment and tun the cell."
      ],
      "execution_count": null,
      "outputs": []
    },
    {
      "cell_type": "code",
      "metadata": {
        "id": "XpfP1m9Nz0mw"
      },
      "source": [
        "#It is also possible to do an element-wise comparison of two arrays, \n",
        "# and to include compound expressions:"
      ],
      "execution_count": null,
      "outputs": []
    },
    {
      "cell_type": "code",
      "metadata": {
        "id": "ATnpzG0qz0mw",
        "outputId": "b8d3701a-9986-4191-a06c-1b79bb3bb76c"
      },
      "source": [
        "(2 * x) == (x ** 2)"
      ],
      "execution_count": null,
      "outputs": [
        {
          "data": {
            "text/plain": [
              "array([False,  True, False, False, False])"
            ]
          },
          "execution_count": 117,
          "metadata": {},
          "output_type": "execute_result"
        }
      ]
    },
    {
      "cell_type": "markdown",
      "metadata": {
        "id": "yoXUWhiYz0mw"
      },
      "source": [
        "As in the case of arithmetic operators, the comparison operators are implemented as ufuncs in NumPy; for example, when you write ``x < 3``, internally NumPy uses ``np.less(x, 3)``.\n",
        "    A summary of the comparison operators and their equivalent ufunc is shown here:\n",
        "\n",
        "| Operator\t    | Equivalent ufunc    || Operator\t   | Equivalent ufunc    |\n",
        "|---------------|---------------------||---------------|---------------------|\n",
        "|``==``         |``np.equal``         ||``!=``         |``np.not_equal``     |\n",
        "|``<``          |``np.less``          ||``<=``         |``np.less_equal``    |\n",
        "|``>``          |``np.greater``       ||``>=``         |``np.greater_equal`` |"
      ]
    },
    {
      "cell_type": "markdown",
      "metadata": {
        "id": "7lKypvMzz0mw"
      },
      "source": [
        "Just as in the case of arithmetic ufuncs, these will work on arrays of any size and shape.\n",
        "Here is a two-dimensional example:"
      ]
    },
    {
      "cell_type": "code",
      "metadata": {
        "id": "SB5mKcOKz0mx",
        "outputId": "b8e7a9ff-a474-4354-8a77-82a0d35ae17f"
      },
      "source": [
        "rng = np.random.RandomState(0)\n",
        "x = rng.randint(10, size=(3, 4))\n",
        "x"
      ],
      "execution_count": null,
      "outputs": [
        {
          "data": {
            "text/plain": [
              "array([[5, 0, 3, 3],\n",
              "       [7, 9, 3, 5],\n",
              "       [2, 4, 7, 6]])"
            ]
          },
          "execution_count": 118,
          "metadata": {},
          "output_type": "execute_result"
        }
      ]
    },
    {
      "cell_type": "code",
      "metadata": {
        "id": "b2AuW7nSz0mx",
        "outputId": "1dd40279-eb5c-44db-be4c-0fa4ab0afbd6"
      },
      "source": [
        "x < 6"
      ],
      "execution_count": null,
      "outputs": [
        {
          "data": {
            "text/plain": [
              "array([[ True,  True,  True,  True],\n",
              "       [False, False,  True,  True],\n",
              "       [ True,  True, False, False]])"
            ]
          },
          "execution_count": 119,
          "metadata": {},
          "output_type": "execute_result"
        }
      ]
    },
    {
      "cell_type": "markdown",
      "metadata": {
        "id": "VFcorTznz0mx"
      },
      "source": [
        "In each case, the result is a Boolean array, and NumPy provides a number of straightforward patterns for working with these Boolean results."
      ]
    },
    {
      "cell_type": "markdown",
      "metadata": {
        "id": "nTbtY5paz0mx"
      },
      "source": [
        "#### Working with Boolean Arrays\n",
        "\n",
        "Given a Boolean array, there are a host of useful operations you can do.\n",
        "We'll work with ``x``, the two-dimensional array we created earlier."
      ]
    },
    {
      "cell_type": "code",
      "metadata": {
        "id": "7ZarHjjsz0mx",
        "outputId": "550ab216-aeaa-4383-8194-1da8d8918792"
      },
      "source": [
        "print(x)"
      ],
      "execution_count": null,
      "outputs": [
        {
          "name": "stdout",
          "output_type": "stream",
          "text": [
            "[[5 0 3 3]\n",
            " [7 9 3 5]\n",
            " [2 4 7 6]]\n"
          ]
        }
      ]
    },
    {
      "cell_type": "markdown",
      "metadata": {
        "id": "NOvrr2_Pz0mx"
      },
      "source": [
        "To count the number of ``True`` entries in a Boolean array, ``np.count_nonzero`` is useful:"
      ]
    },
    {
      "cell_type": "code",
      "metadata": {
        "id": "_obamMl4z0my",
        "outputId": "94a861f5-bf12-403c-be62-7330ba8a91c7"
      },
      "source": [
        "# how many values less than 6?\n",
        "np.count_nonzero(x < 6)"
      ],
      "execution_count": null,
      "outputs": [
        {
          "data": {
            "text/plain": [
              "8"
            ]
          },
          "execution_count": 121,
          "metadata": {},
          "output_type": "execute_result"
        }
      ]
    },
    {
      "cell_type": "code",
      "metadata": {
        "id": "Se5eInvQz0my",
        "outputId": "6e2d8b84-9741-4bfd-f00a-8c4959a9603f"
      },
      "source": [
        "# Another way to get at this information is to use np.sum; in this case, \n",
        "# False is interpreted as 0, and True is interpreted as 1:\n",
        "np.sum(x < 6)"
      ],
      "execution_count": null,
      "outputs": [
        {
          "data": {
            "text/plain": [
              "8"
            ]
          },
          "execution_count": 122,
          "metadata": {},
          "output_type": "execute_result"
        }
      ]
    },
    {
      "cell_type": "markdown",
      "metadata": {
        "id": "qkKvLTY9z0my"
      },
      "source": [
        "The benefit of ``sum()`` is that like with other NumPy aggregation functions,  this summation can be done along rows or columns as well:"
      ]
    },
    {
      "cell_type": "code",
      "metadata": {
        "id": "Js2QtaOQz0my",
        "outputId": "c3e46500-5e82-4cb4-ff2f-409a0487bfa1"
      },
      "source": [
        "# how many values less than 6 in each row?\n",
        "np.sum(x < 6, axis=1)"
      ],
      "execution_count": null,
      "outputs": [
        {
          "data": {
            "text/plain": [
              "array([4, 2, 2])"
            ]
          },
          "execution_count": 123,
          "metadata": {},
          "output_type": "execute_result"
        }
      ]
    },
    {
      "cell_type": "markdown",
      "metadata": {
        "id": "5agogk8Pz0mz"
      },
      "source": [
        "This counts the number of values less than 6 in each row of the matrix. If we're interested in quickly checking whether any or all the values are true, we can use ``np.any`` or ``np.all``:"
      ]
    },
    {
      "cell_type": "code",
      "metadata": {
        "id": "vSexFB0hz0mz",
        "outputId": "7305ee2e-469d-4b27-b360-448855a4c4b5"
      },
      "source": [
        "# are there any values greater than 8?\n",
        "np.any(x > 8)"
      ],
      "execution_count": null,
      "outputs": [
        {
          "data": {
            "text/plain": [
              "True"
            ]
          },
          "execution_count": 124,
          "metadata": {},
          "output_type": "execute_result"
        }
      ]
    },
    {
      "cell_type": "code",
      "metadata": {
        "id": "aFAQ6psXz0mz",
        "outputId": "6d7d1a04-8b67-4195-cc88-3f4d1668b31e"
      },
      "source": [
        "# are there any values less than zero?\n",
        "np.any(x < 0)"
      ],
      "execution_count": null,
      "outputs": [
        {
          "data": {
            "text/plain": [
              "False"
            ]
          },
          "execution_count": 125,
          "metadata": {},
          "output_type": "execute_result"
        }
      ]
    },
    {
      "cell_type": "code",
      "metadata": {
        "id": "BVo3kKWcz0mz",
        "outputId": "ec475346-c365-43b3-f1e6-5941c737c8fe"
      },
      "source": [
        "# are all values less than 10?\n",
        "np.all(x < 10)"
      ],
      "execution_count": null,
      "outputs": [
        {
          "data": {
            "text/plain": [
              "True"
            ]
          },
          "execution_count": 126,
          "metadata": {},
          "output_type": "execute_result"
        }
      ]
    },
    {
      "cell_type": "code",
      "metadata": {
        "id": "iqZ-A2rEz0mz",
        "outputId": "5d0e6431-3a47-4cc0-9932-96593b18af9c"
      },
      "source": [
        "# are all values equal to 6?\n",
        "np.all(x == 6)"
      ],
      "execution_count": null,
      "outputs": [
        {
          "data": {
            "text/plain": [
              "False"
            ]
          },
          "execution_count": 127,
          "metadata": {},
          "output_type": "execute_result"
        }
      ]
    },
    {
      "cell_type": "markdown",
      "metadata": {
        "id": "NYLI1ImBz0m1"
      },
      "source": [
        "``np.all`` and ``np.any`` can be used along particular axes as well. For example:"
      ]
    },
    {
      "cell_type": "code",
      "metadata": {
        "id": "LZsHBXihz0m1",
        "outputId": "f19240fe-d307-45ec-a687-ccbd443f2880"
      },
      "source": [
        "# are all values in each row less than 8?\n",
        "np.all(x < 8, axis=1)\n",
        "\n",
        "# Here all the elements in the first and third rows are less than 8, \n",
        "# while this is not the case for the second row.\n"
      ],
      "execution_count": null,
      "outputs": [
        {
          "data": {
            "text/plain": [
              "array([ True, False,  True])"
            ]
          },
          "execution_count": 128,
          "metadata": {},
          "output_type": "execute_result"
        }
      ]
    },
    {
      "cell_type": "markdown",
      "metadata": {
        "id": "rh0edk6kz0m1"
      },
      "source": [
        "#### Boolean Arrays as Masks\n",
        "\n",
        "A more powerful pattern is to use Boolean arrays as masks, to select particular subsets of the data themselves.\n",
        "Returning to our ``x`` array from before, suppose we want an array of all values in the array that are less than, say, 5:"
      ]
    },
    {
      "cell_type": "code",
      "metadata": {
        "id": "O6okzznZz0m1",
        "outputId": "e55ddfec-a7b4-4925-ae2c-1d85ec7bf6b9"
      },
      "source": [
        "x"
      ],
      "execution_count": null,
      "outputs": [
        {
          "data": {
            "text/plain": [
              "array([[5, 0, 3, 3],\n",
              "       [7, 9, 3, 5],\n",
              "       [2, 4, 7, 6]])"
            ]
          },
          "execution_count": 129,
          "metadata": {},
          "output_type": "execute_result"
        }
      ]
    },
    {
      "cell_type": "code",
      "metadata": {
        "id": "fIHTN9v4z0m1",
        "outputId": "54e8c96f-2ffc-4bb3-a438-9bf921e47eea"
      },
      "source": [
        "# We can obtain a Boolean array for this condition easily, as we've already seen:\n",
        "x < 5"
      ],
      "execution_count": null,
      "outputs": [
        {
          "data": {
            "text/plain": [
              "array([[False,  True,  True,  True],\n",
              "       [False, False,  True, False],\n",
              "       [ True,  True, False, False]])"
            ]
          },
          "execution_count": 130,
          "metadata": {},
          "output_type": "execute_result"
        }
      ]
    },
    {
      "cell_type": "markdown",
      "metadata": {
        "id": "LB7b_E7uz0m1"
      },
      "source": [
        "Now to *select* these values from the array, we can simply index on this Boolean array; this is known as a *masking* operation:"
      ]
    },
    {
      "cell_type": "code",
      "metadata": {
        "id": "H4_0jlDGz0m1",
        "outputId": "7c4d9d70-e3b7-40ad-ea65-66ea4cf43a47"
      },
      "source": [
        "x[x < 5]"
      ],
      "execution_count": null,
      "outputs": [
        {
          "data": {
            "text/plain": [
              "array([0, 3, 3, 3, 2, 4])"
            ]
          },
          "execution_count": 131,
          "metadata": {},
          "output_type": "execute_result"
        }
      ]
    },
    {
      "cell_type": "markdown",
      "metadata": {
        "id": "0JeeT6Drz0m1"
      },
      "source": [
        "What is returned is a one-dimensional array filled with all the values that meet this condition; in other words, all the values in positions at which the mask array is ``True``. We are then free to operate on these values as we wish."
      ]
    },
    {
      "cell_type": "markdown",
      "metadata": {
        "id": "pvGjOXB7z0m1"
      },
      "source": [
        "## Additional Functionality\n",
        "\n",
        "### Linear Algebra Using Numpy\n",
        "\n",
        "Linear algebra is an integral part of the domain of Machine Learning. Most of the algorithms we will deal with can be concisely expressed using the operations of linear algebra. One of the most widely used operations in linear algebra is the dot product. This can be performed on two compatible `ndarrays` by using the `dot` function."
      ]
    },
    {
      "cell_type": "code",
      "metadata": {
        "id": "uf5s7IwKz0m2",
        "outputId": "684e4109-09e0-4ecd-9bda-2d6db10dab09"
      },
      "source": [
        "A = np.array([[1,2,3],[4,5,6],[7,8,9]])\n",
        "B = np.array([[9,8,7],[6,5,4],[1,2,3]])\n",
        "A.dot(B)"
      ],
      "execution_count": null,
      "outputs": [
        {
          "data": {
            "text/plain": [
              "array([[ 24,  24,  24],\n",
              "       [ 72,  69,  66],\n",
              "       [120, 114, 108]])"
            ]
          },
          "execution_count": 132,
          "metadata": {},
          "output_type": "execute_result"
        }
      ]
    },
    {
      "cell_type": "markdown",
      "metadata": {
        "id": "qfpAhhMtz0m2"
      },
      "source": [
        "With Anaconda’s scientific Python package based around Python 3.5 and above,\n",
        "one can use the `@` symbol for matrix multiplication, as follows:"
      ]
    },
    {
      "cell_type": "code",
      "metadata": {
        "id": "RtGjyQtsz0m2",
        "outputId": "84a52a8a-bb26-4095-f92e-c7d8a47707bf"
      },
      "source": [
        "A = np.ones((2, 2))\n",
        "B = np.ones((2, 2))\n",
        "A @ B"
      ],
      "execution_count": null,
      "outputs": [
        {
          "data": {
            "text/plain": [
              "array([[2., 2.],\n",
              "       [2., 2.]])"
            ]
          },
          "execution_count": 133,
          "metadata": {},
          "output_type": "execute_result"
        }
      ]
    },
    {
      "cell_type": "markdown",
      "metadata": {
        "id": "963ROiyTz0m3"
      },
      "source": [
        "Another popular matrix operation is transpose of a matrix. This can be easily achieved by using the `T` function"
      ]
    },
    {
      "cell_type": "code",
      "metadata": {
        "id": "2F5fFtZsz0m3",
        "outputId": "9616a6c5-a3b9-49d7-f12d-7a4bd5c15f7d"
      },
      "source": [
        "A = np.arange(15).reshape(3,5)\n",
        "A.T"
      ],
      "execution_count": null,
      "outputs": [
        {
          "data": {
            "text/plain": [
              "array([[ 0,  5, 10],\n",
              "       [ 1,  6, 11],\n",
              "       [ 2,  7, 12],\n",
              "       [ 3,  8, 13],\n",
              "       [ 4,  9, 14]])"
            ]
          },
          "execution_count": 134,
          "metadata": {},
          "output_type": "execute_result"
        }
      ]
    },
    {
      "cell_type": "markdown",
      "metadata": {
        "id": "YpTgjUZEz0m3"
      },
      "source": [
        "Oftentimes, we need to find out decomposition of a matrix into its constituents factors. This is called matrix factorization. This can be achieved by the appropriate functions. A popular matrix factorization method is `SVD factorization`, which returns decomposition of a matrix into three different matrices. This can be done using `linalg.svd` function."
      ]
    },
    {
      "cell_type": "code",
      "metadata": {
        "id": "W5-DSN-3z0m3",
        "outputId": "f52dc84d-1b3f-485a-912e-35ef5a858367"
      },
      "source": [
        "np.linalg.svd(A)"
      ],
      "execution_count": null,
      "outputs": [
        {
          "data": {
            "text/plain": [
              "(array([[-0.15425367,  0.89974393,  0.40824829],\n",
              "        [-0.50248417,  0.28432901, -0.81649658],\n",
              "        [-0.85071468, -0.3310859 ,  0.40824829]]),\n",
              " array([3.17420265e+01, 2.72832424e+00, 8.33338143e-16]),\n",
              " array([[-0.34716018, -0.39465093, -0.44214167, -0.48963242, -0.53712316],\n",
              "        [-0.69244481, -0.37980343, -0.06716206,  0.24547932,  0.55812069],\n",
              "        [ 0.45586266, -0.83292161,  0.24174433,  0.19182551, -0.05651089],\n",
              "        [-0.33245967,  0.07684227,  0.21668674,  0.66593841, -0.62700775],\n",
              "        [-0.28576178, -0.01835381,  0.83343058, -0.4687526 , -0.06056239]]))"
            ]
          },
          "execution_count": 135,
          "metadata": {},
          "output_type": "execute_result"
        }
      ]
    },
    {
      "cell_type": "markdown",
      "metadata": {
        "id": "MSPZuhMiz0m4"
      },
      "source": [
        "Linear algebra is often also used to solve a system of equations. Using the matrix notation of system of equations and the provided function of numpy, we can easily solve such a system of equation. Consider the system of equations:\n",
        "\n",
        "\n",
        "\\begin{cases} 7x + 5y -3z = 16 \\\\ 3x - 5y + 2z = -8  \\\\ 5x + 3y - 7z = 0 \\end{cases} \n",
        "\n",
        "This can be represented as two matrices: the coefficient matrix (a in the example) and the constants vector (b in the example)."
      ]
    },
    {
      "cell_type": "code",
      "metadata": {
        "id": "UHIvTkjTz0m4",
        "outputId": "3c254f0c-fa15-4ff3-b30b-347ee519a5e9"
      },
      "source": [
        "a = np.array([[7,5,-3], [3,-5,2],[5,3,-7]])\n",
        "b = np.array([16,-8,0])\n",
        "x = np.linalg.solve(a, b)\n",
        "x"
      ],
      "execution_count": null,
      "outputs": [
        {
          "data": {
            "text/plain": [
              "array([1., 3., 2.])"
            ]
          },
          "execution_count": 136,
          "metadata": {},
          "output_type": "execute_result"
        }
      ]
    },
    {
      "cell_type": "markdown",
      "metadata": {
        "id": "0ZbgGR_fz0m4"
      },
      "source": [
        "We can also check if the solution is correct using the `np.allclose` function."
      ]
    },
    {
      "cell_type": "code",
      "metadata": {
        "id": "rR-KA50Ez0m4",
        "outputId": "5ded371e-1a6d-4918-8899-d8fd59d1f648"
      },
      "source": [
        "np.allclose(np.dot(a, x), b)"
      ],
      "execution_count": null,
      "outputs": [
        {
          "data": {
            "text/plain": [
              "True"
            ]
          },
          "execution_count": 137,
          "metadata": {},
          "output_type": "execute_result"
        }
      ]
    },
    {
      "cell_type": "markdown",
      "metadata": {
        "id": "YC4FXstqz0m4"
      },
      "source": [
        "Similarly, functions are there for finding the inverse of a matrix, eigen vectors and eigen values of a matrix, norm of a matrix, determinant of a matrix, and so on. Take a look at the details of the function implemented at [numpy.linalg](https://docs.scipy.org/doc/numpy/reference/routines.linalg.html)."
      ]
    }
  ]
}