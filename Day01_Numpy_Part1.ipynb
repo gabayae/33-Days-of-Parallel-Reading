{
  "nbformat": 4,
  "nbformat_minor": 0,
  "metadata": {
    "kernelspec": {
      "display_name": "Python 3",
      "language": "python",
      "name": "python3"
    },
    "language_info": {
      "codemirror_mode": {
        "name": "ipython",
        "version": 3
      },
      "file_extension": ".py",
      "mimetype": "text/x-python",
      "name": "python",
      "nbconvert_exporter": "python",
      "pygments_lexer": "ipython3",
      "version": "3.7.3"
    },
    "colab": {
      "name": "Day01-Numpy-Part1.ipynb",
      "provenance": [],
      "include_colab_link": true
    }
  },
  "cells": [
    {
      "cell_type": "markdown",
      "metadata": {
        "id": "view-in-github",
        "colab_type": "text"
      },
      "source": [
        "<a href=\"https://colab.research.google.com/github/gabayae/33-Days-of-Parallel-Reading/blob/main/Day01_Numpy_Part1.ipynb\" target=\"_parent\"><img src=\"https://colab.research.google.com/assets/colab-badge.svg\" alt=\"Open In Colab\"/></a>"
      ]
    },
    {
      "cell_type": "markdown",
      "metadata": {
        "id": "EjnzDESpH7MH"
      },
      "source": [
        "#    <center> <b> <span style=\"color:orange;\" >  `33 Days of Parallel reading` </span> </b></center>\n",
        "\n",
        "\n",
        "## <center> <b> <span style=\"color:orange;\"> An initiation to Machine Learning </span> </b></center>\n",
        "\n",
        "### <center> <b> <span style=\"color:blue;\"> A comprehensive guide to Numpy for Data manipulation </span> </b></center>\n",
        "\n",
        "\n",
        "\n",
        "\n",
        "#### Author: [Yaé Ulrich Gaba](https://github.com/gabayae)\n",
        "\n",
        "#### Link to the notebook on the repo: [A comprehensive guide to Numpy](https://github.com/gabayae/-66DaysOfData-KennethJee/edit/main/README.md)"
      ]
    },
    {
      "cell_type": "markdown",
      "metadata": {
        "id": "4VSB0EyAH7MN"
      },
      "source": [
        "## ToC \n",
        "\n",
        "- [NumPy](#NumPy)  \n",
        "  - [Overview](#Overview)  \n",
        "  - [Getting Started](#Getting-Started)\n",
        "    - [Load packages](#Load-packages)\n",
        "    - [Introduction to Numpy](Introduction-to-Numpy)\n",
        "  - [NumPy Arrays](#NumPy-Arrays) \n",
        "    - [NumPy Arrays from Python Lists](#NumPy-Arrays-from-Python-Lists)\n",
        "    - [NumPy Arrays using the function arange()](#NumPy-Arrays-using-the-function-arange())\n",
        "    - [NumPy Arrays using the function linspace()](#NumPy-Arrays-using-the-function-linspace())\n",
        "    - [NumPy Array Attributes](#NumPy-Array-Attributes)\n",
        "    - [Some Numpy Special Arrays](#Some-Numpy-Special-Arrays)\n",
        "    - [NumPy Arrays using the function empty()](#NumPy-Arrays-using-the-function-empty())\n",
        "  - [Operations on Arrays](#Operations-on-Arrays)\n",
        "    - [Array Concatenation and Splitting](#Array-Concatenation-and-Splitting)\n",
        "    - [Numpy Arrays Universal Functions](NumPy-Arrays-Universal-Functions) "
      ]
    },
    {
      "cell_type": "markdown",
      "metadata": {
        "id": "VROHvxZmH7MS"
      },
      "source": [
        "## Overview\n",
        "\n",
        "\n",
        "Data manipulation in Python is nearly synonymous with NumPy array manipulation: even newer tools like Pandas ([next lesson]()) are built around the NumPy array. This notebook will present several examples of using NumPy array manipulation to access data and subarrays, and to split, reshape, and join the arrays. Get to know them well!\n",
        "\n",
        "[NumPy](https://en.wikipedia.org/wiki/NumPy) (pronounced /ˈnʌmpaɪ/ (NUM-py) or sometimes /ˈnʌmpi/ (NUM-pee)) is a library for the Python programming language, adding support for large, multi-dimensional arrays and matrices, along with a large collection of high-level mathematical functions to operate on these arrays.\n",
        "\n",
        "[NumPy](https://en.wikipedia.org/wiki/NumPy) is a first-rate library for numerical programming\n",
        "\n",
        "- Widely used in academia, finance and industry.  \n",
        "- Mature, fast, stable and under continuous development.  "
      ]
    },
    {
      "cell_type": "markdown",
      "metadata": {
        "id": "dv7y5CWmH7MU"
      },
      "source": [
        "## Getting Started\n",
        "\n",
        "### Load packages\n",
        "\n",
        "In order to be able to use numpy we need to import the library using the special word `import`. Also, to avoid typing `numpy` every time we want to use one if its functions we can provide an alias using the special word `as`:"
      ]
    },
    {
      "cell_type": "code",
      "metadata": {
        "id": "H5EAaIMHH7MW"
      },
      "source": [
        "import numpy as np"
      ],
      "execution_count": null,
      "outputs": []
    },
    {
      "cell_type": "markdown",
      "metadata": {
        "id": "LYTbFf6SH7MY"
      },
      "source": [
        "### Introduction to Numpy\n",
        "\n",
        "Now, we have access to all the functions available in `numpy` by typing `np.name_of_function`. For example, the equivalent of `1 + 1` in Python can be done in `numpy`:"
      ]
    },
    {
      "cell_type": "code",
      "metadata": {
        "id": "vD5Z4ok2H7MZ",
        "outputId": "1e628a6e-2292-4a1d-b097-3a58005e070a"
      },
      "source": [
        "np.add(1,1)"
      ],
      "execution_count": null,
      "outputs": [
        {
          "data": {
            "text/plain": [
              "2"
            ]
          },
          "execution_count": 33,
          "metadata": {},
          "output_type": "execute_result"
        }
      ]
    },
    {
      "cell_type": "markdown",
      "metadata": {
        "id": "xsJP24kKH7Md"
      },
      "source": [
        "Although this might not at first seem very useful, even simple operations like this one can be much quicker in `numpy` than in standard Python when using lots of numbers (large arrays).\n",
        "\n",
        "To access the documentation explaining how a function is used, its input parameters and output format we can press `Shift+Tab` after the function name. Try this in the cell below"
      ]
    },
    {
      "cell_type": "code",
      "metadata": {
        "id": "54hbsyAfH7Mh",
        "outputId": "87e5189a-de23-4cad-ffb2-778ba860c520"
      },
      "source": [
        "np.add"
      ],
      "execution_count": null,
      "outputs": [
        {
          "data": {
            "text/plain": [
              "<ufunc 'add'>"
            ]
          },
          "execution_count": 34,
          "metadata": {},
          "output_type": "execute_result"
        }
      ]
    },
    {
      "cell_type": "markdown",
      "metadata": {
        "id": "HCS6zu75H7Ml"
      },
      "source": [
        "## NumPy Arrays\n",
        "\n",
        "The core concept in numpy is the `array` which is equivalent to lists of numbers but can be multidimensional. \n",
        "The essential problem that NumPy solves is fast array processing. The most important structure that NumPy defines is an array data type formally called a [numpy.ndarray](http://docs.scipy.org/doc/numpy/reference/arrays.ndarray.html). NumPy arrays power a large proportion of the scientific Python ecosystem. Let us list ways of creating Numpy arrays one by one, with Examples.\n",
        "\n",
        "\n"
      ]
    },
    {
      "cell_type": "markdown",
      "metadata": {
        "id": "AVZPME1DH7Mn"
      },
      "source": [
        "### NumPy Arrays from Python Lists"
      ]
    },
    {
      "cell_type": "code",
      "metadata": {
        "id": "z1DBvNfuH7Mo",
        "outputId": "7bfa6c9c-34e8-48bf-922f-5b70b16051b1"
      },
      "source": [
        "# making a python list li\n",
        "li = [8,5,6,9,4,2]\n",
        "\n",
        "\n",
        "# creating array out of it\n",
        "numpy_array_from_list = np.array(li)\n",
        "\n",
        "# printing the array\n",
        "print(numpy_array_from_list)\n"
      ],
      "execution_count": null,
      "outputs": [
        {
          "name": "stdout",
          "output_type": "stream",
          "text": [
            "[8 5 6 9 4 2]\n"
          ]
        }
      ]
    },
    {
      "cell_type": "code",
      "metadata": {
        "id": "4PKcfTe9H7Mq",
        "outputId": "8ec66f0a-c0ba-49d1-b149-b1439d187b9f"
      },
      "source": [
        "# checking the type of numpy_array_from_list\n",
        "type(numpy_array_from_list)"
      ],
      "execution_count": null,
      "outputs": [
        {
          "data": {
            "text/plain": [
              "numpy.ndarray"
            ]
          },
          "execution_count": 36,
          "metadata": {},
          "output_type": "execute_result"
        }
      ]
    },
    {
      "cell_type": "markdown",
      "metadata": {
        "id": "eTBLG2D3H7Ms"
      },
      "source": [
        "We can also pass a list manually without explicitly defining it."
      ]
    },
    {
      "cell_type": "code",
      "metadata": {
        "id": "UEzGOehhH7Mu",
        "outputId": "fdc41224-5e31-43a9-c382-ae708119062b"
      },
      "source": [
        "numpy_array_from_list1 = np.array([5,7,4,1,5,6])\n",
        "print(numpy_array_from_list1)"
      ],
      "execution_count": null,
      "outputs": [
        {
          "name": "stdout",
          "output_type": "stream",
          "text": [
            "[5 7 4 1 5 6]\n"
          ]
        }
      ]
    },
    {
      "cell_type": "code",
      "metadata": {
        "id": "j_ZRgq9gH7Mv",
        "outputId": "d377cbc7-f354-46b7-fd68-cc620f0c4ee7"
      },
      "source": [
        "type(numpy_array_from_list1)"
      ],
      "execution_count": null,
      "outputs": [
        {
          "data": {
            "text/plain": [
              "numpy.ndarray"
            ]
          },
          "execution_count": 38,
          "metadata": {},
          "output_type": "execute_result"
        }
      ]
    },
    {
      "cell_type": "markdown",
      "metadata": {
        "id": "RBX4Fip1H7Mx"
      },
      "source": [
        "Other arguments which are optional can also be included while creating the Numpy arrays. One of the optional parameter, that you might find useful is:\n",
        "\n",
        "<b> <span style=\"color:brown;\" >  dtype </span> </b>: This argument specifies the data-type of the array being created. Since, unlike lists, all the elements in the Numpy array are of the same data-type. The datatypes ranging from float to complex, all are acceptable.\n",
        "\n",
        "Let us see with an example:"
      ]
    },
    {
      "cell_type": "code",
      "metadata": {
        "id": "K8Mrm6w_H7My",
        "outputId": "1d622770-3920-4972-a669-26625bead45d"
      },
      "source": [
        "numpy_array_float = np.array([1,8,5,59,8,98], dtype = 'float')\n",
        "print(numpy_array_float)\n",
        "\n",
        "\n",
        "print(\"======================================\")\n",
        "\n",
        "# let's try Numpy array with string as input\n",
        "str = ['the','air','after','summer','rain']\n",
        "numpy_array_str = np.array(str, dtype = 'str')\n",
        "print(numpy_array_str)\n",
        "\n",
        "\n",
        "# In a similar manner, other data-types can also be used to create a Numpy array."
      ],
      "execution_count": null,
      "outputs": [
        {
          "name": "stdout",
          "output_type": "stream",
          "text": [
            "[ 1.  8.  5. 59.  8. 98.]\n",
            "======================================\n",
            "['the' 'air' 'after' 'summer' 'rain']\n"
          ]
        }
      ]
    },
    {
      "cell_type": "markdown",
      "metadata": {
        "id": "g23hTlQ0H7M0"
      },
      "source": [
        "A short documentation about the `np.array` function can be found by doing `np.array?`"
      ]
    },
    {
      "cell_type": "code",
      "metadata": {
        "id": "YXj6WrmPH7M8"
      },
      "source": [
        "#np.array?  # Uncomment to run the cell."
      ],
      "execution_count": null,
      "outputs": []
    },
    {
      "cell_type": "markdown",
      "metadata": {
        "id": "QAH7J3_DH7M-"
      },
      "source": [
        "### NumPy Arrays using the function arange()\n",
        "\n",
        "The `arange()` function is one of the Numpy's most used method for creating an array within a specified range. The first argument takes the **starting point** of the array you want to create, second is the **stop point** and the third is the **step** (just like python list slicing function). The last argument is again *dtype*, which is optional: `arange(start, end, step, dtype)`"
      ]
    },
    {
      "cell_type": "code",
      "metadata": {
        "id": "Uji5-rUZH7NA",
        "outputId": "969f940b-fdab-44c9-976e-ffaeac684982"
      },
      "source": [
        "# creating an array starting from 0 ending with 10 \n",
        "# and increasing with a step of 2\n",
        "arange_array1 = np.arange(0,11,2)   # writing 11 instead of 10 since range is exclusive\n",
        "print(\"First array:\", arange_array1)\n",
        "print(\"======================================\")\n",
        "\n",
        "\n",
        "# array starting from 50 going till 120 with step of 4\n",
        "arange_array2 = np.arange(50,121,4)\n",
        "print(\"Second Array:\", arange_array2)\n",
        "print(\"======================================\")\n",
        "\n",
        "\n",
        "# starting from 0(by default), stopping at 14(don't forget 15 is exclusive), step=1(by default)\n",
        "arange_array3 = np.arange(15) \n",
        "print(\"Third Array:\", arange_array3)\n",
        "print(\"======================================\")\n",
        "\n",
        "\n",
        "# okay now lets print backward counting: 20 to 1\n",
        "arange_array4 = np.arange(20,0,-1)\n",
        "print(\"Reverse Array:\", arange_array4)\n"
      ],
      "execution_count": null,
      "outputs": [
        {
          "name": "stdout",
          "output_type": "stream",
          "text": [
            "First array: [ 0  2  4  6  8 10]\n",
            "======================================\n",
            "Second Array: [ 50  54  58  62  66  70  74  78  82  86  90  94  98 102 106 110 114 118]\n",
            "======================================\n",
            "Third Array: [ 0  1  2  3  4  5  6  7  8  9 10 11 12 13 14]\n",
            "======================================\n",
            "Reverse Array: [20 19 18 17 16 15 14 13 12 11 10  9  8  7  6  5  4  3  2  1]\n"
          ]
        }
      ]
    },
    {
      "cell_type": "markdown",
      "metadata": {
        "id": "nYvBh8uQH7NC"
      },
      "source": [
        "### NumPy Arrays using the function linspace()\n",
        "\n",
        "Like the `arange()` function, the `linspace()` function can also be used to create Numpy array. In the `arange()` function, we had control over where to start the Numpy array from, where to stop and step points but with `linspace()` we can maintain a proper linear stepping or spacing between array elements value while generating the array. The `linspace()` function takes arguments: **start index**, **end index** and the **number of elements** to be outputted. These number of elements would be linearly spaced in the range mentioned: `linspace(start_index, end_index, num_of_elements)`. Now let's take a code example,\n"
      ]
    },
    {
      "cell_type": "code",
      "metadata": {
        "id": "kH_IT7WAH7ND",
        "outputId": "ed2298df-677a-442d-e9c7-0e21def8af49"
      },
      "source": [
        "# printing arr consisting of 10 values in between \n",
        "# range 15, 75 spaced appropriately.\n",
        "arr = np.linspace(15, 75, 10)     \n",
        "print(\"First Array\\n\", arr)\n",
        "\n",
        "print(\"=========================================================\")\n",
        "\n",
        "# properly spaced array of 25 elements\n",
        "arr1 = np.linspace(50,100,25)   \n",
        "print(\"Second Array\\n\", arr1)"
      ],
      "execution_count": null,
      "outputs": [
        {
          "name": "stdout",
          "output_type": "stream",
          "text": [
            "First Array\n",
            " [15.         21.66666667 28.33333333 35.         41.66666667 48.33333333\n",
            " 55.         61.66666667 68.33333333 75.        ]\n",
            "=========================================================\n",
            "Second Array\n",
            " [ 50.          52.08333333  54.16666667  56.25        58.33333333\n",
            "  60.41666667  62.5         64.58333333  66.66666667  68.75\n",
            "  70.83333333  72.91666667  75.          77.08333333  79.16666667\n",
            "  81.25        83.33333333  85.41666667  87.5         89.58333333\n",
            "  91.66666667  93.75        95.83333333  97.91666667 100.        ]\n"
          ]
        }
      ]
    },
    {
      "cell_type": "markdown",
      "metadata": {
        "id": "kwcfdK57H7NE"
      },
      "source": [
        "### NumPy Array Attributes\n",
        "\n",
        "Before we continue in showing other ways of generating Numpy arrays, let's discuss some useful array attributes. We'll start by defining three random arrays, a one-dimensional, two-dimensional, and three-dimensional array. We'll use NumPy's random number generator, which we will seed with a set value in order to ensure that the same random arrays are generated each time this code is run:"
      ]
    },
    {
      "cell_type": "code",
      "metadata": {
        "id": "4Chqtl4YH7NF"
      },
      "source": [
        "np.random.seed(0)  # seed for reproducibility\n",
        "\n",
        "x1 = np.random.randint(10, size=6)  # One-dimensional array\n",
        "x2 = np.random.randint(10, size=(3, 4))  # Two-dimensional array\n",
        "x3 = np.random.randint(10, size=(3, 4, 5))  # Three-dimensional array"
      ],
      "execution_count": null,
      "outputs": []
    },
    {
      "cell_type": "markdown",
      "metadata": {
        "id": "av1KkrgVH7NF"
      },
      "source": [
        "Each array has attributes `ndim` (the number of dimensions), `shape` (the size of each dimension), and `size` (the total size of the array):"
      ]
    },
    {
      "cell_type": "code",
      "metadata": {
        "id": "f7QTzAyMH7NF",
        "outputId": "829643f8-ae9e-4f33-b3fb-8248bc3259ca"
      },
      "source": [
        "print(\"x3 ndim: \", x3.ndim)\n",
        "print(\"x3 shape:\", x3.shape)\n",
        "print(\"x3 size: \", x3.size)"
      ],
      "execution_count": null,
      "outputs": [
        {
          "name": "stdout",
          "output_type": "stream",
          "text": [
            "x3 ndim:  3\n",
            "x3 shape: (3, 4, 5)\n",
            "x3 size:  60\n"
          ]
        }
      ]
    },
    {
      "cell_type": "markdown",
      "metadata": {
        "id": "r6qiaZhqH7NG"
      },
      "source": [
        "Another useful attribute is the `dtype`, the data type of the array (which we already discussed)."
      ]
    },
    {
      "cell_type": "code",
      "metadata": {
        "id": "ysbSqKs-H7NH",
        "outputId": "d99ba0f5-e259-467c-bf15-f8567dc58953"
      },
      "source": [
        "print(\"dtype:\", x3.dtype)"
      ],
      "execution_count": null,
      "outputs": [
        {
          "name": "stdout",
          "output_type": "stream",
          "text": [
            "dtype: int64\n"
          ]
        }
      ]
    },
    {
      "cell_type": "markdown",
      "metadata": {
        "id": "NUf4bErmH7NH"
      },
      "source": [
        "Other attributes include ``itemsize``, which lists the size (in bytes) of each array element, and ``nbytes``, which lists the total size (in bytes) of the array:"
      ]
    },
    {
      "cell_type": "code",
      "metadata": {
        "id": "m0gxfTX5H7NI",
        "outputId": "f25f757c-96f1-4bcd-8fe4-29b89e30d077"
      },
      "source": [
        "print(\"itemsize:\", x3.itemsize, \"bytes\")\n",
        "print(\"nbytes:\", x3.nbytes, \"bytes\")"
      ],
      "execution_count": null,
      "outputs": [
        {
          "name": "stdout",
          "output_type": "stream",
          "text": [
            "itemsize: 8 bytes\n",
            "nbytes: 480 bytes\n"
          ]
        }
      ]
    },
    {
      "cell_type": "markdown",
      "metadata": {
        "id": "-Ns1CpdAH7NI"
      },
      "source": [
        "In general, we expect that ``nbytes`` is equal to ``itemsize`` times ``size``."
      ]
    },
    {
      "cell_type": "markdown",
      "metadata": {
        "id": "HBBag5GKH7NJ"
      },
      "source": [
        "#### Array Indexing: Accessing Single Elements\n",
        "\n",
        "If you are familiar with Python's standard list indexing, indexing in NumPy will feel quite familiar.\n",
        "In a one-dimensional array, the $i^{th}$ value (counting from zero) can be accessed by specifying the desired index in square brackets, just as with Python lists:"
      ]
    },
    {
      "cell_type": "code",
      "metadata": {
        "id": "VKMCDKHQH7NK",
        "outputId": "f75b3e91-387e-4ebe-caa4-2b0c63f9fc6c"
      },
      "source": [
        "x1"
      ],
      "execution_count": null,
      "outputs": [
        {
          "data": {
            "text/plain": [
              "array([5, 0, 3, 3, 7, 9])"
            ]
          },
          "execution_count": 47,
          "metadata": {},
          "output_type": "execute_result"
        }
      ]
    },
    {
      "cell_type": "code",
      "metadata": {
        "id": "LHoXzSLvH7NL",
        "outputId": "5c279567-edff-4599-a0ef-7af3421f6a44"
      },
      "source": [
        "print(x1[0])\n",
        "print(\"-----------\")\n",
        "\n",
        "\n",
        "print(x1[4])\n",
        "print(\"-----------\")\n",
        "\n",
        "    \n",
        "    \n",
        "\n",
        "print(x1[-1])\n",
        "print(\"-----------\")\n",
        "\n",
        "\n",
        "    \n",
        "    \n",
        "    \n",
        "print(x1[-2])\n",
        "print(\"-----------\")\n",
        "\n",
        "    "
      ],
      "execution_count": null,
      "outputs": [
        {
          "name": "stdout",
          "output_type": "stream",
          "text": [
            "5\n",
            "-----------\n",
            "7\n",
            "-----------\n",
            "9\n",
            "-----------\n",
            "7\n",
            "-----------\n"
          ]
        }
      ]
    },
    {
      "cell_type": "markdown",
      "metadata": {
        "id": "e76TGanEH7NM"
      },
      "source": [
        "In a multi-dimensional array, items can be accessed using a comma-separated tuple of indices:"
      ]
    },
    {
      "cell_type": "code",
      "metadata": {
        "id": "VC6gTzHIH7NN",
        "outputId": "2503aff5-6871-40e9-fd4d-1874ede12890"
      },
      "source": [
        "x2"
      ],
      "execution_count": null,
      "outputs": [
        {
          "data": {
            "text/plain": [
              "array([[3, 5, 2, 4],\n",
              "       [7, 6, 8, 8],\n",
              "       [1, 6, 7, 7]])"
            ]
          },
          "execution_count": 49,
          "metadata": {},
          "output_type": "execute_result"
        }
      ]
    },
    {
      "cell_type": "code",
      "metadata": {
        "id": "VAnnLqFMH7NO",
        "outputId": "2622a419-cd01-4ff8-ffc0-4384b4308a1b"
      },
      "source": [
        "print(x2[0,0])\n",
        "print(\"-----------\")\n",
        "\n",
        "\n",
        "print(x2[2,0])\n",
        "print(\"-----------\")\n",
        "\n",
        "    \n",
        "    \n",
        "\n",
        "print(x2[2,-1])\n",
        "print(\"-----------\")\n",
        "\n",
        "\n",
        "    \n",
        "    \n",
        "    \n",
        "print(x2[-2])\n",
        "print(\"-----------\")"
      ],
      "execution_count": null,
      "outputs": [
        {
          "name": "stdout",
          "output_type": "stream",
          "text": [
            "3\n",
            "-----------\n",
            "1\n",
            "-----------\n",
            "7\n",
            "-----------\n",
            "[7 6 8 8]\n",
            "-----------\n"
          ]
        }
      ]
    },
    {
      "cell_type": "markdown",
      "metadata": {
        "id": "3j1150RxH7NT"
      },
      "source": [
        "Values can also be modified using any of the above index notation:"
      ]
    },
    {
      "cell_type": "code",
      "metadata": {
        "id": "awmkuZC4H7NU",
        "outputId": "a0b99a64-6cf8-488c-f309-fec303377b5c"
      },
      "source": [
        "x2[0, 0] = 12\n",
        "x2"
      ],
      "execution_count": null,
      "outputs": [
        {
          "data": {
            "text/plain": [
              "array([[12,  5,  2,  4],\n",
              "       [ 7,  6,  8,  8],\n",
              "       [ 1,  6,  7,  7]])"
            ]
          },
          "execution_count": 51,
          "metadata": {},
          "output_type": "execute_result"
        }
      ]
    },
    {
      "cell_type": "markdown",
      "metadata": {
        "id": "9tPjb6rpH7NV"
      },
      "source": [
        "Keep in mind that, unlike Python lists, NumPy arrays have a fixed type.\n",
        "This means, for example, that if you attempt to insert a floating-point value to an integer array, the value will be silently truncated. Don't be caught unaware by this behavior!"
      ]
    },
    {
      "cell_type": "code",
      "metadata": {
        "id": "VQ_tF2GtH7NW",
        "outputId": "02c0524f-fadb-48fb-ed9d-4d0daa13996b"
      },
      "source": [
        "x1[0] = 3.14159  # this will be truncated!\n",
        "x1"
      ],
      "execution_count": null,
      "outputs": [
        {
          "data": {
            "text/plain": [
              "array([3, 0, 3, 3, 7, 9])"
            ]
          },
          "execution_count": 52,
          "metadata": {},
          "output_type": "execute_result"
        }
      ]
    },
    {
      "cell_type": "markdown",
      "metadata": {
        "id": "tXR84HOqH7NW"
      },
      "source": [
        "#### Array Slicing: Accessing Subarrays\n",
        "\n",
        "Just as we can use square brackets to access individual array elements, we can also use them to access subarrays with the *slice* notation, marked by the colon (``:``) character.\n",
        "The NumPy slicing syntax follows that of the standard Python list; to access a slice of an array ``x``, use this:\n",
        "``` python\n",
        "x[start:stop:step]\n",
        "```\n",
        "If any of these are unspecified, they default to the values ``start=0``, ``stop=``*``size of dimension``*, ``step=1``.\n",
        "We'll take a look at accessing sub-arrays in one dimension and in multiple dimensions."
      ]
    },
    {
      "cell_type": "markdown",
      "metadata": {
        "id": "4KSuh3hiH7NW"
      },
      "source": [
        "##### One-dimensional subarrays"
      ]
    },
    {
      "cell_type": "code",
      "metadata": {
        "id": "5pmXZxIdH7NX",
        "outputId": "9676dd05-c099-4c5b-fb7e-b7a85c0ce5f3"
      },
      "source": [
        "x = np.arange(10)\n",
        "x"
      ],
      "execution_count": null,
      "outputs": [
        {
          "data": {
            "text/plain": [
              "array([0, 1, 2, 3, 4, 5, 6, 7, 8, 9])"
            ]
          },
          "execution_count": 53,
          "metadata": {},
          "output_type": "execute_result"
        }
      ]
    },
    {
      "cell_type": "code",
      "metadata": {
        "id": "gTOe57kpH7NZ",
        "outputId": "a91b6f6d-cf4b-4d50-df91-6cd04e9e99b7"
      },
      "source": [
        "x[:5]  # first five elements"
      ],
      "execution_count": null,
      "outputs": [
        {
          "data": {
            "text/plain": [
              "array([0, 1, 2, 3, 4])"
            ]
          },
          "execution_count": 54,
          "metadata": {},
          "output_type": "execute_result"
        }
      ]
    },
    {
      "cell_type": "code",
      "metadata": {
        "id": "bKoL6kLtH7NZ",
        "outputId": "7349ed28-59f7-486b-a9c4-4a5c251cf06a"
      },
      "source": [
        "x[5:]  # elements after index 5"
      ],
      "execution_count": null,
      "outputs": [
        {
          "data": {
            "text/plain": [
              "array([5, 6, 7, 8, 9])"
            ]
          },
          "execution_count": 55,
          "metadata": {},
          "output_type": "execute_result"
        }
      ]
    },
    {
      "cell_type": "code",
      "metadata": {
        "id": "Xrde2_eBH7Nc",
        "outputId": "abdfd6ed-ce4d-4b4d-ecde-592159335cfc"
      },
      "source": [
        "x[4:7]  # middle sub-array"
      ],
      "execution_count": null,
      "outputs": [
        {
          "data": {
            "text/plain": [
              "array([4, 5, 6])"
            ]
          },
          "execution_count": 56,
          "metadata": {},
          "output_type": "execute_result"
        }
      ]
    },
    {
      "cell_type": "code",
      "metadata": {
        "id": "T2Gd1vD_H7Nc",
        "outputId": "bf9f490d-c0d2-4353-80fa-ec49ef331948"
      },
      "source": [
        "x[::2]  # every other element"
      ],
      "execution_count": null,
      "outputs": [
        {
          "data": {
            "text/plain": [
              "array([0, 2, 4, 6, 8])"
            ]
          },
          "execution_count": 57,
          "metadata": {},
          "output_type": "execute_result"
        }
      ]
    },
    {
      "cell_type": "code",
      "metadata": {
        "id": "4W6SmMx_H7Nd",
        "outputId": "788edb2f-da1f-4a98-f4cb-838ba4bfa5ae"
      },
      "source": [
        "x[1::2]  # every other element, starting at index 1"
      ],
      "execution_count": null,
      "outputs": [
        {
          "data": {
            "text/plain": [
              "array([1, 3, 5, 7, 9])"
            ]
          },
          "execution_count": 58,
          "metadata": {},
          "output_type": "execute_result"
        }
      ]
    },
    {
      "cell_type": "markdown",
      "metadata": {
        "id": "5nV9Ge39H7Nf"
      },
      "source": [
        "A potentially confusing case is when the ``step`` value is negative.\n",
        "In this case, the defaults for ``start`` and ``stop`` are swapped.\n",
        "This becomes a convenient way to reverse an array:"
      ]
    },
    {
      "cell_type": "code",
      "metadata": {
        "id": "uhx4FbUZH7Nf",
        "outputId": "3f7fd8cb-2c7b-4bcd-c9b8-73f1e730eae2"
      },
      "source": [
        "x[::-1]  # all elements, reversed"
      ],
      "execution_count": null,
      "outputs": [
        {
          "data": {
            "text/plain": [
              "array([9, 8, 7, 6, 5, 4, 3, 2, 1, 0])"
            ]
          },
          "execution_count": 59,
          "metadata": {},
          "output_type": "execute_result"
        }
      ]
    },
    {
      "cell_type": "code",
      "metadata": {
        "id": "45_ChMY_H7Ng",
        "outputId": "7456411c-bf99-4950-d79c-8226394a3ab6"
      },
      "source": [
        "x[5::-2]  # reversed every other from index 5"
      ],
      "execution_count": null,
      "outputs": [
        {
          "data": {
            "text/plain": [
              "array([5, 3, 1])"
            ]
          },
          "execution_count": 60,
          "metadata": {},
          "output_type": "execute_result"
        }
      ]
    },
    {
      "cell_type": "markdown",
      "metadata": {
        "id": "q4p5_rk2H7Ni"
      },
      "source": [
        "##### Multi-dimensional subarrays\n",
        "\n",
        "Multi-dimensional slices work in the same way, with multiple slices separated by commas.\n",
        "For example:"
      ]
    },
    {
      "cell_type": "code",
      "metadata": {
        "id": "PCKMdVUyH7Nj",
        "outputId": "722e67f2-1c23-4a5a-d3fb-a4fa149e89ba"
      },
      "source": [
        "x2"
      ],
      "execution_count": null,
      "outputs": [
        {
          "data": {
            "text/plain": [
              "array([[12,  5,  2,  4],\n",
              "       [ 7,  6,  8,  8],\n",
              "       [ 1,  6,  7,  7]])"
            ]
          },
          "execution_count": 61,
          "metadata": {},
          "output_type": "execute_result"
        }
      ]
    },
    {
      "cell_type": "code",
      "metadata": {
        "id": "NOkcZ_3tH7Nk",
        "outputId": "7e9e3b67-8781-4b4e-f387-62924647081d"
      },
      "source": [
        "x2[:2, :3]  # two rows, three columns"
      ],
      "execution_count": null,
      "outputs": [
        {
          "data": {
            "text/plain": [
              "array([[12,  5,  2],\n",
              "       [ 7,  6,  8]])"
            ]
          },
          "execution_count": 62,
          "metadata": {},
          "output_type": "execute_result"
        }
      ]
    },
    {
      "cell_type": "code",
      "metadata": {
        "id": "52Rw3jQKH7Nl",
        "outputId": "72e9b0aa-f0e9-4a68-e392-13eb6228fb5d"
      },
      "source": [
        "x2[:3, ::2]  # all rows, every other column"
      ],
      "execution_count": null,
      "outputs": [
        {
          "data": {
            "text/plain": [
              "array([[12,  2],\n",
              "       [ 7,  8],\n",
              "       [ 1,  7]])"
            ]
          },
          "execution_count": 63,
          "metadata": {},
          "output_type": "execute_result"
        }
      ]
    },
    {
      "cell_type": "markdown",
      "metadata": {
        "id": "adfDHaJLH7Nl"
      },
      "source": [
        "Finally, subarray dimensions can even be reversed together:"
      ]
    },
    {
      "cell_type": "code",
      "metadata": {
        "id": "uWhPF9LYH7Nm",
        "outputId": "6e55fe59-60d8-4b83-b6f9-8ca31a34f8c8"
      },
      "source": [
        "x2[::-1, ::-1]"
      ],
      "execution_count": null,
      "outputs": [
        {
          "data": {
            "text/plain": [
              "array([[ 7,  7,  6,  1],\n",
              "       [ 8,  8,  6,  7],\n",
              "       [ 4,  2,  5, 12]])"
            ]
          },
          "execution_count": 64,
          "metadata": {},
          "output_type": "execute_result"
        }
      ]
    },
    {
      "cell_type": "markdown",
      "metadata": {
        "id": "kMsYbZQ3H7Nm"
      },
      "source": [
        "#### Accessing array rows and columns\n",
        "\n",
        "One commonly needed routine is accessing of single rows or columns of an array.\n",
        "This can be done by combining indexing and slicing, using an empty slice marked by a single colon (``:``):"
      ]
    },
    {
      "cell_type": "code",
      "metadata": {
        "id": "DhxD99GsH7Nm",
        "outputId": "3e0381c2-78fc-4d04-861a-d9a455edffcb"
      },
      "source": [
        "print(x2[:, 0])  # first column of x2"
      ],
      "execution_count": null,
      "outputs": [
        {
          "name": "stdout",
          "output_type": "stream",
          "text": [
            "[12  7  1]\n"
          ]
        }
      ]
    },
    {
      "cell_type": "code",
      "metadata": {
        "id": "GWJLkztiH7Nn",
        "outputId": "b4223969-bc2b-47d6-95d3-b263c193bf17"
      },
      "source": [
        "print(x2[0, :])  # first row of x2"
      ],
      "execution_count": null,
      "outputs": [
        {
          "name": "stdout",
          "output_type": "stream",
          "text": [
            "[12  5  2  4]\n"
          ]
        }
      ]
    },
    {
      "cell_type": "markdown",
      "metadata": {
        "id": "n22qnfCxH7No"
      },
      "source": [
        "In the case of row access, the empty slice can be omitted for a more compact syntax:"
      ]
    },
    {
      "cell_type": "code",
      "metadata": {
        "id": "_CEYXkfJH7No",
        "outputId": "a6b91fff-2fe1-4987-d661-44df30f3d105"
      },
      "source": [
        "print(x2[0])  # equivalent to x2[0, :]"
      ],
      "execution_count": null,
      "outputs": [
        {
          "name": "stdout",
          "output_type": "stream",
          "text": [
            "[12  5  2  4]\n"
          ]
        }
      ]
    },
    {
      "cell_type": "markdown",
      "metadata": {
        "id": "a_pOU5_0H7Np"
      },
      "source": [
        "#### Subarrays as no-copy views\n",
        "\n",
        "One important–and extremely useful–thing to know about array slices is that they return *views* rather than *copies* of the array data.\n",
        "This is one area in which NumPy array slicing differs from Python list slicing: in lists, slices will be copies.\n",
        "Consider our two-dimensional array from before:"
      ]
    },
    {
      "cell_type": "code",
      "metadata": {
        "id": "B_PWA-PmH7Np",
        "outputId": "de75cbf2-1f35-4777-cd39-1440e1d49a36"
      },
      "source": [
        "print(x2)"
      ],
      "execution_count": null,
      "outputs": [
        {
          "name": "stdout",
          "output_type": "stream",
          "text": [
            "[[12  5  2  4]\n",
            " [ 7  6  8  8]\n",
            " [ 1  6  7  7]]\n"
          ]
        }
      ]
    },
    {
      "cell_type": "markdown",
      "metadata": {
        "id": "DMghCaUNH7Nr"
      },
      "source": [
        "Let's extract a $2 \\times 2$ subarray from this:"
      ]
    },
    {
      "cell_type": "code",
      "metadata": {
        "id": "ZQBo6yFRH7Nr",
        "outputId": "8d1ccd5a-da01-4fa1-896d-a6e4bb8d80e0"
      },
      "source": [
        "x2_sub = x2[:2, :2]\n",
        "print(x2_sub)"
      ],
      "execution_count": null,
      "outputs": [
        {
          "name": "stdout",
          "output_type": "stream",
          "text": [
            "[[12  5]\n",
            " [ 7  6]]\n"
          ]
        }
      ]
    },
    {
      "cell_type": "markdown",
      "metadata": {
        "id": "C8klHyRSH7Nr"
      },
      "source": [
        "Now if we modify this subarray, we'll see that the original array is changed! Observe:"
      ]
    },
    {
      "cell_type": "code",
      "metadata": {
        "id": "63151Qx1H7Ns",
        "outputId": "e2b1673d-9cb2-4ec7-a4f6-70db9255af54"
      },
      "source": [
        "x2_sub[0, 0] = 99\n",
        "print(x2_sub)"
      ],
      "execution_count": null,
      "outputs": [
        {
          "name": "stdout",
          "output_type": "stream",
          "text": [
            "[[99  5]\n",
            " [ 7  6]]\n"
          ]
        }
      ]
    },
    {
      "cell_type": "code",
      "metadata": {
        "id": "hDJFtV2pH7Nt",
        "outputId": "b13e4c7d-5d76-4a58-d473-3ff11b33aefc"
      },
      "source": [
        "print(x2)"
      ],
      "execution_count": null,
      "outputs": [
        {
          "name": "stdout",
          "output_type": "stream",
          "text": [
            "[[99  5  2  4]\n",
            " [ 7  6  8  8]\n",
            " [ 1  6  7  7]]\n"
          ]
        }
      ]
    },
    {
      "cell_type": "markdown",
      "metadata": {
        "id": "nMGm_VXOH7Nu"
      },
      "source": [
        "This default behavior is actually quite useful: it means that when we work with large datasets, we can access and process pieces of these datasets without the need to copy the underlying data buffer."
      ]
    },
    {
      "cell_type": "markdown",
      "metadata": {
        "id": "TKNxZj0NH7Nv"
      },
      "source": [
        "#### Creating copies of arrays\n",
        "\n",
        "Despite the nice features of array views, it is sometimes useful to instead explicitly copy the data within an array or a subarray. This can be most easily done with the ``copy()`` method:"
      ]
    },
    {
      "cell_type": "code",
      "metadata": {
        "id": "XlPgSGkEH7Nw",
        "outputId": "cf75401f-05bf-43de-9adf-16ceedf5408c"
      },
      "source": [
        "x2_sub_copy = x2[:2, :2].copy()\n",
        "print(x2_sub_copy)"
      ],
      "execution_count": null,
      "outputs": [
        {
          "name": "stdout",
          "output_type": "stream",
          "text": [
            "[[99  5]\n",
            " [ 7  6]]\n"
          ]
        }
      ]
    },
    {
      "cell_type": "markdown",
      "metadata": {
        "id": "csuNTsU3H7Nx"
      },
      "source": [
        "If we now modify this subarray, the original array is not touched:"
      ]
    },
    {
      "cell_type": "code",
      "metadata": {
        "id": "2kfD-NLvH7Ny",
        "outputId": "d628298a-5e24-48f6-cb72-11e0fc02ad21"
      },
      "source": [
        "x2_sub_copy[0, 0] = 42\n",
        "print(x2_sub_copy)"
      ],
      "execution_count": null,
      "outputs": [
        {
          "name": "stdout",
          "output_type": "stream",
          "text": [
            "[[42  5]\n",
            " [ 7  6]]\n"
          ]
        }
      ]
    },
    {
      "cell_type": "code",
      "metadata": {
        "id": "CwLYXoI2H7Nz",
        "outputId": "eca2f38e-0a7c-46b9-a960-70fcce496670"
      },
      "source": [
        "print(x2)"
      ],
      "execution_count": null,
      "outputs": [
        {
          "name": "stdout",
          "output_type": "stream",
          "text": [
            "[[99  5  2  4]\n",
            " [ 7  6  8  8]\n",
            " [ 1  6  7  7]]\n"
          ]
        }
      ]
    },
    {
      "cell_type": "markdown",
      "metadata": {
        "id": "5HURM4P6H7N0"
      },
      "source": [
        "#### Reshaping of Arrays\n",
        "\n",
        "Another useful type of operation is reshaping of arrays.\n",
        "The most flexible way of doing this is with the ``reshape`` method.\n",
        "For example, if you want to put the numbers 1 through 9 in a $3 \\times 3$ grid, you can do the following:"
      ]
    },
    {
      "cell_type": "code",
      "metadata": {
        "id": "lDkOGlk6H7N1",
        "outputId": "24708a94-a4fd-4aeb-899d-8a4075c3838a"
      },
      "source": [
        "grid = np.arange(1, 10).reshape((3, 3))\n",
        "print(grid)"
      ],
      "execution_count": null,
      "outputs": [
        {
          "name": "stdout",
          "output_type": "stream",
          "text": [
            "[[1 2 3]\n",
            " [4 5 6]\n",
            " [7 8 9]]\n"
          ]
        }
      ]
    },
    {
      "cell_type": "markdown",
      "metadata": {
        "id": "MFQJytToH7N1"
      },
      "source": [
        "Note that for this to work, the size of the initial array must match the size of the reshaped array. \n",
        "Where possible, the ``reshape`` method will use a no-copy view of the initial array, but with non-contiguous memory buffers this is not always the case.\n",
        "\n",
        "Another common reshaping pattern is the conversion of a one-dimensional array into a two-dimensional row or column matrix.\n",
        "This can be done with the ``reshape`` method, or more easily done by making use of the ``newaxis`` keyword within a slice operation:"
      ]
    },
    {
      "cell_type": "code",
      "metadata": {
        "id": "gEUzVwdQH7N3",
        "outputId": "d4fba184-5bf9-4b4e-d0f5-dc098b2fd03f"
      },
      "source": [
        "x = np.array([1, 2, 3])\n",
        "\n",
        "# row vector via reshape\n",
        "x.reshape((1, 3))"
      ],
      "execution_count": null,
      "outputs": [
        {
          "data": {
            "text/plain": [
              "array([[1, 2, 3]])"
            ]
          },
          "execution_count": 76,
          "metadata": {},
          "output_type": "execute_result"
        }
      ]
    },
    {
      "cell_type": "code",
      "metadata": {
        "id": "tVt35dGeH7N3",
        "outputId": "e48737b2-bae0-408d-b7c5-29eb12a392a6"
      },
      "source": [
        "# row vector via newaxis\n",
        "x[np.newaxis, :]"
      ],
      "execution_count": null,
      "outputs": [
        {
          "data": {
            "text/plain": [
              "array([[1, 2, 3]])"
            ]
          },
          "execution_count": 77,
          "metadata": {},
          "output_type": "execute_result"
        }
      ]
    },
    {
      "cell_type": "code",
      "metadata": {
        "id": "UejvHJ-RH7N4",
        "outputId": "872ce2b1-7217-481d-ec2b-5dee6a13096c"
      },
      "source": [
        "# column vector via reshape\n",
        "x.reshape((3, 1))"
      ],
      "execution_count": null,
      "outputs": [
        {
          "data": {
            "text/plain": [
              "array([[1],\n",
              "       [2],\n",
              "       [3]])"
            ]
          },
          "execution_count": 78,
          "metadata": {},
          "output_type": "execute_result"
        }
      ]
    },
    {
      "cell_type": "code",
      "metadata": {
        "id": "Jv_TkBy4H7N5",
        "outputId": "19a4a3ea-aa0a-49b2-9460-8900a2e56458"
      },
      "source": [
        "# column vector via newaxis\n",
        "x[:, np.newaxis]"
      ],
      "execution_count": null,
      "outputs": [
        {
          "data": {
            "text/plain": [
              "array([[1],\n",
              "       [2],\n",
              "       [3]])"
            ]
          },
          "execution_count": 79,
          "metadata": {},
          "output_type": "execute_result"
        }
      ]
    },
    {
      "cell_type": "markdown",
      "metadata": {
        "id": "aLYFxVVkH7N5"
      },
      "source": [
        "### Some Numpy Special Arrays"
      ]
    },
    {
      "cell_type": "markdown",
      "metadata": {
        "id": "coplSlxNH7N6"
      },
      "source": [
        "#### Numpy Zeros: numpy.zeros()\n",
        "\n",
        "Numpy zeros function returns a numpy array of only zeros with specified shape and data type.\n",
        "Syntax\n",
        "\n",
        "                                zeros(shape, dtype=float, order='C')\n",
        "                         \n",
        "   1. shape – This is the shape of the required array, input has to be an int or a tuple of int.\n",
        "   2. dtype (optional) – This is the required data type of the array, by default it is float.\n",
        "   3. order (optional) – This specifies how the array will be stored in the memory. It can be either ‘C’ for row-major or ‘F’ for column-major. By default, it is ‘C’.\n",
        "                      "
      ]
    },
    {
      "cell_type": "code",
      "metadata": {
        "id": "93GSGqsLH7N6",
        "outputId": "fc0e3a35-0c03-4d94-bbe2-4f24bcf7d69c"
      },
      "source": [
        "\n",
        "# Notice that we did not specify the data type, so by default, it assumed float.\n",
        "# 1-D Array\n",
        "np_1d_zero_array = np.zeros(4)\n",
        "\n",
        "print('Output- ')\n",
        "print(np_1d_zero_array)\n",
        "print('Shape- ', np_1d_zero_array.shape)\n",
        "print('Data type -', np_1d_zero_array.dtype)\n",
        "\n",
        "\n",
        "\n",
        "print(\"======================================================\")\n",
        "\n",
        "\n",
        "# 2-D Array\n",
        "np_2d_zero_array = np.zeros((4,2))\n",
        "\n",
        "print('Output- ')\n",
        "print(np_2d_zero_array)\n",
        "print('Shape- ', np_2d_zero_array.shape)\n",
        "print('Data type -', np_2d_zero_array.dtype)\n",
        "\n",
        "\n",
        "print(\"======================================================\")\n",
        "\n",
        "\n",
        "\n",
        "# 3-D Array\n",
        "np_3d_zero_array = np.zeros((4,2,3), int)\n",
        "\n",
        "print('Output- ')\n",
        "print(np_3d_zero_array)\n",
        "print('Shape- ', np_3d_zero_array.shape)\n",
        "print('Data type -', np_3d_zero_array.dtype)"
      ],
      "execution_count": null,
      "outputs": [
        {
          "name": "stdout",
          "output_type": "stream",
          "text": [
            "Output- \n",
            "[0. 0. 0. 0.]\n",
            "Shape-  (4,)\n",
            "Data type - float64\n",
            "======================================================\n",
            "Output- \n",
            "[[0. 0.]\n",
            " [0. 0.]\n",
            " [0. 0.]\n",
            " [0. 0.]]\n",
            "Shape-  (4, 2)\n",
            "Data type - float64\n",
            "======================================================\n",
            "Output- \n",
            "[[[0 0 0]\n",
            "  [0 0 0]]\n",
            "\n",
            " [[0 0 0]\n",
            "  [0 0 0]]\n",
            "\n",
            " [[0 0 0]\n",
            "  [0 0 0]]\n",
            "\n",
            " [[0 0 0]\n",
            "  [0 0 0]]]\n",
            "Shape-  (4, 2, 3)\n",
            "Data type - int64\n"
          ]
        }
      ]
    },
    {
      "cell_type": "markdown",
      "metadata": {
        "id": "wlQzptYRH7N8"
      },
      "source": [
        "#### Numpy Ones: numpy.ones()\n",
        "\n",
        "This is very similar to Numpy Zero. Here Numpy zeros function returns a numpy array of only ones with specified shape and data type.\n",
        "\n",
        "Syntax\n",
        "\n",
        "                              ones(shape, dtype=float, order=’C’)"
      ]
    },
    {
      "cell_type": "code",
      "metadata": {
        "id": "5OPYh-f7H7N9",
        "outputId": "60e3aa81-239c-4ea6-b19f-2ccca63c91df"
      },
      "source": [
        "# 1-D Array\n",
        "np_1d_ones_array = np.ones(4,int)\n",
        "\n",
        "print('Output- ')\n",
        "print(np_1d_ones_array)\n",
        "print('Shape- ', np_1d_ones_array.shape)\n",
        "print('Data type -', np_1d_ones_array.dtype)\n",
        "\n",
        "\n",
        "print(\"======================================================\")\n",
        "\n",
        "\n",
        "# 2-D Array\n",
        "np_2d_ones_array = np.ones((4,2))\n",
        "\n",
        "print('Output- ')\n",
        "print(np_2d_ones_array)\n",
        "print('Shape- ', np_2d_ones_array.shape)\n",
        "print('Data type -', np_2d_ones_array.dtype)\n",
        "\n",
        "\n",
        "\n",
        "\n",
        "# 3-D Array\n",
        "np_3d_ones_array = np.ones((4,2,3))\n",
        "\n",
        "print('Output- ')\n",
        "print(np_3d_ones_array)\n",
        "print('Shape- ', np_3d_ones_array.shape)\n",
        "print('Data type -', np_3d_ones_array.dtype)"
      ],
      "execution_count": null,
      "outputs": [
        {
          "name": "stdout",
          "output_type": "stream",
          "text": [
            "Output- \n",
            "[1 1 1 1]\n",
            "Shape-  (4,)\n",
            "Data type - int64\n",
            "======================================================\n",
            "Output- \n",
            "[[1. 1.]\n",
            " [1. 1.]\n",
            " [1. 1.]\n",
            " [1. 1.]]\n",
            "Shape-  (4, 2)\n",
            "Data type - float64\n",
            "Output- \n",
            "[[[1. 1. 1.]\n",
            "  [1. 1. 1.]]\n",
            "\n",
            " [[1. 1. 1.]\n",
            "  [1. 1. 1.]]\n",
            "\n",
            " [[1. 1. 1.]\n",
            "  [1. 1. 1.]]\n",
            "\n",
            " [[1. 1. 1.]\n",
            "  [1. 1. 1.]]]\n",
            "Shape-  (4, 2, 3)\n",
            "Data type - float64\n"
          ]
        }
      ]
    },
    {
      "cell_type": "markdown",
      "metadata": {
        "id": "L0OmhZnfH7N-"
      },
      "source": [
        "#### Numpy Eye: numpy.eye()\n",
        "\n",
        "Numpy eye function helps to create a 2-D array where the diagonal has all ones and zeros elsewhere.\n",
        "Syntax\n",
        "\n",
        "                            eye(N, M=None, k=0, dtype='float', order='C')\n",
        "                            \n",
        "   1. N – It is the number of rows in the array. It has to be int.\n",
        "   2. M (optional) – It is the number of columns in the array. If not specified then it will default to N.\n",
        "   3. K (optional) – It denotes the position of diagonal ones. By default is zero i.e. in middle. A positive value denotes upper diagonal and negative value lower diagonal.\n",
        "   4. dtype (optional) – This is the required data type of the array, by default it is float.\n",
        "   5. order (optional) – This specifies how the array will be stored in the memory. It can be either ‘C’ for row-major or ‘F’ for column-major. By default, it is ‘C’.                       "
      ]
    },
    {
      "cell_type": "code",
      "metadata": {
        "id": "ZdKwoVrIH7N_",
        "outputId": "902197f9-e65b-4e5b-abfe-14fda8494a9d"
      },
      "source": [
        "np_identity_matrix_oder_4 = np.eye(4)\n",
        "\n",
        "print('Output- ')\n",
        "print(np_identity_matrix_oder_4)\n",
        "print('Shape- ', np_identity_matrix_oder_4.shape)\n",
        "print('Data type -', np_identity_matrix_oder_4.dtype)"
      ],
      "execution_count": null,
      "outputs": [
        {
          "name": "stdout",
          "output_type": "stream",
          "text": [
            "Output- \n",
            "[[1. 0. 0. 0.]\n",
            " [0. 1. 0. 0.]\n",
            " [0. 0. 1. 0.]\n",
            " [0. 0. 0. 1.]]\n",
            "Shape-  (4, 4)\n",
            "Data type - float64\n"
          ]
        }
      ]
    },
    {
      "cell_type": "markdown",
      "metadata": {
        "id": "W6Edx6mYH7OA"
      },
      "source": [
        "##### Miscellaneous Examples of Numpy Eye"
      ]
    },
    {
      "cell_type": "code",
      "metadata": {
        "id": "FrMv06g7H7OD",
        "outputId": "2e1cba24-61d3-41d0-f5a0-2d05cede1af1"
      },
      "source": [
        "\n",
        "np.eye(4, 5)"
      ],
      "execution_count": null,
      "outputs": [
        {
          "data": {
            "text/plain": [
              "array([[1., 0., 0., 0., 0.],\n",
              "       [0., 1., 0., 0., 0.],\n",
              "       [0., 0., 1., 0., 0.],\n",
              "       [0., 0., 0., 1., 0.]])"
            ]
          },
          "execution_count": 83,
          "metadata": {},
          "output_type": "execute_result"
        }
      ]
    },
    {
      "cell_type": "code",
      "metadata": {
        "id": "NLFZB3w9H7OE",
        "outputId": "d496a5fd-4710-4c43-e6a8-27fc9ce2b0c5"
      },
      "source": [
        "np.eye(4, 5, k = 2)"
      ],
      "execution_count": null,
      "outputs": [
        {
          "data": {
            "text/plain": [
              "array([[0., 0., 1., 0., 0.],\n",
              "       [0., 0., 0., 1., 0.],\n",
              "       [0., 0., 0., 0., 1.],\n",
              "       [0., 0., 0., 0., 0.]])"
            ]
          },
          "execution_count": 84,
          "metadata": {},
          "output_type": "execute_result"
        }
      ]
    },
    {
      "cell_type": "markdown",
      "metadata": {
        "id": "WBjYWQVJH7OF"
      },
      "source": [
        "### NumPy Arrays using the function empty()\n",
        "\n",
        "The `empty()` function is used to create arrays when we don't really have any values to create an array. What it does is, it takes the shape of the array as desired and the array is then filled with random values. The trick here is that without even using the random module we are able to build an array full of random values: `empty(shape, dtype)`"
      ]
    },
    {
      "cell_type": "code",
      "metadata": {
        "id": "uI2FZTpPH7OG",
        "outputId": "410f0c95-ce7d-4f12-80aa-86c86ba6f474"
      },
      "source": [
        "# arr of shape (5,2) with datatype=float filled with random values\n",
        "empty_arr = np.empty((5,2), dtype=float) \n",
        "print(\"Array with Float values\\n\", empty_arr)\n",
        "print(\"======================================\")\n",
        "\n",
        "\n",
        "\n",
        "# observe what happens when executed\n",
        "empty_arr1 = np.empty((4,4), dtype=int) \n",
        "print(\"Second Array \\n\", empty_arr1)"
      ],
      "execution_count": null,
      "outputs": [
        {
          "name": "stdout",
          "output_type": "stream",
          "text": [
            "Array with Float values\n",
            " [[15.         21.66666667]\n",
            " [28.33333333 35.        ]\n",
            " [41.66666667 48.33333333]\n",
            " [55.         61.66666667]\n",
            " [68.33333333 75.        ]]\n",
            "======================================\n",
            "Second Array \n",
            " [[4607182418800017408                   0                   0\n",
            "                    0]\n",
            " [                  0 4607182418800017408                   0\n",
            "                    0]\n",
            " [                  0                   0 4607182418800017408\n",
            "                    0]\n",
            " [                  0                   0                   0\n",
            "  4607182418800017408]]\n"
          ]
        }
      ]
    },
    {
      "cell_type": "markdown",
      "metadata": {
        "id": "sck370HzH7OH"
      },
      "source": [
        "## Operations on Arrays\n",
        "\n",
        "### Array Concatenation and Splitting\n",
        "\n",
        "All of the preceding routines worked on single arrays. It's also possible to combine multiple arrays into one, and to conversely split a single array into multiple arrays. We'll take a look at those operations here.\n",
        "\n",
        "#### Concatenation of arrays\n",
        "\n",
        "Concatenation, or joining of two arrays in NumPy, is primarily accomplished using the routines ``np.concatenate``, ``np.vstack``, and ``np.hstack``.\n",
        "``np.concatenate`` takes a tuple or list of arrays as its first argument, as we can see here:"
      ]
    },
    {
      "cell_type": "code",
      "metadata": {
        "id": "bbvdRolmH7OJ",
        "outputId": "8c66d6e7-4dfd-4ccf-f199-53fc7e0fcaa4"
      },
      "source": [
        "x = np.array([1, 2, 3])\n",
        "y = np.array([3, 2, 1])\n",
        "print(np.concatenate([x, y]))\n",
        "\n",
        "print(\"========================================\")\n",
        "\n",
        "# You can also concatenate more than two arrays at once:\n",
        "z = [99, 99, 99]\n",
        "print(np.concatenate([x, y, z]))\n",
        "print(\"========================================\")\n",
        "\n",
        "\n",
        "\n",
        "#It can also be used for two-dimensional arrays:\n",
        "grid = np.array([[1, 2, 3],[4, 5, 6]])\n",
        "\n",
        "# concatenate along the first axis\n",
        "print(np.concatenate([grid, grid]))\n",
        "print(\"========================================\")\n",
        "\n",
        "\n",
        "# concatenate along the second axis (zero-indexed)\n",
        "print(np.concatenate([grid, grid], axis=1))"
      ],
      "execution_count": null,
      "outputs": [
        {
          "name": "stdout",
          "output_type": "stream",
          "text": [
            "[1 2 3 3 2 1]\n",
            "========================================\n",
            "[ 1  2  3  3  2  1 99 99 99]\n",
            "========================================\n",
            "[[1 2 3]\n",
            " [4 5 6]\n",
            " [1 2 3]\n",
            " [4 5 6]]\n",
            "========================================\n",
            "[[1 2 3 1 2 3]\n",
            " [4 5 6 4 5 6]]\n"
          ]
        }
      ]
    },
    {
      "cell_type": "markdown",
      "metadata": {
        "id": "WTjSdYt3H7OK"
      },
      "source": [
        "For working with arrays of mixed dimensions, it can be clearer to use the ``np.vstack`` (vertical stack) and ``np.hstack`` (horizontal stack) functions:"
      ]
    },
    {
      "cell_type": "code",
      "metadata": {
        "id": "MRE6N7deH7ON",
        "outputId": "e972ef0d-1e74-404c-fa12-db1b95f9f896"
      },
      "source": [
        "x = np.array([1, 2, 3])\n",
        "grid = np.array([[9, 8, 7],\n",
        "                 [6, 5, 4]])\n",
        "\n",
        "# vertically stack the arrays\n",
        "np.vstack([x, grid])"
      ],
      "execution_count": null,
      "outputs": [
        {
          "data": {
            "text/plain": [
              "array([[1, 2, 3],\n",
              "       [9, 8, 7],\n",
              "       [6, 5, 4]])"
            ]
          },
          "execution_count": 87,
          "metadata": {},
          "output_type": "execute_result"
        }
      ]
    },
    {
      "cell_type": "code",
      "metadata": {
        "id": "7Mvc1wFPH7OO",
        "outputId": "0cd8f57d-e079-4093-cc9a-b5bb36ddca33"
      },
      "source": [
        "# horizontally stack the arrays\n",
        "y = np.array([[99],\n",
        "              [99]])\n",
        "np.hstack([grid, y])"
      ],
      "execution_count": null,
      "outputs": [
        {
          "data": {
            "text/plain": [
              "array([[ 9,  8,  7, 99],\n",
              "       [ 6,  5,  4, 99]])"
            ]
          },
          "execution_count": 88,
          "metadata": {},
          "output_type": "execute_result"
        }
      ]
    },
    {
      "cell_type": "markdown",
      "metadata": {
        "id": "YPW36Z3MH7OO"
      },
      "source": [
        "#### Splitting of arrays\n",
        "\n",
        "The opposite of concatenation is splitting, which is implemented by the functions ``np.split``, ``np.hsplit``, and ``np.vsplit``.  For each of these, we can pass a list of indices giving the split points:"
      ]
    },
    {
      "cell_type": "code",
      "metadata": {
        "id": "m0tlSgmYH7OQ",
        "outputId": "ef5686a1-d960-4f65-eb9e-fd058cb8bd73"
      },
      "source": [
        "x = [1, 2, 3, 99, 99, 3, 2, 1]\n",
        "x1, x2, x3 = np.split(x, [3, 5])\n",
        "print(x1, x2, x3)"
      ],
      "execution_count": null,
      "outputs": [
        {
          "name": "stdout",
          "output_type": "stream",
          "text": [
            "[1 2 3] [99 99] [3 2 1]\n"
          ]
        }
      ]
    },
    {
      "cell_type": "markdown",
      "metadata": {
        "id": "Ukt_6nlqH7OQ"
      },
      "source": [
        "Notice that *N* split-points, leads to *N + 1* subarrays.\n",
        "The related functions ``np.hsplit`` and ``np.vsplit`` are similar:"
      ]
    },
    {
      "cell_type": "code",
      "metadata": {
        "id": "9IwAr1A5H7OR",
        "outputId": "91d12d90-24bd-4f50-b11a-af36f8569401"
      },
      "source": [
        "grid = np.arange(16).reshape((4, 4))\n",
        "grid"
      ],
      "execution_count": null,
      "outputs": [
        {
          "data": {
            "text/plain": [
              "array([[ 0,  1,  2,  3],\n",
              "       [ 4,  5,  6,  7],\n",
              "       [ 8,  9, 10, 11],\n",
              "       [12, 13, 14, 15]])"
            ]
          },
          "execution_count": 90,
          "metadata": {},
          "output_type": "execute_result"
        }
      ]
    },
    {
      "cell_type": "code",
      "metadata": {
        "id": "MkA4FcWYH7OS",
        "outputId": "f5bce7f3-8ba7-47b9-86e2-9786909de72b"
      },
      "source": [
        "upper, lower = np.vsplit(grid, [2])\n",
        "print(upper)\n",
        "print(lower)"
      ],
      "execution_count": null,
      "outputs": [
        {
          "name": "stdout",
          "output_type": "stream",
          "text": [
            "[[0 1 2 3]\n",
            " [4 5 6 7]]\n",
            "[[ 8  9 10 11]\n",
            " [12 13 14 15]]\n"
          ]
        }
      ]
    },
    {
      "cell_type": "code",
      "metadata": {
        "id": "Ufy52EKiH7OS",
        "outputId": "97acafad-4464-4abc-cfd3-ec8c04fa4a97"
      },
      "source": [
        "left, right = np.hsplit(grid, [2])\n",
        "print(left)\n",
        "print(right)"
      ],
      "execution_count": null,
      "outputs": [
        {
          "name": "stdout",
          "output_type": "stream",
          "text": [
            "[[ 0  1]\n",
            " [ 4  5]\n",
            " [ 8  9]\n",
            " [12 13]]\n",
            "[[ 2  3]\n",
            " [ 6  7]\n",
            " [10 11]\n",
            " [14 15]]\n"
          ]
        }
      ]
    },
    {
      "cell_type": "markdown",
      "metadata": {
        "id": "03DkO7HIH7OU"
      },
      "source": [
        "Similarly, ``np.dsplit`` will split arrays along the third axis."
      ]
    },
    {
      "cell_type": "markdown",
      "metadata": {
        "id": "6kh83HWbH7OV"
      },
      "source": [
        "### Numpy Arrays Universal Functions \n",
        "\n",
        "Computation on NumPy arrays can be very fast, or it can be very slow.\n",
        "The key to making it fast is to use *vectorized* operations, generally implemented through NumPy's *universal functions* (ufuncs).\n",
        "This section motivates the need for NumPy's ufuncs, which can be used to make repeated calculations on array elements much more efficient.\n",
        "It then introduces many of the most common and useful arithmetic ufuncs available in the NumPy package.\n",
        "\n",
        "#### Array arithmetic\n",
        "\n",
        "NumPy's ufuncs feel very natural to use because they make use of Python's native arithmetic operators.\n",
        "The standard addition, subtraction, multiplication, and division can all be used:"
      ]
    },
    {
      "cell_type": "code",
      "metadata": {
        "id": "NgtabHAPH7OV",
        "outputId": "e3d14714-4569-4954-adc5-e18157d42647"
      },
      "source": [
        "x = np.arange(4)\n",
        "print(\"x     =\", x)\n",
        "print(\"x + 5 =\", x + 5)\n",
        "print(\"x - 5 =\", x - 5)\n",
        "print(\"x * 2 =\", x * 2)\n",
        "print(\"x / 2 =\", x / 2)\n",
        "print(\"x // 2 =\", x // 2)  # floor division"
      ],
      "execution_count": null,
      "outputs": [
        {
          "name": "stdout",
          "output_type": "stream",
          "text": [
            "x     = [0 1 2 3]\n",
            "x + 5 = [5 6 7 8]\n",
            "x - 5 = [-5 -4 -3 -2]\n",
            "x * 2 = [0 2 4 6]\n",
            "x / 2 = [0.  0.5 1.  1.5]\n",
            "x // 2 = [0 0 1 1]\n"
          ]
        }
      ]
    },
    {
      "cell_type": "code",
      "metadata": {
        "id": "c-2xUDyXH7OX",
        "outputId": "33439a80-94a8-49cb-dc34-9069cf91f688"
      },
      "source": [
        "# There is also a unary ufunc for negation, \n",
        "# and a ``**`` operator for exponentiation, \n",
        "# and a ``%`` operator for modulus\n",
        "\n",
        "print(\"-x     = \", -x)\n",
        "print(\"x ** 2 = \", x ** 2)\n",
        "print(\"x % 2  = \", x % 2)"
      ],
      "execution_count": null,
      "outputs": [
        {
          "name": "stdout",
          "output_type": "stream",
          "text": [
            "-x     =  [ 0 -1 -2 -3]\n",
            "x ** 2 =  [0 1 4 9]\n",
            "x % 2  =  [0 1 0 1]\n"
          ]
        }
      ]
    },
    {
      "cell_type": "code",
      "metadata": {
        "id": "nKlMPMTVH7OX",
        "outputId": "6fe81075-611a-4821-e87c-85cb471223b9"
      },
      "source": [
        "# In addition, these can be strung together however you wish,\n",
        "# and the standard order of operations is respected:\n",
        "\n",
        "-(0.5*x + 1) ** 2"
      ],
      "execution_count": null,
      "outputs": [
        {
          "data": {
            "text/plain": [
              "array([-1.  , -2.25, -4.  , -6.25])"
            ]
          },
          "execution_count": 95,
          "metadata": {},
          "output_type": "execute_result"
        }
      ]
    },
    {
      "cell_type": "code",
      "metadata": {
        "id": "oznFMhFzH7OY",
        "outputId": "9c931506-1db8-4a49-cc14-17bf1b5a4b9f"
      },
      "source": [
        "#Each of these arithmetic operations are simply convenient wrappers around specific functions built into NumPy; \n",
        "# for example, the ``+`` operator is a wrapper for the ``add`` function\n",
        "np.add(x, 2)"
      ],
      "execution_count": null,
      "outputs": [
        {
          "data": {
            "text/plain": [
              "array([2, 3, 4, 5])"
            ]
          },
          "execution_count": 96,
          "metadata": {},
          "output_type": "execute_result"
        }
      ]
    },
    {
      "cell_type": "markdown",
      "metadata": {
        "id": "hdE0bKF4H7OY"
      },
      "source": [
        "The following table lists the arithmetic operators implemented in NumPy:\n",
        "\n",
        "| Operator\t    | Equivalent ufunc    | Description                           |\n",
        "|---------------|---------------------|---------------------------------------|\n",
        "|``+``          |``np.add``           |Addition (e.g., ``1 + 1 = 2``)         |\n",
        "|``-``          |``np.subtract``      |Subtraction (e.g., ``3 - 2 = 1``)      |\n",
        "|``-``          |``np.negative``      |Unary negation (e.g., ``-2``)          |\n",
        "|``*``          |``np.multiply``      |Multiplication (e.g., ``2 * 3 = 6``)   |\n",
        "|``/``          |``np.divide``        |Division (e.g., ``3 / 2 = 1.5``)       |\n",
        "|``//``         |``np.floor_divide``  |Floor division (e.g., ``3 // 2 = 1``)  |\n",
        "|``**``         |``np.power``         |Exponentiation (e.g., ``2 ** 3 = 8``)  |\n",
        "|``%``          |``np.mod``           |Modulus/remainder (e.g., ``9 % 4 = 1``)|\n",
        "\n",
        "Additionally there are Boolean/bitwise operators; we will explore these in [Comparisons, Masks, and Boolean Logic]()."
      ]
    },
    {
      "cell_type": "markdown",
      "metadata": {
        "id": "XzIVw3ALH7OY"
      },
      "source": [
        "#### Absolute value\n",
        "\n",
        "Just as NumPy understands Python's built-in arithmetic operators, it also understands Python's built-in absolute value function:"
      ]
    },
    {
      "cell_type": "code",
      "metadata": {
        "id": "PtWJPXxVH7OY",
        "outputId": "3ca676d9-b363-44c5-9fff-c61043646e09"
      },
      "source": [
        "x = np.array([-2, -1, 0, 1, 2])\n",
        "abs(x)"
      ],
      "execution_count": null,
      "outputs": [
        {
          "data": {
            "text/plain": [
              "array([2, 1, 0, 1, 2])"
            ]
          },
          "execution_count": 97,
          "metadata": {},
          "output_type": "execute_result"
        }
      ]
    },
    {
      "cell_type": "code",
      "metadata": {
        "id": "YzK5oJsTH7OZ"
      },
      "source": [
        "# The corresponding NumPy ufunc is ``np.absolute``, which is also available under the alias ``np.abs``:"
      ],
      "execution_count": null,
      "outputs": []
    },
    {
      "cell_type": "code",
      "metadata": {
        "id": "kz4uTacFH7OZ",
        "outputId": "0f06af6c-0b4e-4e71-c038-cc828f28f526"
      },
      "source": [
        "print(np.absolute(x))\n",
        "\n",
        "print(\"===============================\")\n",
        "\n",
        "\n",
        "print(np.absolute(x))"
      ],
      "execution_count": null,
      "outputs": [
        {
          "name": "stdout",
          "output_type": "stream",
          "text": [
            "[2 1 0 1 2]\n",
            "===============================\n",
            "[2 1 0 1 2]\n"
          ]
        }
      ]
    },
    {
      "cell_type": "code",
      "metadata": {
        "id": "qasgKBq7H7Oa",
        "outputId": "afd7942a-aaab-45fc-f661-fda43ee4d3a5"
      },
      "source": [
        "# This ufunc can also handle complex data, in which the absolute value returns the magnitude:\n",
        "x = np.array([3 - 4j, 4 - 3j, 2 + 0j, 0 + 1j])\n",
        "np.abs(x)"
      ],
      "execution_count": null,
      "outputs": [
        {
          "data": {
            "text/plain": [
              "array([5., 5., 2., 1.])"
            ]
          },
          "execution_count": 100,
          "metadata": {},
          "output_type": "execute_result"
        }
      ]
    },
    {
      "cell_type": "markdown",
      "metadata": {
        "id": "7rFAKx_TH7Oa"
      },
      "source": [
        "#### Trigonometric functions\n",
        "\n",
        "NumPy provides a large number of useful ufuncs, and some of the most useful for the data scientist are the trigonometric functions.\n",
        "We'll start by defining an array of angles:"
      ]
    },
    {
      "cell_type": "code",
      "metadata": {
        "id": "yXIsnJVnH7Ob",
        "outputId": "c7cfba91-4731-4435-fac0-720353beed56"
      },
      "source": [
        "theta = np.linspace(0, np.pi, 3)\n",
        "print(\"theta      = \", theta)\n",
        "print(\"sin(theta) = \", np.sin(theta))\n",
        "print(\"cos(theta) = \", np.cos(theta))\n",
        "print(\"tan(theta) = \", np.tan(theta))"
      ],
      "execution_count": null,
      "outputs": [
        {
          "name": "stdout",
          "output_type": "stream",
          "text": [
            "theta      =  [0.         1.57079633 3.14159265]\n",
            "sin(theta) =  [0.0000000e+00 1.0000000e+00 1.2246468e-16]\n",
            "cos(theta) =  [ 1.000000e+00  6.123234e-17 -1.000000e+00]\n",
            "tan(theta) =  [ 0.00000000e+00  1.63312394e+16 -1.22464680e-16]\n"
          ]
        }
      ]
    },
    {
      "cell_type": "code",
      "metadata": {
        "id": "plGBre4TH7Ob",
        "outputId": "e60962b3-69ab-49d6-ef14-85ab4c3ee709"
      },
      "source": [
        "# The values are computed to within machine precision, which is why values \n",
        "# that should be zero do not always hit exactly zero. \n",
        "#Inverse trigonometric functions are also available:\n",
        "x = [-1, 0, 1]\n",
        "print(\"x         = \", x)\n",
        "print(\"arcsin(x) = \", np.arcsin(x))\n",
        "print(\"arccos(x) = \", np.arccos(x))\n",
        "print(\"arctan(x) = \", np.arctan(x))"
      ],
      "execution_count": null,
      "outputs": [
        {
          "name": "stdout",
          "output_type": "stream",
          "text": [
            "x         =  [-1, 0, 1]\n",
            "arcsin(x) =  [-1.57079633  0.          1.57079633]\n",
            "arccos(x) =  [3.14159265 1.57079633 0.        ]\n",
            "arctan(x) =  [-0.78539816  0.          0.78539816]\n"
          ]
        }
      ]
    },
    {
      "cell_type": "markdown",
      "metadata": {
        "id": "ihipfM9nH7Oc"
      },
      "source": [
        "#### Exponents and logarithms\n",
        "\n",
        "Another common type of operation available in a NumPy ufunc are the exponentials:"
      ]
    },
    {
      "cell_type": "code",
      "metadata": {
        "id": "8HqRPiKkH7Oc",
        "outputId": "dbc2d7a5-beed-422e-bad6-b7e25937abc0"
      },
      "source": [
        "x = [1, 2, 3]\n",
        "print(\"x     =\", x)\n",
        "print(\"e^x   =\", np.exp(x))\n",
        "print(\"2^x   =\", np.exp2(x))\n",
        "print(\"3^x   =\", np.power(3, x))"
      ],
      "execution_count": null,
      "outputs": [
        {
          "name": "stdout",
          "output_type": "stream",
          "text": [
            "x     = [1, 2, 3]\n",
            "e^x   = [ 2.71828183  7.3890561  20.08553692]\n",
            "2^x   = [2. 4. 8.]\n",
            "3^x   = [ 3  9 27]\n"
          ]
        }
      ]
    },
    {
      "cell_type": "markdown",
      "metadata": {
        "id": "F8NCAIjGH7Od"
      },
      "source": [
        "The inverse of the exponentials, the logarithms, are also available.\n",
        "The basic ``np.log`` gives the natural logarithm; if you prefer to compute the base-2 logarithm or the base-10 logarithm, these are available as well:"
      ]
    },
    {
      "cell_type": "code",
      "metadata": {
        "id": "6v1Bw2JoH7Oe",
        "outputId": "fda2f7e8-6003-4d47-c802-edab6726f6d3"
      },
      "source": [
        "x = [1, 2, 4, 10]\n",
        "print(\"x        =\", x)\n",
        "print(\"ln(x)    =\", np.log(x))\n",
        "print(\"log2(x)  =\", np.log2(x))\n",
        "print(\"log10(x) =\", np.log10(x))"
      ],
      "execution_count": null,
      "outputs": [
        {
          "name": "stdout",
          "output_type": "stream",
          "text": [
            "x        = [1, 2, 4, 10]\n",
            "ln(x)    = [0.         0.69314718 1.38629436 2.30258509]\n",
            "log2(x)  = [0.         1.         2.         3.32192809]\n",
            "log10(x) = [0.         0.30103    0.60205999 1.        ]\n"
          ]
        }
      ]
    },
    {
      "cell_type": "markdown",
      "metadata": {
        "id": "W3vmh5M9H7Og"
      },
      "source": [
        "#### Ufuncs: Learning More\n",
        "\n",
        "More information on universal functions (including the full list of available functions) can be found on the [NumPy](http://www.numpy.org) and [SciPy](http://www.scipy.org) documentation websites.\n",
        "\n",
        "Recall that you can also access information directly from within IPython by importing the packages and using IPython's tab-completion and help (``?``) functionality"
      ]
    }
  ]
}