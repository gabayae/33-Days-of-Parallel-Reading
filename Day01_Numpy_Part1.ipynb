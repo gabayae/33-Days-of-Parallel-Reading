{
  "nbformat": 4,
  "nbformat_minor": 0,
  "metadata": {
    "kernelspec": {
      "display_name": "Python 3",
      "language": "python",
      "name": "python3"
    },
    "language_info": {
      "codemirror_mode": {
        "name": "ipython",
        "version": 3
      },
      "file_extension": ".py",
      "mimetype": "text/x-python",
      "name": "python",
      "nbconvert_exporter": "python",
      "pygments_lexer": "ipython3",
      "version": "3.7.3"
    },
    "colab": {
      "name": "Day01-Numpy-Part1.ipynb",
      "provenance": [],
      "include_colab_link": true
    }
  },
  "cells": [
    {
      "cell_type": "markdown",
      "metadata": {
        "id": "view-in-github",
        "colab_type": "text"
      },
      "source": [
        "<a href=\"https://colab.research.google.com/github/gabayae/33-Days-of-Parallel-Reading/blob/main/Day01_Numpy_Part1.ipynb\" target=\"_parent\"><img src=\"https://colab.research.google.com/assets/colab-badge.svg\" alt=\"Open In Colab\"/></a>"
      ]
    },
    {
      "cell_type": "markdown",
      "metadata": {
        "id": "-VxwjVePoXW2"
      },
      "source": [
        "#    <center> <b> <span style=\"color:orange;\" >  `33 Days of Parallel reading` </span> </b></center>\n",
        "\n",
        "\n",
        "## <center> <b> <span style=\"color:orange;\"> An initiation to Machine Learning </span> </b></center>\n",
        "\n",
        "### <center> <b> <span style=\"color:blue;\"> A comprehensive guide to Numpy for Data manipulation </span> </b></center>\n",
        "\n",
        "\n",
        "\n",
        "\n",
        "#### Author: [Yaé Ulrich Gaba](https://github.com/gabayae)\n",
        "\n",
        "#### Link to the notebook on the repo: [A comprehensive guide to Numpy](https://github.com/gabayae/-66DaysOfData-KennethJee/edit/main/README.md)"
      ]
    },
    {
      "cell_type": "markdown",
      "metadata": {
        "id": "l8MInf6DoXW_"
      },
      "source": [
        "## ToC \n",
        "\n",
        "- [NumPy](#NumPy)  \n",
        "  - [Overview](#Overview)  \n",
        "  - [Getting Started](#Getting-Started)\n",
        "    - [Load packages](#Load-packages)\n",
        "    - [Introduction to Numpy](Introduction-to-Numpy)\n",
        "  - [NumPy Arrays](#NumPy-Arrays) \n",
        "    - [NumPy Arrays from Python Lists](#NumPy-Arrays-from-Python-Lists)\n",
        "    - [NumPy Arrays using the function arange()](#NumPy-Arrays-using-the-function-arange())\n",
        "    - [NumPy Arrays using the function linspace()](#NumPy-Arrays-using-the-function-linspace())\n",
        "    - [NumPy Array Attributes](#NumPy-Array-Attributes)\n",
        "    - [Some Numpy Special Arrays](#Some-Numpy-Special-Arrays)\n",
        "    - [NumPy Arrays using the function empty()](#NumPy-Arrays-using-the-function-empty())\n",
        "  - [Operations on Arrays](#Operations-on-Arrays)\n",
        "    - [Array Concatenation and Splitting](#Array-Concatenation-and-Splitting)\n",
        "    - [Numpy Arrays Universal Functions](NumPy-Arrays-Universal-Functions) "
      ]
    },
    {
      "cell_type": "markdown",
      "metadata": {
        "id": "kmEON26KoXXB"
      },
      "source": [
        "## Overview\n",
        "\n",
        "\n",
        "Data manipulation in Python is nearly synonymous with NumPy array manipulation: even newer tools like Pandas ([next lesson]()) are built around the NumPy array. This notebook will present several examples of using NumPy array manipulation to access data and subarrays, and to split, reshape, and join the arrays. Get to know them well!\n",
        "\n",
        "[NumPy](https://en.wikipedia.org/wiki/NumPy) (pronounced /ˈnʌmpaɪ/ (NUM-py) or sometimes /ˈnʌmpi/ (NUM-pee)) is a library for the Python programming language, adding support for large, multi-dimensional arrays and matrices, along with a large collection of high-level mathematical functions to operate on these arrays.\n",
        "\n",
        "[NumPy](https://en.wikipedia.org/wiki/NumPy) is a first-rate library for numerical programming\n",
        "\n",
        "- Widely used in academia, finance and industry.  \n",
        "- Mature, fast, stable and under continuous development.  "
      ]
    },
    {
      "cell_type": "markdown",
      "metadata": {
        "id": "VWrhDKhfoXXE"
      },
      "source": [
        "## Getting Started\n",
        "\n",
        "### Load packages\n",
        "\n",
        "In order to be able to use numpy we need to import the library using the special word `import`. Also, to avoid typing `numpy` every time we want to use one if its functions we can provide an alias using the special word `as`:"
      ]
    },
    {
      "cell_type": "code",
      "metadata": {
        "id": "003w4Wo0oXXG"
      },
      "source": [
        "import numpy as np"
      ],
      "execution_count": null,
      "outputs": []
    },
    {
      "cell_type": "markdown",
      "metadata": {
        "id": "sGTft5A2oXXJ"
      },
      "source": [
        "### Introduction to Numpy\n",
        "\n",
        "Now, we have access to all the functions available in `numpy` by typing `np.name_of_function`. For example, the equivalent of `1 + 1` in Python can be done in `numpy`:"
      ]
    },
    {
      "cell_type": "code",
      "metadata": {
        "id": "VMbyI6ZroXXN",
        "outputId": "42d9c1c7-cbde-4a81-8f9b-8d5034fab96a"
      },
      "source": [
        "np.add(1,1)"
      ],
      "execution_count": null,
      "outputs": [
        {
          "data": {
            "text/plain": [
              "2"
            ]
          },
          "execution_count": 33,
          "metadata": {},
          "output_type": "execute_result"
        }
      ]
    },
    {
      "cell_type": "markdown",
      "metadata": {
        "id": "Ba9paoUJoXXS"
      },
      "source": [
        "Although this might not at first seem very useful, even simple operations like this one can be much quicker in `numpy` than in standard Python when using lots of numbers (large arrays).\n",
        "\n",
        "To access the documentation explaining how a function is used, its input parameters and output format we can press `Shift+Tab` after the function name. Try this in the cell below"
      ]
    },
    {
      "cell_type": "code",
      "metadata": {
        "id": "RCVfK7bpoXXU",
        "outputId": "49c56dad-7acc-4d63-f5aa-2f90e85e3ae6"
      },
      "source": [
        "np.add"
      ],
      "execution_count": null,
      "outputs": [
        {
          "data": {
            "text/plain": [
              "<ufunc 'add'>"
            ]
          },
          "execution_count": 34,
          "metadata": {},
          "output_type": "execute_result"
        }
      ]
    },
    {
      "cell_type": "markdown",
      "metadata": {
        "id": "iZFr08bOoXXW"
      },
      "source": [
        "## NumPy Arrays\n",
        "\n",
        "The core concept in numpy is the `array` which is equivalent to lists of numbers but can be multidimensional. \n",
        "The essential problem that NumPy solves is fast array processing. The most important structure that NumPy defines is an array data type formally called a [numpy.ndarray](http://docs.scipy.org/doc/numpy/reference/arrays.ndarray.html). NumPy arrays power a large proportion of the scientific Python ecosystem. Let us list ways of creating Numpy arrays one by one, with Examples.\n",
        "\n",
        "\n"
      ]
    },
    {
      "cell_type": "markdown",
      "metadata": {
        "id": "VRb_xoQ0oXXX"
      },
      "source": [
        "### NumPy Arrays from Python Lists"
      ]
    },
    {
      "cell_type": "code",
      "metadata": {
        "id": "FD_IjmFMoXXY",
        "outputId": "f0ceac9f-4af1-4c70-b310-c3abc62d3a55"
      },
      "source": [
        "# making a python list li\n",
        "li = [8,5,6,9,4,2]\n",
        "\n",
        "\n",
        "# creating array out of it\n",
        "numpy_array_from_list = np.array(li)\n",
        "\n",
        "# printing the array\n",
        "print(numpy_array_from_list)\n"
      ],
      "execution_count": null,
      "outputs": [
        {
          "name": "stdout",
          "output_type": "stream",
          "text": [
            "[8 5 6 9 4 2]\n"
          ]
        }
      ]
    },
    {
      "cell_type": "code",
      "metadata": {
        "id": "V0c-AWZaoXXa",
        "outputId": "0d81e1cb-b28f-4af0-dbe3-21cead45c597"
      },
      "source": [
        "# checking the type of numpy_array_from_list\n",
        "type(numpy_array_from_list)"
      ],
      "execution_count": null,
      "outputs": [
        {
          "data": {
            "text/plain": [
              "numpy.ndarray"
            ]
          },
          "execution_count": 36,
          "metadata": {},
          "output_type": "execute_result"
        }
      ]
    },
    {
      "cell_type": "markdown",
      "metadata": {
        "id": "-VCZK9bFoXXc"
      },
      "source": [
        "We can also pass a list manually without explicitly defining it."
      ]
    },
    {
      "cell_type": "code",
      "metadata": {
        "id": "GRTUBs0woXXd",
        "outputId": "fa8a540b-6f34-46b6-ab27-dfe448769ffb"
      },
      "source": [
        "numpy_array_from_list1 = np.array([5,7,4,1,5,6])\n",
        "print(numpy_array_from_list1)"
      ],
      "execution_count": null,
      "outputs": [
        {
          "name": "stdout",
          "output_type": "stream",
          "text": [
            "[5 7 4 1 5 6]\n"
          ]
        }
      ]
    },
    {
      "cell_type": "code",
      "metadata": {
        "id": "UeoTeAjfoXXe",
        "outputId": "6f8e3e0d-8ed4-4d76-e558-9234e7f76663"
      },
      "source": [
        "type(numpy_array_from_list1)"
      ],
      "execution_count": null,
      "outputs": [
        {
          "data": {
            "text/plain": [
              "numpy.ndarray"
            ]
          },
          "execution_count": 38,
          "metadata": {},
          "output_type": "execute_result"
        }
      ]
    },
    {
      "cell_type": "markdown",
      "metadata": {
        "id": "L3LOcZaKoXXf"
      },
      "source": [
        "Other arguments which are optional can also be included while creating the Numpy arrays. One of the optional parameter, that you might find useful is:\n",
        "\n",
        "<b> <span style=\"color:brown;\" >  dtype </span> </b>: This argument specifies the data-type of the array being created. Since, unlike lists, all the elements in the Numpy array are of the same data-type. The datatypes ranging from float to complex, all are acceptable.\n",
        "\n",
        "Let us see with an example:"
      ]
    },
    {
      "cell_type": "code",
      "metadata": {
        "id": "4_edQmmboXXg",
        "outputId": "181b5bbe-03d9-40be-9a57-4b2b02c5f703"
      },
      "source": [
        "numpy_array_float = np.array([1,8,5,59,8,98], dtype = 'float')\n",
        "print(numpy_array_float)\n",
        "\n",
        "\n",
        "print(\"======================================\")\n",
        "\n",
        "# let's try Numpy array with string as input\n",
        "str = ['the','air','after','summer','rain']\n",
        "numpy_array_str = np.array(str, dtype = 'str')\n",
        "print(numpy_array_str)\n",
        "\n",
        "\n",
        "# In a similar manner, other data-types can also be used to create a Numpy array."
      ],
      "execution_count": null,
      "outputs": [
        {
          "name": "stdout",
          "output_type": "stream",
          "text": [
            "[ 1.  8.  5. 59.  8. 98.]\n",
            "======================================\n",
            "['the' 'air' 'after' 'summer' 'rain']\n"
          ]
        }
      ]
    },
    {
      "cell_type": "markdown",
      "metadata": {
        "id": "k1cFC2cOoXXi"
      },
      "source": [
        "A short documentation about the `np.array` function can be found by doing `np.array?`"
      ]
    },
    {
      "cell_type": "code",
      "metadata": {
        "id": "zDCYtsProXXq"
      },
      "source": [
        "#np.array?  # Uncomment to run the cell."
      ],
      "execution_count": null,
      "outputs": []
    },
    {
      "cell_type": "markdown",
      "metadata": {
        "id": "l8zqqA6FoXXs"
      },
      "source": [
        "### NumPy Arrays using the function arange()\n",
        "\n",
        "The `arange()` function is one of the Numpy's most used method for creating an array within a specified range. The first argument takes the **starting point** of the array you want to create, second is the **stop point** and the third is the **step** (just like python list slicing function). The last argument is again *dtype*, which is optional: `arange(start, end, step, dtype)`"
      ]
    },
    {
      "cell_type": "code",
      "metadata": {
        "id": "g6AqMnJaoXXt",
        "outputId": "ee8b93ed-35c2-4bb2-f2e8-01fa339076ef"
      },
      "source": [
        "# creating an array starting from 0 ending with 10 \n",
        "# and increasing with a step of 2\n",
        "arange_array1 = np.arange(0,11,2)   # writing 11 instead of 10 since range is exclusive\n",
        "print(\"First array:\", arange_array1)\n",
        "print(\"======================================\")\n",
        "\n",
        "\n",
        "# array starting from 50 going till 120 with step of 4\n",
        "arange_array2 = np.arange(50,121,4)\n",
        "print(\"Second Array:\", arange_array2)\n",
        "print(\"======================================\")\n",
        "\n",
        "\n",
        "# starting from 0(by default), stopping at 14(don't forget 15 is exclusive), step=1(by default)\n",
        "arange_array3 = np.arange(15) \n",
        "print(\"Third Array:\", arange_array3)\n",
        "print(\"======================================\")\n",
        "\n",
        "\n",
        "# okay now lets print backward counting: 20 to 1\n",
        "arange_array4 = np.arange(20,0,-1)\n",
        "print(\"Reverse Array:\", arange_array4)\n"
      ],
      "execution_count": null,
      "outputs": [
        {
          "name": "stdout",
          "output_type": "stream",
          "text": [
            "First array: [ 0  2  4  6  8 10]\n",
            "======================================\n",
            "Second Array: [ 50  54  58  62  66  70  74  78  82  86  90  94  98 102 106 110 114 118]\n",
            "======================================\n",
            "Third Array: [ 0  1  2  3  4  5  6  7  8  9 10 11 12 13 14]\n",
            "======================================\n",
            "Reverse Array: [20 19 18 17 16 15 14 13 12 11 10  9  8  7  6  5  4  3  2  1]\n"
          ]
        }
      ]
    },
    {
      "cell_type": "markdown",
      "metadata": {
        "id": "JhxTHOg4oXXw"
      },
      "source": [
        "### NumPy Arrays using the function linspace()\n",
        "\n",
        "Like the `arange()` function, the `linspace()` function can also be used to create Numpy array. In the `arange()` function, we had control over where to start the Numpy array from, where to stop and step points but with `linspace()` we can maintain a proper linear stepping or spacing between array elements value while generating the array. The `linspace()` function takes arguments: **start index**, **end index** and the **number of elements** to be outputted. These number of elements would be linearly spaced in the range mentioned: `linspace(start_index, end_index, num_of_elements)`. Now let's take a code example,\n"
      ]
    },
    {
      "cell_type": "code",
      "metadata": {
        "id": "dPtk02sDoXXw",
        "outputId": "329de555-8260-469e-a1e9-f19bceb06ecd"
      },
      "source": [
        "# printing arr consisting of 10 values in between \n",
        "# range 15, 75 spaced appropriately.\n",
        "arr = np.linspace(15, 75, 10)     \n",
        "print(\"First Array\\n\", arr)\n",
        "\n",
        "print(\"=========================================================\")\n",
        "\n",
        "# properly spaced array of 25 elements\n",
        "arr1 = np.linspace(50,100,25)   \n",
        "print(\"Second Array\\n\", arr1)"
      ],
      "execution_count": null,
      "outputs": [
        {
          "name": "stdout",
          "output_type": "stream",
          "text": [
            "First Array\n",
            " [15.         21.66666667 28.33333333 35.         41.66666667 48.33333333\n",
            " 55.         61.66666667 68.33333333 75.        ]\n",
            "=========================================================\n",
            "Second Array\n",
            " [ 50.          52.08333333  54.16666667  56.25        58.33333333\n",
            "  60.41666667  62.5         64.58333333  66.66666667  68.75\n",
            "  70.83333333  72.91666667  75.          77.08333333  79.16666667\n",
            "  81.25        83.33333333  85.41666667  87.5         89.58333333\n",
            "  91.66666667  93.75        95.83333333  97.91666667 100.        ]\n"
          ]
        }
      ]
    },
    {
      "cell_type": "markdown",
      "metadata": {
        "id": "GJCU71StoXXx"
      },
      "source": [
        "### NumPy Array Attributes\n",
        "\n",
        "Before we continue in showing other ways of generating Numpy arrays, let's discuss some useful array attributes. We'll start by defining three random arrays, a one-dimensional, two-dimensional, and three-dimensional array. We'll use NumPy's random number generator, which we will seed with a set value in order to ensure that the same random arrays are generated each time this code is run:"
      ]
    },
    {
      "cell_type": "code",
      "metadata": {
        "id": "09htj8O5oXXy"
      },
      "source": [
        "np.random.seed(0)  # seed for reproducibility\n",
        "\n",
        "x1 = np.random.randint(10, size=6)  # One-dimensional array\n",
        "x2 = np.random.randint(10, size=(3, 4))  # Two-dimensional array\n",
        "x3 = np.random.randint(10, size=(3, 4, 5))  # Three-dimensional array"
      ],
      "execution_count": null,
      "outputs": []
    },
    {
      "cell_type": "markdown",
      "metadata": {
        "id": "91N3Bw8NoXXy"
      },
      "source": [
        "Each array has attributes `ndim` (the number of dimensions), `shape` (the size of each dimension), and `size` (the total size of the array):"
      ]
    },
    {
      "cell_type": "code",
      "metadata": {
        "id": "HBpIKsiVoXXz",
        "outputId": "6cc8df97-8c90-48f3-ef73-be5310ce77cd"
      },
      "source": [
        "print(\"x3 ndim: \", x3.ndim)\n",
        "print(\"x3 shape:\", x3.shape)\n",
        "print(\"x3 size: \", x3.size)"
      ],
      "execution_count": null,
      "outputs": [
        {
          "name": "stdout",
          "output_type": "stream",
          "text": [
            "x3 ndim:  3\n",
            "x3 shape: (3, 4, 5)\n",
            "x3 size:  60\n"
          ]
        }
      ]
    },
    {
      "cell_type": "markdown",
      "metadata": {
        "id": "ZCN41wbuoXXz"
      },
      "source": [
        "Another useful attribute is the `dtype`, the data type of the array (which we already discussed)."
      ]
    },
    {
      "cell_type": "code",
      "metadata": {
        "id": "cfOYPfg9oXX0",
        "outputId": "b13655af-13f6-4593-d748-5404039333c8"
      },
      "source": [
        "print(\"dtype:\", x3.dtype)"
      ],
      "execution_count": null,
      "outputs": [
        {
          "name": "stdout",
          "output_type": "stream",
          "text": [
            "dtype: int64\n"
          ]
        }
      ]
    },
    {
      "cell_type": "markdown",
      "metadata": {
        "id": "lb2ZwzoJoXX0"
      },
      "source": [
        "Other attributes include ``itemsize``, which lists the size (in bytes) of each array element, and ``nbytes``, which lists the total size (in bytes) of the array:"
      ]
    },
    {
      "cell_type": "code",
      "metadata": {
        "id": "1gSqhhTwoXX2",
        "outputId": "e2f2edc1-c2a3-4f7d-e05b-8f875eb18b06"
      },
      "source": [
        "print(\"itemsize:\", x3.itemsize, \"bytes\")\n",
        "print(\"nbytes:\", x3.nbytes, \"bytes\")"
      ],
      "execution_count": null,
      "outputs": [
        {
          "name": "stdout",
          "output_type": "stream",
          "text": [
            "itemsize: 8 bytes\n",
            "nbytes: 480 bytes\n"
          ]
        }
      ]
    },
    {
      "cell_type": "markdown",
      "metadata": {
        "id": "hx5kZ2BJoXX2"
      },
      "source": [
        "In general, we expect that ``nbytes`` is equal to ``itemsize`` times ``size``."
      ]
    },
    {
      "cell_type": "markdown",
      "metadata": {
        "id": "8rdj5U6ToXX3"
      },
      "source": [
        "#### Array Indexing: Accessing Single Elements\n",
        "\n",
        "If you are familiar with Python's standard list indexing, indexing in NumPy will feel quite familiar.\n",
        "In a one-dimensional array, the $i^{th}$ value (counting from zero) can be accessed by specifying the desired index in square brackets, just as with Python lists:"
      ]
    },
    {
      "cell_type": "code",
      "metadata": {
        "id": "ShKp3TFaoXX4",
        "outputId": "936b184d-87b8-4818-fe6f-7f3842a42dd0"
      },
      "source": [
        "x1"
      ],
      "execution_count": null,
      "outputs": [
        {
          "data": {
            "text/plain": [
              "array([5, 0, 3, 3, 7, 9])"
            ]
          },
          "execution_count": 47,
          "metadata": {},
          "output_type": "execute_result"
        }
      ]
    },
    {
      "cell_type": "code",
      "metadata": {
        "id": "HOaodgTgoXX4",
        "outputId": "e911e218-d665-48e2-b11c-accddf77cad4"
      },
      "source": [
        "print(x1[0])\n",
        "print(\"-----------\")\n",
        "\n",
        "\n",
        "print(x1[4])\n",
        "print(\"-----------\")\n",
        "\n",
        "    \n",
        "    \n",
        "\n",
        "print(x1[-1])\n",
        "print(\"-----------\")\n",
        "\n",
        "\n",
        "    \n",
        "    \n",
        "    \n",
        "print(x1[-2])\n",
        "print(\"-----------\")\n",
        "\n",
        "    "
      ],
      "execution_count": null,
      "outputs": [
        {
          "name": "stdout",
          "output_type": "stream",
          "text": [
            "5\n",
            "-----------\n",
            "7\n",
            "-----------\n",
            "9\n",
            "-----------\n",
            "7\n",
            "-----------\n"
          ]
        }
      ]
    },
    {
      "cell_type": "markdown",
      "metadata": {
        "id": "t-_65FzVoXX5"
      },
      "source": [
        "In a multi-dimensional array, items can be accessed using a comma-separated tuple of indices:"
      ]
    },
    {
      "cell_type": "code",
      "metadata": {
        "id": "OhHgdXlloXX6",
        "outputId": "f4adcba3-767d-44ef-8ad2-0844951647ae"
      },
      "source": [
        "x2"
      ],
      "execution_count": null,
      "outputs": [
        {
          "data": {
            "text/plain": [
              "array([[3, 5, 2, 4],\n",
              "       [7, 6, 8, 8],\n",
              "       [1, 6, 7, 7]])"
            ]
          },
          "execution_count": 49,
          "metadata": {},
          "output_type": "execute_result"
        }
      ]
    },
    {
      "cell_type": "code",
      "metadata": {
        "id": "P77pDOkuoXX6",
        "outputId": "45584b5b-d8ff-4159-db11-eb479b8b0005"
      },
      "source": [
        "print(x2[0,0])\n",
        "print(\"-----------\")\n",
        "\n",
        "\n",
        "print(x2[2,0])\n",
        "print(\"-----------\")\n",
        "\n",
        "    \n",
        "    \n",
        "\n",
        "print(x2[2,-1])\n",
        "print(\"-----------\")\n",
        "\n",
        "\n",
        "    \n",
        "    \n",
        "    \n",
        "print(x2[-2])\n",
        "print(\"-----------\")"
      ],
      "execution_count": null,
      "outputs": [
        {
          "name": "stdout",
          "output_type": "stream",
          "text": [
            "3\n",
            "-----------\n",
            "1\n",
            "-----------\n",
            "7\n",
            "-----------\n",
            "[7 6 8 8]\n",
            "-----------\n"
          ]
        }
      ]
    },
    {
      "cell_type": "markdown",
      "metadata": {
        "id": "GIrMQfquoXX_"
      },
      "source": [
        "Values can also be modified using any of the above index notation:"
      ]
    },
    {
      "cell_type": "code",
      "metadata": {
        "id": "lAM11u3VoXYA",
        "outputId": "4e32768b-077c-4e80-d0e7-8a4ad2f67f92"
      },
      "source": [
        "x2[0, 0] = 12\n",
        "x2"
      ],
      "execution_count": null,
      "outputs": [
        {
          "data": {
            "text/plain": [
              "array([[12,  5,  2,  4],\n",
              "       [ 7,  6,  8,  8],\n",
              "       [ 1,  6,  7,  7]])"
            ]
          },
          "execution_count": 51,
          "metadata": {},
          "output_type": "execute_result"
        }
      ]
    },
    {
      "cell_type": "markdown",
      "metadata": {
        "id": "9agfXML-oXYB"
      },
      "source": [
        "Keep in mind that, unlike Python lists, NumPy arrays have a fixed type.\n",
        "This means, for example, that if you attempt to insert a floating-point value to an integer array, the value will be silently truncated. Don't be caught unaware by this behavior!"
      ]
    },
    {
      "cell_type": "code",
      "metadata": {
        "id": "iMMjcGipoXYC",
        "outputId": "2c9bc44a-864b-426b-ed95-bc59dcdc963d"
      },
      "source": [
        "x1[0] = 3.14159  # this will be truncated!\n",
        "x1"
      ],
      "execution_count": null,
      "outputs": [
        {
          "data": {
            "text/plain": [
              "array([3, 0, 3, 3, 7, 9])"
            ]
          },
          "execution_count": 52,
          "metadata": {},
          "output_type": "execute_result"
        }
      ]
    },
    {
      "cell_type": "markdown",
      "metadata": {
        "id": "fE9aUF7roXYD"
      },
      "source": [
        "#### Array Slicing: Accessing Subarrays\n",
        "\n",
        "Just as we can use square brackets to access individual array elements, we can also use them to access subarrays with the *slice* notation, marked by the colon (``:``) character.\n",
        "The NumPy slicing syntax follows that of the standard Python list; to access a slice of an array ``x``, use this:\n",
        "``` python\n",
        "x[start:stop:step]\n",
        "```\n",
        "If any of these are unspecified, they default to the values ``start=0``, ``stop=``*``size of dimension``*, ``step=1``.\n",
        "We'll take a look at accessing sub-arrays in one dimension and in multiple dimensions."
      ]
    },
    {
      "cell_type": "markdown",
      "metadata": {
        "id": "o2n4zgTFoXYD"
      },
      "source": [
        "##### One-dimensional subarrays"
      ]
    },
    {
      "cell_type": "code",
      "metadata": {
        "id": "YyFWYJ2qoXYE",
        "outputId": "77365ab8-462c-44b2-b433-719c1a43a094"
      },
      "source": [
        "x = np.arange(10)\n",
        "x"
      ],
      "execution_count": null,
      "outputs": [
        {
          "data": {
            "text/plain": [
              "array([0, 1, 2, 3, 4, 5, 6, 7, 8, 9])"
            ]
          },
          "execution_count": 53,
          "metadata": {},
          "output_type": "execute_result"
        }
      ]
    },
    {
      "cell_type": "code",
      "metadata": {
        "id": "JtTlfD__oXYE",
        "outputId": "54a54e09-05c5-4899-8287-88d0ee7f2957"
      },
      "source": [
        "x[:5]  # first five elements"
      ],
      "execution_count": null,
      "outputs": [
        {
          "data": {
            "text/plain": [
              "array([0, 1, 2, 3, 4])"
            ]
          },
          "execution_count": 54,
          "metadata": {},
          "output_type": "execute_result"
        }
      ]
    },
    {
      "cell_type": "code",
      "metadata": {
        "id": "YWdDniwwoXYF",
        "outputId": "a49f34a7-c83d-4681-a559-2d8604f0a5bb"
      },
      "source": [
        "x[5:]  # elements after index 5"
      ],
      "execution_count": null,
      "outputs": [
        {
          "data": {
            "text/plain": [
              "array([5, 6, 7, 8, 9])"
            ]
          },
          "execution_count": 55,
          "metadata": {},
          "output_type": "execute_result"
        }
      ]
    },
    {
      "cell_type": "code",
      "metadata": {
        "id": "nb0f-YEaoXYH",
        "outputId": "3cf6791e-7d18-42d4-f6db-18a2832591a1"
      },
      "source": [
        "x[4:7]  # middle sub-array"
      ],
      "execution_count": null,
      "outputs": [
        {
          "data": {
            "text/plain": [
              "array([4, 5, 6])"
            ]
          },
          "execution_count": 56,
          "metadata": {},
          "output_type": "execute_result"
        }
      ]
    },
    {
      "cell_type": "code",
      "metadata": {
        "id": "yIdqPwAKoXYJ",
        "outputId": "2effa93b-a534-4bd9-a4df-535687fcc0af"
      },
      "source": [
        "x[::2]  # every other element"
      ],
      "execution_count": null,
      "outputs": [
        {
          "data": {
            "text/plain": [
              "array([0, 2, 4, 6, 8])"
            ]
          },
          "execution_count": 57,
          "metadata": {},
          "output_type": "execute_result"
        }
      ]
    },
    {
      "cell_type": "code",
      "metadata": {
        "id": "ByqzR6PgoXYJ",
        "outputId": "a51c0c61-fddd-461a-d66e-3e0689a885fd"
      },
      "source": [
        "x[1::2]  # every other element, starting at index 1"
      ],
      "execution_count": null,
      "outputs": [
        {
          "data": {
            "text/plain": [
              "array([1, 3, 5, 7, 9])"
            ]
          },
          "execution_count": 58,
          "metadata": {},
          "output_type": "execute_result"
        }
      ]
    },
    {
      "cell_type": "markdown",
      "metadata": {
        "id": "AzjAyX5_oXYJ"
      },
      "source": [
        "A potentially confusing case is when the ``step`` value is negative.\n",
        "In this case, the defaults for ``start`` and ``stop`` are swapped.\n",
        "This becomes a convenient way to reverse an array:"
      ]
    },
    {
      "cell_type": "code",
      "metadata": {
        "id": "IAwzTDXzoXYK",
        "outputId": "7b672815-2ff3-43fd-b75d-1a7c4cdf4fa3"
      },
      "source": [
        "x[::-1]  # all elements, reversed"
      ],
      "execution_count": null,
      "outputs": [
        {
          "data": {
            "text/plain": [
              "array([9, 8, 7, 6, 5, 4, 3, 2, 1, 0])"
            ]
          },
          "execution_count": 59,
          "metadata": {},
          "output_type": "execute_result"
        }
      ]
    },
    {
      "cell_type": "code",
      "metadata": {
        "id": "3R0KMaRVoXYL",
        "outputId": "3ad201d7-850e-4fe0-9888-e6a9370ca771"
      },
      "source": [
        "x[5::-2]  # reversed every other from index 5"
      ],
      "execution_count": null,
      "outputs": [
        {
          "data": {
            "text/plain": [
              "array([5, 3, 1])"
            ]
          },
          "execution_count": 60,
          "metadata": {},
          "output_type": "execute_result"
        }
      ]
    },
    {
      "cell_type": "markdown",
      "metadata": {
        "id": "DAW4hz8LoXYM"
      },
      "source": [
        "##### Multi-dimensional subarrays\n",
        "\n",
        "Multi-dimensional slices work in the same way, with multiple slices separated by commas.\n",
        "For example:"
      ]
    },
    {
      "cell_type": "code",
      "metadata": {
        "id": "iCMGdJE7oXYN",
        "outputId": "02beed22-0184-45f4-bef6-32b39e5d154c"
      },
      "source": [
        "x2"
      ],
      "execution_count": null,
      "outputs": [
        {
          "data": {
            "text/plain": [
              "array([[12,  5,  2,  4],\n",
              "       [ 7,  6,  8,  8],\n",
              "       [ 1,  6,  7,  7]])"
            ]
          },
          "execution_count": 61,
          "metadata": {},
          "output_type": "execute_result"
        }
      ]
    },
    {
      "cell_type": "code",
      "metadata": {
        "id": "_GVuotlwoXYO",
        "outputId": "22b09e2c-c5af-4f8a-9bd7-62515a872d99"
      },
      "source": [
        "x2[:2, :3]  # two rows, three columns"
      ],
      "execution_count": null,
      "outputs": [
        {
          "data": {
            "text/plain": [
              "array([[12,  5,  2],\n",
              "       [ 7,  6,  8]])"
            ]
          },
          "execution_count": 62,
          "metadata": {},
          "output_type": "execute_result"
        }
      ]
    },
    {
      "cell_type": "code",
      "metadata": {
        "id": "ZEtTtKnvoXYQ",
        "outputId": "ab4b1e20-88ca-4709-ec5e-d4f0fba70235"
      },
      "source": [
        "x2[:3, ::2]  # all rows, every other column"
      ],
      "execution_count": null,
      "outputs": [
        {
          "data": {
            "text/plain": [
              "array([[12,  2],\n",
              "       [ 7,  8],\n",
              "       [ 1,  7]])"
            ]
          },
          "execution_count": 63,
          "metadata": {},
          "output_type": "execute_result"
        }
      ]
    },
    {
      "cell_type": "markdown",
      "metadata": {
        "id": "FJrR7gmtoXYR"
      },
      "source": [
        "Finally, subarray dimensions can even be reversed together:"
      ]
    },
    {
      "cell_type": "code",
      "metadata": {
        "id": "K_PfzyoroXYS",
        "outputId": "8ad48b3e-9679-4c4f-bb51-76e86bd16848"
      },
      "source": [
        "x2[::-1, ::-1]"
      ],
      "execution_count": null,
      "outputs": [
        {
          "data": {
            "text/plain": [
              "array([[ 7,  7,  6,  1],\n",
              "       [ 8,  8,  6,  7],\n",
              "       [ 4,  2,  5, 12]])"
            ]
          },
          "execution_count": 64,
          "metadata": {},
          "output_type": "execute_result"
        }
      ]
    },
    {
      "cell_type": "markdown",
      "metadata": {
        "id": "66n7Cz3yoXYS"
      },
      "source": [
        "#### Accessing array rows and columns\n",
        "\n",
        "One commonly needed routine is accessing of single rows or columns of an array.\n",
        "This can be done by combining indexing and slicing, using an empty slice marked by a single colon (``:``):"
      ]
    },
    {
      "cell_type": "code",
      "metadata": {
        "id": "hoaJwxJKoXYT",
        "outputId": "b74ff399-2fa9-401b-9fdd-c7cef7800150"
      },
      "source": [
        "print(x2[:, 0])  # first column of x2"
      ],
      "execution_count": null,
      "outputs": [
        {
          "name": "stdout",
          "output_type": "stream",
          "text": [
            "[12  7  1]\n"
          ]
        }
      ]
    },
    {
      "cell_type": "code",
      "metadata": {
        "id": "rGaBLpE3oXYT",
        "outputId": "18c203d4-8ec8-4e5c-82ad-07bbe0d427cb"
      },
      "source": [
        "print(x2[0, :])  # first row of x2"
      ],
      "execution_count": null,
      "outputs": [
        {
          "name": "stdout",
          "output_type": "stream",
          "text": [
            "[12  5  2  4]\n"
          ]
        }
      ]
    },
    {
      "cell_type": "markdown",
      "metadata": {
        "id": "bB42MXS2oXYU"
      },
      "source": [
        "In the case of row access, the empty slice can be omitted for a more compact syntax:"
      ]
    },
    {
      "cell_type": "code",
      "metadata": {
        "id": "ivUY1K1ooXYU",
        "outputId": "30c2ce3b-9e4d-4501-c52a-2eeeedc8de0e"
      },
      "source": [
        "print(x2[0])  # equivalent to x2[0, :]"
      ],
      "execution_count": null,
      "outputs": [
        {
          "name": "stdout",
          "output_type": "stream",
          "text": [
            "[12  5  2  4]\n"
          ]
        }
      ]
    },
    {
      "cell_type": "markdown",
      "metadata": {
        "id": "KSsufqIkoXYV"
      },
      "source": [
        "#### Subarrays as no-copy views\n",
        "\n",
        "One important–and extremely useful–thing to know about array slices is that they return *views* rather than *copies* of the array data.\n",
        "This is one area in which NumPy array slicing differs from Python list slicing: in lists, slices will be copies.\n",
        "Consider our two-dimensional array from before:"
      ]
    },
    {
      "cell_type": "code",
      "metadata": {
        "id": "j93xjszFoXYW",
        "outputId": "089577e5-add1-4ead-9f2b-adaf817fbed4"
      },
      "source": [
        "print(x2)"
      ],
      "execution_count": null,
      "outputs": [
        {
          "name": "stdout",
          "output_type": "stream",
          "text": [
            "[[12  5  2  4]\n",
            " [ 7  6  8  8]\n",
            " [ 1  6  7  7]]\n"
          ]
        }
      ]
    },
    {
      "cell_type": "markdown",
      "metadata": {
        "id": "JS7NqXGzoXYW"
      },
      "source": [
        "Let's extract a $2 \\times 2$ subarray from this:"
      ]
    },
    {
      "cell_type": "code",
      "metadata": {
        "id": "nKc-er5ToXYX",
        "outputId": "be46d0b8-cbd0-4d20-c9da-872278ff36a4"
      },
      "source": [
        "x2_sub = x2[:2, :2]\n",
        "print(x2_sub)"
      ],
      "execution_count": null,
      "outputs": [
        {
          "name": "stdout",
          "output_type": "stream",
          "text": [
            "[[12  5]\n",
            " [ 7  6]]\n"
          ]
        }
      ]
    },
    {
      "cell_type": "markdown",
      "metadata": {
        "id": "vw_1DbpKoXYY"
      },
      "source": [
        "Now if we modify this subarray, we'll see that the original array is changed! Observe:"
      ]
    },
    {
      "cell_type": "code",
      "metadata": {
        "id": "WxNLf6DcoXYY",
        "outputId": "97a82bd3-0a87-46af-df54-4a59b1f47f66"
      },
      "source": [
        "x2_sub[0, 0] = 99\n",
        "print(x2_sub)"
      ],
      "execution_count": null,
      "outputs": [
        {
          "name": "stdout",
          "output_type": "stream",
          "text": [
            "[[99  5]\n",
            " [ 7  6]]\n"
          ]
        }
      ]
    },
    {
      "cell_type": "code",
      "metadata": {
        "id": "0zbNukjboXYY",
        "outputId": "50f2cfd9-9e8c-41ce-b412-d29f9aac8988"
      },
      "source": [
        "print(x2)"
      ],
      "execution_count": null,
      "outputs": [
        {
          "name": "stdout",
          "output_type": "stream",
          "text": [
            "[[99  5  2  4]\n",
            " [ 7  6  8  8]\n",
            " [ 1  6  7  7]]\n"
          ]
        }
      ]
    },
    {
      "cell_type": "markdown",
      "metadata": {
        "id": "xVto04wzoXYZ"
      },
      "source": [
        "This default behavior is actually quite useful: it means that when we work with large datasets, we can access and process pieces of these datasets without the need to copy the underlying data buffer."
      ]
    },
    {
      "cell_type": "markdown",
      "metadata": {
        "id": "T0it4JjZoXYa"
      },
      "source": [
        "#### Creating copies of arrays\n",
        "\n",
        "Despite the nice features of array views, it is sometimes useful to instead explicitly copy the data within an array or a subarray. This can be most easily done with the ``copy()`` method:"
      ]
    },
    {
      "cell_type": "code",
      "metadata": {
        "id": "EFIBTaehoXYb",
        "outputId": "83e22d9c-5d5e-43d0-d29b-b2270c0c2c39"
      },
      "source": [
        "x2_sub_copy = x2[:2, :2].copy()\n",
        "print(x2_sub_copy)"
      ],
      "execution_count": null,
      "outputs": [
        {
          "name": "stdout",
          "output_type": "stream",
          "text": [
            "[[99  5]\n",
            " [ 7  6]]\n"
          ]
        }
      ]
    },
    {
      "cell_type": "markdown",
      "metadata": {
        "id": "FupMPXH7oXYc"
      },
      "source": [
        "If we now modify this subarray, the original array is not touched:"
      ]
    },
    {
      "cell_type": "code",
      "metadata": {
        "id": "9FWyYcWQoXYd",
        "outputId": "bc5e52dc-9b6e-4d55-c1b5-84286262f996"
      },
      "source": [
        "x2_sub_copy[0, 0] = 42\n",
        "print(x2_sub_copy)"
      ],
      "execution_count": null,
      "outputs": [
        {
          "name": "stdout",
          "output_type": "stream",
          "text": [
            "[[42  5]\n",
            " [ 7  6]]\n"
          ]
        }
      ]
    },
    {
      "cell_type": "code",
      "metadata": {
        "id": "hthEBFGIoXYe",
        "outputId": "dc3df98f-ddf4-4926-b41f-d84324b29050"
      },
      "source": [
        "print(x2)"
      ],
      "execution_count": null,
      "outputs": [
        {
          "name": "stdout",
          "output_type": "stream",
          "text": [
            "[[99  5  2  4]\n",
            " [ 7  6  8  8]\n",
            " [ 1  6  7  7]]\n"
          ]
        }
      ]
    },
    {
      "cell_type": "markdown",
      "metadata": {
        "id": "5gM6EwOAoXYf"
      },
      "source": [
        "#### Reshaping of Arrays\n",
        "\n",
        "Another useful type of operation is reshaping of arrays.\n",
        "The most flexible way of doing this is with the ``reshape`` method.\n",
        "For example, if you want to put the numbers 1 through 9 in a $3 \\times 3$ grid, you can do the following:"
      ]
    },
    {
      "cell_type": "code",
      "metadata": {
        "id": "VR8ztKx6oXYg",
        "outputId": "05aea75a-df73-4522-ed09-701a09d5b860"
      },
      "source": [
        "grid = np.arange(1, 10).reshape((3, 3))\n",
        "print(grid)"
      ],
      "execution_count": null,
      "outputs": [
        {
          "name": "stdout",
          "output_type": "stream",
          "text": [
            "[[1 2 3]\n",
            " [4 5 6]\n",
            " [7 8 9]]\n"
          ]
        }
      ]
    },
    {
      "cell_type": "markdown",
      "metadata": {
        "id": "pMJy4NOjoXYh"
      },
      "source": [
        "Note that for this to work, the size of the initial array must match the size of the reshaped array. \n",
        "Where possible, the ``reshape`` method will use a no-copy view of the initial array, but with non-contiguous memory buffers this is not always the case.\n",
        "\n",
        "Another common reshaping pattern is the conversion of a one-dimensional array into a two-dimensional row or column matrix.\n",
        "This can be done with the ``reshape`` method, or more easily done by making use of the ``newaxis`` keyword within a slice operation:"
      ]
    },
    {
      "cell_type": "code",
      "metadata": {
        "id": "jvckay1ToXYi",
        "outputId": "18729aec-1d86-4e94-dc97-4fb0975ad0aa"
      },
      "source": [
        "x = np.array([1, 2, 3])\n",
        "\n",
        "# row vector via reshape\n",
        "x.reshape((1, 3))"
      ],
      "execution_count": null,
      "outputs": [
        {
          "data": {
            "text/plain": [
              "array([[1, 2, 3]])"
            ]
          },
          "execution_count": 76,
          "metadata": {},
          "output_type": "execute_result"
        }
      ]
    },
    {
      "cell_type": "code",
      "metadata": {
        "id": "AaoDq_dmoXYj",
        "outputId": "91ee0374-7245-4f86-9df2-aca744ccdbd7"
      },
      "source": [
        "# row vector via newaxis\n",
        "x[np.newaxis, :]"
      ],
      "execution_count": null,
      "outputs": [
        {
          "data": {
            "text/plain": [
              "array([[1, 2, 3]])"
            ]
          },
          "execution_count": 77,
          "metadata": {},
          "output_type": "execute_result"
        }
      ]
    },
    {
      "cell_type": "code",
      "metadata": {
        "id": "6a4YTp7joXYk",
        "outputId": "1b6a33d4-ed16-4c1b-c002-971f9ca5ac21"
      },
      "source": [
        "# column vector via reshape\n",
        "x.reshape((3, 1))"
      ],
      "execution_count": null,
      "outputs": [
        {
          "data": {
            "text/plain": [
              "array([[1],\n",
              "       [2],\n",
              "       [3]])"
            ]
          },
          "execution_count": 78,
          "metadata": {},
          "output_type": "execute_result"
        }
      ]
    },
    {
      "cell_type": "code",
      "metadata": {
        "id": "nFvRN06noXYl",
        "outputId": "5af1c673-6abf-40ce-a816-a0ae63a6fec8"
      },
      "source": [
        "# column vector via newaxis\n",
        "x[:, np.newaxis]"
      ],
      "execution_count": null,
      "outputs": [
        {
          "data": {
            "text/plain": [
              "array([[1],\n",
              "       [2],\n",
              "       [3]])"
            ]
          },
          "execution_count": 79,
          "metadata": {},
          "output_type": "execute_result"
        }
      ]
    },
    {
      "cell_type": "markdown",
      "metadata": {
        "id": "IN8MIZYToXYm"
      },
      "source": [
        "### Some Numpy Special Arrays"
      ]
    },
    {
      "cell_type": "markdown",
      "metadata": {
        "id": "hPu2FQZjoXYm"
      },
      "source": [
        "#### Numpy Zeros: numpy.zeros()\n",
        "\n",
        "Numpy zeros function returns a numpy array of only zeros with specified shape and data type.\n",
        "Syntax\n",
        "\n",
        "                                zeros(shape, dtype=float, order='C')\n",
        "                         \n",
        "   1. shape – This is the shape of the required array, input has to be an int or a tuple of int.\n",
        "   2. dtype (optional) – This is the required data type of the array, by default it is float.\n",
        "   3. order (optional) – This specifies how the array will be stored in the memory. It can be either ‘C’ for row-major or ‘F’ for column-major. By default, it is ‘C’.\n",
        "                      "
      ]
    },
    {
      "cell_type": "code",
      "metadata": {
        "id": "TUKB_dJMoXYn",
        "outputId": "27cee3c3-5d48-4be8-b057-da06fe199ed6"
      },
      "source": [
        "\n",
        "# Notice that we did not specify the data type, so by default, it assumed float.\n",
        "# 1-D Array\n",
        "np_1d_zero_array = np.zeros(4)\n",
        "\n",
        "print('Output- ')\n",
        "print(np_1d_zero_array)\n",
        "print('Shape- ', np_1d_zero_array.shape)\n",
        "print('Data type -', np_1d_zero_array.dtype)\n",
        "\n",
        "\n",
        "\n",
        "print(\"======================================================\")\n",
        "\n",
        "\n",
        "# 2-D Array\n",
        "np_2d_zero_array = np.zeros((4,2))\n",
        "\n",
        "print('Output- ')\n",
        "print(np_2d_zero_array)\n",
        "print('Shape- ', np_2d_zero_array.shape)\n",
        "print('Data type -', np_2d_zero_array.dtype)\n",
        "\n",
        "\n",
        "print(\"======================================================\")\n",
        "\n",
        "\n",
        "\n",
        "# 3-D Array\n",
        "np_3d_zero_array = np.zeros((4,2,3), int)\n",
        "\n",
        "print('Output- ')\n",
        "print(np_3d_zero_array)\n",
        "print('Shape- ', np_3d_zero_array.shape)\n",
        "print('Data type -', np_3d_zero_array.dtype)"
      ],
      "execution_count": null,
      "outputs": [
        {
          "name": "stdout",
          "output_type": "stream",
          "text": [
            "Output- \n",
            "[0. 0. 0. 0.]\n",
            "Shape-  (4,)\n",
            "Data type - float64\n",
            "======================================================\n",
            "Output- \n",
            "[[0. 0.]\n",
            " [0. 0.]\n",
            " [0. 0.]\n",
            " [0. 0.]]\n",
            "Shape-  (4, 2)\n",
            "Data type - float64\n",
            "======================================================\n",
            "Output- \n",
            "[[[0 0 0]\n",
            "  [0 0 0]]\n",
            "\n",
            " [[0 0 0]\n",
            "  [0 0 0]]\n",
            "\n",
            " [[0 0 0]\n",
            "  [0 0 0]]\n",
            "\n",
            " [[0 0 0]\n",
            "  [0 0 0]]]\n",
            "Shape-  (4, 2, 3)\n",
            "Data type - int64\n"
          ]
        }
      ]
    },
    {
      "cell_type": "markdown",
      "metadata": {
        "id": "pdGUVKAHoXYo"
      },
      "source": [
        "#### Numpy Ones: numpy.ones()\n",
        "\n",
        "This is very similar to Numpy Zero. Here Numpy zeros function returns a numpy array of only ones with specified shape and data type.\n",
        "\n",
        "Syntax\n",
        "\n",
        "                              ones(shape, dtype=float, order=’C’)"
      ]
    },
    {
      "cell_type": "code",
      "metadata": {
        "id": "U1Hf8lkgoXYo",
        "outputId": "5ba9e904-c950-4ad0-a1a6-92b5696e5dd1"
      },
      "source": [
        "# 1-D Array\n",
        "np_1d_ones_array = np.ones(4,int)\n",
        "\n",
        "print('Output- ')\n",
        "print(np_1d_ones_array)\n",
        "print('Shape- ', np_1d_ones_array.shape)\n",
        "print('Data type -', np_1d_ones_array.dtype)\n",
        "\n",
        "\n",
        "print(\"======================================================\")\n",
        "\n",
        "\n",
        "# 2-D Array\n",
        "np_2d_ones_array = np.ones((4,2))\n",
        "\n",
        "print('Output- ')\n",
        "print(np_2d_ones_array)\n",
        "print('Shape- ', np_2d_ones_array.shape)\n",
        "print('Data type -', np_2d_ones_array.dtype)\n",
        "\n",
        "\n",
        "\n",
        "\n",
        "# 3-D Array\n",
        "np_3d_ones_array = np.ones((4,2,3))\n",
        "\n",
        "print('Output- ')\n",
        "print(np_3d_ones_array)\n",
        "print('Shape- ', np_3d_ones_array.shape)\n",
        "print('Data type -', np_3d_ones_array.dtype)"
      ],
      "execution_count": null,
      "outputs": [
        {
          "name": "stdout",
          "output_type": "stream",
          "text": [
            "Output- \n",
            "[1 1 1 1]\n",
            "Shape-  (4,)\n",
            "Data type - int64\n",
            "======================================================\n",
            "Output- \n",
            "[[1. 1.]\n",
            " [1. 1.]\n",
            " [1. 1.]\n",
            " [1. 1.]]\n",
            "Shape-  (4, 2)\n",
            "Data type - float64\n",
            "Output- \n",
            "[[[1. 1. 1.]\n",
            "  [1. 1. 1.]]\n",
            "\n",
            " [[1. 1. 1.]\n",
            "  [1. 1. 1.]]\n",
            "\n",
            " [[1. 1. 1.]\n",
            "  [1. 1. 1.]]\n",
            "\n",
            " [[1. 1. 1.]\n",
            "  [1. 1. 1.]]]\n",
            "Shape-  (4, 2, 3)\n",
            "Data type - float64\n"
          ]
        }
      ]
    },
    {
      "cell_type": "markdown",
      "metadata": {
        "id": "IUGt5o63oXYq"
      },
      "source": [
        "#### Numpy Eye: numpy.eye()\n",
        "\n",
        "Numpy eye function helps to create a 2-D array where the diagonal has all ones and zeros elsewhere.\n",
        "Syntax\n",
        "\n",
        "                            eye(N, M=None, k=0, dtype='float', order='C')\n",
        "                            \n",
        "   1. N – It is the number of rows in the array. It has to be int.\n",
        "   2. M (optional) – It is the number of columns in the array. If not specified then it will default to N.\n",
        "   3. K (optional) – It denotes the position of diagonal ones. By default is zero i.e. in middle. A positive value denotes upper diagonal and negative value lower diagonal.\n",
        "   4. dtype (optional) – This is the required data type of the array, by default it is float.\n",
        "   5. order (optional) – This specifies how the array will be stored in the memory. It can be either ‘C’ for row-major or ‘F’ for column-major. By default, it is ‘C’.                       "
      ]
    },
    {
      "cell_type": "code",
      "metadata": {
        "id": "Ulcr_WoqoXYq",
        "outputId": "0ce1f248-4db9-4fee-e621-d8d18a163ec5"
      },
      "source": [
        "np_identity_matrix_oder_4 = np.eye(4)\n",
        "\n",
        "print('Output- ')\n",
        "print(np_identity_matrix_oder_4)\n",
        "print('Shape- ', np_identity_matrix_oder_4.shape)\n",
        "print('Data type -', np_identity_matrix_oder_4.dtype)"
      ],
      "execution_count": null,
      "outputs": [
        {
          "name": "stdout",
          "output_type": "stream",
          "text": [
            "Output- \n",
            "[[1. 0. 0. 0.]\n",
            " [0. 1. 0. 0.]\n",
            " [0. 0. 1. 0.]\n",
            " [0. 0. 0. 1.]]\n",
            "Shape-  (4, 4)\n",
            "Data type - float64\n"
          ]
        }
      ]
    },
    {
      "cell_type": "markdown",
      "metadata": {
        "id": "dZ9n6Y9IoXYq"
      },
      "source": [
        "##### Miscellaneous Examples of Numpy Eye"
      ]
    },
    {
      "cell_type": "code",
      "metadata": {
        "id": "eOyZGtEIoXYs",
        "outputId": "f2f61ce8-4461-44f0-aa50-2e91ed14d42a"
      },
      "source": [
        "\n",
        "np.eye(4, 5)"
      ],
      "execution_count": null,
      "outputs": [
        {
          "data": {
            "text/plain": [
              "array([[1., 0., 0., 0., 0.],\n",
              "       [0., 1., 0., 0., 0.],\n",
              "       [0., 0., 1., 0., 0.],\n",
              "       [0., 0., 0., 1., 0.]])"
            ]
          },
          "execution_count": 83,
          "metadata": {},
          "output_type": "execute_result"
        }
      ]
    },
    {
      "cell_type": "code",
      "metadata": {
        "id": "oRgBhaLLoXYt",
        "outputId": "9b2a8af1-8b78-4bfd-80a2-c69c7b7b103f"
      },
      "source": [
        "np.eye(4, 5, k = 2)"
      ],
      "execution_count": null,
      "outputs": [
        {
          "data": {
            "text/plain": [
              "array([[0., 0., 1., 0., 0.],\n",
              "       [0., 0., 0., 1., 0.],\n",
              "       [0., 0., 0., 0., 1.],\n",
              "       [0., 0., 0., 0., 0.]])"
            ]
          },
          "execution_count": 84,
          "metadata": {},
          "output_type": "execute_result"
        }
      ]
    },
    {
      "cell_type": "markdown",
      "metadata": {
        "id": "edWnrZTpoXYu"
      },
      "source": [
        "### NumPy Arrays using the function empty()\n",
        "\n",
        "The `empty()` function is used to create arrays when we don't really have any values to create an array. What it does is, it takes the shape of the array as desired and the array is then filled with random values. The trick here is that without even using the random module we are able to build an array full of random values: `empty(shape, dtype)`"
      ]
    },
    {
      "cell_type": "code",
      "metadata": {
        "id": "3o9XyaRYoXYw",
        "outputId": "cbb803f6-b3ef-4bf3-b8a3-ef91ae6c271a"
      },
      "source": [
        "# arr of shape (5,2) with datatype=float filled with random values\n",
        "empty_arr = np.empty((5,2), dtype=float) \n",
        "print(\"Array with Float values\\n\", empty_arr)\n",
        "print(\"======================================\")\n",
        "\n",
        "\n",
        "\n",
        "# observe what happens when executed\n",
        "empty_arr1 = np.empty((4,4), dtype=int) \n",
        "print(\"Second Array \\n\", empty_arr1)"
      ],
      "execution_count": null,
      "outputs": [
        {
          "name": "stdout",
          "output_type": "stream",
          "text": [
            "Array with Float values\n",
            " [[15.         21.66666667]\n",
            " [28.33333333 35.        ]\n",
            " [41.66666667 48.33333333]\n",
            " [55.         61.66666667]\n",
            " [68.33333333 75.        ]]\n",
            "======================================\n",
            "Second Array \n",
            " [[4607182418800017408                   0                   0\n",
            "                    0]\n",
            " [                  0 4607182418800017408                   0\n",
            "                    0]\n",
            " [                  0                   0 4607182418800017408\n",
            "                    0]\n",
            " [                  0                   0                   0\n",
            "  4607182418800017408]]\n"
          ]
        }
      ]
    },
    {
      "cell_type": "markdown",
      "metadata": {
        "id": "mcCJEkPloXYy"
      },
      "source": [
        "## Operations on Arrays\n",
        "\n",
        "### Array Concatenation and Splitting\n",
        "\n",
        "All of the preceding routines worked on single arrays. It's also possible to combine multiple arrays into one, and to conversely split a single array into multiple arrays. We'll take a look at those operations here.\n",
        "\n",
        "#### Concatenation of arrays\n",
        "\n",
        "Concatenation, or joining of two arrays in NumPy, is primarily accomplished using the routines ``np.concatenate``, ``np.vstack``, and ``np.hstack``.\n",
        "``np.concatenate`` takes a tuple or list of arrays as its first argument, as we can see here:"
      ]
    },
    {
      "cell_type": "code",
      "metadata": {
        "id": "oceVmZxmoXYz",
        "outputId": "664aa35d-386d-4f28-9092-7af5f1595019"
      },
      "source": [
        "x = np.array([1, 2, 3])\n",
        "y = np.array([3, 2, 1])\n",
        "print(np.concatenate([x, y]))\n",
        "\n",
        "print(\"========================================\")\n",
        "\n",
        "# You can also concatenate more than two arrays at once:\n",
        "z = [99, 99, 99]\n",
        "print(np.concatenate([x, y, z]))\n",
        "print(\"========================================\")\n",
        "\n",
        "\n",
        "\n",
        "#It can also be used for two-dimensional arrays:\n",
        "grid = np.array([[1, 2, 3],[4, 5, 6]])\n",
        "\n",
        "# concatenate along the first axis\n",
        "print(np.concatenate([grid, grid]))\n",
        "print(\"========================================\")\n",
        "\n",
        "\n",
        "# concatenate along the second axis (zero-indexed)\n",
        "print(np.concatenate([grid, grid], axis=1))"
      ],
      "execution_count": null,
      "outputs": [
        {
          "name": "stdout",
          "output_type": "stream",
          "text": [
            "[1 2 3 3 2 1]\n",
            "========================================\n",
            "[ 1  2  3  3  2  1 99 99 99]\n",
            "========================================\n",
            "[[1 2 3]\n",
            " [4 5 6]\n",
            " [1 2 3]\n",
            " [4 5 6]]\n",
            "========================================\n",
            "[[1 2 3 1 2 3]\n",
            " [4 5 6 4 5 6]]\n"
          ]
        }
      ]
    },
    {
      "cell_type": "markdown",
      "metadata": {
        "id": "lGrRpRPioXY1"
      },
      "source": [
        "For working with arrays of mixed dimensions, it can be clearer to use the ``np.vstack`` (vertical stack) and ``np.hstack`` (horizontal stack) functions:"
      ]
    },
    {
      "cell_type": "code",
      "metadata": {
        "id": "2e4U4vhmoXY5",
        "outputId": "7503b0e8-9f51-4a32-f04c-18c2d51c0129"
      },
      "source": [
        "x = np.array([1, 2, 3])\n",
        "grid = np.array([[9, 8, 7],\n",
        "                 [6, 5, 4]])\n",
        "\n",
        "# vertically stack the arrays\n",
        "np.vstack([x, grid])"
      ],
      "execution_count": null,
      "outputs": [
        {
          "data": {
            "text/plain": [
              "array([[1, 2, 3],\n",
              "       [9, 8, 7],\n",
              "       [6, 5, 4]])"
            ]
          },
          "execution_count": 87,
          "metadata": {},
          "output_type": "execute_result"
        }
      ]
    },
    {
      "cell_type": "code",
      "metadata": {
        "id": "35maFi65oXY6",
        "outputId": "eed98a3c-adbd-4a9f-931c-9bdaaa57e157"
      },
      "source": [
        "# horizontally stack the arrays\n",
        "y = np.array([[99],\n",
        "              [99]])\n",
        "np.hstack([grid, y])"
      ],
      "execution_count": null,
      "outputs": [
        {
          "data": {
            "text/plain": [
              "array([[ 9,  8,  7, 99],\n",
              "       [ 6,  5,  4, 99]])"
            ]
          },
          "execution_count": 88,
          "metadata": {},
          "output_type": "execute_result"
        }
      ]
    },
    {
      "cell_type": "markdown",
      "metadata": {
        "id": "WnrD3hhGoXY6"
      },
      "source": [
        "#### Splitting of arrays\n",
        "\n",
        "The opposite of concatenation is splitting, which is implemented by the functions ``np.split``, ``np.hsplit``, and ``np.vsplit``.  For each of these, we can pass a list of indices giving the split points:"
      ]
    },
    {
      "cell_type": "code",
      "metadata": {
        "id": "7R4llvLFoXY7",
        "outputId": "b3a3eec2-726e-4808-c26f-a0c6a0a34652"
      },
      "source": [
        "x = [1, 2, 3, 99, 99, 3, 2, 1]\n",
        "x1, x2, x3 = np.split(x, [3, 5])\n",
        "print(x1, x2, x3)"
      ],
      "execution_count": null,
      "outputs": [
        {
          "name": "stdout",
          "output_type": "stream",
          "text": [
            "[1 2 3] [99 99] [3 2 1]\n"
          ]
        }
      ]
    },
    {
      "cell_type": "markdown",
      "metadata": {
        "id": "ljN2ddYuoXY7"
      },
      "source": [
        "Notice that *N* split-points, leads to *N + 1* subarrays.\n",
        "The related functions ``np.hsplit`` and ``np.vsplit`` are similar:"
      ]
    },
    {
      "cell_type": "code",
      "metadata": {
        "id": "e3bfE_6foXY7",
        "outputId": "b72e9957-721c-4894-8051-73551af2e971"
      },
      "source": [
        "grid = np.arange(16).reshape((4, 4))\n",
        "grid"
      ],
      "execution_count": null,
      "outputs": [
        {
          "data": {
            "text/plain": [
              "array([[ 0,  1,  2,  3],\n",
              "       [ 4,  5,  6,  7],\n",
              "       [ 8,  9, 10, 11],\n",
              "       [12, 13, 14, 15]])"
            ]
          },
          "execution_count": 90,
          "metadata": {},
          "output_type": "execute_result"
        }
      ]
    },
    {
      "cell_type": "code",
      "metadata": {
        "id": "8r-PfxEHoXY7",
        "outputId": "5bc762d7-b7e7-4065-9abe-44bea27e719b"
      },
      "source": [
        "upper, lower = np.vsplit(grid, [2])\n",
        "print(upper)\n",
        "print(lower)"
      ],
      "execution_count": null,
      "outputs": [
        {
          "name": "stdout",
          "output_type": "stream",
          "text": [
            "[[0 1 2 3]\n",
            " [4 5 6 7]]\n",
            "[[ 8  9 10 11]\n",
            " [12 13 14 15]]\n"
          ]
        }
      ]
    },
    {
      "cell_type": "code",
      "metadata": {
        "id": "pDsmX45noXY8",
        "outputId": "2516e5e8-806b-4545-8414-bf5db2d75b5b"
      },
      "source": [
        "left, right = np.hsplit(grid, [2])\n",
        "print(left)\n",
        "print(right)"
      ],
      "execution_count": null,
      "outputs": [
        {
          "name": "stdout",
          "output_type": "stream",
          "text": [
            "[[ 0  1]\n",
            " [ 4  5]\n",
            " [ 8  9]\n",
            " [12 13]]\n",
            "[[ 2  3]\n",
            " [ 6  7]\n",
            " [10 11]\n",
            " [14 15]]\n"
          ]
        }
      ]
    },
    {
      "cell_type": "markdown",
      "metadata": {
        "id": "HumYP9h_oXY9"
      },
      "source": [
        "Similarly, ``np.dsplit`` will split arrays along the third axis."
      ]
    },
    {
      "cell_type": "markdown",
      "metadata": {
        "id": "yOye2ZqjoXY-"
      },
      "source": [
        "### Numpy Arrays Universal Functions \n",
        "\n",
        "Computation on NumPy arrays can be very fast, or it can be very slow.\n",
        "The key to making it fast is to use *vectorized* operations, generally implemented through NumPy's *universal functions* (ufuncs).\n",
        "This section motivates the need for NumPy's ufuncs, which can be used to make repeated calculations on array elements much more efficient.\n",
        "It then introduces many of the most common and useful arithmetic ufuncs available in the NumPy package.\n",
        "\n",
        "#### Array arithmetic\n",
        "\n",
        "NumPy's ufuncs feel very natural to use because they make use of Python's native arithmetic operators.\n",
        "The standard addition, subtraction, multiplication, and division can all be used:"
      ]
    },
    {
      "cell_type": "code",
      "metadata": {
        "id": "Sjk28cNboXY_",
        "outputId": "65acc21c-f09a-4f6a-bcb0-c6062477cfab"
      },
      "source": [
        "x = np.arange(4)\n",
        "print(\"x     =\", x)\n",
        "print(\"x + 5 =\", x + 5)\n",
        "print(\"x - 5 =\", x - 5)\n",
        "print(\"x * 2 =\", x * 2)\n",
        "print(\"x / 2 =\", x / 2)\n",
        "print(\"x // 2 =\", x // 2)  # floor division"
      ],
      "execution_count": null,
      "outputs": [
        {
          "name": "stdout",
          "output_type": "stream",
          "text": [
            "x     = [0 1 2 3]\n",
            "x + 5 = [5 6 7 8]\n",
            "x - 5 = [-5 -4 -3 -2]\n",
            "x * 2 = [0 2 4 6]\n",
            "x / 2 = [0.  0.5 1.  1.5]\n",
            "x // 2 = [0 0 1 1]\n"
          ]
        }
      ]
    },
    {
      "cell_type": "code",
      "metadata": {
        "id": "AZ61F7YaoXZA",
        "outputId": "6a5deda0-7b3c-4e7b-f3d1-9db55804ea42"
      },
      "source": [
        "# There is also a unary ufunc for negation, \n",
        "# and a ``**`` operator for exponentiation, \n",
        "# and a ``%`` operator for modulus\n",
        "\n",
        "print(\"-x     = \", -x)\n",
        "print(\"x ** 2 = \", x ** 2)\n",
        "print(\"x % 2  = \", x % 2)"
      ],
      "execution_count": null,
      "outputs": [
        {
          "name": "stdout",
          "output_type": "stream",
          "text": [
            "-x     =  [ 0 -1 -2 -3]\n",
            "x ** 2 =  [0 1 4 9]\n",
            "x % 2  =  [0 1 0 1]\n"
          ]
        }
      ]
    },
    {
      "cell_type": "code",
      "metadata": {
        "id": "QyPofr13oXZB",
        "outputId": "56ca2b91-4e42-4ed3-e8b2-c0a00522cffc"
      },
      "source": [
        "# In addition, these can be strung together however you wish,\n",
        "# and the standard order of operations is respected:\n",
        "\n",
        "-(0.5*x + 1) ** 2"
      ],
      "execution_count": null,
      "outputs": [
        {
          "data": {
            "text/plain": [
              "array([-1.  , -2.25, -4.  , -6.25])"
            ]
          },
          "execution_count": 95,
          "metadata": {},
          "output_type": "execute_result"
        }
      ]
    },
    {
      "cell_type": "code",
      "metadata": {
        "id": "NnnEYLpkoXZC",
        "outputId": "6e723963-caf0-4b36-86a9-47bd291e1696"
      },
      "source": [
        "#Each of these arithmetic operations are simply convenient wrappers around specific functions built into NumPy; \n",
        "# for example, the ``+`` operator is a wrapper for the ``add`` function\n",
        "np.add(x, 2)"
      ],
      "execution_count": null,
      "outputs": [
        {
          "data": {
            "text/plain": [
              "array([2, 3, 4, 5])"
            ]
          },
          "execution_count": 96,
          "metadata": {},
          "output_type": "execute_result"
        }
      ]
    },
    {
      "cell_type": "markdown",
      "metadata": {
        "id": "wdLj7mv9oXZD"
      },
      "source": [
        "The following table lists the arithmetic operators implemented in NumPy:\n",
        "\n",
        "| Operator\t    | Equivalent ufunc    | Description                           |\n",
        "|---------------|---------------------|---------------------------------------|\n",
        "|``+``          |``np.add``           |Addition (e.g., ``1 + 1 = 2``)         |\n",
        "|``-``          |``np.subtract``      |Subtraction (e.g., ``3 - 2 = 1``)      |\n",
        "|``-``          |``np.negative``      |Unary negation (e.g., ``-2``)          |\n",
        "|``*``          |``np.multiply``      |Multiplication (e.g., ``2 * 3 = 6``)   |\n",
        "|``/``          |``np.divide``        |Division (e.g., ``3 / 2 = 1.5``)       |\n",
        "|``//``         |``np.floor_divide``  |Floor division (e.g., ``3 // 2 = 1``)  |\n",
        "|``**``         |``np.power``         |Exponentiation (e.g., ``2 ** 3 = 8``)  |\n",
        "|``%``          |``np.mod``           |Modulus/remainder (e.g., ``9 % 4 = 1``)|\n",
        "\n",
        "Additionally there are Boolean/bitwise operators; we will explore these in [Comparisons, Masks, and Boolean Logic]()."
      ]
    },
    {
      "cell_type": "markdown",
      "metadata": {
        "id": "qXJ23Z7noXZD"
      },
      "source": [
        "#### Absolute value\n",
        "\n",
        "Just as NumPy understands Python's built-in arithmetic operators, it also understands Python's built-in absolute value function:"
      ]
    },
    {
      "cell_type": "code",
      "metadata": {
        "id": "cB011dfWoXZE",
        "outputId": "01187422-072a-4be6-bd79-43b30ab9b28b"
      },
      "source": [
        "x = np.array([-2, -1, 0, 1, 2])\n",
        "abs(x)"
      ],
      "execution_count": null,
      "outputs": [
        {
          "data": {
            "text/plain": [
              "array([2, 1, 0, 1, 2])"
            ]
          },
          "execution_count": 97,
          "metadata": {},
          "output_type": "execute_result"
        }
      ]
    },
    {
      "cell_type": "code",
      "metadata": {
        "id": "mMb6aWewoXZE"
      },
      "source": [
        "# The corresponding NumPy ufunc is ``np.absolute``, which is also available under the alias ``np.abs``:"
      ],
      "execution_count": null,
      "outputs": []
    },
    {
      "cell_type": "code",
      "metadata": {
        "id": "s2FvUw4foXZE",
        "outputId": "e5701a94-b51e-4e16-9c39-550123f6c741"
      },
      "source": [
        "print(np.absolute(x))\n",
        "\n",
        "print(\"===============================\")\n",
        "\n",
        "\n",
        "print(np.absolute(x))"
      ],
      "execution_count": null,
      "outputs": [
        {
          "name": "stdout",
          "output_type": "stream",
          "text": [
            "[2 1 0 1 2]\n",
            "===============================\n",
            "[2 1 0 1 2]\n"
          ]
        }
      ]
    },
    {
      "cell_type": "code",
      "metadata": {
        "id": "1NS1bXs0oXZF",
        "outputId": "c2fe0b54-6571-44ca-c4ce-1e7d11de9a2f"
      },
      "source": [
        "# This ufunc can also handle complex data, in which the absolute value returns the magnitude:\n",
        "x = np.array([3 - 4j, 4 - 3j, 2 + 0j, 0 + 1j])\n",
        "np.abs(x)"
      ],
      "execution_count": null,
      "outputs": [
        {
          "data": {
            "text/plain": [
              "array([5., 5., 2., 1.])"
            ]
          },
          "execution_count": 100,
          "metadata": {},
          "output_type": "execute_result"
        }
      ]
    },
    {
      "cell_type": "markdown",
      "metadata": {
        "id": "30axHpU1oXZF"
      },
      "source": [
        "#### Trigonometric functions\n",
        "\n",
        "NumPy provides a large number of useful ufuncs, and some of the most useful for the data scientist are the trigonometric functions.\n",
        "We'll start by defining an array of angles:"
      ]
    },
    {
      "cell_type": "code",
      "metadata": {
        "id": "blubXVbUoXZG",
        "outputId": "3d8e0f8c-f1c3-49b3-b36e-1773d55f72e4"
      },
      "source": [
        "theta = np.linspace(0, np.pi, 3)\n",
        "print(\"theta      = \", theta)\n",
        "print(\"sin(theta) = \", np.sin(theta))\n",
        "print(\"cos(theta) = \", np.cos(theta))\n",
        "print(\"tan(theta) = \", np.tan(theta))"
      ],
      "execution_count": null,
      "outputs": [
        {
          "name": "stdout",
          "output_type": "stream",
          "text": [
            "theta      =  [0.         1.57079633 3.14159265]\n",
            "sin(theta) =  [0.0000000e+00 1.0000000e+00 1.2246468e-16]\n",
            "cos(theta) =  [ 1.000000e+00  6.123234e-17 -1.000000e+00]\n",
            "tan(theta) =  [ 0.00000000e+00  1.63312394e+16 -1.22464680e-16]\n"
          ]
        }
      ]
    },
    {
      "cell_type": "code",
      "metadata": {
        "id": "M-0bdDpeoXZH",
        "outputId": "acc58d58-9ae8-4a0a-e2d9-eaa1a7b19d7a"
      },
      "source": [
        "# The values are computed to within machine precision, which is why values \n",
        "# that should be zero do not always hit exactly zero. \n",
        "#Inverse trigonometric functions are also available:\n",
        "x = [-1, 0, 1]\n",
        "print(\"x         = \", x)\n",
        "print(\"arcsin(x) = \", np.arcsin(x))\n",
        "print(\"arccos(x) = \", np.arccos(x))\n",
        "print(\"arctan(x) = \", np.arctan(x))"
      ],
      "execution_count": null,
      "outputs": [
        {
          "name": "stdout",
          "output_type": "stream",
          "text": [
            "x         =  [-1, 0, 1]\n",
            "arcsin(x) =  [-1.57079633  0.          1.57079633]\n",
            "arccos(x) =  [3.14159265 1.57079633 0.        ]\n",
            "arctan(x) =  [-0.78539816  0.          0.78539816]\n"
          ]
        }
      ]
    },
    {
      "cell_type": "markdown",
      "metadata": {
        "id": "BH_0qEUyoXZH"
      },
      "source": [
        "#### Exponents and logarithms\n",
        "\n",
        "Another common type of operation available in a NumPy ufunc are the exponentials:"
      ]
    },
    {
      "cell_type": "code",
      "metadata": {
        "id": "67eOaBU4oXZI",
        "outputId": "d8c39d7a-2834-4362-801f-6282a64d4860"
      },
      "source": [
        "x = [1, 2, 3]\n",
        "print(\"x     =\", x)\n",
        "print(\"e^x   =\", np.exp(x))\n",
        "print(\"2^x   =\", np.exp2(x))\n",
        "print(\"3^x   =\", np.power(3, x))"
      ],
      "execution_count": null,
      "outputs": [
        {
          "name": "stdout",
          "output_type": "stream",
          "text": [
            "x     = [1, 2, 3]\n",
            "e^x   = [ 2.71828183  7.3890561  20.08553692]\n",
            "2^x   = [2. 4. 8.]\n",
            "3^x   = [ 3  9 27]\n"
          ]
        }
      ]
    },
    {
      "cell_type": "markdown",
      "metadata": {
        "id": "rN-Ewg4ioXZI"
      },
      "source": [
        "The inverse of the exponentials, the logarithms, are also available.\n",
        "The basic ``np.log`` gives the natural logarithm; if you prefer to compute the base-2 logarithm or the base-10 logarithm, these are available as well:"
      ]
    },
    {
      "cell_type": "code",
      "metadata": {
        "id": "BHFFcS6boXZK",
        "outputId": "06bf4afe-7305-4829-dd85-28390aef6d14"
      },
      "source": [
        "x = [1, 2, 4, 10]\n",
        "print(\"x        =\", x)\n",
        "print(\"ln(x)    =\", np.log(x))\n",
        "print(\"log2(x)  =\", np.log2(x))\n",
        "print(\"log10(x) =\", np.log10(x))"
      ],
      "execution_count": null,
      "outputs": [
        {
          "name": "stdout",
          "output_type": "stream",
          "text": [
            "x        = [1, 2, 4, 10]\n",
            "ln(x)    = [0.         0.69314718 1.38629436 2.30258509]\n",
            "log2(x)  = [0.         1.         2.         3.32192809]\n",
            "log10(x) = [0.         0.30103    0.60205999 1.        ]\n"
          ]
        }
      ]
    },
    {
      "cell_type": "markdown",
      "metadata": {
        "id": "dQFLcMN6oXZK"
      },
      "source": [
        "#### Ufuncs: Learning More\n",
        "\n",
        "More information on universal functions (including the full list of available functions) can be found on the [NumPy](http://www.numpy.org) and [SciPy](http://www.scipy.org) documentation websites.\n",
        "\n",
        "Recall that you can also access information directly from within IPython by importing the packages and using IPython's tab-completion and help (``?``) functionality"
      ]
    }
  ]
}