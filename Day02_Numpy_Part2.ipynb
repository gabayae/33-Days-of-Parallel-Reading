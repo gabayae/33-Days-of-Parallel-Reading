{
  "nbformat": 4,
  "nbformat_minor": 0,
  "metadata": {
    "kernelspec": {
      "display_name": "Python 3",
      "language": "python",
      "name": "python3"
    },
    "language_info": {
      "codemirror_mode": {
        "name": "ipython",
        "version": 3
      },
      "file_extension": ".py",
      "mimetype": "text/x-python",
      "name": "python",
      "nbconvert_exporter": "python",
      "pygments_lexer": "ipython3",
      "version": "3.7.3"
    },
    "colab": {
      "name": "Day02-Numpy-Part2.ipynb",
      "provenance": [],
      "include_colab_link": true
    }
  },
  "cells": [
    {
      "cell_type": "markdown",
      "metadata": {
        "id": "view-in-github",
        "colab_type": "text"
      },
      "source": [
        "<a href=\"https://colab.research.google.com/github/gabayae/33-Days-of-Parallel-Reading/blob/main/Day02_Numpy_Part2.ipynb\" target=\"_parent\"><img src=\"https://colab.research.google.com/assets/colab-badge.svg\" alt=\"Open In Colab\"/></a>"
      ]
    },
    {
      "cell_type": "markdown",
      "metadata": {
        "id": "_q9zTxN1xK3r"
      },
      "source": [
        "#    <center> <b> <span style=\"color:orange;\" >  `33 Days of Parallel Reading` </span> </b></center>\n",
        "\n",
        "\n",
        "## <center> <b> <span style=\"color:orange;\"> An initiation to Machine Learning </span> </b></center>\n",
        "\n",
        "### <center> <b> <span style=\"color:blue;\"> A comprehensive guide to Numpy for Data manipulation </span> </b></center>\n",
        "\n",
        "\n",
        "\n",
        "\n",
        "#### Author: [Yaé Ulrich Gaba](https://github.com/gabayae)\n",
        "\n",
        "#### Link to the notebook on the repo: [A comprehensive guide to Numpy](https://github.com/gabayae/-66DaysOfData-KennethJee/edit/main/README.md)"
      ]
    },
    {
      "cell_type": "markdown",
      "metadata": {
        "id": "zf3CgSRVxK3y"
      },
      "source": [
        "## ToC \n",
        "\n",
        "- [NumPy](#NumPy)  \n",
        "  - [Overview](#Overview)  \n",
        "  - [Getting Started](#Getting-Started)\n",
        "    - [Load packages](#Load-packages)\n",
        "    - [Introduction to Numpy](Introduction-to-Numpy)\n",
        "  - [NumPy Arrays](#NumPy-Arrays) \n",
        "    - [NumPy Arrays from Python Lists](#NumPy-Arrays-from-Python-Lists)\n",
        "    - [NumPy Arrays using the function arange()](#NumPy-Arrays-using-the-function-arange())\n",
        "    - [NumPy Arrays using the function linspace()](#NumPy-Arrays-using-the-function-linspace())\n",
        "    - [NumPy Array Attributes](#NumPy-Array-Attributes)\n",
        "    - [Some Numpy Special Arrays](#Some-Numpy-Special-Arrays)\n",
        "    - [NumPy Arrays using the function empty()](#NumPy-Arrays-using-the-function-empty())\n",
        "  - [Operations on Arrays](#Operations-on-Arrays)\n",
        "    - [Array Concatenation and Splitting](#Array-Concatenation-and-Splitting)\n",
        "    - [Numpy Arrays Universal Functions](NumPy-Arrays-Universal-Functions)\n",
        "    - [Aggregation Functions](#Aggregation-Functions)\n",
        "  "
      ]
    },
    {
      "cell_type": "markdown",
      "metadata": {
        "id": "UM3EqyFBxK34"
      },
      "source": [
        "## Overview\n",
        "\n",
        "\n",
        "Data manipulation in Python is nearly synonymous with NumPy array manipulation: even newer tools like Pandas ([next lesson]()) are built around the NumPy array. This notebook will present several examples of using NumPy array manipulation to access data and subarrays, and to split, reshape, and join the arrays. Get to know them well!\n",
        "\n",
        "[NumPy](https://en.wikipedia.org/wiki/NumPy) (pronounced /ˈnʌmpaɪ/ (NUM-py) or sometimes /ˈnʌmpi/ (NUM-pee)) is a library for the Python programming language, adding support for large, multi-dimensional arrays and matrices, along with a large collection of high-level mathematical functions to operate on these arrays.\n",
        "\n",
        "[NumPy](https://en.wikipedia.org/wiki/NumPy) is a first-rate library for numerical programming\n",
        "\n",
        "- Widely used in academia, finance and industry.  \n",
        "- Mature, fast, stable and under continuous development.  "
      ]
    },
    {
      "cell_type": "markdown",
      "metadata": {
        "id": "LzMgELYfxK39"
      },
      "source": [
        "## Getting Started\n",
        "\n",
        "### Load packages\n",
        "\n",
        "In order to be able to use numpy we need to import the library using the special word `import`. Also, to avoid typing `numpy` every time we want to use one if its functions we can provide an alias using the special word `as`:"
      ]
    },
    {
      "cell_type": "code",
      "metadata": {
        "id": "_-9eybIvxK3_"
      },
      "source": [
        "import numpy as np"
      ],
      "execution_count": null,
      "outputs": []
    },
    {
      "cell_type": "markdown",
      "metadata": {
        "id": "HAMzolWGxK4G"
      },
      "source": [
        "### Introduction to Numpy\n",
        "\n",
        "Now, we have access to all the functions available in `numpy` by typing `np.name_of_function`. For example, the equivalent of `1 + 1` in Python can be done in `numpy`:"
      ]
    },
    {
      "cell_type": "code",
      "metadata": {
        "id": "T5qv6jobxK4H"
      },
      "source": [
        "np.add(1,1)"
      ],
      "execution_count": null,
      "outputs": []
    },
    {
      "cell_type": "markdown",
      "metadata": {
        "id": "BCtVjcg5xK4J"
      },
      "source": [
        "Although this might not at first seem very useful, even simple operations like this one can be much quicker in `numpy` than in standard Python when using lots of numbers (large arrays).\n",
        "\n",
        "To access the documentation explaining how a function is used, its input parameters and output format we can press `Shift+Tab` after the function name. Try this in the cell below"
      ]
    },
    {
      "cell_type": "code",
      "metadata": {
        "id": "1awlnqM7xK4L"
      },
      "source": [
        "np.add"
      ],
      "execution_count": null,
      "outputs": []
    },
    {
      "cell_type": "markdown",
      "metadata": {
        "id": "tly1KT2axK4O"
      },
      "source": [
        "## NumPy Arrays\n",
        "\n",
        "The core concept in numpy is the `array` which is equivalent to lists of numbers but can be multidimensional. \n",
        "The essential problem that NumPy solves is fast array processing. The most important structure that NumPy defines is an array data type formally called a [numpy.ndarray](http://docs.scipy.org/doc/numpy/reference/arrays.ndarray.html). NumPy arrays power a large proportion of the scientific Python ecosystem. Let us list ways of creating Numpy arrays one by one, with Examples.\n",
        "\n",
        "\n"
      ]
    },
    {
      "cell_type": "markdown",
      "metadata": {
        "id": "nYoeUiCYxK4Q"
      },
      "source": [
        "### NumPy Arrays from Python Lists"
      ]
    },
    {
      "cell_type": "code",
      "metadata": {
        "id": "gMgu78lHxK4S"
      },
      "source": [
        "# making a python list li\n",
        "li = [8,5,6,9,4,2]\n",
        "\n",
        "\n",
        "# creating array out of it\n",
        "numpy_array_from_list = np.array(li)\n",
        "\n",
        "# printing the array\n",
        "print(numpy_array_from_list)\n"
      ],
      "execution_count": null,
      "outputs": []
    },
    {
      "cell_type": "code",
      "metadata": {
        "id": "cRo_FlRWxK4U"
      },
      "source": [
        "# checking the type of numpy_array_from_list\n",
        "type(numpy_array_from_list)"
      ],
      "execution_count": null,
      "outputs": []
    },
    {
      "cell_type": "markdown",
      "metadata": {
        "id": "bS49JP1QxK4W"
      },
      "source": [
        "We can also pass a list manually without explicitly defining it."
      ]
    },
    {
      "cell_type": "code",
      "metadata": {
        "id": "UaHBsJWUxK4Y"
      },
      "source": [
        "numpy_array_from_list1 = np.array([5,7,4,1,5,6])\n",
        "print(numpy_array_from_list1)"
      ],
      "execution_count": null,
      "outputs": []
    },
    {
      "cell_type": "code",
      "metadata": {
        "id": "P2c-YCM6xK4Z"
      },
      "source": [
        "type(numpy_array_from_list1)"
      ],
      "execution_count": null,
      "outputs": []
    },
    {
      "cell_type": "markdown",
      "metadata": {
        "id": "P-S15USLxK4Z"
      },
      "source": [
        "Other arguments which are optional can also be included while creating the Numpy arrays. One of the optional parameter, that you might find useful is:\n",
        "\n",
        "<b> <span style=\"color:brown;\" >  dtype </span> </b>: This argument specifies the data-type of the array being created. Since, unlike lists, all the elements in the Numpy array are of the same data-type. The datatypes ranging from float to complex, all are acceptable.\n",
        "\n",
        "Let us see with an example:"
      ]
    },
    {
      "cell_type": "code",
      "metadata": {
        "id": "RzvfDQ4_xK4Z"
      },
      "source": [
        "numpy_array_float = np.array([1,8,5,59,8,98], dtype = 'float')\n",
        "print(numpy_array_float)\n",
        "\n",
        "\n",
        "print(\"======================================\")\n",
        "\n",
        "# let's try Numpy array with string as input\n",
        "str = ['the','air','after','summer','rain']\n",
        "numpy_array_str = np.array(str, dtype = 'str')\n",
        "print(numpy_array_str)\n",
        "\n",
        "\n",
        "# In a similar manner, other data-types can also be used to create a Numpy array."
      ],
      "execution_count": null,
      "outputs": []
    },
    {
      "cell_type": "markdown",
      "metadata": {
        "id": "MrZ1bOaWxK4c"
      },
      "source": [
        "A short documentation about the `np.array` function can be found by doing `np.array?`"
      ]
    },
    {
      "cell_type": "code",
      "metadata": {
        "id": "eRj9qLuNxK4n"
      },
      "source": [
        "#np.array?  # Uncomment to run the cell."
      ],
      "execution_count": null,
      "outputs": []
    },
    {
      "cell_type": "markdown",
      "metadata": {
        "id": "tPHaKsroxK4o"
      },
      "source": [
        "### NumPy Arrays using the function arange()\n",
        "\n",
        "The `arange()` function is one of the Numpy's most used method for creating an array within a specified range. The first argument takes the **starting point** of the array you want to create, second is the **stop point** and the third is the **step** (just like python list slicing function). The last argument is again *dtype*, which is optional: `arange(start, end, step, dtype)`"
      ]
    },
    {
      "cell_type": "code",
      "metadata": {
        "id": "SzwWxwYxxK4q"
      },
      "source": [
        "# creating an array starting from 0 ending with 10 \n",
        "# and increasing with a step of 2\n",
        "arange_array1 = np.arange(0,11,2)   # writing 11 instead of 10 since range is exclusive\n",
        "print(\"First array:\", arange_array1)\n",
        "print(\"======================================\")\n",
        "\n",
        "\n",
        "# array starting from 50 going till 120 with step of 4\n",
        "arange_array2 = np.arange(50,121,4)\n",
        "print(\"Second Array:\", arange_array2)\n",
        "print(\"======================================\")\n",
        "\n",
        "\n",
        "# starting from 0(by default), stopping at 14(don't forget 15 is exclusive), step=1(by default)\n",
        "arange_array3 = np.arange(15) \n",
        "print(\"Third Array:\", arange_array3)\n",
        "print(\"======================================\")\n",
        "\n",
        "\n",
        "# okay now lets print backward counting: 20 to 1\n",
        "arange_array4 = np.arange(20,0,-1)\n",
        "print(\"Reverse Array:\", arange_array4)\n"
      ],
      "execution_count": null,
      "outputs": []
    },
    {
      "cell_type": "markdown",
      "metadata": {
        "id": "_RQMRA3RxK4r"
      },
      "source": [
        "### NumPy Arrays using the function linspace()\n",
        "\n",
        "Like the `arange()` function, the `linspace()` function can also be used to create Numpy array. In the `arange()` function, we had control over where to start the Numpy array from, where to stop and step points but with `linspace()` we can maintain a proper linear stepping or spacing between array elements value while generating the array. The `linspace()` function takes arguments: **start index**, **end index** and the **number of elements** to be outputted. These number of elements would be linearly spaced in the range mentioned: `linspace(start_index, end_index, num_of_elements)`. Now let's take a code example,\n"
      ]
    },
    {
      "cell_type": "code",
      "metadata": {
        "id": "0vEPBz90xK4r"
      },
      "source": [
        "# printing arr consisting of 10 values in between \n",
        "# range 15, 75 spaced appropriately.\n",
        "arr = np.linspace(15, 75, 10)     \n",
        "print(\"First Array\\n\", arr)\n",
        "\n",
        "print(\"=========================================================\")\n",
        "\n",
        "# properly spaced array of 25 elements\n",
        "arr1 = np.linspace(50,100,25)   \n",
        "print(\"Second Array\\n\", arr1)"
      ],
      "execution_count": null,
      "outputs": []
    },
    {
      "cell_type": "markdown",
      "metadata": {
        "id": "cHp2xBzHxK4s"
      },
      "source": [
        "### NumPy Array Attributes\n",
        "\n",
        "Before we continue in showing other ways of generating Numpy arrays, let's discuss some useful array attributes. We'll start by defining three random arrays, a one-dimensional, two-dimensional, and three-dimensional array. We'll use NumPy's random number generator, which we will seed with a set value in order to ensure that the same random arrays are generated each time this code is run:"
      ]
    },
    {
      "cell_type": "code",
      "metadata": {
        "id": "CvnRrocrxK4u"
      },
      "source": [
        "np.random.seed(0)  # seed for reproducibility\n",
        "\n",
        "x1 = np.random.randint(10, size=6)  # One-dimensional array\n",
        "x2 = np.random.randint(10, size=(3, 4))  # Two-dimensional array\n",
        "x3 = np.random.randint(10, size=(3, 4, 5))  # Three-dimensional array"
      ],
      "execution_count": null,
      "outputs": []
    },
    {
      "cell_type": "markdown",
      "metadata": {
        "id": "9ynbLaWaxK4v"
      },
      "source": [
        "Each array has attributes `ndim` (the number of dimensions), `shape` (the size of each dimension), and `size` (the total size of the array):"
      ]
    },
    {
      "cell_type": "code",
      "metadata": {
        "id": "yp1pGKGWxK4w"
      },
      "source": [
        "print(\"x3 ndim: \", x3.ndim)\n",
        "print(\"x3 shape:\", x3.shape)\n",
        "print(\"x3 size: \", x3.size)"
      ],
      "execution_count": null,
      "outputs": []
    },
    {
      "cell_type": "markdown",
      "metadata": {
        "id": "Aywmdo88xK4w"
      },
      "source": [
        "Another useful attribute is the `dtype`, the data type of the array (which we already discussed)."
      ]
    },
    {
      "cell_type": "code",
      "metadata": {
        "id": "k7yDR0JzxK4x"
      },
      "source": [
        "print(\"dtype:\", x3.dtype)"
      ],
      "execution_count": null,
      "outputs": []
    },
    {
      "cell_type": "markdown",
      "metadata": {
        "id": "L1-SWSnHxK4y"
      },
      "source": [
        "Other attributes include ``itemsize``, which lists the size (in bytes) of each array element, and ``nbytes``, which lists the total size (in bytes) of the array:"
      ]
    },
    {
      "cell_type": "code",
      "metadata": {
        "id": "AU_b3_Q0xK4y"
      },
      "source": [
        "print(\"itemsize:\", x3.itemsize, \"bytes\")\n",
        "print(\"nbytes:\", x3.nbytes, \"bytes\")"
      ],
      "execution_count": null,
      "outputs": []
    },
    {
      "cell_type": "markdown",
      "metadata": {
        "id": "2_Jl8y7RxK4y"
      },
      "source": [
        "In general, we expect that ``nbytes`` is equal to ``itemsize`` times ``size``."
      ]
    },
    {
      "cell_type": "markdown",
      "metadata": {
        "id": "lHwkF-eYxK4z"
      },
      "source": [
        "#### Array Indexing: Accessing Single Elements\n",
        "\n",
        "If you are familiar with Python's standard list indexing, indexing in NumPy will feel quite familiar.\n",
        "In a one-dimensional array, the $i^{th}$ value (counting from zero) can be accessed by specifying the desired index in square brackets, just as with Python lists:"
      ]
    },
    {
      "cell_type": "code",
      "metadata": {
        "id": "DkJK-NrqxK40"
      },
      "source": [
        "x1"
      ],
      "execution_count": null,
      "outputs": []
    },
    {
      "cell_type": "code",
      "metadata": {
        "id": "wr-1jb0vxK42"
      },
      "source": [
        "print(x1[0])\n",
        "print(\"-----------\")\n",
        "\n",
        "\n",
        "print(x1[4])\n",
        "print(\"-----------\")\n",
        "\n",
        "    \n",
        "    \n",
        "\n",
        "print(x1[-1])\n",
        "print(\"-----------\")\n",
        "\n",
        "\n",
        "    \n",
        "    \n",
        "    \n",
        "print(x1[-2])\n",
        "print(\"-----------\")\n",
        "\n",
        "    "
      ],
      "execution_count": null,
      "outputs": []
    },
    {
      "cell_type": "markdown",
      "metadata": {
        "id": "97TGOeB1xK44"
      },
      "source": [
        "In a multi-dimensional array, items can be accessed using a comma-separated tuple of indices:"
      ]
    },
    {
      "cell_type": "code",
      "metadata": {
        "id": "LKk8LNZlxK45"
      },
      "source": [
        "x2"
      ],
      "execution_count": null,
      "outputs": []
    },
    {
      "cell_type": "code",
      "metadata": {
        "id": "9cV4oB6UxK46"
      },
      "source": [
        "print(x2[0,0])\n",
        "print(\"-----------\")\n",
        "\n",
        "\n",
        "print(x2[2,0])\n",
        "print(\"-----------\")\n",
        "\n",
        "    \n",
        "    \n",
        "\n",
        "print(x2[2,-1])\n",
        "print(\"-----------\")\n",
        "\n",
        "\n",
        "    \n",
        "    \n",
        "    \n",
        "print(x2[-2])\n",
        "print(\"-----------\")"
      ],
      "execution_count": null,
      "outputs": []
    },
    {
      "cell_type": "markdown",
      "metadata": {
        "id": "ppmHq-koxK48"
      },
      "source": [
        "Values can also be modified using any of the above index notation:"
      ]
    },
    {
      "cell_type": "code",
      "metadata": {
        "id": "vpKSHn0YxK49"
      },
      "source": [
        "x2[0, 0] = 12\n",
        "x2"
      ],
      "execution_count": null,
      "outputs": []
    },
    {
      "cell_type": "markdown",
      "metadata": {
        "id": "DVc5U3txxK49"
      },
      "source": [
        "Keep in mind that, unlike Python lists, NumPy arrays have a fixed type.\n",
        "This means, for example, that if you attempt to insert a floating-point value to an integer array, the value will be silently truncated. Don't be caught unaware by this behavior!"
      ]
    },
    {
      "cell_type": "code",
      "metadata": {
        "id": "izRMPgwixK4-"
      },
      "source": [
        "x1[0] = 3.14159  # this will be truncated!\n",
        "x1"
      ],
      "execution_count": null,
      "outputs": []
    },
    {
      "cell_type": "markdown",
      "metadata": {
        "id": "p-sSY9PIxK4_"
      },
      "source": [
        "#### Array Slicing: Accessing Subarrays\n",
        "\n",
        "Just as we can use square brackets to access individual array elements, we can also use them to access subarrays with the *slice* notation, marked by the colon (``:``) character.\n",
        "The NumPy slicing syntax follows that of the standard Python list; to access a slice of an array ``x``, use this:\n",
        "``` python\n",
        "x[start:stop:step]\n",
        "```\n",
        "If any of these are unspecified, they default to the values ``start=0``, ``stop=``*``size of dimension``*, ``step=1``.\n",
        "We'll take a look at accessing sub-arrays in one dimension and in multiple dimensions."
      ]
    },
    {
      "cell_type": "markdown",
      "metadata": {
        "id": "rUluK8EPxK5A"
      },
      "source": [
        "##### One-dimensional subarrays"
      ]
    },
    {
      "cell_type": "code",
      "metadata": {
        "id": "XcAjLrSSxK5A"
      },
      "source": [
        "x = np.arange(10)\n",
        "x"
      ],
      "execution_count": null,
      "outputs": []
    },
    {
      "cell_type": "code",
      "metadata": {
        "id": "Xaaoe9-hxK5A"
      },
      "source": [
        "x[:5]  # first five elements"
      ],
      "execution_count": null,
      "outputs": []
    },
    {
      "cell_type": "code",
      "metadata": {
        "id": "bkiDuXTfxK5B"
      },
      "source": [
        "x[5:]  # elements after index 5"
      ],
      "execution_count": null,
      "outputs": []
    },
    {
      "cell_type": "code",
      "metadata": {
        "id": "7vdbApsyxK5D"
      },
      "source": [
        "x[4:7]  # middle sub-array"
      ],
      "execution_count": null,
      "outputs": []
    },
    {
      "cell_type": "code",
      "metadata": {
        "id": "SFsZU5MFxK5D"
      },
      "source": [
        "x[::2]  # every other element"
      ],
      "execution_count": null,
      "outputs": []
    },
    {
      "cell_type": "code",
      "metadata": {
        "id": "BlPiFbb2xK5E"
      },
      "source": [
        "x[1::2]  # every other element, starting at index 1"
      ],
      "execution_count": null,
      "outputs": []
    },
    {
      "cell_type": "markdown",
      "metadata": {
        "id": "2fFVl5tSxK5E"
      },
      "source": [
        "A potentially confusing case is when the ``step`` value is negative.\n",
        "In this case, the defaults for ``start`` and ``stop`` are swapped.\n",
        "This becomes a convenient way to reverse an array:"
      ]
    },
    {
      "cell_type": "code",
      "metadata": {
        "id": "H7ANpGdnxK5E"
      },
      "source": [
        "x[::-1]  # all elements, reversed"
      ],
      "execution_count": null,
      "outputs": []
    },
    {
      "cell_type": "code",
      "metadata": {
        "id": "vU2qsb0txK5F"
      },
      "source": [
        "x[5::-2]  # reversed every other from index 5"
      ],
      "execution_count": null,
      "outputs": []
    },
    {
      "cell_type": "code",
      "metadata": {
        "id": "fVmZZwsaxK5G"
      },
      "source": [
        "##### Multi-dimensional subarrays\n",
        "\n",
        "Multi-dimensional slices work in the same way, with multiple slices separated by commas.\n",
        "For example:"
      ],
      "execution_count": null,
      "outputs": []
    },
    {
      "cell_type": "code",
      "metadata": {
        "id": "sG82ZnwZxK5G"
      },
      "source": [
        "x2"
      ],
      "execution_count": null,
      "outputs": []
    },
    {
      "cell_type": "code",
      "metadata": {
        "id": "ZorR0bk2xK5H"
      },
      "source": [
        "x2[:2, :3]  # two rows, three columns"
      ],
      "execution_count": null,
      "outputs": []
    },
    {
      "cell_type": "code",
      "metadata": {
        "id": "8_xHpiKUxK5H"
      },
      "source": [
        "x2[:3, ::2]  # all rows, every other column"
      ],
      "execution_count": null,
      "outputs": []
    },
    {
      "cell_type": "markdown",
      "metadata": {
        "id": "_2_Hw5MqxK5H"
      },
      "source": [
        "Finally, subarray dimensions can even be reversed together:"
      ]
    },
    {
      "cell_type": "code",
      "metadata": {
        "id": "PiNfLqQXxK5I"
      },
      "source": [
        "x2[::-1, ::-1]"
      ],
      "execution_count": null,
      "outputs": []
    },
    {
      "cell_type": "markdown",
      "metadata": {
        "id": "wxJ8eDsFxK5I"
      },
      "source": [
        "#### Accessing array rows and columns\n",
        "\n",
        "One commonly needed routine is accessing of single rows or columns of an array.\n",
        "This can be done by combining indexing and slicing, using an empty slice marked by a single colon (``:``):"
      ]
    },
    {
      "cell_type": "code",
      "metadata": {
        "id": "qUP67SCPxK5J"
      },
      "source": [
        "print(x2[:, 0])  # first column of x2"
      ],
      "execution_count": null,
      "outputs": []
    },
    {
      "cell_type": "code",
      "metadata": {
        "id": "7cbU71kbxK5J"
      },
      "source": [
        "print(x2[0, :])  # first row of x2"
      ],
      "execution_count": null,
      "outputs": []
    },
    {
      "cell_type": "markdown",
      "metadata": {
        "id": "T2YCEon_xK5K"
      },
      "source": [
        "In the case of row access, the empty slice can be omitted for a more compact syntax:"
      ]
    },
    {
      "cell_type": "code",
      "metadata": {
        "id": "ofl-dyfvxK5T"
      },
      "source": [
        "print(x2[0])  # equivalent to x2[0, :]"
      ],
      "execution_count": null,
      "outputs": []
    },
    {
      "cell_type": "markdown",
      "metadata": {
        "id": "vRu5Omw2xK5T"
      },
      "source": [
        "#### Subarrays as no-copy views\n",
        "\n",
        "One important–and extremely useful–thing to know about array slices is that they return *views* rather than *copies* of the array data.\n",
        "This is one area in which NumPy array slicing differs from Python list slicing: in lists, slices will be copies.\n",
        "Consider our two-dimensional array from before:"
      ]
    },
    {
      "cell_type": "code",
      "metadata": {
        "id": "v89CzM9wxK5U"
      },
      "source": [
        "print(x2)"
      ],
      "execution_count": null,
      "outputs": []
    },
    {
      "cell_type": "markdown",
      "metadata": {
        "id": "SQFNqstAxK5U"
      },
      "source": [
        "Let's extract a $2 \\times 2$ subarray from this:"
      ]
    },
    {
      "cell_type": "code",
      "metadata": {
        "id": "vlihnQDuxK5V"
      },
      "source": [
        "x2_sub = x2[:2, :2]\n",
        "print(x2_sub)"
      ],
      "execution_count": null,
      "outputs": []
    },
    {
      "cell_type": "markdown",
      "metadata": {
        "id": "D9zKoiyzxK5V"
      },
      "source": [
        "Now if we modify this subarray, we'll see that the original array is changed! Observe:"
      ]
    },
    {
      "cell_type": "code",
      "metadata": {
        "id": "rVM1cyBzxK5V"
      },
      "source": [
        "x2_sub[0, 0] = 99\n",
        "print(x2_sub)"
      ],
      "execution_count": null,
      "outputs": []
    },
    {
      "cell_type": "code",
      "metadata": {
        "id": "_NfoQcp6xK5V"
      },
      "source": [
        "print(x2)"
      ],
      "execution_count": null,
      "outputs": []
    },
    {
      "cell_type": "markdown",
      "metadata": {
        "id": "Z071TIKHxK5W"
      },
      "source": [
        "This default behavior is actually quite useful: it means that when we work with large datasets, we can access and process pieces of these datasets without the need to copy the underlying data buffer."
      ]
    },
    {
      "cell_type": "markdown",
      "metadata": {
        "id": "VqMX1-8NxK5W"
      },
      "source": [
        "#### Creating copies of arrays\n",
        "\n",
        "Despite the nice features of array views, it is sometimes useful to instead explicitly copy the data within an array or a subarray. This can be most easily done with the ``copy()`` method:"
      ]
    },
    {
      "cell_type": "code",
      "metadata": {
        "id": "SdhwTgxAxK5X"
      },
      "source": [
        "x2_sub_copy = x2[:2, :2].copy()\n",
        "print(x2_sub_copy)"
      ],
      "execution_count": null,
      "outputs": []
    },
    {
      "cell_type": "markdown",
      "metadata": {
        "id": "-J5UtKhGxK5X"
      },
      "source": [
        "If we now modify this subarray, the original array is not touched:"
      ]
    },
    {
      "cell_type": "code",
      "metadata": {
        "id": "wuNitUgOxK5Y"
      },
      "source": [
        "x2_sub_copy[0, 0] = 42\n",
        "print(x2_sub_copy)"
      ],
      "execution_count": null,
      "outputs": []
    },
    {
      "cell_type": "code",
      "metadata": {
        "id": "jzCh54ykxK5Y"
      },
      "source": [
        "print(x2)"
      ],
      "execution_count": null,
      "outputs": []
    },
    {
      "cell_type": "markdown",
      "metadata": {
        "id": "C329CYoqxK5Z"
      },
      "source": [
        "#### Reshaping of Arrays\n",
        "\n",
        "Another useful type of operation is reshaping of arrays.\n",
        "The most flexible way of doing this is with the ``reshape`` method.\n",
        "For example, if you want to put the numbers 1 through 9 in a $3 \\times 3$ grid, you can do the following:"
      ]
    },
    {
      "cell_type": "code",
      "metadata": {
        "id": "A0qTE8FMxK5Z"
      },
      "source": [
        "grid = np.arange(1, 10).reshape((3, 3))\n",
        "print(grid)"
      ],
      "execution_count": null,
      "outputs": []
    },
    {
      "cell_type": "markdown",
      "metadata": {
        "id": "rlI6Ex3bxK5Z"
      },
      "source": [
        "Note that for this to work, the size of the initial array must match the size of the reshaped array. \n",
        "Where possible, the ``reshape`` method will use a no-copy view of the initial array, but with non-contiguous memory buffers this is not always the case.\n",
        "\n",
        "Another common reshaping pattern is the conversion of a one-dimensional array into a two-dimensional row or column matrix.\n",
        "This can be done with the ``reshape`` method, or more easily done by making use of the ``newaxis`` keyword within a slice operation:"
      ]
    },
    {
      "cell_type": "code",
      "metadata": {
        "id": "HXvOW9CqxK5a"
      },
      "source": [
        "x = np.array([1, 2, 3])\n",
        "\n",
        "# row vector via reshape\n",
        "x.reshape((1, 3))"
      ],
      "execution_count": null,
      "outputs": []
    },
    {
      "cell_type": "code",
      "metadata": {
        "id": "Xh65nMPKxK5a"
      },
      "source": [
        "# row vector via newaxis\n",
        "x[np.newaxis, :]"
      ],
      "execution_count": null,
      "outputs": []
    },
    {
      "cell_type": "code",
      "metadata": {
        "id": "OOzGBexFxK5b"
      },
      "source": [
        "# column vector via reshape\n",
        "x.reshape((3, 1))"
      ],
      "execution_count": null,
      "outputs": []
    },
    {
      "cell_type": "code",
      "metadata": {
        "id": "wDRxd2-6xK5d"
      },
      "source": [
        "# column vector via newaxis\n",
        "x[:, np.newaxis]"
      ],
      "execution_count": null,
      "outputs": []
    },
    {
      "cell_type": "markdown",
      "metadata": {
        "id": "xFi1S0Z8xK5d"
      },
      "source": [
        "### Some Numpy Special Arrays"
      ]
    },
    {
      "cell_type": "markdown",
      "metadata": {
        "id": "X7M5K8g7xK5e"
      },
      "source": [
        "#### Numpy Zeros: numpy.zeros()\n",
        "\n",
        "Numpy zeros function returns a numpy array of only zeros with specified shape and data type.\n",
        "Syntax\n",
        "\n",
        "                                zeros(shape, dtype=float, order='C')\n",
        "                         \n",
        "   1. shape – This is the shape of the required array, input has to be an int or a tuple of int.\n",
        "   2. dtype (optional) – This is the required data type of the array, by default it is float.\n",
        "   3. order (optional) – This specifies how the array will be stored in the memory. It can be either ‘C’ for row-major or ‘F’ for column-major. By default, it is ‘C’.\n",
        "                      "
      ]
    },
    {
      "cell_type": "code",
      "metadata": {
        "id": "dLFk95rExK5e"
      },
      "source": [
        "\n",
        "# Notice that we did not specify the data type, so by default, it assumed float.\n",
        "# 1-D Array\n",
        "np_1d_zero_array = np.zeros(4)\n",
        "\n",
        "print('Output- ')\n",
        "print(np_1d_zero_array)\n",
        "print('Shape- ', np_1d_zero_array.shape)\n",
        "print('Data type -', np_1d_zero_array.dtype)\n",
        "\n",
        "\n",
        "\n",
        "print(\"======================================================\")\n",
        "\n",
        "\n",
        "# 2-D Array\n",
        "np_2d_zero_array = np.zeros((4,2))\n",
        "\n",
        "print('Output- ')\n",
        "print(np_2d_zero_array)\n",
        "print('Shape- ', np_2d_zero_array.shape)\n",
        "print('Data type -', np_2d_zero_array.dtype)\n",
        "\n",
        "\n",
        "print(\"======================================================\")\n",
        "\n",
        "\n",
        "\n",
        "# 3-D Array\n",
        "np_3d_zero_array = np.zeros((4,2,3), int)\n",
        "\n",
        "print('Output- ')\n",
        "print(np_3d_zero_array)\n",
        "print('Shape- ', np_3d_zero_array.shape)\n",
        "print('Data type -', np_3d_zero_array.dtype)"
      ],
      "execution_count": null,
      "outputs": []
    },
    {
      "cell_type": "markdown",
      "metadata": {
        "id": "BOvGCf2FxK5f"
      },
      "source": [
        "#### Numpy Ones: numpy.ones()\n",
        "\n",
        "This is very similar to Numpy Zero. Here Numpy zeros function returns a numpy array of only ones with specified shape and data type.\n",
        "\n",
        "Syntax\n",
        "\n",
        "                              ones(shape, dtype=float, order=’C’)"
      ]
    },
    {
      "cell_type": "code",
      "metadata": {
        "id": "d31fwwtkxK5g"
      },
      "source": [
        "# 1-D Array\n",
        "np_1d_ones_array = np.ones(4,int)\n",
        "\n",
        "print('Output- ')\n",
        "print(np_1d_ones_array)\n",
        "print('Shape- ', np_1d_ones_array.shape)\n",
        "print('Data type -', np_1d_ones_array.dtype)\n",
        "\n",
        "\n",
        "print(\"======================================================\")\n",
        "\n",
        "\n",
        "# 2-D Array\n",
        "np_2d_ones_array = np.ones((4,2))\n",
        "\n",
        "print('Output- ')\n",
        "print(np_2d_ones_array)\n",
        "print('Shape- ', np_2d_ones_array.shape)\n",
        "print('Data type -', np_2d_ones_array.dtype)\n",
        "\n",
        "\n",
        "\n",
        "\n",
        "# 3-D Array\n",
        "np_3d_ones_array = np.ones((4,2,3))\n",
        "\n",
        "print('Output- ')\n",
        "print(np_3d_ones_array)\n",
        "print('Shape- ', np_3d_ones_array.shape)\n",
        "print('Data type -', np_3d_ones_array.dtype)"
      ],
      "execution_count": null,
      "outputs": []
    },
    {
      "cell_type": "markdown",
      "metadata": {
        "id": "uKJ-pPVLxK5g"
      },
      "source": [
        "#### Numpy Eye: numpy.eye()\n",
        "\n",
        "Numpy eye function helps to create a 2-D array where the diagonal has all ones and zeros elsewhere.\n",
        "Syntax\n",
        "\n",
        "                            eye(N, M=None, k=0, dtype='float', order='C')\n",
        "                            \n",
        "   1. N – It is the number of rows in the array. It has to be int.\n",
        "   2. M (optional) – It is the number of columns in the array. If not specified then it will default to N.\n",
        "   3. K (optional) – It denotes the position of diagonal ones. By default is zero i.e. in middle. A positive value denotes upper diagonal and negative value lower diagonal.\n",
        "   4. dtype (optional) – This is the required data type of the array, by default it is float.\n",
        "   5. order (optional) – This specifies how the array will be stored in the memory. It can be either ‘C’ for row-major or ‘F’ for column-major. By default, it is ‘C’.                       "
      ]
    },
    {
      "cell_type": "code",
      "metadata": {
        "id": "Z5s82aycxK5h"
      },
      "source": [
        "np_identity_matrix_oder_4 = np.eye(4)\n",
        "\n",
        "print('Output- ')\n",
        "print(np_identity_matrix_oder_4)\n",
        "print('Shape- ', np_identity_matrix_oder_4.shape)\n",
        "print('Data type -', np_identity_matrix_oder_4.dtype)"
      ],
      "execution_count": null,
      "outputs": []
    },
    {
      "cell_type": "markdown",
      "metadata": {
        "id": "Y7cVkwj-xK5h"
      },
      "source": [
        "##### Miscellaneous Examples of Numpy Eye"
      ]
    },
    {
      "cell_type": "code",
      "metadata": {
        "id": "Afk23FH8xK5i"
      },
      "source": [
        "\n",
        "np.eye(4, 5)"
      ],
      "execution_count": null,
      "outputs": []
    },
    {
      "cell_type": "code",
      "metadata": {
        "id": "5BQUUiQ1xK5i"
      },
      "source": [
        "np.eye(4, 5, k = 2)"
      ],
      "execution_count": null,
      "outputs": []
    },
    {
      "cell_type": "markdown",
      "metadata": {
        "id": "waR_qn7-xK5i"
      },
      "source": [
        "### NumPy Arrays using the function empty()\n",
        "\n",
        "The `empty()` function is used to create arrays when we don't really have any values to create an array. What it does is, it takes the shape of the array as desired and the array is then filled with random values. The trick here is that without even using the random module we are able to build an array full of random values: `empty(shape, dtype)`"
      ]
    },
    {
      "cell_type": "code",
      "metadata": {
        "id": "2nLBmPC2xK5j"
      },
      "source": [
        "# arr of shape (5,2) with datatype=float filled with random values\n",
        "empty_arr = np.empty((5,2), dtype=float) \n",
        "print(\"Array with Float values\\n\", empty_arr)\n",
        "print(\"======================================\")\n",
        "\n",
        "\n",
        "\n",
        "# observe what happens when executed\n",
        "empty_arr1 = np.empty((4,4), dtype=int) \n",
        "print(\"Second Array \\n\", empty_arr1)"
      ],
      "execution_count": null,
      "outputs": []
    },
    {
      "cell_type": "markdown",
      "metadata": {
        "id": "KyDWgc6DxK5k"
      },
      "source": [
        "## Operations on Arrays\n",
        "\n",
        "### Array Concatenation and Splitting\n",
        "\n",
        "All of the preceding routines worked on single arrays. It's also possible to combine multiple arrays into one, and to conversely split a single array into multiple arrays. We'll take a look at those operations here.\n",
        "\n",
        "#### Concatenation of arrays\n",
        "\n",
        "Concatenation, or joining of two arrays in NumPy, is primarily accomplished using the routines ``np.concatenate``, ``np.vstack``, and ``np.hstack``.\n",
        "``np.concatenate`` takes a tuple or list of arrays as its first argument, as we can see here:"
      ]
    },
    {
      "cell_type": "code",
      "metadata": {
        "id": "yY8whAT3xK5l"
      },
      "source": [
        "x = np.array([1, 2, 3])\n",
        "y = np.array([3, 2, 1])\n",
        "print(np.concatenate([x, y]))\n",
        "\n",
        "print(\"========================================\")\n",
        "\n",
        "# You can also concatenate more than two arrays at once:\n",
        "z = [99, 99, 99]\n",
        "print(np.concatenate([x, y, z]))\n",
        "print(\"========================================\")\n",
        "\n",
        "\n",
        "\n",
        "#It can also be used for two-dimensional arrays:\n",
        "grid = np.array([[1, 2, 3],[4, 5, 6]])\n",
        "\n",
        "# concatenate along the first axis\n",
        "print(np.concatenate([grid, grid]))\n",
        "print(\"========================================\")\n",
        "\n",
        "\n",
        "# concatenate along the second axis (zero-indexed)\n",
        "print(np.concatenate([grid, grid], axis=1))"
      ],
      "execution_count": null,
      "outputs": []
    },
    {
      "cell_type": "markdown",
      "metadata": {
        "id": "H2BYCXQ1xK5o"
      },
      "source": [
        "For working with arrays of mixed dimensions, it can be clearer to use the ``np.vstack`` (vertical stack) and ``np.hstack`` (horizontal stack) functions:"
      ]
    },
    {
      "cell_type": "code",
      "metadata": {
        "id": "s_geykYYxK5p"
      },
      "source": [
        "x = np.array([1, 2, 3])\n",
        "grid = np.array([[9, 8, 7],\n",
        "                 [6, 5, 4]])\n",
        "\n",
        "# vertically stack the arrays\n",
        "np.vstack([x, grid])"
      ],
      "execution_count": null,
      "outputs": []
    },
    {
      "cell_type": "code",
      "metadata": {
        "id": "H-NcmA_bxK5q"
      },
      "source": [
        "# horizontally stack the arrays\n",
        "y = np.array([[99],\n",
        "              [99]])\n",
        "np.hstack([grid, y])"
      ],
      "execution_count": null,
      "outputs": []
    },
    {
      "cell_type": "markdown",
      "metadata": {
        "id": "1e780MzAxK5r"
      },
      "source": [
        "#### Splitting of arrays\n",
        "\n",
        "The opposite of concatenation is splitting, which is implemented by the functions ``np.split``, ``np.hsplit``, and ``np.vsplit``.  For each of these, we can pass a list of indices giving the split points:"
      ]
    },
    {
      "cell_type": "code",
      "metadata": {
        "id": "a8yjARZbxK5r"
      },
      "source": [
        "x = [1, 2, 3, 99, 99, 3, 2, 1]\n",
        "x1, x2, x3 = np.split(x, [3, 5])\n",
        "print(x1, x2, x3)"
      ],
      "execution_count": null,
      "outputs": []
    },
    {
      "cell_type": "markdown",
      "metadata": {
        "id": "9bShcisSxK5r"
      },
      "source": [
        "Notice that *N* split-points, leads to *N + 1* subarrays.\n",
        "The related functions ``np.hsplit`` and ``np.vsplit`` are similar:"
      ]
    },
    {
      "cell_type": "code",
      "metadata": {
        "id": "3hJr0VHVxK5r"
      },
      "source": [
        "grid = np.arange(16).reshape((4, 4))\n",
        "grid"
      ],
      "execution_count": null,
      "outputs": []
    },
    {
      "cell_type": "code",
      "metadata": {
        "id": "PYATyP1TxK5s"
      },
      "source": [
        "upper, lower = np.vsplit(grid, [2])\n",
        "print(upper)\n",
        "print(lower)"
      ],
      "execution_count": null,
      "outputs": []
    },
    {
      "cell_type": "code",
      "metadata": {
        "id": "VxMg4bGFxK5t"
      },
      "source": [
        "left, right = np.hsplit(grid, [2])\n",
        "print(left)\n",
        "print(right)"
      ],
      "execution_count": null,
      "outputs": []
    },
    {
      "cell_type": "markdown",
      "metadata": {
        "id": "VFixJ-3ixK5t"
      },
      "source": [
        "Similarly, ``np.dsplit`` will split arrays along the third axis."
      ]
    },
    {
      "cell_type": "markdown",
      "metadata": {
        "id": "E6j8kOyNxK5t"
      },
      "source": [
        "### Numpy Arrays Universal Functions \n",
        "\n",
        "Computation on NumPy arrays can be very fast, or it can be very slow.\n",
        "The key to making it fast is to use *vectorized* operations, generally implemented through NumPy's *universal functions* (ufuncs).\n",
        "This section motivates the need for NumPy's ufuncs, which can be used to make repeated calculations on array elements much more efficient.\n",
        "It then introduces many of the most common and useful arithmetic ufuncs available in the NumPy package.\n",
        "\n",
        "#### Array arithmetic\n",
        "\n",
        "NumPy's ufuncs feel very natural to use because they make use of Python's native arithmetic operators.\n",
        "The standard addition, subtraction, multiplication, and division can all be used:"
      ]
    },
    {
      "cell_type": "code",
      "metadata": {
        "id": "O8vKKjWixK5u"
      },
      "source": [
        "x = np.arange(4)\n",
        "print(\"x     =\", x)\n",
        "print(\"x + 5 =\", x + 5)\n",
        "print(\"x - 5 =\", x - 5)\n",
        "print(\"x * 2 =\", x * 2)\n",
        "print(\"x / 2 =\", x / 2)\n",
        "print(\"x // 2 =\", x // 2)  # floor division"
      ],
      "execution_count": null,
      "outputs": []
    },
    {
      "cell_type": "code",
      "metadata": {
        "id": "ScsrMh7rxK5u"
      },
      "source": [
        "# There is also a unary ufunc for negation, \n",
        "# and a ``**`` operator for exponentiation, \n",
        "# and a ``%`` operator for modulus\n",
        "\n",
        "print(\"-x     = \", -x)\n",
        "print(\"x ** 2 = \", x ** 2)\n",
        "print(\"x % 2  = \", x % 2)"
      ],
      "execution_count": null,
      "outputs": []
    },
    {
      "cell_type": "code",
      "metadata": {
        "id": "m5BgERD2xK5u"
      },
      "source": [
        "# In addition, these can be strung together however you wish,\n",
        "# and the standard order of operations is respected:\n",
        "\n",
        "-(0.5*x + 1) ** 2"
      ],
      "execution_count": null,
      "outputs": []
    },
    {
      "cell_type": "code",
      "metadata": {
        "id": "tD1KMqSUxK5u"
      },
      "source": [
        "#Each of these arithmetic operations are simply convenient wrappers around specific functions built into NumPy; \n",
        "# for example, the ``+`` operator is a wrapper for the ``add`` function\n",
        "np.add(x, 2)"
      ],
      "execution_count": null,
      "outputs": []
    },
    {
      "cell_type": "markdown",
      "metadata": {
        "id": "4twq53r8xK5v"
      },
      "source": [
        "The following table lists the arithmetic operators implemented in NumPy:\n",
        "\n",
        "| Operator\t    | Equivalent ufunc    | Description                           |\n",
        "|---------------|---------------------|---------------------------------------|\n",
        "|``+``          |``np.add``           |Addition (e.g., ``1 + 1 = 2``)         |\n",
        "|``-``          |``np.subtract``      |Subtraction (e.g., ``3 - 2 = 1``)      |\n",
        "|``-``          |``np.negative``      |Unary negation (e.g., ``-2``)          |\n",
        "|``*``          |``np.multiply``      |Multiplication (e.g., ``2 * 3 = 6``)   |\n",
        "|``/``          |``np.divide``        |Division (e.g., ``3 / 2 = 1.5``)       |\n",
        "|``//``         |``np.floor_divide``  |Floor division (e.g., ``3 // 2 = 1``)  |\n",
        "|``**``         |``np.power``         |Exponentiation (e.g., ``2 ** 3 = 8``)  |\n",
        "|``%``          |``np.mod``           |Modulus/remainder (e.g., ``9 % 4 = 1``)|\n",
        "\n",
        "Additionally there are Boolean/bitwise operators; we will explore these in [Comparisons, Masks, and Boolean Logic]()."
      ]
    },
    {
      "cell_type": "markdown",
      "metadata": {
        "id": "FB-RkYN8xK5v"
      },
      "source": [
        "#### Absolute value\n",
        "\n",
        "Just as NumPy understands Python's built-in arithmetic operators, it also understands Python's built-in absolute value function:"
      ]
    },
    {
      "cell_type": "code",
      "metadata": {
        "id": "BodbwjdVxK5v"
      },
      "source": [
        "x = np.array([-2, -1, 0, 1, 2])\n",
        "abs(x)"
      ],
      "execution_count": null,
      "outputs": []
    },
    {
      "cell_type": "code",
      "metadata": {
        "id": "qYqsGwzTxK5w"
      },
      "source": [
        "# The corresponding NumPy ufunc is ``np.absolute``, which is also available under the alias ``np.abs``:"
      ],
      "execution_count": null,
      "outputs": []
    },
    {
      "cell_type": "code",
      "metadata": {
        "id": "5xHEDFORxK5w"
      },
      "source": [
        "print(np.absolute(x))\n",
        "\n",
        "print(\"===============================\")\n",
        "\n",
        "\n",
        "print(np.absolute(x))"
      ],
      "execution_count": null,
      "outputs": []
    },
    {
      "cell_type": "code",
      "metadata": {
        "id": "biiR4WX1xK5w"
      },
      "source": [
        "# This ufunc can also handle complex data, in which the absolute value returns the magnitude:\n",
        "x = np.array([3 - 4j, 4 - 3j, 2 + 0j, 0 + 1j])\n",
        "np.abs(x)"
      ],
      "execution_count": null,
      "outputs": []
    },
    {
      "cell_type": "markdown",
      "metadata": {
        "id": "-jMmRu__xK5x"
      },
      "source": [
        "#### Trigonometric functions\n",
        "\n",
        "NumPy provides a large number of useful ufuncs, and some of the most useful for the data scientist are the trigonometric functions.\n",
        "We'll start by defining an array of angles:"
      ]
    },
    {
      "cell_type": "code",
      "metadata": {
        "id": "Ma878H5uxK5x"
      },
      "source": [
        "theta = np.linspace(0, np.pi, 3)\n",
        "print(\"theta      = \", theta)\n",
        "print(\"sin(theta) = \", np.sin(theta))\n",
        "print(\"cos(theta) = \", np.cos(theta))\n",
        "print(\"tan(theta) = \", np.tan(theta))"
      ],
      "execution_count": null,
      "outputs": []
    },
    {
      "cell_type": "code",
      "metadata": {
        "id": "lFOoTR6mxK5x"
      },
      "source": [
        "# The values are computed to within machine precision, which is why values \n",
        "# that should be zero do not always hit exactly zero. \n",
        "#Inverse trigonometric functions are also available:\n",
        "x = [-1, 0, 1]\n",
        "print(\"x         = \", x)\n",
        "print(\"arcsin(x) = \", np.arcsin(x))\n",
        "print(\"arccos(x) = \", np.arccos(x))\n",
        "print(\"arctan(x) = \", np.arctan(x))"
      ],
      "execution_count": null,
      "outputs": []
    },
    {
      "cell_type": "markdown",
      "metadata": {
        "id": "cB3lrm6uxK5y"
      },
      "source": [
        "#### Exponents and logarithms\n",
        "\n",
        "Another common type of operation available in a NumPy ufunc are the exponentials:"
      ]
    },
    {
      "cell_type": "code",
      "metadata": {
        "id": "GpNqljwPxK5y"
      },
      "source": [
        "x = [1, 2, 3]\n",
        "print(\"x     =\", x)\n",
        "print(\"e^x   =\", np.exp(x))\n",
        "print(\"2^x   =\", np.exp2(x))\n",
        "print(\"3^x   =\", np.power(3, x))"
      ],
      "execution_count": null,
      "outputs": []
    },
    {
      "cell_type": "markdown",
      "metadata": {
        "id": "9FTXrMqtxK5y"
      },
      "source": [
        "The inverse of the exponentials, the logarithms, are also available.\n",
        "The basic ``np.log`` gives the natural logarithm; if you prefer to compute the base-2 logarithm or the base-10 logarithm, these are available as well:"
      ]
    },
    {
      "cell_type": "code",
      "metadata": {
        "id": "e9x0KUuqxK5z"
      },
      "source": [
        "x = [1, 2, 4, 10]\n",
        "print(\"x        =\", x)\n",
        "print(\"ln(x)    =\", np.log(x))\n",
        "print(\"log2(x)  =\", np.log2(x))\n",
        "print(\"log10(x) =\", np.log10(x))"
      ],
      "execution_count": null,
      "outputs": []
    },
    {
      "cell_type": "markdown",
      "metadata": {
        "id": "7F98roLJxK50"
      },
      "source": [
        "#### Ufuncs: Learning More\n",
        "\n",
        "More information on universal functions (including the full list of available functions) can be found on the [NumPy](http://www.numpy.org) and [SciPy](http://www.scipy.org) documentation websites.\n",
        "\n",
        "Recall that you can also access information directly from within IPython by importing the packages and using IPython's tab-completion and help (``?``) functionality"
      ]
    },
    {
      "cell_type": "markdown",
      "metadata": {
        "id": "iV6O7o20xK50"
      },
      "source": [
        "### Aggregation Functions\n",
        "\n",
        "Often when faced with a large amount of data, a first step is to compute summary statistics for the data in question.\n",
        "Perhaps the most common summary statistics are the mean and standard deviation, which allow you to summarize the \"typical\" values in a dataset, but other aggregates are useful as well (the sum, product, median, minimum and maximum, quantiles, etc.).\n",
        "\n",
        "NumPy has fast built-in aggregation functions for working on arrays; we'll discuss and demonstrate some of them here."
      ]
    },
    {
      "cell_type": "markdown",
      "metadata": {
        "id": "EDHa7fK4xK51"
      },
      "source": [
        "#### Summing the Values in an Array\n",
        "\n",
        "As a quick example, consider computing the sum of all values in an array.\n",
        "Python itself can do this using the built-in ``sum`` function:"
      ]
    },
    {
      "cell_type": "code",
      "metadata": {
        "id": "q3YI0av_xK51",
        "outputId": "53478d83-1c1b-4aa0-e324-fcadd7ee8fdd"
      },
      "source": [
        "L = np.random.random(100)\n",
        "sum(L)"
      ],
      "execution_count": null,
      "outputs": [
        {
          "data": {
            "text/plain": [
              "50.176289586629856"
            ]
          },
          "execution_count": 15,
          "metadata": {},
          "output_type": "execute_result"
        }
      ]
    },
    {
      "cell_type": "code",
      "metadata": {
        "id": "80eylWDLxK52",
        "outputId": "117cc08b-4eae-48ae-db4b-26b4e0a1a1cf"
      },
      "source": [
        "# The syntax is quite similar to that of NumPy's ``sum`` function, \n",
        "# and the result is the same in the simplest case:\n",
        "np.sum(L)"
      ],
      "execution_count": null,
      "outputs": [
        {
          "data": {
            "text/plain": [
              "50.17628958662988"
            ]
          },
          "execution_count": 18,
          "metadata": {},
          "output_type": "execute_result"
        }
      ]
    },
    {
      "cell_type": "markdown",
      "metadata": {
        "id": "lwRVVXPyxK54"
      },
      "source": [
        "However, because it executes the operation in compiled code, NumPy's version of the operation is computed much more quickly:"
      ]
    },
    {
      "cell_type": "code",
      "metadata": {
        "id": "YEAfT_OBxK54",
        "outputId": "d54fd882-7aa4-45bf-eba0-ff57350ba87c"
      },
      "source": [
        "big_array = np.random.rand(1000000)\n",
        "%timeit sum(big_array)\n",
        "%timeit np.sum(big_array)"
      ],
      "execution_count": null,
      "outputs": [
        {
          "name": "stdout",
          "output_type": "stream",
          "text": [
            "10 loops, best of 5: 73.8 ms per loop\n",
            "1000 loops, best of 5: 468 µs per loop\n"
          ]
        }
      ]
    },
    {
      "cell_type": "markdown",
      "metadata": {
        "id": "XW96ZXR5xK54"
      },
      "source": [
        "One has to be careful, though: the ``sum`` function and the ``np.sum`` function are not identical, and this can  sometimes lead to confusion!\n",
        "In particular, we point out that their optional arguments have different meanings. Moreover ``np.sum`` is aware of multiple array dimensions."
      ]
    },
    {
      "cell_type": "code",
      "metadata": {
        "collapsed": true,
        "id": "RiyVSetJxK55",
        "outputId": "834a77f3-460d-4f60-8905-71db0c4d7a12"
      },
      "source": [
        "help(sum(big_array))"
      ],
      "execution_count": null,
      "outputs": [
        {
          "name": "stdout",
          "output_type": "stream",
          "text": [
            "Help on float64 object:\n",
            "\n",
            "class float64(floating, builtins.float)\n",
            " |  float64(x=0, /)\n",
            " |  \n",
            " |  Double-precision floating-point number type, compatible with Python `float`\n",
            " |  and C ``double``.\n",
            " |  \n",
            " |  :Character code: ``'d'``\n",
            " |  :Canonical name: `numpy.double`\n",
            " |  :Alias: `numpy.float_`\n",
            " |  :Alias on this platform (Linux x86_64): `numpy.float64`: 64-bit precision floating-point number type: sign bit, 11 bits exponent, 52 bits mantissa.\n",
            " |  \n",
            " |  Method resolution order:\n",
            " |      float64\n",
            " |      floating\n",
            " |      inexact\n",
            " |      number\n",
            " |      generic\n",
            " |      builtins.float\n",
            " |      builtins.object\n",
            " |  \n",
            " |  Methods defined here:\n",
            " |  \n",
            " |  __abs__(self, /)\n",
            " |      abs(self)\n",
            " |  \n",
            " |  __add__(self, value, /)\n",
            " |      Return self+value.\n",
            " |  \n",
            " |  __bool__(self, /)\n",
            " |      self != 0\n",
            " |  \n",
            " |  __divmod__(self, value, /)\n",
            " |      Return divmod(self, value).\n",
            " |  \n",
            " |  __eq__(self, value, /)\n",
            " |      Return self==value.\n",
            " |  \n",
            " |  __float__(self, /)\n",
            " |      float(self)\n",
            " |  \n",
            " |  __floordiv__(self, value, /)\n",
            " |      Return self//value.\n",
            " |  \n",
            " |  __ge__(self, value, /)\n",
            " |      Return self>=value.\n",
            " |  \n",
            " |  __gt__(self, value, /)\n",
            " |      Return self>value.\n",
            " |  \n",
            " |  __hash__(self, /)\n",
            " |      Return hash(self).\n",
            " |  \n",
            " |  __int__(self, /)\n",
            " |      int(self)\n",
            " |  \n",
            " |  __le__(self, value, /)\n",
            " |      Return self<=value.\n",
            " |  \n",
            " |  __lt__(self, value, /)\n",
            " |      Return self<value.\n",
            " |  \n",
            " |  __mod__(self, value, /)\n",
            " |      Return self%value.\n",
            " |  \n",
            " |  __mul__(self, value, /)\n",
            " |      Return self*value.\n",
            " |  \n",
            " |  __ne__(self, value, /)\n",
            " |      Return self!=value.\n",
            " |  \n",
            " |  __neg__(self, /)\n",
            " |      -self\n",
            " |  \n",
            " |  __pos__(self, /)\n",
            " |      +self\n",
            " |  \n",
            " |  __pow__(self, value, mod=None, /)\n",
            " |      Return pow(self, value, mod).\n",
            " |  \n",
            " |  __radd__(self, value, /)\n",
            " |      Return value+self.\n",
            " |  \n",
            " |  __rdivmod__(self, value, /)\n",
            " |      Return divmod(value, self).\n",
            " |  \n",
            " |  __repr__(self, /)\n",
            " |      Return repr(self).\n",
            " |  \n",
            " |  __rfloordiv__(self, value, /)\n",
            " |      Return value//self.\n",
            " |  \n",
            " |  __rmod__(self, value, /)\n",
            " |      Return value%self.\n",
            " |  \n",
            " |  __rmul__(self, value, /)\n",
            " |      Return value*self.\n",
            " |  \n",
            " |  __rpow__(self, value, mod=None, /)\n",
            " |      Return pow(value, self, mod).\n",
            " |  \n",
            " |  __rsub__(self, value, /)\n",
            " |      Return value-self.\n",
            " |  \n",
            " |  __rtruediv__(self, value, /)\n",
            " |      Return value/self.\n",
            " |  \n",
            " |  __str__(self, /)\n",
            " |      Return str(self).\n",
            " |  \n",
            " |  __sub__(self, value, /)\n",
            " |      Return self-value.\n",
            " |  \n",
            " |  __truediv__(self, value, /)\n",
            " |      Return self/value.\n",
            " |  \n",
            " |  as_integer_ratio(...)\n",
            " |      double.as_integer_ratio() -> (int, int)\n",
            " |      \n",
            " |      Return a pair of integers, whose ratio is exactly equal to the original\n",
            " |      floating point number, and with a positive denominator.\n",
            " |      Raise `OverflowError` on infinities and a `ValueError` on NaNs.\n",
            " |      \n",
            " |      >>> np.double(10.0).as_integer_ratio()\n",
            " |      (10, 1)\n",
            " |      >>> np.double(0.0).as_integer_ratio()\n",
            " |      (0, 1)\n",
            " |      >>> np.double(-.25).as_integer_ratio()\n",
            " |      (-1, 4)\n",
            " |  \n",
            " |  ----------------------------------------------------------------------\n",
            " |  Static methods defined here:\n",
            " |  \n",
            " |  __new__(*args, **kwargs) from builtins.type\n",
            " |      Create and return a new object.  See help(type) for accurate signature.\n",
            " |  \n",
            " |  ----------------------------------------------------------------------\n",
            " |  Methods inherited from floating:\n",
            " |  \n",
            " |  __round__(...)\n",
            " |  \n",
            " |  ----------------------------------------------------------------------\n",
            " |  Methods inherited from generic:\n",
            " |  \n",
            " |  __and__(self, value, /)\n",
            " |      Return self&value.\n",
            " |  \n",
            " |  __array__(...)\n",
            " |      sc.__array__(dtype) return 0-dim array from scalar with specified dtype\n",
            " |  \n",
            " |  __array_wrap__(...)\n",
            " |      sc.__array_wrap__(obj) return scalar from array\n",
            " |  \n",
            " |  __copy__(...)\n",
            " |  \n",
            " |  __deepcopy__(...)\n",
            " |  \n",
            " |  __format__(...)\n",
            " |      NumPy array scalar formatter\n",
            " |  \n",
            " |  __getitem__(self, key, /)\n",
            " |      Return self[key].\n",
            " |  \n",
            " |  __invert__(self, /)\n",
            " |      ~self\n",
            " |  \n",
            " |  __lshift__(self, value, /)\n",
            " |      Return self<<value.\n",
            " |  \n",
            " |  __or__(self, value, /)\n",
            " |      Return self|value.\n",
            " |  \n",
            " |  __rand__(self, value, /)\n",
            " |      Return value&self.\n",
            " |  \n",
            " |  __reduce__(...)\n",
            " |      Helper for pickle.\n",
            " |  \n",
            " |  __rlshift__(self, value, /)\n",
            " |      Return value<<self.\n",
            " |  \n",
            " |  __ror__(self, value, /)\n",
            " |      Return value|self.\n",
            " |  \n",
            " |  __rrshift__(self, value, /)\n",
            " |      Return value>>self.\n",
            " |  \n",
            " |  __rshift__(self, value, /)\n",
            " |      Return self>>value.\n",
            " |  \n",
            " |  __rxor__(self, value, /)\n",
            " |      Return value^self.\n",
            " |  \n",
            " |  __setstate__(...)\n",
            " |  \n",
            " |  __sizeof__(...)\n",
            " |      Size of object in memory, in bytes.\n",
            " |  \n",
            " |  __xor__(self, value, /)\n",
            " |      Return self^value.\n",
            " |  \n",
            " |  all(...)\n",
            " |      Scalar method identical to the corresponding array attribute.\n",
            " |      \n",
            " |      Please see `ndarray.all`.\n",
            " |  \n",
            " |  any(...)\n",
            " |      Scalar method identical to the corresponding array attribute.\n",
            " |      \n",
            " |      Please see `ndarray.any`.\n",
            " |  \n",
            " |  argmax(...)\n",
            " |      Scalar method identical to the corresponding array attribute.\n",
            " |      \n",
            " |      Please see `ndarray.argmax`.\n",
            " |  \n",
            " |  argmin(...)\n",
            " |      Scalar method identical to the corresponding array attribute.\n",
            " |      \n",
            " |      Please see `ndarray.argmin`.\n",
            " |  \n",
            " |  argsort(...)\n",
            " |      Scalar method identical to the corresponding array attribute.\n",
            " |      \n",
            " |      Please see `ndarray.argsort`.\n",
            " |  \n",
            " |  astype(...)\n",
            " |      Scalar method identical to the corresponding array attribute.\n",
            " |      \n",
            " |      Please see `ndarray.astype`.\n",
            " |  \n",
            " |  byteswap(...)\n",
            " |      Scalar method identical to the corresponding array attribute.\n",
            " |      \n",
            " |      Please see `ndarray.byteswap`.\n",
            " |  \n",
            " |  choose(...)\n",
            " |      Scalar method identical to the corresponding array attribute.\n",
            " |      \n",
            " |      Please see `ndarray.choose`.\n",
            " |  \n",
            " |  clip(...)\n",
            " |      Scalar method identical to the corresponding array attribute.\n",
            " |      \n",
            " |      Please see `ndarray.clip`.\n",
            " |  \n",
            " |  compress(...)\n",
            " |      Scalar method identical to the corresponding array attribute.\n",
            " |      \n",
            " |      Please see `ndarray.compress`.\n",
            " |  \n",
            " |  conj(...)\n",
            " |  \n",
            " |  conjugate(...)\n",
            " |      Scalar method identical to the corresponding array attribute.\n",
            " |      \n",
            " |      Please see `ndarray.conjugate`.\n",
            " |  \n",
            " |  copy(...)\n",
            " |      Scalar method identical to the corresponding array attribute.\n",
            " |      \n",
            " |      Please see `ndarray.copy`.\n",
            " |  \n",
            " |  cumprod(...)\n",
            " |      Scalar method identical to the corresponding array attribute.\n",
            " |      \n",
            " |      Please see `ndarray.cumprod`.\n",
            " |  \n",
            " |  cumsum(...)\n",
            " |      Scalar method identical to the corresponding array attribute.\n",
            " |      \n",
            " |      Please see `ndarray.cumsum`.\n",
            " |  \n",
            " |  diagonal(...)\n",
            " |      Scalar method identical to the corresponding array attribute.\n",
            " |      \n",
            " |      Please see `ndarray.diagonal`.\n",
            " |  \n",
            " |  dump(...)\n",
            " |      Scalar method identical to the corresponding array attribute.\n",
            " |      \n",
            " |      Please see `ndarray.dump`.\n",
            " |  \n",
            " |  dumps(...)\n",
            " |      Scalar method identical to the corresponding array attribute.\n",
            " |      \n",
            " |      Please see `ndarray.dumps`.\n",
            " |  \n",
            " |  fill(...)\n",
            " |      Scalar method identical to the corresponding array attribute.\n",
            " |      \n",
            " |      Please see `ndarray.fill`.\n",
            " |  \n",
            " |  flatten(...)\n",
            " |      Scalar method identical to the corresponding array attribute.\n",
            " |      \n",
            " |      Please see `ndarray.flatten`.\n",
            " |  \n",
            " |  getfield(...)\n",
            " |      Scalar method identical to the corresponding array attribute.\n",
            " |      \n",
            " |      Please see `ndarray.getfield`.\n",
            " |  \n",
            " |  item(...)\n",
            " |      Scalar method identical to the corresponding array attribute.\n",
            " |      \n",
            " |      Please see `ndarray.item`.\n",
            " |  \n",
            " |  itemset(...)\n",
            " |      Scalar method identical to the corresponding array attribute.\n",
            " |      \n",
            " |      Please see `ndarray.itemset`.\n",
            " |  \n",
            " |  max(...)\n",
            " |      Scalar method identical to the corresponding array attribute.\n",
            " |      \n",
            " |      Please see `ndarray.max`.\n",
            " |  \n",
            " |  mean(...)\n",
            " |      Scalar method identical to the corresponding array attribute.\n",
            " |      \n",
            " |      Please see `ndarray.mean`.\n",
            " |  \n",
            " |  min(...)\n",
            " |      Scalar method identical to the corresponding array attribute.\n",
            " |      \n",
            " |      Please see `ndarray.min`.\n",
            " |  \n",
            " |  newbyteorder(...)\n",
            " |      newbyteorder(new_order='S', /)\n",
            " |      \n",
            " |      Return a new `dtype` with a different byte order.\n",
            " |      \n",
            " |      Changes are also made in all fields and sub-arrays of the data type.\n",
            " |      \n",
            " |      The `new_order` code can be any from the following:\n",
            " |      \n",
            " |      * 'S' - swap dtype from current to opposite endian\n",
            " |      * {'<', 'little'} - little endian\n",
            " |      * {'>', 'big'} - big endian\n",
            " |      * '=' - native order\n",
            " |      * {'|', 'I'} - ignore (no change to byte order)\n",
            " |      \n",
            " |      Parameters\n",
            " |      ----------\n",
            " |      new_order : str, optional\n",
            " |          Byte order to force; a value from the byte order specifications\n",
            " |          above.  The default value ('S') results in swapping the current\n",
            " |          byte order.\n",
            " |      \n",
            " |      \n",
            " |      Returns\n",
            " |      -------\n",
            " |      new_dtype : dtype\n",
            " |          New `dtype` object with the given change to the byte order.\n",
            " |  \n",
            " |  nonzero(...)\n",
            " |      Scalar method identical to the corresponding array attribute.\n",
            " |      \n",
            " |      Please see `ndarray.nonzero`.\n",
            " |  \n",
            " |  prod(...)\n",
            " |      Scalar method identical to the corresponding array attribute.\n",
            " |      \n",
            " |      Please see `ndarray.prod`.\n",
            " |  \n",
            " |  ptp(...)\n",
            " |      Scalar method identical to the corresponding array attribute.\n",
            " |      \n",
            " |      Please see `ndarray.ptp`.\n",
            " |  \n",
            " |  put(...)\n",
            " |      Scalar method identical to the corresponding array attribute.\n",
            " |      \n",
            " |      Please see `ndarray.put`.\n",
            " |  \n",
            " |  ravel(...)\n",
            " |      Scalar method identical to the corresponding array attribute.\n",
            " |      \n",
            " |      Please see `ndarray.ravel`.\n",
            " |  \n",
            " |  repeat(...)\n",
            " |      Scalar method identical to the corresponding array attribute.\n",
            " |      \n",
            " |      Please see `ndarray.repeat`.\n",
            " |  \n",
            " |  reshape(...)\n",
            " |      Scalar method identical to the corresponding array attribute.\n",
            " |      \n",
            " |      Please see `ndarray.reshape`.\n",
            " |  \n",
            " |  resize(...)\n",
            " |      Scalar method identical to the corresponding array attribute.\n",
            " |      \n",
            " |      Please see `ndarray.resize`.\n",
            " |  \n",
            " |  round(...)\n",
            " |      Scalar method identical to the corresponding array attribute.\n",
            " |      \n",
            " |      Please see `ndarray.round`.\n",
            " |  \n",
            " |  searchsorted(...)\n",
            " |      Scalar method identical to the corresponding array attribute.\n",
            " |      \n",
            " |      Please see `ndarray.searchsorted`.\n",
            " |  \n",
            " |  setfield(...)\n",
            " |      Scalar method identical to the corresponding array attribute.\n",
            " |      \n",
            " |      Please see `ndarray.setfield`.\n",
            " |  \n",
            " |  setflags(...)\n",
            " |      Scalar method identical to the corresponding array attribute.\n",
            " |      \n",
            " |      Please see `ndarray.setflags`.\n",
            " |  \n",
            " |  sort(...)\n",
            " |      Scalar method identical to the corresponding array attribute.\n",
            " |      \n",
            " |      Please see `ndarray.sort`.\n",
            " |  \n",
            " |  squeeze(...)\n",
            " |      Scalar method identical to the corresponding array attribute.\n",
            " |      \n",
            " |      Please see `ndarray.squeeze`.\n",
            " |  \n",
            " |  std(...)\n",
            " |      Scalar method identical to the corresponding array attribute.\n",
            " |      \n",
            " |      Please see `ndarray.std`.\n",
            " |  \n",
            " |  sum(...)\n",
            " |      Scalar method identical to the corresponding array attribute.\n",
            " |      \n",
            " |      Please see `ndarray.sum`.\n",
            " |  \n",
            " |  swapaxes(...)\n",
            " |      Scalar method identical to the corresponding array attribute.\n",
            " |      \n",
            " |      Please see `ndarray.swapaxes`.\n",
            " |  \n",
            " |  take(...)\n",
            " |      Scalar method identical to the corresponding array attribute.\n",
            " |      \n",
            " |      Please see `ndarray.take`.\n",
            " |  \n",
            " |  tobytes(...)\n",
            " |  \n",
            " |  tofile(...)\n",
            " |      Scalar method identical to the corresponding array attribute.\n",
            " |      \n",
            " |      Please see `ndarray.tofile`.\n",
            " |  \n",
            " |  tolist(...)\n",
            " |      Scalar method identical to the corresponding array attribute.\n",
            " |      \n",
            " |      Please see `ndarray.tolist`.\n",
            " |  \n",
            " |  tostring(...)\n",
            " |      Scalar method identical to the corresponding array attribute.\n",
            " |      \n",
            " |      Please see `ndarray.tostring`.\n",
            " |  \n",
            " |  trace(...)\n",
            " |      Scalar method identical to the corresponding array attribute.\n",
            " |      \n",
            " |      Please see `ndarray.trace`.\n",
            " |  \n",
            " |  transpose(...)\n",
            " |      Scalar method identical to the corresponding array attribute.\n",
            " |      \n",
            " |      Please see `ndarray.transpose`.\n",
            " |  \n",
            " |  var(...)\n",
            " |      Scalar method identical to the corresponding array attribute.\n",
            " |      \n",
            " |      Please see `ndarray.var`.\n",
            " |  \n",
            " |  view(...)\n",
            " |      Scalar method identical to the corresponding array attribute.\n",
            " |      \n",
            " |      Please see `ndarray.view`.\n",
            " |  \n",
            " |  ----------------------------------------------------------------------\n",
            " |  Data descriptors inherited from generic:\n",
            " |  \n",
            " |  T\n",
            " |      Scalar attribute identical to the corresponding array attribute.\n",
            " |      \n",
            " |      Please see `ndarray.T`.\n",
            " |  \n",
            " |  __array_interface__\n",
            " |      Array protocol: Python side\n",
            " |  \n",
            " |  __array_priority__\n",
            " |      Array priority.\n",
            " |  \n",
            " |  __array_struct__\n",
            " |      Array protocol: struct\n",
            " |  \n",
            " |  base\n",
            " |      Scalar attribute identical to the corresponding array attribute.\n",
            " |      \n",
            " |      Please see `ndarray.base`.\n",
            " |  \n",
            " |  data\n",
            " |      Pointer to start of data.\n",
            " |  \n",
            " |  dtype\n",
            " |      Get array data-descriptor.\n",
            " |  \n",
            " |  flags\n",
            " |      The integer value of flags.\n",
            " |  \n",
            " |  flat\n",
            " |      A 1-D view of the scalar.\n",
            " |  \n",
            " |  imag\n",
            " |      The imaginary part of the scalar.\n",
            " |  \n",
            " |  itemsize\n",
            " |      The length of one element in bytes.\n",
            " |  \n",
            " |  nbytes\n",
            " |      The length of the scalar in bytes.\n",
            " |  \n",
            " |  ndim\n",
            " |      The number of array dimensions.\n",
            " |  \n",
            " |  real\n",
            " |      The real part of the scalar.\n",
            " |  \n",
            " |  shape\n",
            " |      Tuple of array dimensions.\n",
            " |  \n",
            " |  size\n",
            " |      The number of elements in the gentype.\n",
            " |  \n",
            " |  strides\n",
            " |      Tuple of bytes steps in each dimension.\n",
            " |  \n",
            " |  ----------------------------------------------------------------------\n",
            " |  Methods inherited from builtins.float:\n",
            " |  \n",
            " |  __getattribute__(self, name, /)\n",
            " |      Return getattr(self, name).\n",
            " |  \n",
            " |  __getnewargs__(self, /)\n",
            " |  \n",
            " |  __trunc__(self, /)\n",
            " |      Return the Integral closest to x between 0 and x.\n",
            " |  \n",
            " |  hex(self, /)\n",
            " |      Return a hexadecimal representation of a floating-point number.\n",
            " |      \n",
            " |      >>> (-0.1).hex()\n",
            " |      '-0x1.999999999999ap-4'\n",
            " |      >>> 3.14159.hex()\n",
            " |      '0x1.921f9f01b866ep+1'\n",
            " |  \n",
            " |  is_integer(self, /)\n",
            " |      Return True if the float is an integer.\n",
            " |  \n",
            " |  ----------------------------------------------------------------------\n",
            " |  Class methods inherited from builtins.float:\n",
            " |  \n",
            " |  __getformat__(typestr, /) from builtins.type\n",
            " |      You probably don't want to use this function.\n",
            " |      \n",
            " |        typestr\n",
            " |          Must be 'double' or 'float'.\n",
            " |      \n",
            " |      It exists mainly to be used in Python's test suite.\n",
            " |      \n",
            " |      This function returns whichever of 'unknown', 'IEEE, big-endian' or 'IEEE,\n",
            " |      little-endian' best describes the format of floating point numbers used by the\n",
            " |      C type named by typestr.\n",
            " |  \n",
            " |  __set_format__(typestr, fmt, /) from builtins.type\n",
            " |      You probably don't want to use this function.\n",
            " |      \n",
            " |        typestr\n",
            " |          Must be 'double' or 'float'.\n",
            " |        fmt\n",
            " |          Must be one of 'unknown', 'IEEE, big-endian' or 'IEEE, little-endian',\n",
            " |          and in addition can only be one of the latter two if it appears to\n",
            " |          match the underlying C reality.\n",
            " |      \n",
            " |      It exists mainly to be used in Python's test suite.\n",
            " |      \n",
            " |      Override the automatic determination of C-level floating point type.\n",
            " |      This affects how floats are converted to and from binary strings.\n",
            " |  \n",
            " |  fromhex(string, /) from builtins.type\n",
            " |      Create a floating-point number from a hexadecimal string.\n",
            " |      \n",
            " |      >>> float.fromhex('0x1.ffffp10')\n",
            " |      2047.984375\n",
            " |      >>> float.fromhex('-0x1p-1074')\n",
            " |      -5e-324\n",
            "\n"
          ]
        }
      ]
    },
    {
      "cell_type": "code",
      "metadata": {
        "collapsed": true,
        "id": "yDTpnqErxK55",
        "outputId": "ab561765-6611-4cc9-c586-e74bbdaa83d8"
      },
      "source": [
        "help(np.sum(big_array))"
      ],
      "execution_count": null,
      "outputs": [
        {
          "name": "stdout",
          "output_type": "stream",
          "text": [
            "Help on float64 object:\n",
            "\n",
            "class float64(floating, builtins.float)\n",
            " |  float64(x=0, /)\n",
            " |  \n",
            " |  Double-precision floating-point number type, compatible with Python `float`\n",
            " |  and C ``double``.\n",
            " |  \n",
            " |  :Character code: ``'d'``\n",
            " |  :Canonical name: `numpy.double`\n",
            " |  :Alias: `numpy.float_`\n",
            " |  :Alias on this platform (Linux x86_64): `numpy.float64`: 64-bit precision floating-point number type: sign bit, 11 bits exponent, 52 bits mantissa.\n",
            " |  \n",
            " |  Method resolution order:\n",
            " |      float64\n",
            " |      floating\n",
            " |      inexact\n",
            " |      number\n",
            " |      generic\n",
            " |      builtins.float\n",
            " |      builtins.object\n",
            " |  \n",
            " |  Methods defined here:\n",
            " |  \n",
            " |  __abs__(self, /)\n",
            " |      abs(self)\n",
            " |  \n",
            " |  __add__(self, value, /)\n",
            " |      Return self+value.\n",
            " |  \n",
            " |  __bool__(self, /)\n",
            " |      self != 0\n",
            " |  \n",
            " |  __divmod__(self, value, /)\n",
            " |      Return divmod(self, value).\n",
            " |  \n",
            " |  __eq__(self, value, /)\n",
            " |      Return self==value.\n",
            " |  \n",
            " |  __float__(self, /)\n",
            " |      float(self)\n",
            " |  \n",
            " |  __floordiv__(self, value, /)\n",
            " |      Return self//value.\n",
            " |  \n",
            " |  __ge__(self, value, /)\n",
            " |      Return self>=value.\n",
            " |  \n",
            " |  __gt__(self, value, /)\n",
            " |      Return self>value.\n",
            " |  \n",
            " |  __hash__(self, /)\n",
            " |      Return hash(self).\n",
            " |  \n",
            " |  __int__(self, /)\n",
            " |      int(self)\n",
            " |  \n",
            " |  __le__(self, value, /)\n",
            " |      Return self<=value.\n",
            " |  \n",
            " |  __lt__(self, value, /)\n",
            " |      Return self<value.\n",
            " |  \n",
            " |  __mod__(self, value, /)\n",
            " |      Return self%value.\n",
            " |  \n",
            " |  __mul__(self, value, /)\n",
            " |      Return self*value.\n",
            " |  \n",
            " |  __ne__(self, value, /)\n",
            " |      Return self!=value.\n",
            " |  \n",
            " |  __neg__(self, /)\n",
            " |      -self\n",
            " |  \n",
            " |  __pos__(self, /)\n",
            " |      +self\n",
            " |  \n",
            " |  __pow__(self, value, mod=None, /)\n",
            " |      Return pow(self, value, mod).\n",
            " |  \n",
            " |  __radd__(self, value, /)\n",
            " |      Return value+self.\n",
            " |  \n",
            " |  __rdivmod__(self, value, /)\n",
            " |      Return divmod(value, self).\n",
            " |  \n",
            " |  __repr__(self, /)\n",
            " |      Return repr(self).\n",
            " |  \n",
            " |  __rfloordiv__(self, value, /)\n",
            " |      Return value//self.\n",
            " |  \n",
            " |  __rmod__(self, value, /)\n",
            " |      Return value%self.\n",
            " |  \n",
            " |  __rmul__(self, value, /)\n",
            " |      Return value*self.\n",
            " |  \n",
            " |  __rpow__(self, value, mod=None, /)\n",
            " |      Return pow(value, self, mod).\n",
            " |  \n",
            " |  __rsub__(self, value, /)\n",
            " |      Return value-self.\n",
            " |  \n",
            " |  __rtruediv__(self, value, /)\n",
            " |      Return value/self.\n",
            " |  \n",
            " |  __str__(self, /)\n",
            " |      Return str(self).\n",
            " |  \n",
            " |  __sub__(self, value, /)\n",
            " |      Return self-value.\n",
            " |  \n",
            " |  __truediv__(self, value, /)\n",
            " |      Return self/value.\n",
            " |  \n",
            " |  as_integer_ratio(...)\n",
            " |      double.as_integer_ratio() -> (int, int)\n",
            " |      \n",
            " |      Return a pair of integers, whose ratio is exactly equal to the original\n",
            " |      floating point number, and with a positive denominator.\n",
            " |      Raise `OverflowError` on infinities and a `ValueError` on NaNs.\n",
            " |      \n",
            " |      >>> np.double(10.0).as_integer_ratio()\n",
            " |      (10, 1)\n",
            " |      >>> np.double(0.0).as_integer_ratio()\n",
            " |      (0, 1)\n",
            " |      >>> np.double(-.25).as_integer_ratio()\n",
            " |      (-1, 4)\n",
            " |  \n",
            " |  ----------------------------------------------------------------------\n",
            " |  Static methods defined here:\n",
            " |  \n",
            " |  __new__(*args, **kwargs) from builtins.type\n",
            " |      Create and return a new object.  See help(type) for accurate signature.\n",
            " |  \n",
            " |  ----------------------------------------------------------------------\n",
            " |  Methods inherited from floating:\n",
            " |  \n",
            " |  __round__(...)\n",
            " |  \n",
            " |  ----------------------------------------------------------------------\n",
            " |  Methods inherited from generic:\n",
            " |  \n",
            " |  __and__(self, value, /)\n",
            " |      Return self&value.\n",
            " |  \n",
            " |  __array__(...)\n",
            " |      sc.__array__(dtype) return 0-dim array from scalar with specified dtype\n",
            " |  \n",
            " |  __array_wrap__(...)\n",
            " |      sc.__array_wrap__(obj) return scalar from array\n",
            " |  \n",
            " |  __copy__(...)\n",
            " |  \n",
            " |  __deepcopy__(...)\n",
            " |  \n",
            " |  __format__(...)\n",
            " |      NumPy array scalar formatter\n",
            " |  \n",
            " |  __getitem__(self, key, /)\n",
            " |      Return self[key].\n",
            " |  \n",
            " |  __invert__(self, /)\n",
            " |      ~self\n",
            " |  \n",
            " |  __lshift__(self, value, /)\n",
            " |      Return self<<value.\n",
            " |  \n",
            " |  __or__(self, value, /)\n",
            " |      Return self|value.\n",
            " |  \n",
            " |  __rand__(self, value, /)\n",
            " |      Return value&self.\n",
            " |  \n",
            " |  __reduce__(...)\n",
            " |      Helper for pickle.\n",
            " |  \n",
            " |  __rlshift__(self, value, /)\n",
            " |      Return value<<self.\n",
            " |  \n",
            " |  __ror__(self, value, /)\n",
            " |      Return value|self.\n",
            " |  \n",
            " |  __rrshift__(self, value, /)\n",
            " |      Return value>>self.\n",
            " |  \n",
            " |  __rshift__(self, value, /)\n",
            " |      Return self>>value.\n",
            " |  \n",
            " |  __rxor__(self, value, /)\n",
            " |      Return value^self.\n",
            " |  \n",
            " |  __setstate__(...)\n",
            " |  \n",
            " |  __sizeof__(...)\n",
            " |      Size of object in memory, in bytes.\n",
            " |  \n",
            " |  __xor__(self, value, /)\n",
            " |      Return self^value.\n",
            " |  \n",
            " |  all(...)\n",
            " |      Scalar method identical to the corresponding array attribute.\n",
            " |      \n",
            " |      Please see `ndarray.all`.\n",
            " |  \n",
            " |  any(...)\n",
            " |      Scalar method identical to the corresponding array attribute.\n",
            " |      \n",
            " |      Please see `ndarray.any`.\n",
            " |  \n",
            " |  argmax(...)\n",
            " |      Scalar method identical to the corresponding array attribute.\n",
            " |      \n",
            " |      Please see `ndarray.argmax`.\n",
            " |  \n",
            " |  argmin(...)\n",
            " |      Scalar method identical to the corresponding array attribute.\n",
            " |      \n",
            " |      Please see `ndarray.argmin`.\n",
            " |  \n",
            " |  argsort(...)\n",
            " |      Scalar method identical to the corresponding array attribute.\n",
            " |      \n",
            " |      Please see `ndarray.argsort`.\n",
            " |  \n",
            " |  astype(...)\n",
            " |      Scalar method identical to the corresponding array attribute.\n",
            " |      \n",
            " |      Please see `ndarray.astype`.\n",
            " |  \n",
            " |  byteswap(...)\n",
            " |      Scalar method identical to the corresponding array attribute.\n",
            " |      \n",
            " |      Please see `ndarray.byteswap`.\n",
            " |  \n",
            " |  choose(...)\n",
            " |      Scalar method identical to the corresponding array attribute.\n",
            " |      \n",
            " |      Please see `ndarray.choose`.\n",
            " |  \n",
            " |  clip(...)\n",
            " |      Scalar method identical to the corresponding array attribute.\n",
            " |      \n",
            " |      Please see `ndarray.clip`.\n",
            " |  \n",
            " |  compress(...)\n",
            " |      Scalar method identical to the corresponding array attribute.\n",
            " |      \n",
            " |      Please see `ndarray.compress`.\n",
            " |  \n",
            " |  conj(...)\n",
            " |  \n",
            " |  conjugate(...)\n",
            " |      Scalar method identical to the corresponding array attribute.\n",
            " |      \n",
            " |      Please see `ndarray.conjugate`.\n",
            " |  \n",
            " |  copy(...)\n",
            " |      Scalar method identical to the corresponding array attribute.\n",
            " |      \n",
            " |      Please see `ndarray.copy`.\n",
            " |  \n",
            " |  cumprod(...)\n",
            " |      Scalar method identical to the corresponding array attribute.\n",
            " |      \n",
            " |      Please see `ndarray.cumprod`.\n",
            " |  \n",
            " |  cumsum(...)\n",
            " |      Scalar method identical to the corresponding array attribute.\n",
            " |      \n",
            " |      Please see `ndarray.cumsum`.\n",
            " |  \n",
            " |  diagonal(...)\n",
            " |      Scalar method identical to the corresponding array attribute.\n",
            " |      \n",
            " |      Please see `ndarray.diagonal`.\n",
            " |  \n",
            " |  dump(...)\n",
            " |      Scalar method identical to the corresponding array attribute.\n",
            " |      \n",
            " |      Please see `ndarray.dump`.\n",
            " |  \n",
            " |  dumps(...)\n",
            " |      Scalar method identical to the corresponding array attribute.\n",
            " |      \n",
            " |      Please see `ndarray.dumps`.\n",
            " |  \n",
            " |  fill(...)\n",
            " |      Scalar method identical to the corresponding array attribute.\n",
            " |      \n",
            " |      Please see `ndarray.fill`.\n",
            " |  \n",
            " |  flatten(...)\n",
            " |      Scalar method identical to the corresponding array attribute.\n",
            " |      \n",
            " |      Please see `ndarray.flatten`.\n",
            " |  \n",
            " |  getfield(...)\n",
            " |      Scalar method identical to the corresponding array attribute.\n",
            " |      \n",
            " |      Please see `ndarray.getfield`.\n",
            " |  \n",
            " |  item(...)\n",
            " |      Scalar method identical to the corresponding array attribute.\n",
            " |      \n",
            " |      Please see `ndarray.item`.\n",
            " |  \n",
            " |  itemset(...)\n",
            " |      Scalar method identical to the corresponding array attribute.\n",
            " |      \n",
            " |      Please see `ndarray.itemset`.\n",
            " |  \n",
            " |  max(...)\n",
            " |      Scalar method identical to the corresponding array attribute.\n",
            " |      \n",
            " |      Please see `ndarray.max`.\n",
            " |  \n",
            " |  mean(...)\n",
            " |      Scalar method identical to the corresponding array attribute.\n",
            " |      \n",
            " |      Please see `ndarray.mean`.\n",
            " |  \n",
            " |  min(...)\n",
            " |      Scalar method identical to the corresponding array attribute.\n",
            " |      \n",
            " |      Please see `ndarray.min`.\n",
            " |  \n",
            " |  newbyteorder(...)\n",
            " |      newbyteorder(new_order='S', /)\n",
            " |      \n",
            " |      Return a new `dtype` with a different byte order.\n",
            " |      \n",
            " |      Changes are also made in all fields and sub-arrays of the data type.\n",
            " |      \n",
            " |      The `new_order` code can be any from the following:\n",
            " |      \n",
            " |      * 'S' - swap dtype from current to opposite endian\n",
            " |      * {'<', 'little'} - little endian\n",
            " |      * {'>', 'big'} - big endian\n",
            " |      * '=' - native order\n",
            " |      * {'|', 'I'} - ignore (no change to byte order)\n",
            " |      \n",
            " |      Parameters\n",
            " |      ----------\n",
            " |      new_order : str, optional\n",
            " |          Byte order to force; a value from the byte order specifications\n",
            " |          above.  The default value ('S') results in swapping the current\n",
            " |          byte order.\n",
            " |      \n",
            " |      \n",
            " |      Returns\n",
            " |      -------\n",
            " |      new_dtype : dtype\n",
            " |          New `dtype` object with the given change to the byte order.\n",
            " |  \n",
            " |  nonzero(...)\n",
            " |      Scalar method identical to the corresponding array attribute.\n",
            " |      \n",
            " |      Please see `ndarray.nonzero`.\n",
            " |  \n",
            " |  prod(...)\n",
            " |      Scalar method identical to the corresponding array attribute.\n",
            " |      \n",
            " |      Please see `ndarray.prod`.\n",
            " |  \n",
            " |  ptp(...)\n",
            " |      Scalar method identical to the corresponding array attribute.\n",
            " |      \n",
            " |      Please see `ndarray.ptp`.\n",
            " |  \n",
            " |  put(...)\n",
            " |      Scalar method identical to the corresponding array attribute.\n",
            " |      \n",
            " |      Please see `ndarray.put`.\n",
            " |  \n",
            " |  ravel(...)\n",
            " |      Scalar method identical to the corresponding array attribute.\n",
            " |      \n",
            " |      Please see `ndarray.ravel`.\n",
            " |  \n",
            " |  repeat(...)\n",
            " |      Scalar method identical to the corresponding array attribute.\n",
            " |      \n",
            " |      Please see `ndarray.repeat`.\n",
            " |  \n",
            " |  reshape(...)\n",
            " |      Scalar method identical to the corresponding array attribute.\n",
            " |      \n",
            " |      Please see `ndarray.reshape`.\n",
            " |  \n",
            " |  resize(...)\n",
            " |      Scalar method identical to the corresponding array attribute.\n",
            " |      \n",
            " |      Please see `ndarray.resize`.\n",
            " |  \n",
            " |  round(...)\n",
            " |      Scalar method identical to the corresponding array attribute.\n",
            " |      \n",
            " |      Please see `ndarray.round`.\n",
            " |  \n",
            " |  searchsorted(...)\n",
            " |      Scalar method identical to the corresponding array attribute.\n",
            " |      \n",
            " |      Please see `ndarray.searchsorted`.\n",
            " |  \n",
            " |  setfield(...)\n",
            " |      Scalar method identical to the corresponding array attribute.\n",
            " |      \n",
            " |      Please see `ndarray.setfield`.\n",
            " |  \n",
            " |  setflags(...)\n",
            " |      Scalar method identical to the corresponding array attribute.\n",
            " |      \n",
            " |      Please see `ndarray.setflags`.\n",
            " |  \n",
            " |  sort(...)\n",
            " |      Scalar method identical to the corresponding array attribute.\n",
            " |      \n",
            " |      Please see `ndarray.sort`.\n",
            " |  \n",
            " |  squeeze(...)\n",
            " |      Scalar method identical to the corresponding array attribute.\n",
            " |      \n",
            " |      Please see `ndarray.squeeze`.\n",
            " |  \n",
            " |  std(...)\n",
            " |      Scalar method identical to the corresponding array attribute.\n",
            " |      \n",
            " |      Please see `ndarray.std`.\n",
            " |  \n",
            " |  sum(...)\n",
            " |      Scalar method identical to the corresponding array attribute.\n",
            " |      \n",
            " |      Please see `ndarray.sum`.\n",
            " |  \n",
            " |  swapaxes(...)\n",
            " |      Scalar method identical to the corresponding array attribute.\n",
            " |      \n",
            " |      Please see `ndarray.swapaxes`.\n",
            " |  \n",
            " |  take(...)\n",
            " |      Scalar method identical to the corresponding array attribute.\n",
            " |      \n",
            " |      Please see `ndarray.take`.\n",
            " |  \n",
            " |  tobytes(...)\n",
            " |  \n",
            " |  tofile(...)\n",
            " |      Scalar method identical to the corresponding array attribute.\n",
            " |      \n",
            " |      Please see `ndarray.tofile`.\n",
            " |  \n",
            " |  tolist(...)\n",
            " |      Scalar method identical to the corresponding array attribute.\n",
            " |      \n",
            " |      Please see `ndarray.tolist`.\n",
            " |  \n",
            " |  tostring(...)\n",
            " |      Scalar method identical to the corresponding array attribute.\n",
            " |      \n",
            " |      Please see `ndarray.tostring`.\n",
            " |  \n",
            " |  trace(...)\n",
            " |      Scalar method identical to the corresponding array attribute.\n",
            " |      \n",
            " |      Please see `ndarray.trace`.\n",
            " |  \n",
            " |  transpose(...)\n",
            " |      Scalar method identical to the corresponding array attribute.\n",
            " |      \n",
            " |      Please see `ndarray.transpose`.\n",
            " |  \n",
            " |  var(...)\n",
            " |      Scalar method identical to the corresponding array attribute.\n",
            " |      \n",
            " |      Please see `ndarray.var`.\n",
            " |  \n",
            " |  view(...)\n",
            " |      Scalar method identical to the corresponding array attribute.\n",
            " |      \n",
            " |      Please see `ndarray.view`.\n",
            " |  \n",
            " |  ----------------------------------------------------------------------\n",
            " |  Data descriptors inherited from generic:\n",
            " |  \n",
            " |  T\n",
            " |      Scalar attribute identical to the corresponding array attribute.\n",
            " |      \n",
            " |      Please see `ndarray.T`.\n",
            " |  \n",
            " |  __array_interface__\n",
            " |      Array protocol: Python side\n",
            " |  \n",
            " |  __array_priority__\n",
            " |      Array priority.\n",
            " |  \n",
            " |  __array_struct__\n",
            " |      Array protocol: struct\n",
            " |  \n",
            " |  base\n",
            " |      Scalar attribute identical to the corresponding array attribute.\n",
            " |      \n",
            " |      Please see `ndarray.base`.\n",
            " |  \n",
            " |  data\n",
            " |      Pointer to start of data.\n",
            " |  \n",
            " |  dtype\n",
            " |      Get array data-descriptor.\n",
            " |  \n",
            " |  flags\n",
            " |      The integer value of flags.\n",
            " |  \n",
            " |  flat\n",
            " |      A 1-D view of the scalar.\n",
            " |  \n",
            " |  imag\n",
            " |      The imaginary part of the scalar.\n",
            " |  \n",
            " |  itemsize\n",
            " |      The length of one element in bytes.\n",
            " |  \n",
            " |  nbytes\n",
            " |      The length of the scalar in bytes.\n",
            " |  \n",
            " |  ndim\n",
            " |      The number of array dimensions.\n",
            " |  \n",
            " |  real\n",
            " |      The real part of the scalar.\n",
            " |  \n",
            " |  shape\n",
            " |      Tuple of array dimensions.\n",
            " |  \n",
            " |  size\n",
            " |      The number of elements in the gentype.\n",
            " |  \n",
            " |  strides\n",
            " |      Tuple of bytes steps in each dimension.\n",
            " |  \n",
            " |  ----------------------------------------------------------------------\n",
            " |  Methods inherited from builtins.float:\n",
            " |  \n",
            " |  __getattribute__(self, name, /)\n",
            " |      Return getattr(self, name).\n",
            " |  \n",
            " |  __getnewargs__(self, /)\n",
            " |  \n",
            " |  __trunc__(self, /)\n",
            " |      Return the Integral closest to x between 0 and x.\n",
            " |  \n",
            " |  hex(self, /)\n",
            " |      Return a hexadecimal representation of a floating-point number.\n",
            " |      \n",
            " |      >>> (-0.1).hex()\n",
            " |      '-0x1.999999999999ap-4'\n",
            " |      >>> 3.14159.hex()\n",
            " |      '0x1.921f9f01b866ep+1'\n",
            " |  \n",
            " |  is_integer(self, /)\n",
            " |      Return True if the float is an integer.\n",
            " |  \n",
            " |  ----------------------------------------------------------------------\n",
            " |  Class methods inherited from builtins.float:\n",
            " |  \n",
            " |  __getformat__(typestr, /) from builtins.type\n",
            " |      You probably don't want to use this function.\n",
            " |      \n",
            " |        typestr\n",
            " |          Must be 'double' or 'float'.\n",
            " |      \n",
            " |      It exists mainly to be used in Python's test suite.\n",
            " |      \n",
            " |      This function returns whichever of 'unknown', 'IEEE, big-endian' or 'IEEE,\n",
            " |      little-endian' best describes the format of floating point numbers used by the\n",
            " |      C type named by typestr.\n",
            " |  \n",
            " |  __set_format__(typestr, fmt, /) from builtins.type\n",
            " |      You probably don't want to use this function.\n",
            " |      \n",
            " |        typestr\n",
            " |          Must be 'double' or 'float'.\n",
            " |        fmt\n",
            " |          Must be one of 'unknown', 'IEEE, big-endian' or 'IEEE, little-endian',\n",
            " |          and in addition can only be one of the latter two if it appears to\n",
            " |          match the underlying C reality.\n",
            " |      \n",
            " |      It exists mainly to be used in Python's test suite.\n",
            " |      \n",
            " |      Override the automatic determination of C-level floating point type.\n",
            " |      This affects how floats are converted to and from binary strings.\n",
            " |  \n",
            " |  fromhex(string, /) from builtins.type\n",
            " |      Create a floating-point number from a hexadecimal string.\n",
            " |      \n",
            " |      >>> float.fromhex('0x1.ffffp10')\n",
            " |      2047.984375\n",
            " |      >>> float.fromhex('-0x1p-1074')\n",
            " |      -5e-324\n",
            "\n"
          ]
        }
      ]
    },
    {
      "cell_type": "markdown",
      "metadata": {
        "id": "GXQCRue8xK57"
      },
      "source": [
        "#### Minimum and Maximum\n",
        "\n",
        "Similarly, Python has built-in ``min`` and ``max`` functions, used to find the minimum value and maximum value of any given array:"
      ]
    },
    {
      "cell_type": "code",
      "metadata": {
        "id": "wQpCeJvNxK57",
        "outputId": "1992bf5b-2bcb-4fe6-e4be-66dc3819f571"
      },
      "source": [
        "min(big_array), max(big_array)"
      ],
      "execution_count": null,
      "outputs": [
        {
          "data": {
            "text/plain": [
              "(8.468384048443411e-07, 0.9999990171899601)"
            ]
          },
          "execution_count": 7,
          "metadata": {},
          "output_type": "execute_result"
        }
      ]
    },
    {
      "cell_type": "code",
      "metadata": {
        "id": "nChVJUIdxK57",
        "outputId": "af1083ec-e6d7-44be-daa7-93a5b3dc4fa4"
      },
      "source": [
        "# NumPy's corresponding functions have similar syntax, and again operate much more quickly:\n",
        "np.min(big_array), np.max(big_array)"
      ],
      "execution_count": null,
      "outputs": [
        {
          "data": {
            "text/plain": [
              "(8.468384048443411e-07, 0.9999990171899601)"
            ]
          },
          "execution_count": 8,
          "metadata": {},
          "output_type": "execute_result"
        }
      ]
    },
    {
      "cell_type": "code",
      "metadata": {
        "id": "AJyVxcl4xK57",
        "outputId": "174c8bbc-b9d7-466c-dce3-f8497acfeace"
      },
      "source": [
        "%timeit min(big_array), max(big_array)\n",
        "%timeit np.min(big_array), np.max(big_array)"
      ],
      "execution_count": null,
      "outputs": [
        {
          "name": "stdout",
          "output_type": "stream",
          "text": [
            "10 loops, best of 5: 98.4 ms per loop\n",
            "1000 loops, best of 5: 969 µs per loop\n"
          ]
        }
      ]
    },
    {
      "cell_type": "markdown",
      "metadata": {
        "id": "KjDgd6pixK58"
      },
      "source": [
        "For ``min``, ``max``, ``sum``, and several other NumPy aggregates, a shorter syntax is to use methods of the array object itself:"
      ]
    },
    {
      "cell_type": "code",
      "metadata": {
        "id": "ptlAU95WxK59"
      },
      "source": [
        "print(big_array.min(), big_array.max(), big_array.sum())"
      ],
      "execution_count": null,
      "outputs": []
    },
    {
      "cell_type": "markdown",
      "metadata": {
        "id": "IGU6b-LwxK59"
      },
      "source": [
        "Whenever possible, make sure that you are using the NumPy version of these aggregates when operating on NumPy arrays!"
      ]
    },
    {
      "cell_type": "markdown",
      "metadata": {
        "id": "stuvvPkIxK59"
      },
      "source": [
        "#### Multi dimensional aggregates\n",
        "\n",
        "One common type of aggregation operation is an aggregate along a row or column.\n",
        "Say you have some data stored in a two-dimensional array:"
      ]
    },
    {
      "cell_type": "code",
      "metadata": {
        "id": "SHmkCh1BxK5-",
        "outputId": "40cd536f-4618-4946-bacf-67a798607190"
      },
      "source": [
        "M = np.random.random((3, 4))\n",
        "print(M)"
      ],
      "execution_count": null,
      "outputs": [
        {
          "name": "stdout",
          "output_type": "stream",
          "text": [
            "[[0.44209757 0.91942494 0.83201555 0.30769922]\n",
            " [0.42760658 0.84775688 0.83452449 0.68836531]\n",
            " [0.24172318 0.60199487 0.80726053 0.61015885]]\n"
          ]
        }
      ]
    },
    {
      "cell_type": "markdown",
      "metadata": {
        "id": "F5WHY2vlxK5-"
      },
      "source": [
        "By default, each NumPy aggregation function will return the aggregate over the entire array:"
      ]
    },
    {
      "cell_type": "code",
      "metadata": {
        "id": "3xrVu0qExK5_",
        "outputId": "fad5091f-0a91-4e10-fc7c-d45b5fec92fc"
      },
      "source": [
        "M.sum()"
      ],
      "execution_count": null,
      "outputs": [
        {
          "data": {
            "text/plain": [
              "7.560627968990415"
            ]
          },
          "execution_count": 21,
          "metadata": {},
          "output_type": "execute_result"
        }
      ]
    },
    {
      "cell_type": "markdown",
      "metadata": {
        "id": "Xzq5jPwaxK5_"
      },
      "source": [
        "It is possible, for aggregation functions, to add an argument specifying the axis along which the aggregate is computed. For example, we can find the minimum value within each column by specifying axis=0:\n"
      ]
    },
    {
      "cell_type": "code",
      "metadata": {
        "id": "4MbalF3XxK6A",
        "outputId": "6d925159-0d81-492f-d8b2-f840f697deab"
      },
      "source": [
        "M.min(axis=0)"
      ],
      "execution_count": null,
      "outputs": [
        {
          "data": {
            "text/plain": [
              "array([0.24172318, 0.60199487, 0.80726053, 0.30769922])"
            ]
          },
          "execution_count": 22,
          "metadata": {},
          "output_type": "execute_result"
        }
      ]
    },
    {
      "cell_type": "markdown",
      "metadata": {
        "id": "-olEfy1XxK6A"
      },
      "source": [
        "The function returns four values, corresponding to the four columns of numbers.You could test the similar axis specification with the `max` aggregate."
      ]
    },
    {
      "cell_type": "markdown",
      "metadata": {
        "id": "ZFs_e-nFxK6A"
      },
      "source": [
        "The way the axis is specified here can be confusing to users coming from other languages.\n",
        "The ``axis`` keyword specifies the *dimension of the array that will be collapsed*, rather than the dimension that will be returned.\n",
        "So specifying ``axis=0`` means that the first axis will be collapsed: for two-dimensional arrays, this means that values within each column will be aggregated."
      ]
    },
    {
      "cell_type": "markdown",
      "metadata": {
        "id": "HwBORuzVxK6C"
      },
      "source": [
        "#### Other aggregation functions\n",
        "\n",
        "NumPy provides many other aggregation functions. The following table provides a list of useful aggregation functions available in NumPy:\n",
        "\n",
        "|Function Name      |   NaN-safe Version  | Description                                   |\n",
        "|-------------------|---------------------|-----------------------------------------------|\n",
        "| ``np.sum``        | ``np.nansum``       | Compute sum of elements                       |\n",
        "| ``np.prod``       | ``np.nanprod``      | Compute product of elements                   |\n",
        "| ``np.mean``       | ``np.nanmean``      | Compute mean of elements                      |\n",
        "| ``np.std``        | ``np.nanstd``       | Compute standard deviation                    |\n",
        "| ``np.var``        | ``np.nanvar``       | Compute variance                              |\n",
        "| ``np.min``        | ``np.nanmin``       | Find minimum value                            |\n",
        "| ``np.max``        | ``np.nanmax``       | Find maximum value                            |\n",
        "| ``np.argmin``     | ``np.nanargmin``    | Find index of minimum value                   |\n",
        "| ``np.argmax``     | ``np.nanargmax``    | Find index of maximum value                   |\n",
        "| ``np.median``     | ``np.nanmedian``    | Compute median of elements                    |\n",
        "| ``np.percentile`` | ``np.nanpercentile``| Compute rank-based statistics of elements     |\n",
        "| ``np.any``        | N/A                 | Evaluate whether any elements are true        |\n",
        "| ``np.all``        | N/A                 | Evaluate whether all elements are true        |"
      ]
    },
    {
      "cell_type": "markdown",
      "metadata": {
        "id": "A3MfwrMFxK6C"
      },
      "source": [
        "#### Example: What is the Average Height of a list of heights?"
      ]
    },
    {
      "cell_type": "code",
      "metadata": {
        "id": "f3yltdJRxK6C"
      },
      "source": [
        "heights = np.array([189,170,189,163, 183, 171, 185, 168, 173, 183, 173, 173, 175, 178, 183, 193, 178, 173,\n",
        " 174, 183, 183, 168, 170, 178, 182, 180, 183, 178, 182, 188, 175, 179, 183, 193, 182, 183,\n",
        " 177, 185, 188, 188, 182, 185])"
      ],
      "execution_count": null,
      "outputs": []
    },
    {
      "cell_type": "markdown",
      "metadata": {
        "id": "iXPEGUj1xK6C"
      },
      "source": [
        "Now that we have this data array, we can compute a variety of summary statistics:"
      ]
    },
    {
      "cell_type": "code",
      "metadata": {
        "id": "biNcqKnuxK6C",
        "outputId": "aed52241-68e8-4ed8-8a03-f192278e7891"
      },
      "source": [
        "print(\"Mean height:       \", heights.mean())\n",
        "print(\"Standard deviation:\", heights.std())\n",
        "print(\"Minimum height:    \", heights.min())\n",
        "print(\"Maximum height:    \", heights.max())"
      ],
      "execution_count": null,
      "outputs": [
        {
          "name": "stdout",
          "output_type": "stream",
          "text": [
            "Mean height:        179.73809523809524\n",
            "Standard deviation: 6.931843442745892\n",
            "Minimum height:     163\n",
            "Maximum height:     193\n"
          ]
        }
      ]
    },
    {
      "cell_type": "code",
      "metadata": {
        "id": "kzACI2F5xK6D",
        "outputId": "01af6fab-fc0e-4eca-dd2c-f2d4b7930d76"
      },
      "source": [
        "# We may also wish to compute quantiles:\n",
        "\n",
        "print(\"25th percentile:   \", np.percentile(heights, 25))\n",
        "print(\"Median:            \", np.median(heights))\n",
        "print(\"75th percentile:   \", np.percentile(heights, 75))"
      ],
      "execution_count": null,
      "outputs": [
        {
          "name": "stdout",
          "output_type": "stream",
          "text": [
            "25th percentile:    174.25\n",
            "Median:             182.0\n",
            "75th percentile:    183.0\n"
          ]
        }
      ]
    },
    {
      "cell_type": "markdown",
      "metadata": {
        "id": "lkEEPs3YxK6D"
      },
      "source": [
        "We see that the median height is $182$ cm, or just shy of six feet.\n",
        "Sometimes it's more useful to have a visual representation of the data, which we can accomplish using tool Matplotlib (we'll discuss Matplotlib more fully towards the end of this week). For example, this code generates the following chart:"
      ]
    },
    {
      "cell_type": "code",
      "metadata": {
        "id": "AQhR6bI9xK6D",
        "outputId": "e6e8114a-b6dc-4b18-da25-8a08d83b089a"
      },
      "source": [
        "import matplotlib.pyplot as plt\n",
        "import seaborn; seaborn.set()  # set plot style\n",
        "plt.hist(heights)\n",
        "plt.title('Height Distribution')\n",
        "plt.xlabel('height (cm)')\n",
        "plt.ylabel('number');"
      ],
      "execution_count": null,
      "outputs": [
        {
          "data": {
            "image/png": "[encoded data removed]",
            "text/plain": [
              "<Figure size 432x288 with 1 Axes>"
            ]
          },
          "metadata": {},
          "output_type": "display_data"
        }
      ]
    },
    {
      "cell_type": "markdown",
      "metadata": {
        "id": "Ew1r2ld1xK6E"
      },
      "source": [
        "#### Short Exercise \n",
        "\n",
        "First, lets make a common array to work with.\n",
        "```python\n",
        "import numpy as np\n",
        "np.random.seed(21) # This guarantees the code will generate the same set of random numbers whenever executed\n",
        "random_integers = np.random.randint(1,high=500000, size=(20, 5))\n",
        "random_integers\n",
        "```\n",
        "  1. What is the average value of the second column?\n",
        "  2. What is the average value of the first 5 rows of the third and fourth columns?\n"
      ]
    }
  ]
}